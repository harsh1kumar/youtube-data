{
 "cells": [
  {
   "cell_type": "markdown",
   "id": "5c9cb597-9dbe-4e8a-9fc5-1546f6fad97f",
   "metadata": {},
   "source": [
    "# Data Processing of YouTube Data"
   ]
  },
  {
   "cell_type": "markdown",
   "id": "4a8765e7-e849-4c47-8dd7-cc9f6e853096",
   "metadata": {},
   "source": [
    "Includes running some regression and predictive ML algorithms"
   ]
  },
  {
   "cell_type": "code",
   "execution_count": 168,
   "id": "ae9c530d-0b9a-4f3b-9eca-cacc027f0f63",
   "metadata": {},
   "outputs": [],
   "source": [
    "import numpy as np\n",
    "import pandas as pd\n",
    "import seaborn as sns\n",
    "\n",
    "from sklearn import linear_model\n",
    "from sklearn.model_selection import train_test_split\n",
    "from sklearn.metrics import r2_score\n",
    "import statsmodels.api as sm\n",
    "\n",
    "import matplotlib.pyplot as plt"
   ]
  },
  {
   "cell_type": "code",
   "execution_count": 152,
   "id": "225f894a-8b2c-46e8-8a99-b7cdeae6cf09",
   "metadata": {},
   "outputs": [],
   "source": [
    "def adj_r2_score(y, y_pred, X):\n",
    "    return 1 - (1-r2_score(y, y_pred)) * (len(y)-1)/(len(y)-X.shape[1]-1)"
   ]
  },
  {
   "cell_type": "markdown",
   "id": "2c87c745-c270-4921-b74e-75ffa9da17e8",
   "metadata": {},
   "source": [
    "## Read data from BQ"
   ]
  },
  {
   "cell_type": "code",
   "execution_count": 2,
   "id": "855f81e0-a573-4d63-91f3-9fa75c41c052",
   "metadata": {},
   "outputs": [],
   "source": [
    "gcs_project_id = \"wide-hexagon-397214\"\n",
    "gcs_dataset  = \"youtube_data\""
   ]
  },
  {
   "cell_type": "markdown",
   "id": "831695fa-f2dd-4efc-b3bc-647a250391fc",
   "metadata": {},
   "source": [
    "**Channel Data**"
   ]
  },
  {
   "cell_type": "code",
   "execution_count": 3,
   "id": "2e5f7838-9c4e-48cc-9b8d-c13e83011dfd",
   "metadata": {},
   "outputs": [],
   "source": [
    "query_channel = \"\"\"\n",
    "\n",
    "SELECT *\n",
    "FROM `{gcs_project_id}.{gcs_dataset}.{table_name}`\n",
    "\n",
    "\"\"\".format(gcs_project_id=gcs_project_id,\n",
    "           gcs_dataset=gcs_dataset,\n",
    "           table_name=\"channel_info\"\n",
    "          )"
   ]
  },
  {
   "cell_type": "code",
   "execution_count": 4,
   "id": "1f3afaf3-c9ad-4da2-8cc8-7fcc2e3b0f2c",
   "metadata": {},
   "outputs": [
    {
     "name": "stdout",
     "output_type": "stream",
     "text": [
      "Downloading: 100%|\u001b[32m█████████████████████████████████████████████████████████████████████████████████████████████████████████████\u001b[0m|\u001b[0m\n",
      "(36, 7)\n"
     ]
    },
    {
     "data": {
      "text/html": [
       "<div>\n",
       "<style scoped>\n",
       "    .dataframe tbody tr th:only-of-type {\n",
       "        vertical-align: middle;\n",
       "    }\n",
       "\n",
       "    .dataframe tbody tr th {\n",
       "        vertical-align: top;\n",
       "    }\n",
       "\n",
       "    .dataframe thead th {\n",
       "        text-align: right;\n",
       "    }\n",
       "</style>\n",
       "<table border=\"1\" class=\"dataframe\">\n",
       "  <thead>\n",
       "    <tr style=\"text-align: right;\">\n",
       "      <th></th>\n",
       "      <th>channel_name</th>\n",
       "      <th>view_count</th>\n",
       "      <th>subscriber_count</th>\n",
       "      <th>video_count</th>\n",
       "      <th>channel_id</th>\n",
       "      <th>playlist_id</th>\n",
       "      <th>load_timestamp</th>\n",
       "    </tr>\n",
       "  </thead>\n",
       "  <tbody>\n",
       "    <tr>\n",
       "      <th>0</th>\n",
       "      <td>Harsh Kumar</td>\n",
       "      <td>76429</td>\n",
       "      <td>705</td>\n",
       "      <td>14</td>\n",
       "      <td>UCueeXkuJezkCqu0YryvJnnQ</td>\n",
       "      <td>UUueeXkuJezkCqu0YryvJnnQ</td>\n",
       "      <td>2023-10-16 12:03:46.700888+00:00</td>\n",
       "    </tr>\n",
       "    <tr>\n",
       "      <th>1</th>\n",
       "      <td>Thu Vu data analytics</td>\n",
       "      <td>5514835</td>\n",
       "      <td>169000</td>\n",
       "      <td>75</td>\n",
       "      <td>UCJQJAI7IjbLcpsjWdSzYz0Q</td>\n",
       "      <td>UUJQJAI7IjbLcpsjWdSzYz0Q</td>\n",
       "      <td>2023-10-16 12:03:46.700888+00:00</td>\n",
       "    </tr>\n",
       "    <tr>\n",
       "      <th>2</th>\n",
       "      <td>amitvarma</td>\n",
       "      <td>144823</td>\n",
       "      <td>5740</td>\n",
       "      <td>16</td>\n",
       "      <td>UCs8a-hjf6X4pa-O0orSoC8w</td>\n",
       "      <td>UUs8a-hjf6X4pa-O0orSoC8w</td>\n",
       "      <td>2023-10-16 12:03:46.700888+00:00</td>\n",
       "    </tr>\n",
       "    <tr>\n",
       "      <th>3</th>\n",
       "      <td>Harsh Kumar</td>\n",
       "      <td>76490</td>\n",
       "      <td>706</td>\n",
       "      <td>14</td>\n",
       "      <td>UCueeXkuJezkCqu0YryvJnnQ</td>\n",
       "      <td>UUueeXkuJezkCqu0YryvJnnQ</td>\n",
       "      <td>2023-10-17 12:01:16.334389+00:00</td>\n",
       "    </tr>\n",
       "    <tr>\n",
       "      <th>4</th>\n",
       "      <td>Thu Vu data analytics</td>\n",
       "      <td>5520237</td>\n",
       "      <td>169000</td>\n",
       "      <td>76</td>\n",
       "      <td>UCJQJAI7IjbLcpsjWdSzYz0Q</td>\n",
       "      <td>UUJQJAI7IjbLcpsjWdSzYz0Q</td>\n",
       "      <td>2023-10-17 12:01:16.334389+00:00</td>\n",
       "    </tr>\n",
       "  </tbody>\n",
       "</table>\n",
       "</div>"
      ],
      "text/plain": [
       "            channel_name  view_count  subscriber_count  video_count  \\\n",
       "0            Harsh Kumar       76429               705           14   \n",
       "1  Thu Vu data analytics     5514835            169000           75   \n",
       "2              amitvarma      144823              5740           16   \n",
       "3            Harsh Kumar       76490               706           14   \n",
       "4  Thu Vu data analytics     5520237            169000           76   \n",
       "\n",
       "                 channel_id               playlist_id  \\\n",
       "0  UCueeXkuJezkCqu0YryvJnnQ  UUueeXkuJezkCqu0YryvJnnQ   \n",
       "1  UCJQJAI7IjbLcpsjWdSzYz0Q  UUJQJAI7IjbLcpsjWdSzYz0Q   \n",
       "2  UCs8a-hjf6X4pa-O0orSoC8w  UUs8a-hjf6X4pa-O0orSoC8w   \n",
       "3  UCueeXkuJezkCqu0YryvJnnQ  UUueeXkuJezkCqu0YryvJnnQ   \n",
       "4  UCJQJAI7IjbLcpsjWdSzYz0Q  UUJQJAI7IjbLcpsjWdSzYz0Q   \n",
       "\n",
       "                    load_timestamp  \n",
       "0 2023-10-16 12:03:46.700888+00:00  \n",
       "1 2023-10-16 12:03:46.700888+00:00  \n",
       "2 2023-10-16 12:03:46.700888+00:00  \n",
       "3 2023-10-17 12:01:16.334389+00:00  \n",
       "4 2023-10-17 12:01:16.334389+00:00  "
      ]
     },
     "execution_count": 4,
     "metadata": {},
     "output_type": "execute_result"
    }
   ],
   "source": [
    "channel_info = pd.read_gbq(query_channel,\n",
    "                           project_id=gcs_project_id,\n",
    "                           dialect=\"standard\",\n",
    "                           progress_bar_type=\"tqdm\")\n",
    "\n",
    "print(channel_info.shape)\n",
    "channel_info.head(5)"
   ]
  },
  {
   "cell_type": "markdown",
   "id": "2d42d7b3-3b4b-4fcf-96e4-082d029583a2",
   "metadata": {},
   "source": [
    "**Video Data**"
   ]
  },
  {
   "cell_type": "code",
   "execution_count": 5,
   "id": "2d36e241-c9a1-43de-8452-68a18d993168",
   "metadata": {},
   "outputs": [],
   "source": [
    "query_channel = \"\"\"\n",
    "\n",
    "SELECT *\n",
    "FROM `{gcs_project_id}.{gcs_dataset}.{table_name}`\n",
    "\n",
    "\"\"\".format(gcs_project_id=gcs_project_id,\n",
    "           gcs_dataset=gcs_dataset,\n",
    "           table_name=\"video_details\"\n",
    "          )"
   ]
  },
  {
   "cell_type": "code",
   "execution_count": 6,
   "id": "083c570f-8a17-4439-8f22-aedd3d1cd7e4",
   "metadata": {},
   "outputs": [
    {
     "name": "stdout",
     "output_type": "stream",
     "text": [
      "Downloading: 100%|\u001b[32m█████████████████████████████████████████████████████████████████████████████████████████████████████████████\u001b[0m|\u001b[0m\n",
      "(108, 8)\n"
     ]
    },
    {
     "data": {
      "text/html": [
       "<div>\n",
       "<style scoped>\n",
       "    .dataframe tbody tr th:only-of-type {\n",
       "        vertical-align: middle;\n",
       "    }\n",
       "\n",
       "    .dataframe tbody tr th {\n",
       "        vertical-align: top;\n",
       "    }\n",
       "\n",
       "    .dataframe thead th {\n",
       "        text-align: right;\n",
       "    }\n",
       "</style>\n",
       "<table border=\"1\" class=\"dataframe\">\n",
       "  <thead>\n",
       "    <tr style=\"text-align: right;\">\n",
       "      <th></th>\n",
       "      <th>video_id</th>\n",
       "      <th>title</th>\n",
       "      <th>published_at</th>\n",
       "      <th>view_count</th>\n",
       "      <th>like_count</th>\n",
       "      <th>comment_count</th>\n",
       "      <th>duration_sec</th>\n",
       "      <th>load_timestamp</th>\n",
       "    </tr>\n",
       "  </thead>\n",
       "  <tbody>\n",
       "    <tr>\n",
       "      <th>0</th>\n",
       "      <td>rs8_I0sYGhw</td>\n",
       "      <td>isort for sorting Python imports #shorts #pyth...</td>\n",
       "      <td>2023-03-26 13:41:44+00:00</td>\n",
       "      <td>199</td>\n",
       "      <td>6</td>\n",
       "      <td>0</td>\n",
       "      <td>56.0</td>\n",
       "      <td>2023-10-28 18:02:56.106892+00:00</td>\n",
       "    </tr>\n",
       "    <tr>\n",
       "      <th>1</th>\n",
       "      <td>bhjaQssIXiw</td>\n",
       "      <td>pytest Tutorial: How to write tests in Python ...</td>\n",
       "      <td>2023-02-06 14:06:40+00:00</td>\n",
       "      <td>93</td>\n",
       "      <td>6</td>\n",
       "      <td>0</td>\n",
       "      <td>688.0</td>\n",
       "      <td>2023-10-28 18:02:56.106892+00:00</td>\n",
       "    </tr>\n",
       "    <tr>\n",
       "      <th>2</th>\n",
       "      <td>bURvz4g-XIg</td>\n",
       "      <td>flake8 for linting in Python #shorts #python #...</td>\n",
       "      <td>2023-03-19 18:34:57+00:00</td>\n",
       "      <td>124</td>\n",
       "      <td>7</td>\n",
       "      <td>1</td>\n",
       "      <td>53.0</td>\n",
       "      <td>2023-10-28 18:02:56.106892+00:00</td>\n",
       "    </tr>\n",
       "    <tr>\n",
       "      <th>3</th>\n",
       "      <td>GIEp0zNwtBA</td>\n",
       "      <td>Ranking Functions in SQL (Rank vs Dense_Rank v...</td>\n",
       "      <td>2021-06-22 14:50:31+00:00</td>\n",
       "      <td>458</td>\n",
       "      <td>14</td>\n",
       "      <td>1</td>\n",
       "      <td>254.0</td>\n",
       "      <td>2023-10-28 18:02:56.106892+00:00</td>\n",
       "    </tr>\n",
       "    <tr>\n",
       "      <th>4</th>\n",
       "      <td>uN1G1sZlELs</td>\n",
       "      <td>Decision Tree in Python using Scikit-Learn | T...</td>\n",
       "      <td>2021-04-01 13:35:45+00:00</td>\n",
       "      <td>10517</td>\n",
       "      <td>121</td>\n",
       "      <td>2</td>\n",
       "      <td>964.0</td>\n",
       "      <td>2023-10-28 18:02:56.106892+00:00</td>\n",
       "    </tr>\n",
       "  </tbody>\n",
       "</table>\n",
       "</div>"
      ],
      "text/plain": [
       "      video_id                                              title  \\\n",
       "0  rs8_I0sYGhw  isort for sorting Python imports #shorts #pyth...   \n",
       "1  bhjaQssIXiw  pytest Tutorial: How to write tests in Python ...   \n",
       "2  bURvz4g-XIg  flake8 for linting in Python #shorts #python #...   \n",
       "3  GIEp0zNwtBA  Ranking Functions in SQL (Rank vs Dense_Rank v...   \n",
       "4  uN1G1sZlELs  Decision Tree in Python using Scikit-Learn | T...   \n",
       "\n",
       "               published_at  view_count  like_count  comment_count  \\\n",
       "0 2023-03-26 13:41:44+00:00         199           6              0   \n",
       "1 2023-02-06 14:06:40+00:00          93           6              0   \n",
       "2 2023-03-19 18:34:57+00:00         124           7              1   \n",
       "3 2021-06-22 14:50:31+00:00         458          14              1   \n",
       "4 2021-04-01 13:35:45+00:00       10517         121              2   \n",
       "\n",
       "   duration_sec                   load_timestamp  \n",
       "0          56.0 2023-10-28 18:02:56.106892+00:00  \n",
       "1         688.0 2023-10-28 18:02:56.106892+00:00  \n",
       "2          53.0 2023-10-28 18:02:56.106892+00:00  \n",
       "3         254.0 2023-10-28 18:02:56.106892+00:00  \n",
       "4         964.0 2023-10-28 18:02:56.106892+00:00  "
      ]
     },
     "execution_count": 6,
     "metadata": {},
     "output_type": "execute_result"
    }
   ],
   "source": [
    "video_details = pd.read_gbq(query_channel,\n",
    "                           project_id=gcs_project_id,\n",
    "                           dialect=\"standard\",\n",
    "                           progress_bar_type=\"tqdm\")\n",
    "\n",
    "print(video_details.shape)\n",
    "video_details.head(5)"
   ]
  },
  {
   "cell_type": "code",
   "execution_count": 7,
   "id": "6135d946-c0c9-4126-a5b7-51f422a9250b",
   "metadata": {},
   "outputs": [
    {
     "data": {
      "text/plain": [
       "video_id                       object\n",
       "title                          object\n",
       "published_at      datetime64[us, UTC]\n",
       "view_count                      Int64\n",
       "like_count                      Int64\n",
       "comment_count                   Int64\n",
       "duration_sec                  float64\n",
       "load_timestamp    datetime64[us, UTC]\n",
       "dtype: object"
      ]
     },
     "execution_count": 7,
     "metadata": {},
     "output_type": "execute_result"
    }
   ],
   "source": [
    "video_details.dtypes"
   ]
  },
  {
   "cell_type": "code",
   "execution_count": 8,
   "id": "2f48252a-a1e6-4355-8365-1dba897945ac",
   "metadata": {},
   "outputs": [
    {
     "data": {
      "text/plain": [
       "video_id                       object\n",
       "title                          object\n",
       "published_at      datetime64[us, UTC]\n",
       "view_count                    float64\n",
       "like_count                    float64\n",
       "comment_count                 float64\n",
       "duration_sec                  float64\n",
       "load_timestamp    datetime64[us, UTC]\n",
       "dtype: object"
      ]
     },
     "execution_count": 8,
     "metadata": {},
     "output_type": "execute_result"
    }
   ],
   "source": [
    "video_details = video_details.astype({\n",
    "    \"view_count\": float,\n",
    "    \"like_count\": float,\n",
    "    \"comment_count\": float,\n",
    "})\n",
    "\n",
    "video_details.dtypes"
   ]
  },
  {
   "cell_type": "markdown",
   "id": "1d5e2bf9-6988-4261-a901-e2fafc40d944",
   "metadata": {},
   "source": [
    "## Summary Statistics"
   ]
  },
  {
   "cell_type": "code",
   "execution_count": 9,
   "id": "5d09e3db-02ac-4c44-8eba-399dbf685dff",
   "metadata": {},
   "outputs": [
    {
     "data": {
      "text/plain": [
       "<Axes: xlabel='load_timestamp', ylabel='subscriber_count'>"
      ]
     },
     "execution_count": 9,
     "metadata": {},
     "output_type": "execute_result"
    },
    {
     "data": {
      "image/png": "[encoded data removed]",
      "text/plain": [
       "<Figure size 1000x200 with 1 Axes>"
      ]
     },
     "metadata": {},
     "output_type": "display_data"
    }
   ],
   "source": [
    "f, axs = plt.subplots(figsize=(10,2))\n",
    "sns.lineplot(data=channel_info,\n",
    "            x=\"load_timestamp\",\n",
    "            y=\"subscriber_count\",\n",
    "            hue=\"channel_name\")"
   ]
  },
  {
   "cell_type": "code",
   "execution_count": 10,
   "id": "c784bbf4-69c4-42c3-8ca7-b7baaa45aff2",
   "metadata": {},
   "outputs": [],
   "source": [
    "max_loadtime = channel_info.load_timestamp.max()\n",
    "latest_channel_info = channel_info.loc[channel_info[\"load_timestamp\"]==max_loadtime].copy()"
   ]
  },
  {
   "cell_type": "code",
   "execution_count": 11,
   "id": "dd60dfa1-0f34-4722-bb1a-10ea2c8fb852",
   "metadata": {},
   "outputs": [
    {
     "data": {
      "text/html": [
       "<div>\n",
       "<style scoped>\n",
       "    .dataframe tbody tr th:only-of-type {\n",
       "        vertical-align: middle;\n",
       "    }\n",
       "\n",
       "    .dataframe tbody tr th {\n",
       "        vertical-align: top;\n",
       "    }\n",
       "\n",
       "    .dataframe thead th {\n",
       "        text-align: right;\n",
       "    }\n",
       "</style>\n",
       "<table border=\"1\" class=\"dataframe\">\n",
       "  <thead>\n",
       "    <tr style=\"text-align: right;\">\n",
       "      <th></th>\n",
       "      <th>view_count</th>\n",
       "      <th>subscriber_count</th>\n",
       "      <th>video_count</th>\n",
       "    </tr>\n",
       "  </thead>\n",
       "  <tbody>\n",
       "    <tr>\n",
       "      <th>count</th>\n",
       "      <td>3.0</td>\n",
       "      <td>3.0</td>\n",
       "      <td>3.0</td>\n",
       "    </tr>\n",
       "    <tr>\n",
       "      <th>mean</th>\n",
       "      <td>1940441.666667</td>\n",
       "      <td>58966.666667</td>\n",
       "      <td>36.0</td>\n",
       "    </tr>\n",
       "    <tr>\n",
       "      <th>std</th>\n",
       "      <td>3150142.311011</td>\n",
       "      <td>96196.717373</td>\n",
       "      <td>34.698703</td>\n",
       "    </tr>\n",
       "    <tr>\n",
       "      <th>min</th>\n",
       "      <td>76980.0</td>\n",
       "      <td>710.0</td>\n",
       "      <td>14.0</td>\n",
       "    </tr>\n",
       "    <tr>\n",
       "      <th>20%</th>\n",
       "      <td>112908.8</td>\n",
       "      <td>2902.0</td>\n",
       "      <td>15.6</td>\n",
       "    </tr>\n",
       "    <tr>\n",
       "      <th>40%</th>\n",
       "      <td>148837.6</td>\n",
       "      <td>5094.0</td>\n",
       "      <td>17.2</td>\n",
       "    </tr>\n",
       "    <tr>\n",
       "      <th>50%</th>\n",
       "      <td>166802.0</td>\n",
       "      <td>6190.0</td>\n",
       "      <td>18.0</td>\n",
       "    </tr>\n",
       "    <tr>\n",
       "      <th>60%</th>\n",
       "      <td>1248950.2</td>\n",
       "      <td>38952.0</td>\n",
       "      <td>29.6</td>\n",
       "    </tr>\n",
       "    <tr>\n",
       "      <th>80%</th>\n",
       "      <td>3413246.6</td>\n",
       "      <td>104476.0</td>\n",
       "      <td>52.8</td>\n",
       "    </tr>\n",
       "    <tr>\n",
       "      <th>max</th>\n",
       "      <td>5577543.0</td>\n",
       "      <td>170000.0</td>\n",
       "      <td>76.0</td>\n",
       "    </tr>\n",
       "  </tbody>\n",
       "</table>\n",
       "</div>"
      ],
      "text/plain": [
       "           view_count  subscriber_count  video_count\n",
       "count             3.0               3.0          3.0\n",
       "mean   1940441.666667      58966.666667         36.0\n",
       "std    3150142.311011      96196.717373    34.698703\n",
       "min           76980.0             710.0         14.0\n",
       "20%          112908.8            2902.0         15.6\n",
       "40%          148837.6            5094.0         17.2\n",
       "50%          166802.0            6190.0         18.0\n",
       "60%         1248950.2           38952.0         29.6\n",
       "80%         3413246.6          104476.0         52.8\n",
       "max         5577543.0          170000.0         76.0"
      ]
     },
     "execution_count": 11,
     "metadata": {},
     "output_type": "execute_result"
    }
   ],
   "source": [
    "latest_channel_info.describe(percentiles=[0.2,0.4,0.6,0.8])"
   ]
  },
  {
   "cell_type": "code",
   "execution_count": 12,
   "id": "35b59692-7f36-429b-82c1-840385626d98",
   "metadata": {},
   "outputs": [
    {
     "data": {
      "text/plain": [
       "<Axes: xlabel='channel_name', ylabel='subscriber_count'>"
      ]
     },
     "execution_count": 12,
     "metadata": {},
     "output_type": "execute_result"
    },
    {
     "data": {
      "image/png": "[encoded data removed]",
      "text/plain": [
       "<Figure size 500x200 with 1 Axes>"
      ]
     },
     "metadata": {},
     "output_type": "display_data"
    }
   ],
   "source": [
    "f, axs = plt.subplots(figsize=(5,2))\n",
    "sns.barplot(data=latest_channel_info,\n",
    "            x=\"channel_name\",\n",
    "            y=\"subscriber_count\")"
   ]
  },
  {
   "cell_type": "markdown",
   "id": "c245178b-b390-4a03-94fb-e86a1cb90e33",
   "metadata": {},
   "source": [
    "## Regression Plots"
   ]
  },
  {
   "cell_type": "code",
   "execution_count": 13,
   "id": "be6d67bf-3d92-4a6d-bee2-9d962cf3dc58",
   "metadata": {},
   "outputs": [
    {
     "data": {
      "text/plain": [
       "<Axes: xlabel='view_count', ylabel='like_count'>"
      ]
     },
     "execution_count": 13,
     "metadata": {},
     "output_type": "execute_result"
    },
    {
     "data": {
      "image/png": "[encoded data removed]",
      "text/plain": [
       "<Figure size 500x500 with 1 Axes>"
      ]
     },
     "metadata": {},
     "output_type": "display_data"
    }
   ],
   "source": [
    "f, axs = plt.subplots(figsize=(5,5))\n",
    "video_details.plot(x=\"view_count\", y=\"like_count\", kind=\"scatter\", ax=axs)"
   ]
  },
  {
   "cell_type": "code",
   "execution_count": 14,
   "id": "26c3b4e5-8cf0-46c8-8588-32caa91a7212",
   "metadata": {},
   "outputs": [
    {
     "data": {
      "text/plain": [
       "<seaborn.axisgrid.JointGrid at 0x7f08540304c0>"
      ]
     },
     "execution_count": 14,
     "metadata": {},
     "output_type": "execute_result"
    },
    {
     "data": {
      "image/png": "[encoded data removed]",
      "text/plain": [
       "<Figure size 500x500 with 3 Axes>"
      ]
     },
     "metadata": {},
     "output_type": "display_data"
    }
   ],
   "source": [
    "sns.jointplot(data=video_details, x=\"view_count\", y=\"like_count\", kind=\"reg\", height=5)"
   ]
  },
  {
   "cell_type": "markdown",
   "id": "ed87b295-8028-4a46-a42f-06d2f61c741f",
   "metadata": {},
   "source": [
    "## Correlations"
   ]
  },
  {
   "cell_type": "code",
   "execution_count": 32,
   "id": "4d13d6a6-7316-498a-b8e2-8de2daef7114",
   "metadata": {},
   "outputs": [
    {
     "data": {
      "text/plain": [
       "array([[1.        , 0.95923655],\n",
       "       [0.95923655, 1.        ]])"
      ]
     },
     "execution_count": 32,
     "metadata": {},
     "output_type": "execute_result"
    }
   ],
   "source": [
    "np.corrcoef(video_details[\"view_count\"], video_details[\"like_count\"])"
   ]
  },
  {
   "cell_type": "code",
   "execution_count": 15,
   "id": "1e8a567b-4106-4489-ae2c-6e56e309d012",
   "metadata": {},
   "outputs": [
    {
     "data": {
      "text/html": [
       "<div>\n",
       "<style scoped>\n",
       "    .dataframe tbody tr th:only-of-type {\n",
       "        vertical-align: middle;\n",
       "    }\n",
       "\n",
       "    .dataframe tbody tr th {\n",
       "        vertical-align: top;\n",
       "    }\n",
       "\n",
       "    .dataframe thead th {\n",
       "        text-align: right;\n",
       "    }\n",
       "</style>\n",
       "<table border=\"1\" class=\"dataframe\">\n",
       "  <thead>\n",
       "    <tr style=\"text-align: right;\">\n",
       "      <th></th>\n",
       "      <th>view_count</th>\n",
       "      <th>like_count</th>\n",
       "      <th>comment_count</th>\n",
       "      <th>duration_sec</th>\n",
       "    </tr>\n",
       "  </thead>\n",
       "  <tbody>\n",
       "    <tr>\n",
       "      <th>view_count</th>\n",
       "      <td>1.000000</td>\n",
       "      <td>0.959237</td>\n",
       "      <td>0.821475</td>\n",
       "      <td>-0.206658</td>\n",
       "    </tr>\n",
       "    <tr>\n",
       "      <th>like_count</th>\n",
       "      <td>0.959237</td>\n",
       "      <td>1.000000</td>\n",
       "      <td>0.756986</td>\n",
       "      <td>-0.212720</td>\n",
       "    </tr>\n",
       "    <tr>\n",
       "      <th>comment_count</th>\n",
       "      <td>0.821475</td>\n",
       "      <td>0.756986</td>\n",
       "      <td>1.000000</td>\n",
       "      <td>-0.102318</td>\n",
       "    </tr>\n",
       "    <tr>\n",
       "      <th>duration_sec</th>\n",
       "      <td>-0.206658</td>\n",
       "      <td>-0.212720</td>\n",
       "      <td>-0.102318</td>\n",
       "      <td>1.000000</td>\n",
       "    </tr>\n",
       "  </tbody>\n",
       "</table>\n",
       "</div>"
      ],
      "text/plain": [
       "               view_count  like_count  comment_count  duration_sec\n",
       "view_count       1.000000    0.959237       0.821475     -0.206658\n",
       "like_count       0.959237    1.000000       0.756986     -0.212720\n",
       "comment_count    0.821475    0.756986       1.000000     -0.102318\n",
       "duration_sec    -0.206658   -0.212720      -0.102318      1.000000"
      ]
     },
     "execution_count": 15,
     "metadata": {},
     "output_type": "execute_result"
    }
   ],
   "source": [
    "video_details[[\"view_count\",\"like_count\",\"comment_count\", \"duration_sec\"]].corr()"
   ]
  },
  {
   "cell_type": "code",
   "execution_count": 34,
   "id": "548cc151-84d2-4278-be30-c1e571232f64",
   "metadata": {},
   "outputs": [
    {
     "data": {
      "text/html": [
       "<div>\n",
       "<style scoped>\n",
       "    .dataframe tbody tr th:only-of-type {\n",
       "        vertical-align: middle;\n",
       "    }\n",
       "\n",
       "    .dataframe tbody tr th {\n",
       "        vertical-align: top;\n",
       "    }\n",
       "\n",
       "    .dataframe thead th {\n",
       "        text-align: right;\n",
       "    }\n",
       "</style>\n",
       "<table border=\"1\" class=\"dataframe\">\n",
       "  <thead>\n",
       "    <tr style=\"text-align: right;\">\n",
       "      <th></th>\n",
       "      <th>view_count</th>\n",
       "      <th>like_count</th>\n",
       "      <th>comment_count</th>\n",
       "      <th>duration_sec</th>\n",
       "    </tr>\n",
       "  </thead>\n",
       "  <tbody>\n",
       "    <tr>\n",
       "      <th>view_count</th>\n",
       "      <td>1.000000</td>\n",
       "      <td>0.952339</td>\n",
       "      <td>0.865686</td>\n",
       "      <td>0.039370</td>\n",
       "    </tr>\n",
       "    <tr>\n",
       "      <th>like_count</th>\n",
       "      <td>0.952339</td>\n",
       "      <td>1.000000</td>\n",
       "      <td>0.871632</td>\n",
       "      <td>-0.053123</td>\n",
       "    </tr>\n",
       "    <tr>\n",
       "      <th>comment_count</th>\n",
       "      <td>0.865686</td>\n",
       "      <td>0.871632</td>\n",
       "      <td>1.000000</td>\n",
       "      <td>0.247056</td>\n",
       "    </tr>\n",
       "    <tr>\n",
       "      <th>duration_sec</th>\n",
       "      <td>0.039370</td>\n",
       "      <td>-0.053123</td>\n",
       "      <td>0.247056</td>\n",
       "      <td>1.000000</td>\n",
       "    </tr>\n",
       "  </tbody>\n",
       "</table>\n",
       "</div>"
      ],
      "text/plain": [
       "               view_count  like_count  comment_count  duration_sec\n",
       "view_count       1.000000    0.952339       0.865686      0.039370\n",
       "like_count       0.952339    1.000000       0.871632     -0.053123\n",
       "comment_count    0.865686    0.871632       1.000000      0.247056\n",
       "duration_sec     0.039370   -0.053123       0.247056      1.000000"
      ]
     },
     "execution_count": 34,
     "metadata": {},
     "output_type": "execute_result"
    }
   ],
   "source": [
    "video_details[[\"view_count\",\"like_count\",\"comment_count\", \"duration_sec\"]].corr(method=\"spearman\")"
   ]
  },
  {
   "cell_type": "code",
   "execution_count": 38,
   "id": "73195883-b7f7-46b1-bb0f-a76032c4eef2",
   "metadata": {},
   "outputs": [
    {
     "data": {
      "text/plain": [
       "<Axes: >"
      ]
     },
     "execution_count": 38,
     "metadata": {},
     "output_type": "execute_result"
    },
    {
     "data": {
      "image/png": "[encoded data removed]",
      "text/plain": [
       "<Figure size 640x480 with 2 Axes>"
      ]
     },
     "metadata": {},
     "output_type": "display_data"
    }
   ],
   "source": [
    "sns.heatmap(video_details[[\"view_count\",\"like_count\",\"comment_count\", \"duration_sec\"]].corr(),\n",
    "            annot=True,\n",
    "            fmt=\".2f\")"
   ]
  },
  {
   "cell_type": "markdown",
   "id": "4363c73f-0f28-45d1-8485-f40a58bfab9f",
   "metadata": {},
   "source": [
    "## 1.) Regression: Direct formula (Views vs Likes)"
   ]
  },
  {
   "cell_type": "markdown",
   "id": "581cedd0-14f9-4162-ad65-b525d03b4e43",
   "metadata": {},
   "source": [
    "**Regression equation**:\n",
    "$$y_{i} = \\beta_{0}+\\beta_{1}x_{i}+\\varepsilon_{i}$$\n",
    "\n",
    "**Estimation of beta values**\n",
    "$$\\beta_{1} = \\frac{SS_{xy}}{SS_{xx}}$$\n",
    "\n",
    "$$\\beta_{0} = \\bar{y}-\\beta_{1}\\bar{x}$$\n",
    "where...\n",
    "$$SS_{xy} = \\sum_{i=1}^{n}(x_{i}-\\bar{x})(y_{i}-\\bar{y}) = \\sum_{i=1}^{n}x_{i}y_{i} - n\\bar{x}\\bar{y}$$\n",
    "\n",
    "$$SS_{xx} = \\sum_{i=1}^{n}(x_{i}-\\bar{x})^2 = \\sum_{i=1}^{n}x_{i}^2 - n(\\bar{x})^2$$"
   ]
  },
  {
   "cell_type": "code",
   "execution_count": 75,
   "id": "6302fbf7-f7cc-4fa1-9fa9-7b315754b3ba",
   "metadata": {},
   "outputs": [],
   "source": [
    "def get_regression_coeff(x, y):\n",
    "    n = len(x)\n",
    "\n",
    "    x_mean = x.mean()\n",
    "    y_mean = y.mean()\n",
    "\n",
    "    ss_xy = sum(x*y) - n*x_mean*y_mean\n",
    "    ss_xx = sum(x**2) - n*(x_mean**2)\n",
    "\n",
    "    beta_1 = ss_xy/ss_xx\n",
    "    beta_0 = y_mean - beta_1*x_mean\n",
    "\n",
    "    return beta_0, beta_1"
   ]
  },
  {
   "cell_type": "code",
   "execution_count": 76,
   "id": "041b523c-7905-4643-af9a-20e426308b55",
   "metadata": {},
   "outputs": [],
   "source": [
    "X = video_details[\"view_count\"]\n",
    "y = video_details[\"like_count\"]"
   ]
  },
  {
   "cell_type": "code",
   "execution_count": 77,
   "id": "3b07bf6b-cc59-430f-b687-5ef0a7f7fa67",
   "metadata": {},
   "outputs": [],
   "source": [
    "beta = get_regression_coeff(X, y)"
   ]
  },
  {
   "cell_type": "code",
   "execution_count": 78,
   "id": "075ff55d-9a1d-47d9-adf1-a05aa9de0178",
   "metadata": {},
   "outputs": [
    {
     "name": "stdout",
     "output_type": "stream",
     "text": [
      "beta_0 = -50.3276\n",
      "beta_1 = 0.0449\n"
     ]
    }
   ],
   "source": [
    "print(\"\"\"beta_0 = {:.4f}\n",
    "beta_1 = {:.4f}\"\"\".format(beta[0], beta[1]))"
   ]
  },
  {
   "cell_type": "code",
   "execution_count": 79,
   "id": "b65f3566-6774-4fb3-8744-a073375b95a7",
   "metadata": {},
   "outputs": [],
   "source": [
    "y_pred = beta[0] + beta[1]*X"
   ]
  },
  {
   "cell_type": "code",
   "execution_count": 80,
   "id": "2a3d8a67-da36-4d64-9644-f4096791ca7c",
   "metadata": {},
   "outputs": [
    {
     "data": {
      "image/png": "[encoded data removed]",
      "text/plain": [
       "<Figure size 500x500 with 1 Axes>"
      ]
     },
     "metadata": {},
     "output_type": "display_data"
    }
   ],
   "source": [
    "f, axs = plt.subplots(figsize=(5,5))\n",
    "plt.scatter(X, y)\n",
    "plt.plot(X, y_pred, color=\"r\")\n",
    "\n",
    "plt.xlabel(\"view_count\")\n",
    "plt.ylabel(\"like_count\")\n",
    "plt.show()"
   ]
  },
  {
   "cell_type": "markdown",
   "id": "87f029d0-ab3f-45a8-9886-6a650bab3e51",
   "metadata": {},
   "source": [
    "## 2.) Regression: Scikit (Views vs Likes)"
   ]
  },
  {
   "cell_type": "code",
   "execution_count": 136,
   "id": "992a2c1b-7787-4751-9047-e0c4bd20874e",
   "metadata": {},
   "outputs": [],
   "source": [
    "X = video_details[[\"view_count\"]]\n",
    "y = video_details[\"like_count\"]"
   ]
  },
  {
   "cell_type": "markdown",
   "id": "126ac353-09fb-458a-b98d-f03097df26f4",
   "metadata": {},
   "source": [
    "### 2a.) All Data"
   ]
  },
  {
   "cell_type": "code",
   "execution_count": 137,
   "id": "3b372bce-116d-4b88-9092-d77fc64b4c7e",
   "metadata": {},
   "outputs": [],
   "source": [
    "linear_reg = linear_model.LinearRegression()"
   ]
  },
  {
   "cell_type": "code",
   "execution_count": 138,
   "id": "1d1561cd-5f03-42f7-accf-8f1ba00a4b10",
   "metadata": {},
   "outputs": [
    {
     "data": {
      "text/html": [
       "<style>#sk-container-id-10 {color: black;}#sk-container-id-10 pre{padding: 0;}#sk-container-id-10 div.sk-toggleable {background-color: white;}#sk-container-id-10 label.sk-toggleable__label {cursor: pointer;display: block;width: 100%;margin-bottom: 0;padding: 0.3em;box-sizing: border-box;text-align: center;}#sk-container-id-10 label.sk-toggleable__label-arrow:before {content: \"▸\";float: left;margin-right: 0.25em;color: #696969;}#sk-container-id-10 label.sk-toggleable__label-arrow:hover:before {color: black;}#sk-container-id-10 div.sk-estimator:hover label.sk-toggleable__label-arrow:before {color: black;}#sk-container-id-10 div.sk-toggleable__content {max-height: 0;max-width: 0;overflow: hidden;text-align: left;background-color: #f0f8ff;}#sk-container-id-10 div.sk-toggleable__content pre {margin: 0.2em;color: black;border-radius: 0.25em;background-color: #f0f8ff;}#sk-container-id-10 input.sk-toggleable__control:checked~div.sk-toggleable__content {max-height: 200px;max-width: 100%;overflow: auto;}#sk-container-id-10 input.sk-toggleable__control:checked~label.sk-toggleable__label-arrow:before {content: \"▾\";}#sk-container-id-10 div.sk-estimator input.sk-toggleable__control:checked~label.sk-toggleable__label {background-color: #d4ebff;}#sk-container-id-10 div.sk-label input.sk-toggleable__control:checked~label.sk-toggleable__label {background-color: #d4ebff;}#sk-container-id-10 input.sk-hidden--visually {border: 0;clip: rect(1px 1px 1px 1px);clip: rect(1px, 1px, 1px, 1px);height: 1px;margin: -1px;overflow: hidden;padding: 0;position: absolute;width: 1px;}#sk-container-id-10 div.sk-estimator {font-family: monospace;background-color: #f0f8ff;border: 1px dotted black;border-radius: 0.25em;box-sizing: border-box;margin-bottom: 0.5em;}#sk-container-id-10 div.sk-estimator:hover {background-color: #d4ebff;}#sk-container-id-10 div.sk-parallel-item::after {content: \"\";width: 100%;border-bottom: 1px solid gray;flex-grow: 1;}#sk-container-id-10 div.sk-label:hover label.sk-toggleable__label {background-color: #d4ebff;}#sk-container-id-10 div.sk-serial::before {content: \"\";position: absolute;border-left: 1px solid gray;box-sizing: border-box;top: 0;bottom: 0;left: 50%;z-index: 0;}#sk-container-id-10 div.sk-serial {display: flex;flex-direction: column;align-items: center;background-color: white;padding-right: 0.2em;padding-left: 0.2em;position: relative;}#sk-container-id-10 div.sk-item {position: relative;z-index: 1;}#sk-container-id-10 div.sk-parallel {display: flex;align-items: stretch;justify-content: center;background-color: white;position: relative;}#sk-container-id-10 div.sk-item::before, #sk-container-id-10 div.sk-parallel-item::before {content: \"\";position: absolute;border-left: 1px solid gray;box-sizing: border-box;top: 0;bottom: 0;left: 50%;z-index: -1;}#sk-container-id-10 div.sk-parallel-item {display: flex;flex-direction: column;z-index: 1;position: relative;background-color: white;}#sk-container-id-10 div.sk-parallel-item:first-child::after {align-self: flex-end;width: 50%;}#sk-container-id-10 div.sk-parallel-item:last-child::after {align-self: flex-start;width: 50%;}#sk-container-id-10 div.sk-parallel-item:only-child::after {width: 0;}#sk-container-id-10 div.sk-dashed-wrapped {border: 1px dashed gray;margin: 0 0.4em 0.5em 0.4em;box-sizing: border-box;padding-bottom: 0.4em;background-color: white;}#sk-container-id-10 div.sk-label label {font-family: monospace;font-weight: bold;display: inline-block;line-height: 1.2em;}#sk-container-id-10 div.sk-label-container {text-align: center;}#sk-container-id-10 div.sk-container {/* jupyter's `normalize.less` sets `[hidden] { display: none; }` but bootstrap.min.css set `[hidden] { display: none !important; }` so we also need the `!important` here to be able to override the default hidden behavior on the sphinx rendered scikit-learn.org. See: https://github.com/scikit-learn/scikit-learn/issues/21755 */display: inline-block !important;position: relative;}#sk-container-id-10 div.sk-text-repr-fallback {display: none;}</style><div id=\"sk-container-id-10\" class=\"sk-top-container\"><div class=\"sk-text-repr-fallback\"><pre>LinearRegression()</pre><b>In a Jupyter environment, please rerun this cell to show the HTML representation or trust the notebook. <br />On GitHub, the HTML representation is unable to render, please try loading this page with nbviewer.org.</b></div><div class=\"sk-container\" hidden><div class=\"sk-item\"><div class=\"sk-estimator sk-toggleable\"><input class=\"sk-toggleable__control sk-hidden--visually\" id=\"sk-estimator-id-10\" type=\"checkbox\" checked><label for=\"sk-estimator-id-10\" class=\"sk-toggleable__label sk-toggleable__label-arrow\">LinearRegression</label><div class=\"sk-toggleable__content\"><pre>LinearRegression()</pre></div></div></div></div></div>"
      ],
      "text/plain": [
       "LinearRegression()"
      ]
     },
     "execution_count": 138,
     "metadata": {},
     "output_type": "execute_result"
    }
   ],
   "source": [
    "linear_reg.fit(X, y)"
   ]
  },
  {
   "cell_type": "code",
   "execution_count": 139,
   "id": "b6b0cbd6-7e9b-4115-9ae9-cb18ef83bd3d",
   "metadata": {},
   "outputs": [
    {
     "name": "stdout",
     "output_type": "stream",
     "text": [
      "Intercept = -50.3276\n",
      "Coefficient = 0.0449\n"
     ]
    }
   ],
   "source": [
    "print(\"\"\"Intercept = {:.4f}\n",
    "Coefficient = {:.4f}\"\"\".format(linear_reg.intercept_, linear_reg.coef_[0]))"
   ]
  },
  {
   "cell_type": "code",
   "execution_count": 140,
   "id": "ac0c9d17-b2c0-4728-b3da-7ce9c80790b0",
   "metadata": {},
   "outputs": [],
   "source": [
    "y_pred = linear_reg.predict(X)"
   ]
  },
  {
   "cell_type": "code",
   "execution_count": 141,
   "id": "21dec27d-8c8a-4683-9c86-5a4e24c45975",
   "metadata": {},
   "outputs": [
    {
     "data": {
      "image/png": "[encoded data removed]",
      "text/plain": [
       "<Figure size 500x500 with 1 Axes>"
      ]
     },
     "metadata": {},
     "output_type": "display_data"
    }
   ],
   "source": [
    "f, axs = plt.subplots(figsize=(5,5))\n",
    "plt.scatter(X, y)\n",
    "plt.plot(X, y_pred, color=\"r\")\n",
    "\n",
    "plt.xlabel(\"view_count\")\n",
    "plt.ylabel(\"like_count\")\n",
    "plt.show()"
   ]
  },
  {
   "cell_type": "markdown",
   "id": "44f07dbb-aac0-4854-a9d0-7f0596379b1b",
   "metadata": {},
   "source": [
    "### 2b.) Train Data only"
   ]
  },
  {
   "cell_type": "code",
   "execution_count": 154,
   "id": "b568b93d-3a9f-449c-9dca-c8b3ed22e0ab",
   "metadata": {},
   "outputs": [],
   "source": [
    "X_train, X_test, y_train, y_test = train_test_split(X, y, test_size=0.3, random_state=1)"
   ]
  },
  {
   "cell_type": "code",
   "execution_count": 155,
   "id": "d3db1eff-88db-45a9-8cf0-cc29581e5c48",
   "metadata": {},
   "outputs": [],
   "source": [
    "linear_reg = linear_model.LinearRegression()"
   ]
  },
  {
   "cell_type": "code",
   "execution_count": 156,
   "id": "df5e7956-2089-42cb-bf18-bd18cd49e673",
   "metadata": {},
   "outputs": [
    {
     "data": {
      "text/html": [
       "<style>#sk-container-id-12 {color: black;}#sk-container-id-12 pre{padding: 0;}#sk-container-id-12 div.sk-toggleable {background-color: white;}#sk-container-id-12 label.sk-toggleable__label {cursor: pointer;display: block;width: 100%;margin-bottom: 0;padding: 0.3em;box-sizing: border-box;text-align: center;}#sk-container-id-12 label.sk-toggleable__label-arrow:before {content: \"▸\";float: left;margin-right: 0.25em;color: #696969;}#sk-container-id-12 label.sk-toggleable__label-arrow:hover:before {color: black;}#sk-container-id-12 div.sk-estimator:hover label.sk-toggleable__label-arrow:before {color: black;}#sk-container-id-12 div.sk-toggleable__content {max-height: 0;max-width: 0;overflow: hidden;text-align: left;background-color: #f0f8ff;}#sk-container-id-12 div.sk-toggleable__content pre {margin: 0.2em;color: black;border-radius: 0.25em;background-color: #f0f8ff;}#sk-container-id-12 input.sk-toggleable__control:checked~div.sk-toggleable__content {max-height: 200px;max-width: 100%;overflow: auto;}#sk-container-id-12 input.sk-toggleable__control:checked~label.sk-toggleable__label-arrow:before {content: \"▾\";}#sk-container-id-12 div.sk-estimator input.sk-toggleable__control:checked~label.sk-toggleable__label {background-color: #d4ebff;}#sk-container-id-12 div.sk-label input.sk-toggleable__control:checked~label.sk-toggleable__label {background-color: #d4ebff;}#sk-container-id-12 input.sk-hidden--visually {border: 0;clip: rect(1px 1px 1px 1px);clip: rect(1px, 1px, 1px, 1px);height: 1px;margin: -1px;overflow: hidden;padding: 0;position: absolute;width: 1px;}#sk-container-id-12 div.sk-estimator {font-family: monospace;background-color: #f0f8ff;border: 1px dotted black;border-radius: 0.25em;box-sizing: border-box;margin-bottom: 0.5em;}#sk-container-id-12 div.sk-estimator:hover {background-color: #d4ebff;}#sk-container-id-12 div.sk-parallel-item::after {content: \"\";width: 100%;border-bottom: 1px solid gray;flex-grow: 1;}#sk-container-id-12 div.sk-label:hover label.sk-toggleable__label {background-color: #d4ebff;}#sk-container-id-12 div.sk-serial::before {content: \"\";position: absolute;border-left: 1px solid gray;box-sizing: border-box;top: 0;bottom: 0;left: 50%;z-index: 0;}#sk-container-id-12 div.sk-serial {display: flex;flex-direction: column;align-items: center;background-color: white;padding-right: 0.2em;padding-left: 0.2em;position: relative;}#sk-container-id-12 div.sk-item {position: relative;z-index: 1;}#sk-container-id-12 div.sk-parallel {display: flex;align-items: stretch;justify-content: center;background-color: white;position: relative;}#sk-container-id-12 div.sk-item::before, #sk-container-id-12 div.sk-parallel-item::before {content: \"\";position: absolute;border-left: 1px solid gray;box-sizing: border-box;top: 0;bottom: 0;left: 50%;z-index: -1;}#sk-container-id-12 div.sk-parallel-item {display: flex;flex-direction: column;z-index: 1;position: relative;background-color: white;}#sk-container-id-12 div.sk-parallel-item:first-child::after {align-self: flex-end;width: 50%;}#sk-container-id-12 div.sk-parallel-item:last-child::after {align-self: flex-start;width: 50%;}#sk-container-id-12 div.sk-parallel-item:only-child::after {width: 0;}#sk-container-id-12 div.sk-dashed-wrapped {border: 1px dashed gray;margin: 0 0.4em 0.5em 0.4em;box-sizing: border-box;padding-bottom: 0.4em;background-color: white;}#sk-container-id-12 div.sk-label label {font-family: monospace;font-weight: bold;display: inline-block;line-height: 1.2em;}#sk-container-id-12 div.sk-label-container {text-align: center;}#sk-container-id-12 div.sk-container {/* jupyter's `normalize.less` sets `[hidden] { display: none; }` but bootstrap.min.css set `[hidden] { display: none !important; }` so we also need the `!important` here to be able to override the default hidden behavior on the sphinx rendered scikit-learn.org. See: https://github.com/scikit-learn/scikit-learn/issues/21755 */display: inline-block !important;position: relative;}#sk-container-id-12 div.sk-text-repr-fallback {display: none;}</style><div id=\"sk-container-id-12\" class=\"sk-top-container\"><div class=\"sk-text-repr-fallback\"><pre>LinearRegression()</pre><b>In a Jupyter environment, please rerun this cell to show the HTML representation or trust the notebook. <br />On GitHub, the HTML representation is unable to render, please try loading this page with nbviewer.org.</b></div><div class=\"sk-container\" hidden><div class=\"sk-item\"><div class=\"sk-estimator sk-toggleable\"><input class=\"sk-toggleable__control sk-hidden--visually\" id=\"sk-estimator-id-12\" type=\"checkbox\" checked><label for=\"sk-estimator-id-12\" class=\"sk-toggleable__label sk-toggleable__label-arrow\">LinearRegression</label><div class=\"sk-toggleable__content\"><pre>LinearRegression()</pre></div></div></div></div></div>"
      ],
      "text/plain": [
       "LinearRegression()"
      ]
     },
     "execution_count": 156,
     "metadata": {},
     "output_type": "execute_result"
    }
   ],
   "source": [
    "linear_reg.fit(X_train, y_train)"
   ]
  },
  {
   "cell_type": "code",
   "execution_count": 157,
   "id": "06e719da-add9-41a4-b2be-da53fcf79cae",
   "metadata": {},
   "outputs": [],
   "source": [
    "y_train_pred = linear_reg.predict(X_train)\n",
    "y_test_pred = linear_reg.predict(X_test)"
   ]
  },
  {
   "cell_type": "code",
   "execution_count": 158,
   "id": "c6429089-cf96-4df4-b9cc-be057039f9c6",
   "metadata": {},
   "outputs": [
    {
     "name": "stdout",
     "output_type": "stream",
     "text": [
      "Intercept = -105.5210\n",
      "Coefficient = 0.0456\n",
      "R2 = 0.8600\n",
      "Adj R2 = 0.8555\n"
     ]
    }
   ],
   "source": [
    "print(\"\"\"Intercept = {:.4f}\n",
    "Coefficient = {:.4f}\n",
    "R2 = {:.4f}\n",
    "Adj R2 = {:.4f}\"\"\".format(linear_reg.intercept_,\n",
    "                          linear_reg.coef_[0],\n",
    "                          linear_reg.score(X_test, y_test),\n",
    "                          adj_r2_score(y_test, y_test_pred, X_test)\n",
    "                         ))"
   ]
  },
  {
   "cell_type": "code",
   "execution_count": 159,
   "id": "6421bf9c-78f0-4d5a-954e-3062fe81f648",
   "metadata": {},
   "outputs": [
    {
     "data": {
      "image/png": "[encoded data removed]",
      "text/plain": [
       "<Figure size 1000x500 with 2 Axes>"
      ]
     },
     "metadata": {},
     "output_type": "display_data"
    }
   ],
   "source": [
    "f, axs = plt.subplots(1, 2, figsize=(10,5))\n",
    "\n",
    "axs[0].scatter(X_train, y_train)\n",
    "axs[0].plot(X_train, y_train_pred, color=\"r\")\n",
    "axs[0].set_title('Train Data')\n",
    "axs[0].set(xlabel='view_count', ylabel='like_count')\n",
    "\n",
    "axs[1].scatter(X_test, y_test)\n",
    "axs[1].plot(X_test, y_test_pred, color=\"r\")\n",
    "axs[1].set_title('Test Data')\n",
    "axs[1].set(xlabel='view_count', ylabel='like_count')\n",
    "\n",
    "plt.show()"
   ]
  },
  {
   "cell_type": "markdown",
   "id": "1ba5ce29-196e-453a-a455-ff3e03251bc7",
   "metadata": {},
   "source": [
    "## 3.) Regression: Scikit (Views vs Likes, Comments, Duration)"
   ]
  },
  {
   "cell_type": "code",
   "execution_count": 160,
   "id": "f98d52a8-22fb-4ffd-bc14-f56683e2d5fb",
   "metadata": {},
   "outputs": [],
   "source": [
    "X = video_details[[\"view_count\", \"comment_count\", \"duration_sec\"]]\n",
    "y = video_details[\"like_count\"]"
   ]
  },
  {
   "cell_type": "code",
   "execution_count": 161,
   "id": "3c91d6e4-7c00-4b48-8909-a3306ac1a79d",
   "metadata": {},
   "outputs": [],
   "source": [
    "X_train, X_test, y_train, y_test = train_test_split(X, y, test_size=0.3, random_state=1)"
   ]
  },
  {
   "cell_type": "code",
   "execution_count": 162,
   "id": "261134b0-b98f-4ea5-ab32-069be97eca99",
   "metadata": {},
   "outputs": [],
   "source": [
    "linear_reg = linear_model.LinearRegression()"
   ]
  },
  {
   "cell_type": "code",
   "execution_count": 163,
   "id": "3d45745d-822d-4c82-b62d-f9d46d8faac6",
   "metadata": {},
   "outputs": [
    {
     "data": {
      "text/html": [
       "<style>#sk-container-id-13 {color: black;}#sk-container-id-13 pre{padding: 0;}#sk-container-id-13 div.sk-toggleable {background-color: white;}#sk-container-id-13 label.sk-toggleable__label {cursor: pointer;display: block;width: 100%;margin-bottom: 0;padding: 0.3em;box-sizing: border-box;text-align: center;}#sk-container-id-13 label.sk-toggleable__label-arrow:before {content: \"▸\";float: left;margin-right: 0.25em;color: #696969;}#sk-container-id-13 label.sk-toggleable__label-arrow:hover:before {color: black;}#sk-container-id-13 div.sk-estimator:hover label.sk-toggleable__label-arrow:before {color: black;}#sk-container-id-13 div.sk-toggleable__content {max-height: 0;max-width: 0;overflow: hidden;text-align: left;background-color: #f0f8ff;}#sk-container-id-13 div.sk-toggleable__content pre {margin: 0.2em;color: black;border-radius: 0.25em;background-color: #f0f8ff;}#sk-container-id-13 input.sk-toggleable__control:checked~div.sk-toggleable__content {max-height: 200px;max-width: 100%;overflow: auto;}#sk-container-id-13 input.sk-toggleable__control:checked~label.sk-toggleable__label-arrow:before {content: \"▾\";}#sk-container-id-13 div.sk-estimator input.sk-toggleable__control:checked~label.sk-toggleable__label {background-color: #d4ebff;}#sk-container-id-13 div.sk-label input.sk-toggleable__control:checked~label.sk-toggleable__label {background-color: #d4ebff;}#sk-container-id-13 input.sk-hidden--visually {border: 0;clip: rect(1px 1px 1px 1px);clip: rect(1px, 1px, 1px, 1px);height: 1px;margin: -1px;overflow: hidden;padding: 0;position: absolute;width: 1px;}#sk-container-id-13 div.sk-estimator {font-family: monospace;background-color: #f0f8ff;border: 1px dotted black;border-radius: 0.25em;box-sizing: border-box;margin-bottom: 0.5em;}#sk-container-id-13 div.sk-estimator:hover {background-color: #d4ebff;}#sk-container-id-13 div.sk-parallel-item::after {content: \"\";width: 100%;border-bottom: 1px solid gray;flex-grow: 1;}#sk-container-id-13 div.sk-label:hover label.sk-toggleable__label {background-color: #d4ebff;}#sk-container-id-13 div.sk-serial::before {content: \"\";position: absolute;border-left: 1px solid gray;box-sizing: border-box;top: 0;bottom: 0;left: 50%;z-index: 0;}#sk-container-id-13 div.sk-serial {display: flex;flex-direction: column;align-items: center;background-color: white;padding-right: 0.2em;padding-left: 0.2em;position: relative;}#sk-container-id-13 div.sk-item {position: relative;z-index: 1;}#sk-container-id-13 div.sk-parallel {display: flex;align-items: stretch;justify-content: center;background-color: white;position: relative;}#sk-container-id-13 div.sk-item::before, #sk-container-id-13 div.sk-parallel-item::before {content: \"\";position: absolute;border-left: 1px solid gray;box-sizing: border-box;top: 0;bottom: 0;left: 50%;z-index: -1;}#sk-container-id-13 div.sk-parallel-item {display: flex;flex-direction: column;z-index: 1;position: relative;background-color: white;}#sk-container-id-13 div.sk-parallel-item:first-child::after {align-self: flex-end;width: 50%;}#sk-container-id-13 div.sk-parallel-item:last-child::after {align-self: flex-start;width: 50%;}#sk-container-id-13 div.sk-parallel-item:only-child::after {width: 0;}#sk-container-id-13 div.sk-dashed-wrapped {border: 1px dashed gray;margin: 0 0.4em 0.5em 0.4em;box-sizing: border-box;padding-bottom: 0.4em;background-color: white;}#sk-container-id-13 div.sk-label label {font-family: monospace;font-weight: bold;display: inline-block;line-height: 1.2em;}#sk-container-id-13 div.sk-label-container {text-align: center;}#sk-container-id-13 div.sk-container {/* jupyter's `normalize.less` sets `[hidden] { display: none; }` but bootstrap.min.css set `[hidden] { display: none !important; }` so we also need the `!important` here to be able to override the default hidden behavior on the sphinx rendered scikit-learn.org. See: https://github.com/scikit-learn/scikit-learn/issues/21755 */display: inline-block !important;position: relative;}#sk-container-id-13 div.sk-text-repr-fallback {display: none;}</style><div id=\"sk-container-id-13\" class=\"sk-top-container\"><div class=\"sk-text-repr-fallback\"><pre>LinearRegression()</pre><b>In a Jupyter environment, please rerun this cell to show the HTML representation or trust the notebook. <br />On GitHub, the HTML representation is unable to render, please try loading this page with nbviewer.org.</b></div><div class=\"sk-container\" hidden><div class=\"sk-item\"><div class=\"sk-estimator sk-toggleable\"><input class=\"sk-toggleable__control sk-hidden--visually\" id=\"sk-estimator-id-13\" type=\"checkbox\" checked><label for=\"sk-estimator-id-13\" class=\"sk-toggleable__label sk-toggleable__label-arrow\">LinearRegression</label><div class=\"sk-toggleable__content\"><pre>LinearRegression()</pre></div></div></div></div></div>"
      ],
      "text/plain": [
       "LinearRegression()"
      ]
     },
     "execution_count": 163,
     "metadata": {},
     "output_type": "execute_result"
    }
   ],
   "source": [
    "linear_reg.fit(X_train, y_train)"
   ]
  },
  {
   "cell_type": "code",
   "execution_count": 164,
   "id": "01b4513f-9728-4487-ac8b-163762d8315e",
   "metadata": {},
   "outputs": [],
   "source": [
    "y_train_pred = linear_reg.predict(X_train)\n",
    "y_test_pred = linear_reg.predict(X_test)"
   ]
  },
  {
   "cell_type": "code",
   "execution_count": 165,
   "id": "86bb86b6-83cf-45ed-9a15-d61825838bcb",
   "metadata": {},
   "outputs": [
    {
     "name": "stdout",
     "output_type": "stream",
     "text": [
      "Intercept = 30.4162\n",
      "Coefficient = 0.0531\n",
      "R2 = 0.8518\n",
      "Adj R2 = 0.8365\n"
     ]
    }
   ],
   "source": [
    "print(\"\"\"Intercept = {:.4f}\n",
    "Coefficient = {:.4f}\n",
    "R2 = {:.4f}\n",
    "Adj R2 = {:.4f}\"\"\".format(linear_reg.intercept_,\n",
    "                          linear_reg.coef_[0],\n",
    "                          linear_reg.score(X_test, y_test),\n",
    "                          adj_r2_score(y_test, y_test_pred, X_test)\n",
    "                         ))"
   ]
  },
  {
   "cell_type": "markdown",
   "id": "6649155c-233d-4c3b-b4f1-4936418a325c",
   "metadata": {},
   "source": [
    "## 4.) Regression: statsmodels (Views vs Likes, Comments, Duration)"
   ]
  },
  {
   "cell_type": "code",
   "execution_count": 180,
   "id": "0b751b31-35a5-4d7c-8dd6-66aad7ae1042",
   "metadata": {},
   "outputs": [],
   "source": [
    "X = video_details[[\"view_count\", \"comment_count\", \"duration_sec\"]]\n",
    "y = video_details[\"like_count\"]"
   ]
  },
  {
   "cell_type": "code",
   "execution_count": 181,
   "id": "447d8fdd-7f3d-4b43-92b6-312e6c8c9d21",
   "metadata": {},
   "outputs": [],
   "source": [
    "X_train, X_test, y_train, y_test = train_test_split(X, y, test_size=0.3, random_state=1)"
   ]
  },
  {
   "cell_type": "code",
   "execution_count": 182,
   "id": "189fc59e-8a1f-405a-99d5-9fd24c4725be",
   "metadata": {},
   "outputs": [],
   "source": [
    "X_train = sm.add_constant(X_train)\n",
    "X_test = sm.add_constant(X_test)"
   ]
  },
  {
   "cell_type": "code",
   "execution_count": 183,
   "id": "ebb49048-787a-4c74-a2b2-3c38d75698cf",
   "metadata": {},
   "outputs": [
    {
     "data": {
      "text/plain": [
       "<statsmodels.regression.linear_model.RegressionResultsWrapper at 0x7f07d3520c10>"
      ]
     },
     "execution_count": 183,
     "metadata": {},
     "output_type": "execute_result"
    }
   ],
   "source": [
    "ols_model = sm.OLS(y_train, X_train).fit()\n",
    "ols_model"
   ]
  },
  {
   "cell_type": "code",
   "execution_count": 184,
   "id": "43de2be1-2eff-4cad-895b-48f64bff1159",
   "metadata": {},
   "outputs": [
    {
     "data": {
      "text/html": [
       "<table class=\"simpletable\">\n",
       "<caption>OLS Regression Results</caption>\n",
       "<tr>\n",
       "  <th>Dep. Variable:</th>       <td>like_count</td>    <th>  R-squared:         </th> <td>   0.967</td>\n",
       "</tr>\n",
       "<tr>\n",
       "  <th>Model:</th>                   <td>OLS</td>       <th>  Adj. R-squared:    </th> <td>   0.966</td>\n",
       "</tr>\n",
       "<tr>\n",
       "  <th>Method:</th>             <td>Least Squares</td>  <th>  F-statistic:       </th> <td>   691.7</td>\n",
       "</tr>\n",
       "<tr>\n",
       "  <th>Date:</th>             <td>Sat, 28 Oct 2023</td> <th>  Prob (F-statistic):</th> <td>1.86e-52</td>\n",
       "</tr>\n",
       "<tr>\n",
       "  <th>Time:</th>                 <td>21:41:47</td>     <th>  Log-Likelihood:    </th> <td> -598.97</td>\n",
       "</tr>\n",
       "<tr>\n",
       "  <th>No. Observations:</th>      <td>    75</td>      <th>  AIC:               </th> <td>   1206.</td>\n",
       "</tr>\n",
       "<tr>\n",
       "  <th>Df Residuals:</th>          <td>    71</td>      <th>  BIC:               </th> <td>   1215.</td>\n",
       "</tr>\n",
       "<tr>\n",
       "  <th>Df Model:</th>              <td>     3</td>      <th>                     </th>     <td> </td>   \n",
       "</tr>\n",
       "<tr>\n",
       "  <th>Covariance Type:</th>      <td>nonrobust</td>    <th>                     </th>     <td> </td>   \n",
       "</tr>\n",
       "</table>\n",
       "<table class=\"simpletable\">\n",
       "<tr>\n",
       "        <td></td>           <th>coef</th>     <th>std err</th>      <th>t</th>      <th>P>|t|</th>  <th>[0.025</th>    <th>0.975]</th>  \n",
       "</tr>\n",
       "<tr>\n",
       "  <th>const</th>         <td>   30.4162</td> <td>  138.659</td> <td>    0.219</td> <td> 0.827</td> <td> -246.062</td> <td>  306.894</td>\n",
       "</tr>\n",
       "<tr>\n",
       "  <th>view_count</th>    <td>    0.0531</td> <td>    0.003</td> <td>   21.007</td> <td> 0.000</td> <td>    0.048</td> <td>    0.058</td>\n",
       "</tr>\n",
       "<tr>\n",
       "  <th>comment_count</th> <td>   -6.7255</td> <td>    2.103</td> <td>   -3.198</td> <td> 0.002</td> <td>  -10.918</td> <td>   -2.533</td>\n",
       "</tr>\n",
       "<tr>\n",
       "  <th>duration_sec</th>  <td>    0.0423</td> <td>    0.070</td> <td>    0.602</td> <td> 0.549</td> <td>   -0.098</td> <td>    0.183</td>\n",
       "</tr>\n",
       "</table>\n",
       "<table class=\"simpletable\">\n",
       "<tr>\n",
       "  <th>Omnibus:</th>       <td>45.364</td> <th>  Durbin-Watson:     </th> <td>   1.765</td>\n",
       "</tr>\n",
       "<tr>\n",
       "  <th>Prob(Omnibus):</th> <td> 0.000</td> <th>  Jarque-Bera (JB):  </th> <td> 257.364</td>\n",
       "</tr>\n",
       "<tr>\n",
       "  <th>Skew:</th>          <td>-1.614</td> <th>  Prob(JB):          </th> <td>1.30e-56</td>\n",
       "</tr>\n",
       "<tr>\n",
       "  <th>Kurtosis:</th>      <td>11.481</td> <th>  Cond. No.          </th> <td>1.56e+05</td>\n",
       "</tr>\n",
       "</table><br/><br/>Notes:<br/>[1] Standard Errors assume that the covariance matrix of the errors is correctly specified.<br/>[2] The condition number is large, 1.56e+05. This might indicate that there are<br/>strong multicollinearity or other numerical problems."
      ],
      "text/latex": [
       "\\begin{center}\n",
       "\\begin{tabular}{lclc}\n",
       "\\toprule\n",
       "\\textbf{Dep. Variable:}    &   like\\_count    & \\textbf{  R-squared:         } &     0.967   \\\\\n",
       "\\textbf{Model:}            &       OLS        & \\textbf{  Adj. R-squared:    } &     0.966   \\\\\n",
       "\\textbf{Method:}           &  Least Squares   & \\textbf{  F-statistic:       } &     691.7   \\\\\n",
       "\\textbf{Date:}             & Sat, 28 Oct 2023 & \\textbf{  Prob (F-statistic):} &  1.86e-52   \\\\\n",
       "\\textbf{Time:}             &     21:41:47     & \\textbf{  Log-Likelihood:    } &   -598.97   \\\\\n",
       "\\textbf{No. Observations:} &          75      & \\textbf{  AIC:               } &     1206.   \\\\\n",
       "\\textbf{Df Residuals:}     &          71      & \\textbf{  BIC:               } &     1215.   \\\\\n",
       "\\textbf{Df Model:}         &           3      & \\textbf{                     } &             \\\\\n",
       "\\textbf{Covariance Type:}  &    nonrobust     & \\textbf{                     } &             \\\\\n",
       "\\bottomrule\n",
       "\\end{tabular}\n",
       "\\begin{tabular}{lcccccc}\n",
       "                        & \\textbf{coef} & \\textbf{std err} & \\textbf{t} & \\textbf{P$> |$t$|$} & \\textbf{[0.025} & \\textbf{0.975]}  \\\\\n",
       "\\midrule\n",
       "\\textbf{const}          &      30.4162  &      138.659     &     0.219  &         0.827        &     -246.062    &      306.894     \\\\\n",
       "\\textbf{view\\_count}    &       0.0531  &        0.003     &    21.007  &         0.000        &        0.048    &        0.058     \\\\\n",
       "\\textbf{comment\\_count} &      -6.7255  &        2.103     &    -3.198  &         0.002        &      -10.918    &       -2.533     \\\\\n",
       "\\textbf{duration\\_sec}  &       0.0423  &        0.070     &     0.602  &         0.549        &       -0.098    &        0.183     \\\\\n",
       "\\bottomrule\n",
       "\\end{tabular}\n",
       "\\begin{tabular}{lclc}\n",
       "\\textbf{Omnibus:}       & 45.364 & \\textbf{  Durbin-Watson:     } &    1.765  \\\\\n",
       "\\textbf{Prob(Omnibus):} &  0.000 & \\textbf{  Jarque-Bera (JB):  } &  257.364  \\\\\n",
       "\\textbf{Skew:}          & -1.614 & \\textbf{  Prob(JB):          } & 1.30e-56  \\\\\n",
       "\\textbf{Kurtosis:}      & 11.481 & \\textbf{  Cond. No.          } & 1.56e+05  \\\\\n",
       "\\bottomrule\n",
       "\\end{tabular}\n",
       "%\\caption{OLS Regression Results}\n",
       "\\end{center}\n",
       "\n",
       "Notes: \\newline\n",
       " [1] Standard Errors assume that the covariance matrix of the errors is correctly specified. \\newline\n",
       " [2] The condition number is large, 1.56e+05. This might indicate that there are \\newline\n",
       " strong multicollinearity or other numerical problems."
      ],
      "text/plain": [
       "<class 'statsmodels.iolib.summary.Summary'>\n",
       "\"\"\"\n",
       "                            OLS Regression Results                            \n",
       "==============================================================================\n",
       "Dep. Variable:             like_count   R-squared:                       0.967\n",
       "Model:                            OLS   Adj. R-squared:                  0.966\n",
       "Method:                 Least Squares   F-statistic:                     691.7\n",
       "Date:                Sat, 28 Oct 2023   Prob (F-statistic):           1.86e-52\n",
       "Time:                        21:41:47   Log-Likelihood:                -598.97\n",
       "No. Observations:                  75   AIC:                             1206.\n",
       "Df Residuals:                      71   BIC:                             1215.\n",
       "Df Model:                           3                                         \n",
       "Covariance Type:            nonrobust                                         \n",
       "=================================================================================\n",
       "                    coef    std err          t      P>|t|      [0.025      0.975]\n",
       "---------------------------------------------------------------------------------\n",
       "const            30.4162    138.659      0.219      0.827    -246.062     306.894\n",
       "view_count        0.0531      0.003     21.007      0.000       0.048       0.058\n",
       "comment_count    -6.7255      2.103     -3.198      0.002     -10.918      -2.533\n",
       "duration_sec      0.0423      0.070      0.602      0.549      -0.098       0.183\n",
       "==============================================================================\n",
       "Omnibus:                       45.364   Durbin-Watson:                   1.765\n",
       "Prob(Omnibus):                  0.000   Jarque-Bera (JB):              257.364\n",
       "Skew:                          -1.614   Prob(JB):                     1.30e-56\n",
       "Kurtosis:                      11.481   Cond. No.                     1.56e+05\n",
       "==============================================================================\n",
       "\n",
       "Notes:\n",
       "[1] Standard Errors assume that the covariance matrix of the errors is correctly specified.\n",
       "[2] The condition number is large, 1.56e+05. This might indicate that there are\n",
       "strong multicollinearity or other numerical problems.\n",
       "\"\"\""
      ]
     },
     "execution_count": 184,
     "metadata": {},
     "output_type": "execute_result"
    }
   ],
   "source": [
    "ols_model.summary()"
   ]
  },
  {
   "cell_type": "code",
   "execution_count": 190,
   "id": "a3a73d23-7fd3-4c8c-a859-b003cc2cc03b",
   "metadata": {},
   "outputs": [],
   "source": [
    "y_train_pred = ols_model.predict(X_train)\n",
    "y_test_pred = ols_model.predict(X_test)"
   ]
  },
  {
   "cell_type": "code",
   "execution_count": 193,
   "id": "a7910c17-6fd1-4f2a-b9b5-dea8700cb46e",
   "metadata": {},
   "outputs": [
    {
     "name": "stdout",
     "output_type": "stream",
     "text": [
      "R2 = 0.8518\n",
      "Adj R2 = 0.8307\n"
     ]
    }
   ],
   "source": [
    "print(\"\"\"R2 = {:.4f}\n",
    "Adj R2 = {:.4f}\"\"\".format(r2_score(y_test, y_test_pred),\n",
    "                          adj_r2_score(y_test, y_test_pred, X_test)\n",
    "                         ))"
   ]
  },
  {
   "cell_type": "code",
   "execution_count": null,
   "id": "ccad9b14-37df-47ff-abd6-bcefc6d1bc90",
   "metadata": {},
   "outputs": [],
   "source": []
  },
  {
   "cell_type": "code",
   "execution_count": null,
   "id": "4178a051-c31b-4b21-9a4c-a6d14cad7b9d",
   "metadata": {},
   "outputs": [],
   "source": []
  },
  {
   "cell_type": "code",
   "execution_count": null,
   "id": "b9adccfb-b120-4ab3-a1cf-6389b946832f",
   "metadata": {},
   "outputs": [],
   "source": []
  },
  {
   "cell_type": "code",
   "execution_count": null,
   "id": "0cf9f6ba-c30d-4877-a3b6-02219449fa9f",
   "metadata": {},
   "outputs": [],
   "source": []
  },
  {
   "cell_type": "code",
   "execution_count": null,
   "id": "4bf7a982-bbb9-412e-ad23-0f9a84e017f4",
   "metadata": {},
   "outputs": [],
   "source": []
  },
  {
   "cell_type": "code",
   "execution_count": null,
   "id": "4a8043c8-d56e-4e01-9658-282fc4ea7ce2",
   "metadata": {},
   "outputs": [],
   "source": []
  },
  {
   "cell_type": "code",
   "execution_count": null,
   "id": "edd87ffc-3aec-43a0-939e-433a232b45bc",
   "metadata": {},
   "outputs": [],
   "source": []
  },
  {
   "cell_type": "code",
   "execution_count": null,
   "id": "6d7c4e7d-09a3-4a53-9bc4-c908cbad1775",
   "metadata": {},
   "outputs": [],
   "source": []
  },
  {
   "cell_type": "code",
   "execution_count": null,
   "id": "25b86b7f-1d9d-42b8-b063-cf8bc3742555",
   "metadata": {},
   "outputs": [],
   "source": []
  },
  {
   "cell_type": "code",
   "execution_count": null,
   "id": "6465dba5-6eb9-4f04-81e7-7e1473b069da",
   "metadata": {},
   "outputs": [],
   "source": []
  },
  {
   "cell_type": "code",
   "execution_count": null,
   "id": "913c0d01-c826-4b2c-bbc7-4d2563af0ffd",
   "metadata": {},
   "outputs": [],
   "source": []
  },
  {
   "cell_type": "code",
   "execution_count": null,
   "id": "e89399fc-a825-48d7-95cd-1693824c2362",
   "metadata": {},
   "outputs": [],
   "source": []
  },
  {
   "cell_type": "code",
   "execution_count": null,
   "id": "b381ae3c-ccf0-4023-be4a-44ec7cad4c7d",
   "metadata": {},
   "outputs": [],
   "source": []
  },
  {
   "cell_type": "code",
   "execution_count": null,
   "id": "796f6906-8e4a-4e45-88b1-49dc09a3e102",
   "metadata": {},
   "outputs": [],
   "source": []
  },
  {
   "cell_type": "code",
   "execution_count": null,
   "id": "543921e7-3b27-4f72-a3d8-51e1aeb34078",
   "metadata": {},
   "outputs": [],
   "source": []
  },
  {
   "cell_type": "code",
   "execution_count": null,
   "id": "d0d3603a-2fa0-4690-ae18-23eac9f8b4a8",
   "metadata": {},
   "outputs": [],
   "source": []
  },
  {
   "cell_type": "code",
   "execution_count": null,
   "id": "41e1494e-c428-4f91-b57d-7e9f9f2c6c50",
   "metadata": {},
   "outputs": [],
   "source": []
  },
  {
   "cell_type": "code",
   "execution_count": null,
   "id": "7793c485-f898-4fa8-a0a4-7846b175fa70",
   "metadata": {},
   "outputs": [],
   "source": []
  },
  {
   "cell_type": "code",
   "execution_count": null,
   "id": "065ecb5f-dd35-41e1-b4b1-40cb8da15ce7",
   "metadata": {},
   "outputs": [],
   "source": []
  },
  {
   "cell_type": "code",
   "execution_count": null,
   "id": "d73dc284-4bd6-4994-a375-2eb65be895f0",
   "metadata": {},
   "outputs": [],
   "source": []
  },
  {
   "cell_type": "code",
   "execution_count": null,
   "id": "8f9ef77e-7929-4e20-925b-76df5249ec63",
   "metadata": {},
   "outputs": [],
   "source": []
  },
  {
   "cell_type": "code",
   "execution_count": null,
   "id": "b8b14abb-a8f1-4659-8e03-1d7372e99d5b",
   "metadata": {},
   "outputs": [],
   "source": []
  },
  {
   "cell_type": "code",
   "execution_count": null,
   "id": "f026dd3c-9a13-46d8-a5e1-5475d484e4b8",
   "metadata": {},
   "outputs": [],
   "source": []
  },
  {
   "cell_type": "code",
   "execution_count": null,
   "id": "5cfb3682-15cf-4e1b-ad6c-081dd16cfc04",
   "metadata": {},
   "outputs": [],
   "source": []
  },
  {
   "cell_type": "code",
   "execution_count": null,
   "id": "d915e82b-9374-4970-a431-b8ff20a83c7a",
   "metadata": {},
   "outputs": [],
   "source": []
  },
  {
   "cell_type": "code",
   "execution_count": null,
   "id": "c75acb6d-94d1-4d2a-92bc-b8ee22988903",
   "metadata": {},
   "outputs": [],
   "source": []
  },
  {
   "cell_type": "code",
   "execution_count": null,
   "id": "b62fd578-a0cd-4ed4-a913-7455d182c82d",
   "metadata": {},
   "outputs": [],
   "source": []
  },
  {
   "cell_type": "code",
   "execution_count": null,
   "id": "d1d27351-8b41-4493-a8d5-6c97dcf21c77",
   "metadata": {},
   "outputs": [],
   "source": []
  },
  {
   "cell_type": "code",
   "execution_count": null,
   "id": "db425ca5-0195-4732-8fc9-825f38d45f14",
   "metadata": {},
   "outputs": [],
   "source": []
  }
 ],
 "metadata": {
  "kernelspec": {
   "display_name": "yt-venv-jupyter",
   "language": "python",
   "name": "yt-venv-jupyter"
  },
  "language_info": {
   "codemirror_mode": {
    "name": "ipython",
    "version": 3
   },
   "file_extension": ".py",
   "mimetype": "text/x-python",
   "name": "python",
   "nbconvert_exporter": "python",
   "pygments_lexer": "ipython3",
   "version": "3.10.12"
  }
 },
 "nbformat": 4,
 "nbformat_minor": 5
}
