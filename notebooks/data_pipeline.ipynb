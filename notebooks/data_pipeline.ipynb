{
 "cells": [
  {
   "cell_type": "markdown",
   "id": "7d5bff32-8a39-4726-9b06-dd78d751a076",
   "metadata": {},
   "source": [
    "# Youtube Data Pipeline"
   ]
  },
  {
   "cell_type": "code",
   "execution_count": 1,
   "id": "c0dd5c2d-7921-4c81-8e58-f496603d322d",
   "metadata": {},
   "outputs": [],
   "source": [
    "import os\n",
    "\n",
    "import pandas as pd\n",
    "from html import unescape\n",
    "from datetime import datetime\n",
    "import isodate\n",
    "import googleapiclient.discovery\n",
    "\n",
    "from IPython.display import JSON"
   ]
  },
  {
   "cell_type": "code",
   "execution_count": 2,
   "id": "12dd27db-6a4a-4a2c-801c-f030884a412f",
   "metadata": {},
   "outputs": [],
   "source": [
    "api_key = os.environ[\"YOUTUBE_API_KEY\"]"
   ]
  },
  {
   "cell_type": "markdown",
   "id": "ad3fe2fe-fafa-4d36-9994-15259fb2d793",
   "metadata": {},
   "source": [
    "## Channel Information"
   ]
  },
  {
   "cell_type": "markdown",
   "id": "b8f186d7-8333-4f01-8b65-1e1535ee7126",
   "metadata": {},
   "source": [
    "### Simple Code"
   ]
  },
  {
   "cell_type": "code",
   "execution_count": 3,
   "id": "b10c8e39-6914-452e-89dc-6184f10ae8b6",
   "metadata": {},
   "outputs": [],
   "source": [
    "api_service_name = \"youtube\"\n",
    "api_version = \"v3\"\n",
    "\n",
    "youtube = googleapiclient.discovery.build(\n",
    "    api_service_name, api_version, developerKey=api_key\n",
    ")"
   ]
  },
  {
   "cell_type": "code",
   "execution_count": 4,
   "id": "5939ab5b-5aa2-43ab-8c1f-8c7ac0f3d8e8",
   "metadata": {},
   "outputs": [],
   "source": [
    "request = youtube.channels().list(\n",
    "    part=\"snippet\",#,contentDetails,statistics\",\n",
    "    forUsername=\"harsh1kumar\"\n",
    "    # id=\"UCueeXkuJezkCqu0YryvJnnQ,UCs8a-hjf6X4pa-O0orSoC8w\"\n",
    ")\n",
    "response = request.execute()"
   ]
  },
  {
   "cell_type": "code",
   "execution_count": 5,
   "id": "2ebfffb7-4285-4d8f-bfdc-508e7c135845",
   "metadata": {},
   "outputs": [
    {
     "data": {
      "application/json": {
       "etag": "oTFzkZHTaJW3I0IKLdMb1JJpAb0",
       "items": [
        {
         "etag": "p_xupehvxfQga6CiY5D2N9Wiemk",
         "id": "UCueeXkuJezkCqu0YryvJnnQ",
         "kind": "youtube#channel",
         "snippet": {
          "country": "IN",
          "customUrl": "@harsh1kumar",
          "description": "I have been working in the field of Advanced Analytics and Technology for more then 8 years. This channel will have videos relating to coding, machine learning and technology.\n\n\n\n\n",
          "localized": {
           "description": "I have been working in the field of Advanced Analytics and Technology for more then 8 years. This channel will have videos relating to coding, machine learning and technology.\n\n\n\n\n",
           "title": "Harsh Kumar"
          },
          "publishedAt": "2007-09-25T11:25:43Z",
          "thumbnails": {
           "default": {
            "height": 88,
            "url": "https://yt3.ggpht.com/ytc/APkrFKaQ6IszCfLIH_Gi6HokfEO-whFuIkI9G8mfzhyZbYw=s88-c-k-c0x00ffffff-no-rj",
            "width": 88
           },
           "high": {
            "height": 800,
            "url": "https://yt3.ggpht.com/ytc/APkrFKaQ6IszCfLIH_Gi6HokfEO-whFuIkI9G8mfzhyZbYw=s800-c-k-c0x00ffffff-no-rj",
            "width": 800
           },
           "medium": {
            "height": 240,
            "url": "https://yt3.ggpht.com/ytc/APkrFKaQ6IszCfLIH_Gi6HokfEO-whFuIkI9G8mfzhyZbYw=s240-c-k-c0x00ffffff-no-rj",
            "width": 240
           }
          },
          "title": "Harsh Kumar"
         }
        }
       ],
       "kind": "youtube#channelListResponse",
       "pageInfo": {
        "resultsPerPage": 5,
        "totalResults": 1
       }
      },
      "text/plain": [
       "<IPython.core.display.JSON object>"
      ]
     },
     "execution_count": 5,
     "metadata": {
      "application/json": {
       "expanded": false,
       "root": "root"
      }
     },
     "output_type": "execute_result"
    }
   ],
   "source": [
    "JSON(response)"
   ]
  },
  {
   "cell_type": "markdown",
   "id": "32e48939-608e-473d-9997-78eaa5dff8db",
   "metadata": {},
   "source": [
    "### Function for channel information"
   ]
  },
  {
   "cell_type": "code",
   "execution_count": 6,
   "id": "17302a40-ad56-48d9-8cfd-16ff243a970c",
   "metadata": {},
   "outputs": [],
   "source": [
    "def get_channel_info(youtube, channel_ids):\n",
    "    \n",
    "    request = youtube.channels().list(\n",
    "        part=\"snippet,contentDetails,statistics\",\n",
    "        id=\",\".join(channel_ids)\n",
    "    )\n",
    "    response = request.execute()\n",
    "    \n",
    "    all_data = []\n",
    "    for items in response[\"items\"]:\n",
    "        data = {\n",
    "            \"channel_name\": items[\"snippet\"][\"title\"],\n",
    "            \"view_count\": items[\"statistics\"][\"viewCount\"],\n",
    "            \"subscriber_count\": items[\"statistics\"][\"subscriberCount\"],\n",
    "            \"video_count\": items[\"statistics\"][\"videoCount\"],\n",
    "            \"channel_id\": items[\"id\"],\n",
    "            \"playlist_id\": items[\"contentDetails\"][\"relatedPlaylists\"][\"uploads\"],\n",
    "        }\n",
    "\n",
    "        all_data.append(data)\n",
    "\n",
    "    return pd.DataFrame(all_data)"
   ]
  },
  {
   "cell_type": "code",
   "execution_count": 7,
   "id": "7b9a2974-076a-4025-8184-4263350052c1",
   "metadata": {},
   "outputs": [
    {
     "data": {
      "text/html": [
       "<div>\n",
       "<style scoped>\n",
       "    .dataframe tbody tr th:only-of-type {\n",
       "        vertical-align: middle;\n",
       "    }\n",
       "\n",
       "    .dataframe tbody tr th {\n",
       "        vertical-align: top;\n",
       "    }\n",
       "\n",
       "    .dataframe thead th {\n",
       "        text-align: right;\n",
       "    }\n",
       "</style>\n",
       "<table border=\"1\" class=\"dataframe\">\n",
       "  <thead>\n",
       "    <tr style=\"text-align: right;\">\n",
       "      <th></th>\n",
       "      <th>channel_name</th>\n",
       "      <th>view_count</th>\n",
       "      <th>subscriber_count</th>\n",
       "      <th>video_count</th>\n",
       "      <th>channel_id</th>\n",
       "      <th>playlist_id</th>\n",
       "    </tr>\n",
       "  </thead>\n",
       "  <tbody>\n",
       "    <tr>\n",
       "      <th>0</th>\n",
       "      <td>Harsh Kumar</td>\n",
       "      <td>76490</td>\n",
       "      <td>706</td>\n",
       "      <td>14</td>\n",
       "      <td>UCueeXkuJezkCqu0YryvJnnQ</td>\n",
       "      <td>UUueeXkuJezkCqu0YryvJnnQ</td>\n",
       "    </tr>\n",
       "    <tr>\n",
       "      <th>1</th>\n",
       "      <td>Thu Vu data analytics</td>\n",
       "      <td>5520237</td>\n",
       "      <td>169000</td>\n",
       "      <td>76</td>\n",
       "      <td>UCJQJAI7IjbLcpsjWdSzYz0Q</td>\n",
       "      <td>UUJQJAI7IjbLcpsjWdSzYz0Q</td>\n",
       "    </tr>\n",
       "    <tr>\n",
       "      <th>2</th>\n",
       "      <td>amitvarma</td>\n",
       "      <td>146605</td>\n",
       "      <td>5770</td>\n",
       "      <td>16</td>\n",
       "      <td>UCs8a-hjf6X4pa-O0orSoC8w</td>\n",
       "      <td>UUs8a-hjf6X4pa-O0orSoC8w</td>\n",
       "    </tr>\n",
       "  </tbody>\n",
       "</table>\n",
       "</div>"
      ],
      "text/plain": [
       "            channel_name view_count subscriber_count video_count  \\\n",
       "0            Harsh Kumar      76490              706          14   \n",
       "1  Thu Vu data analytics    5520237           169000          76   \n",
       "2              amitvarma     146605             5770          16   \n",
       "\n",
       "                 channel_id               playlist_id  \n",
       "0  UCueeXkuJezkCqu0YryvJnnQ  UUueeXkuJezkCqu0YryvJnnQ  \n",
       "1  UCJQJAI7IjbLcpsjWdSzYz0Q  UUJQJAI7IjbLcpsjWdSzYz0Q  \n",
       "2  UCs8a-hjf6X4pa-O0orSoC8w  UUs8a-hjf6X4pa-O0orSoC8w  "
      ]
     },
     "execution_count": 7,
     "metadata": {},
     "output_type": "execute_result"
    }
   ],
   "source": [
    "channel_ids = [\"UCueeXkuJezkCqu0YryvJnnQ\",   #@harsh1kumar\n",
    "               \"UCs8a-hjf6X4pa-O0orSoC8w\",   #@amitvarma\n",
    "               \"UCJQJAI7IjbLcpsjWdSzYz0Q\",   #@Thuvu5\n",
    "              ]\n",
    "channel_info = get_channel_info(youtube, channel_ids)\n",
    "channel_info"
   ]
  },
  {
   "cell_type": "markdown",
   "id": "055b3af9-462c-4d44-84ef-4336a94641ef",
   "metadata": {},
   "source": [
    "## Playlist Information"
   ]
  },
  {
   "cell_type": "markdown",
   "id": "05c003fa-4466-4e3f-9253-ddf6696694f8",
   "metadata": {},
   "source": [
    "### Simple Code"
   ]
  },
  {
   "cell_type": "code",
   "execution_count": 8,
   "id": "b642a544-a70d-44ad-8c9f-a03bfe18f635",
   "metadata": {},
   "outputs": [],
   "source": [
    "request = youtube.playlistItems().list(\n",
    "    part=\"snippet,contentDetails\",\n",
    "    playlistId=\"UUJQJAI7IjbLcpsjWdSzYz0Q\",\n",
    "    maxResults=50\n",
    ")\n",
    "response = request.execute()"
   ]
  },
  {
   "cell_type": "code",
   "execution_count": 9,
   "id": "624c48c2-ce46-4db8-9831-700a3e7f827c",
   "metadata": {},
   "outputs": [
    {
     "data": {
      "application/json": {
       "etag": "pGw_8HkJVs4jvT7_RrIpuRangaE",
       "items": [
        {
         "contentDetails": {
          "videoId": "lp6SfYCRGLM",
          "videoPublishedAt": "2023-10-16T22:03:49Z"
         },
         "etag": "vy0oHMoDe0mbztjI9QxhxbwMWvM",
         "id": "VVVKUUpBSTdJamJMY3BzaldkU3pZejBRLmxwNlNmWUNSR0xN",
         "kind": "youtube#playlistItem",
         "snippet": {
          "channelId": "UCJQJAI7IjbLcpsjWdSzYz0Q",
          "channelTitle": "Thu Vu data analytics",
          "description": "📖 CareerFoundry discount code: https://bit.ly/46Mweod \n🧭 CareerFoundry's free data short course: https://bit.ly/3QcWP7t \n📞 Book a call with a program advisor: https://bit.ly/3LZwpo6 \n\n🔑 TIMESTAMPS\n================================\n0:00 - Intro\n0:39 - The skill gap - Learn to use AI\n3:25 - SPONSOR\n4:42 - The skill gap - Shine as humans!\n6:13 - Embrace continuous learning\n8:33 - Don’t put all your eggs in one basket\n10:10 - Your network is your net worth\n10:52 - Final thoughts\n\n👩🏻‍💻 COURSES & RESOURCES\n================================\n📖 Google Advanced Data Analytics Certificate 👉 https://imp.i384100.net/anK9zZ\n📖 Google Data Analytics Certificate 👉 https://imp.i384100.net/15v9y6\n📖 Learn SQL Basics for Data Science Specialization 👉 https://imp.i384100.net/AovPnJ\n📖 Excel Skills for Business 👉 https://coursera.pxf.io/doPaoy\n📖 Machine Learning Specialization 👉 https://imp.i384100.net/RyjykN\n📖 Data Visualization with Tableau Specialization 👉https://imp.i384100.net/n15XWR\n📖 Deep Learning Specialization 👉 https://imp.i384100.net/zavBA0\n📖 Mathematics for Machine Learning and Data Science Specialization 👉 https://imp.i384100.net/LXK0gj\n📖 Applied Data Science with Python 👉 https://imp.i384100.net/gbxOqv\n\n🙋🏻‍♀️ LET'S CONNECT!\n================================\n🤓 Join my Discord server: https://discord.gg/SK7ZC5XhcS\n📩  Newsletter: https://substack.com/profile/87689887-thu-vu\n✍ Medium: https://medium.com/@vuthihienthu.ueb\n🔗 All links: https://linktr.ee/thuvuanalytics\n\nAs a member of the Amazon and Coursera Affiliate Programs, I earn a commission from qualifying purchases on the links above. By using the links you help support this channel at no cost for you.\n\nEdited with Gling: https://gling.ai\n#ai #datascience #ThuVu #dataanalytics",
          "playlistId": "UUJQJAI7IjbLcpsjWdSzYz0Q",
          "position": 0,
          "publishedAt": "2023-10-16T22:03:49Z",
          "resourceId": {
           "kind": "youtube#video",
           "videoId": "lp6SfYCRGLM"
          },
          "thumbnails": {
           "default": {
            "height": 90,
            "url": "https://i.ytimg.com/vi/lp6SfYCRGLM/default.jpg",
            "width": 120
           },
           "high": {
            "height": 360,
            "url": "https://i.ytimg.com/vi/lp6SfYCRGLM/hqdefault.jpg",
            "width": 480
           },
           "maxres": {
            "height": 720,
            "url": "https://i.ytimg.com/vi/lp6SfYCRGLM/maxresdefault.jpg",
            "width": 1280
           },
           "medium": {
            "height": 180,
            "url": "https://i.ytimg.com/vi/lp6SfYCRGLM/mqdefault.jpg",
            "width": 320
           },
           "standard": {
            "height": 480,
            "url": "https://i.ytimg.com/vi/lp6SfYCRGLM/sddefault.jpg",
            "width": 640
           }
          },
          "title": "How to AI PROOF Your Career",
          "videoOwnerChannelId": "UCJQJAI7IjbLcpsjWdSzYz0Q",
          "videoOwnerChannelTitle": "Thu Vu data analytics"
         }
        },
        {
         "contentDetails": {
          "videoId": "uGynMyXCcg8",
          "videoPublishedAt": "2023-10-09T22:02:40Z"
         },
         "etag": "LzxEFJgp342070lU_DFTPawA1b8",
         "id": "VVVKUUpBSTdJamJMY3BzaldkU3pZejBRLnVHeW5NeVhDY2c4",
         "kind": "youtube#playlistItem",
         "snippet": {
          "channelId": "UCJQJAI7IjbLcpsjWdSzYz0Q",
          "channelTitle": "Thu Vu data analytics",
          "description": "Artificial Intelligence 👉 https://amzn.to/3tnhy0l\nThe Coming Wave 👉 https://amzn.to/45rDWTH\nLife 3.0 👉https://amzn.to/3FapEMs\nSuperintelligence 👉https://amzn.to/45iL7NW\nHuman Compatible 👉https://amzn.to/3tnhEFf\nThe Alignment Problem 👉https://amzn.to/3rIGajQ\nI, Human 👉https://amzn.to/48KBNoS\n\n#artificialintelligence #datascience #books",
          "playlistId": "UUJQJAI7IjbLcpsjWdSzYz0Q",
          "position": 1,
          "publishedAt": "2023-10-09T22:02:40Z",
          "resourceId": {
           "kind": "youtube#video",
           "videoId": "uGynMyXCcg8"
          },
          "thumbnails": {
           "default": {
            "height": 90,
            "url": "https://i.ytimg.com/vi/uGynMyXCcg8/default.jpg",
            "width": 120
           },
           "high": {
            "height": 360,
            "url": "https://i.ytimg.com/vi/uGynMyXCcg8/hqdefault.jpg",
            "width": 480
           },
           "maxres": {
            "height": 720,
            "url": "https://i.ytimg.com/vi/uGynMyXCcg8/maxresdefault.jpg",
            "width": 1280
           },
           "medium": {
            "height": 180,
            "url": "https://i.ytimg.com/vi/uGynMyXCcg8/mqdefault.jpg",
            "width": 320
           },
           "standard": {
            "height": 480,
            "url": "https://i.ytimg.com/vi/uGynMyXCcg8/sddefault.jpg",
            "width": 640
           }
          },
          "title": "Books to Learn about AI: You can’t miss these!!",
          "videoOwnerChannelId": "UCJQJAI7IjbLcpsjWdSzYz0Q",
          "videoOwnerChannelTitle": "Thu Vu data analytics"
         }
        },
        {
         "contentDetails": {
          "videoId": "EzVIkHQWnhc",
          "videoPublishedAt": "2023-08-22T00:29:27Z"
         },
         "etag": "RmfJFFY7NV6Gor31xXocX0ZkCpA",
         "id": "VVVKUUpBSTdJamJMY3BzaldkU3pZejBRLkV6VklrSFFXbmhj",
         "kind": "youtube#playlistItem",
         "snippet": {
          "channelId": "UCJQJAI7IjbLcpsjWdSzYz0Q",
          "channelTitle": "Thu Vu data analytics",
          "description": "🏆 Check out Antigranular competition & win cash prizes up to €5,500  👉 https://www.antigranular.com/competitions\n📔 Sample notebook working with sensitive private data 👉 https://shorturl.at/yKX89\n\nHi everyone, in today's video we'll be talking about working with private and sensitive data. A lot of times data scientists do not work on the most valuable and \"cool\" datasets, simply because these datasets contain too sensitive individual information. I have encountered this many times at my work, and it's frustrating! In this video, I will give you a brief introduction to different techniques for handling senstive data, and how to implement them using Antigranular platform. \n\nThank you for watching! 😇\n\n🔑 TIMESTAMPS\n================================\n0:00 - Intro\n1:00 - Antigranular/ Oblivious (sponsor)\n1:22 - Overview of privacy-enhancing technologies\n4:28 - Antigranular & competition 🏆\n5:58 - What is Differential Privacy?\n6:51 - Sample notebook walkthrough\n7:49 - What is Secure Enclave?\n8:34 - Sample notebook walkthrough (cont.)\n11:07 - Training a regression model on private data\n11:46 - Outro\n\n👩🏻‍💻 COURSES & RESOURCES\n================================\n📖 Google Advanced Data Analytics Certificate 👉 https://imp.i384100.net/anK9zZ\n📖 Google Data Analytics Certificate 👉 https://imp.i384100.net/15v9y6\n📖 Learn SQL Basics for Data Science Specialization 👉 https://imp.i384100.net/AovPnJ\n📖 Excel Skills for Business 👉 https://coursera.pxf.io/doPaoy\n📖 Machine Learning Specialization 👉 https://imp.i384100.net/RyjykN\n📖 Data Visualization with Tableau Specialization 👉https://imp.i384100.net/n15XWR\n📖 Deep Learning Specialization 👉 https://imp.i384100.net/zavBA0\n📖 Mathematics for Machine Learning and Data Science Specialization 👉 https://imp.i384100.net/LXK0gj\n📖 Applied Data Science with Python 👉 https://imp.i384100.net/gbxOqv\n\n🙋🏻‍♀️ LET'S CONNECT!\n================================\n🤓 Join my Discord server: https://discord.gg/SK7ZC5XhcS\n📩  Newsletter: https://substack.com/profile/87689887-thu-vu\n✍ Medium: https://medium.com/@vuthihienthu.ueb\n🔗 All links: https://linktr.ee/thuvuanalytics\n\nAs a member of the Amazon and Coursera Affiliate Programs, I earn a commission from qualifying purchases on the links above. By using the links you help support this channel at no cost for you.\n\nEdited with Gling: https://gling.ai\n#dataprivacy #datascience #ThuVu #dataanalytics",
          "playlistId": "UUJQJAI7IjbLcpsjWdSzYz0Q",
          "position": 2,
          "publishedAt": "2023-08-22T00:29:27Z",
          "resourceId": {
           "kind": "youtube#video",
           "videoId": "EzVIkHQWnhc"
          },
          "thumbnails": {
           "default": {
            "height": 90,
            "url": "https://i.ytimg.com/vi/EzVIkHQWnhc/default.jpg",
            "width": 120
           },
           "high": {
            "height": 360,
            "url": "https://i.ytimg.com/vi/EzVIkHQWnhc/hqdefault.jpg",
            "width": 480
           },
           "maxres": {
            "height": 720,
            "url": "https://i.ytimg.com/vi/EzVIkHQWnhc/maxresdefault.jpg",
            "width": 1280
           },
           "medium": {
            "height": 180,
            "url": "https://i.ytimg.com/vi/EzVIkHQWnhc/mqdefault.jpg",
            "width": 320
           },
           "standard": {
            "height": 480,
            "url": "https://i.ytimg.com/vi/EzVIkHQWnhc/sddefault.jpg",
            "width": 640
           }
          },
          "title": "How to Handle Sensitive Data in Data Science (ft. Oblivious)",
          "videoOwnerChannelId": "UCJQJAI7IjbLcpsjWdSzYz0Q",
          "videoOwnerChannelTitle": "Thu Vu data analytics"
         }
        },
        {
         "contentDetails": {
          "videoId": "8sLq4P-QDL0",
          "videoPublishedAt": "2023-07-15T19:02:17Z"
         },
         "etag": "c6m_rkQ-93XA7JWBuZqwdkgGvnc",
         "id": "VVVKUUpBSTdJamJMY3BzaldkU3pZejBRLjhzTHE0UC1RREww",
         "kind": "youtube#playlistItem",
         "snippet": {
          "channelId": "UCJQJAI7IjbLcpsjWdSzYz0Q",
          "channelTitle": "Thu Vu data analytics",
          "description": "I tell ChatGPT Code Interpreter to do my job 😅\n\n\nDATA SCIENCE COURSES:\n📖 Learn SQL Basics for Data Science Specialization 👉 https://imp.i384100.net/AovPnJ\n📖 Excel Skills for Business 👉 https://coursera.pxf.io/doPaoy\n📖 Machine Learning Specialization 👉 https://imp.i384100.net/RyjykN\n📖 Data Visualization with Tableau Specialization 👉https://imp.i384100.net/n15XWR\n📖 Deep Learning Specialization 👉 https://imp.i384100.net/zavBA0\n📖 Mathematics for Machine Learning and Data Science Specialization 👉 https://imp.i384100.net/LXK0gj\n📖 Google Data Analytics Certificate 👉 https://imp.i384100.net/15v9y6\n📖 Applied Data Science with Python 👉 https://imp.i384100.net/gbxOqv\n\n\n#shorts",
          "playlistId": "UUJQJAI7IjbLcpsjWdSzYz0Q",
          "position": 3,
          "publishedAt": "2023-07-15T19:02:17Z",
          "resourceId": {
           "kind": "youtube#video",
           "videoId": "8sLq4P-QDL0"
          },
          "thumbnails": {
           "default": {
            "height": 90,
            "url": "https://i.ytimg.com/vi/8sLq4P-QDL0/default.jpg",
            "width": 120
           },
           "high": {
            "height": 360,
            "url": "https://i.ytimg.com/vi/8sLq4P-QDL0/hqdefault.jpg",
            "width": 480
           },
           "maxres": {
            "height": 720,
            "url": "https://i.ytimg.com/vi/8sLq4P-QDL0/maxresdefault.jpg",
            "width": 1280
           },
           "medium": {
            "height": 180,
            "url": "https://i.ytimg.com/vi/8sLq4P-QDL0/mqdefault.jpg",
            "width": 320
           },
           "standard": {
            "height": 480,
            "url": "https://i.ytimg.com/vi/8sLq4P-QDL0/sddefault.jpg",
            "width": 640
           }
          },
          "title": "I Tried ChatGPT Code Interpreter for Data Tasks - it's a game changer!",
          "videoOwnerChannelId": "UCJQJAI7IjbLcpsjWdSzYz0Q",
          "videoOwnerChannelTitle": "Thu Vu data analytics"
         }
        },
        {
         "contentDetails": {
          "videoId": "3736Pd_hwFQ",
          "videoPublishedAt": "2023-07-08T09:45:30Z"
         },
         "etag": "nEz8OzUrEwlva12Y7BVNWGSRfDI",
         "id": "VVVKUUpBSTdJamJMY3BzaldkU3pZejBRLjM3MzZQZF9od0ZR",
         "kind": "youtube#playlistItem",
         "snippet": {
          "channelId": "UCJQJAI7IjbLcpsjWdSzYz0Q",
          "channelTitle": "Thu Vu data analytics",
          "description": "📩 Interested in hearing about my coming courses? 👉 https://forms.gle/u4h9fLmbxjQHHScb9\n📚 Glimpse into R data.table 👉 https://bookdown.org/brianjmpark/everydayR/interlude-i-a-brief-glimpse-into-data.html\n\nHi everyone 👋! In this video I demonstrated 40 tips to help you become more proficient in day-to-day data science tools such as Jupyter notebooks, VS Code, Python, R and RStudio, and Excel! It's definitely the longest video I have ever made and took me tons of time, but hopefully it will give you some useful tips, no matter if you are a novice or a seasoned data analyst/ data scientist.\n\nThank you for watching and have a great day! 🤗\n\n🔑 TIMESTAMPS\n================================\n\nTips for Jupyter notebooks:\n00:00 Intro\n00:48 Jupyter Notebooks\n00:50 - #1 Use JupyterLab/ VS Code (instead of Notebook)\n2:44 - #2 Useful shortcuts in notebooks\n7:44 - #3 Add an image to notebooks\n8:36 - #4 Move around quickly\n10:04 - #5 Multi-cursors\n11:16 - #6 Code completion\n11:41 - #7 Debugging in JupyterLab\n19:45 - #8 Magics\n23:07 - #9 Timeit magic\n24:40 - #10 Writing formulas in notebook cells\n\nTips for Python:\n25:46 - Python\n25:58 - #11 Chaining comparisons\n26:31 - #12 Using f-strings\n27:32 - #13 List comprehensions\n29:12 - #14 Creating Python virtual environments\n30:47 - #15 Creating and using requirements.txt file\n32:39 - #16 Python libraries for profiling reports\n33:38 - #17 Highlighting pandas tables\n35:17 - #18 Type hinting\n\nTips for Visual Studio Code:\n37:14 - VS Code\n37:30 - #19 Opening project folders VS Code\n39:07 - #20 Using code completion VS Code\n39:43 - #21 Useful shortcuts in VS Code\n42:32 - #22 Running Python scripts interactively in VS Code\n43:55 - #23 Debugging in VS Code\n\nTips for RStudio (sorry I accidentally had double #27 here 😅)\n46:07 - RStudio\n46:23 - #24 Shortcuts in RStudio\n47:11 - #25 Find function definition in RStudio\n48:48 - #26 Creating R projects\n50:08 - #27 Debugging in RStudio\n51:20 - #27 The most useful package in R 😉\n52:31 - #28 Data profiling in R\n54:16 - #29 Parallelizing code in R (doParallel package)\n\nTips for Excel:\n59:16 - Excel\n59:41 - #30 Customising status bar in Excel\n1:00:24 - #31 Using Analyze Data tool in Excel\n1:02:48 - #32 Using Excel table\n1:05:24 - #33 Creating slicers for Excel reports\n1:06:28 - #34 Keyboard shortcuts in Excel\n1:07:48 - #35 Typing headers quickly in Excel \n1:08:27 - #36 Doing statistical analyses in Excel\n1:09:52 - #37 Filling blank values in Excel\n1:10:43 - #38 Conditional formatting in Excel\n1:12:00 - #39 Recording custom Excel macros\n1:15:15 Conclusion\n\n👩🏻‍💻 COURSES & RESOURCES\n================================\n📖 Google Advanced Data Analytics Certificate 👉 https://imp.i384100.net/anK9zZ\n📖 Google Data Analytics Certificate 👉 https://imp.i384100.net/15v9y6\n📖 Learn SQL Basics for Data Science Specialization 👉 https://imp.i384100.net/AovPnJ\n📖 Excel Skills for Business 👉 https://coursera.pxf.io/doPaoy\n📖 Machine Learning Specialization 👉 https://imp.i384100.net/RyjykN\n📖 Data Visualization with Tableau Specialization 👉https://imp.i384100.net/n15XWR\n📖 Deep Learning Specialization 👉 https://imp.i384100.net/zavBA0\n📖 Mathematics for Machine Learning and Data Science Specialization 👉 https://imp.i384100.net/LXK0gj\n📖 Applied Data Science with Python 👉 https://imp.i384100.net/gbxOqv\n\n🙋🏻‍♀️ LET'S CONNECT!\n================================\n🤓 Join my Discord server: https://discord.gg/SK7ZC5XhcS\n📩  Newsletter: https://substack.com/profile/87689887-thu-vu\n✍ Medium: https://medium.com/@vuthihienthu.ueb\n🔗 All links: https://linktr.ee/thuvuanalytics\n\nAs a member of the Amazon and Coursera Affiliate Programs, I earn a commission from qualifying purchases on the links above. By using the links you help support this channel at no cost for you.\n\nEdited with Gling: https://gling.ai\n#python #datascience #productivity",
          "playlistId": "UUJQJAI7IjbLcpsjWdSzYz0Q",
          "position": 4,
          "publishedAt": "2023-07-08T09:45:30Z",
          "resourceId": {
           "kind": "youtube#video",
           "videoId": "3736Pd_hwFQ"
          },
          "thumbnails": {
           "default": {
            "height": 90,
            "url": "https://i.ytimg.com/vi/3736Pd_hwFQ/default.jpg",
            "width": 120
           },
           "high": {
            "height": 360,
            "url": "https://i.ytimg.com/vi/3736Pd_hwFQ/hqdefault.jpg",
            "width": 480
           },
           "maxres": {
            "height": 720,
            "url": "https://i.ytimg.com/vi/3736Pd_hwFQ/maxresdefault.jpg",
            "width": 1280
           },
           "medium": {
            "height": 180,
            "url": "https://i.ytimg.com/vi/3736Pd_hwFQ/mqdefault.jpg",
            "width": 320
           },
           "standard": {
            "height": 480,
            "url": "https://i.ytimg.com/vi/3736Pd_hwFQ/sddefault.jpg",
            "width": 640
           }
          },
          "title": "40 Productivity Tips that Make You More Pro in Data science 😉",
          "videoOwnerChannelId": "UCJQJAI7IjbLcpsjWdSzYz0Q",
          "videoOwnerChannelTitle": "Thu Vu data analytics"
         }
        },
        {
         "contentDetails": {
          "videoId": "PvnSSrnjLX8",
          "videoPublishedAt": "2023-06-16T22:57:31Z"
         },
         "etag": "S5nsKmlAtCQdXJZklb2i_EJvFfM",
         "id": "VVVKUUpBSTdJamJMY3BzaldkU3pZejBRLlB2blNTcm5qTFg4",
         "kind": "youtube#playlistItem",
         "snippet": {
          "channelId": "UCJQJAI7IjbLcpsjWdSzYz0Q",
          "channelTitle": "Thu Vu data analytics",
          "description": "📊 Enroll with this link to get 10% off the Data Analytics Program (CareerFoundry) until the end of the year! https://bit.ly/46itfni\n📞 Not sure whether a career in Data Analytics is the right choice for you? Book a call with a\nProgram Advisor to get their personalized advice: https://bit.ly/3G5w0Of\n🖥 Want to know what it's like to be a Data Analyst? Check out CareerFoundry's free short course! https://bit.ly/3lZL6Oj\n\n🔑 TIMESTAMPS\n================================\n0:00 - Intro\n1:17 - What is CareerFoundry\n1:42 - Overview of program structure\n3:02 - Job guarantees\n4:23 - Mentorship\n5:59 - Detailed curriculum\n8:05 - Learning portal and course walkthrough\n10:47 - What I like and don't like\n12:45 - Price\n15:18 - Who I'd recommend this course to\n\n🙋🏻‍♀️ LET'S CONNECT!\n================================\n🤓 Join my Discord server: https://discord.gg/SK7ZC5XhcS\n📩  Newsletter: https://substack.com/profile/87689887-thu-vu\n✍ Medium: https://medium.com/@vuthihienthu.ueb\n🔗 All links: https://linktr.ee/thuvuanalytics\n\nAs a member of the Amazon and Coursera Affiliate Programs, I earn a commission from qualifying purchases on the links above. By using the links you help support this channel at no cost for you.\n\nEdited with Gling: https://gling.ai\n#datanalytics #datascience #ThuVu",
          "playlistId": "UUJQJAI7IjbLcpsjWdSzYz0Q",
          "position": 5,
          "publishedAt": "2023-06-16T22:57:31Z",
          "resourceId": {
           "kind": "youtube#video",
           "videoId": "PvnSSrnjLX8"
          },
          "thumbnails": {
           "default": {
            "height": 90,
            "url": "https://i.ytimg.com/vi/PvnSSrnjLX8/default.jpg",
            "width": 120
           },
           "high": {
            "height": 360,
            "url": "https://i.ytimg.com/vi/PvnSSrnjLX8/hqdefault.jpg",
            "width": 480
           },
           "maxres": {
            "height": 720,
            "url": "https://i.ytimg.com/vi/PvnSSrnjLX8/maxresdefault.jpg",
            "width": 1280
           },
           "medium": {
            "height": 180,
            "url": "https://i.ytimg.com/vi/PvnSSrnjLX8/mqdefault.jpg",
            "width": 320
           },
           "standard": {
            "height": 480,
            "url": "https://i.ytimg.com/vi/PvnSSrnjLX8/sddefault.jpg",
            "width": 640
           }
          },
          "title": "Self-taught vs. Guided Program: CareerFoundry's Data Analytics Program Review",
          "videoOwnerChannelId": "UCJQJAI7IjbLcpsjWdSzYz0Q",
          "videoOwnerChannelTitle": "Thu Vu data analytics"
         }
        },
        {
         "contentDetails": {
          "videoId": "S5U76LPu_bQ",
          "videoPublishedAt": "2023-06-08T16:10:11Z"
         },
         "etag": "58WMXyVDhwQq79x3jCDvxPEHW9A",
         "id": "VVVKUUpBSTdJamJMY3BzaldkU3pZejBRLlM1VTc2TFB1X2JR",
         "kind": "youtube#playlistItem",
         "snippet": {
          "channelId": "UCJQJAI7IjbLcpsjWdSzYz0Q",
          "channelTitle": "Thu Vu data analytics",
          "description": "I've been thinking lately if it's still worth it to pursue my Computer Science degree, given that AI is changing our jobs and lives at a neckbreaking speed. Hope this video is helpful for some of you who are asking yourselves the same question! Thank you for watching 😇.\n\n👩🏻‍💻 COURSES & RESOURCES\n================================\n📖 Google Advanced Data Analytics Certificate 👉 https://imp.i384100.net/anK9zZ\n📖 Google Data Analytics Certificate 👉 https://imp.i384100.net/15v9y6\n📖 Learn SQL Basics for Data Science Specialization 👉 https://imp.i384100.net/AovPnJ\n📖 Excel Skills for Business 👉 https://coursera.pxf.io/doPaoy\n📖 Machine Learning Specialization 👉 https://imp.i384100.net/RyjykN\n📖 Data Visualization with Tableau Specialization 👉https://imp.i384100.net/n15XWR\n📖 Deep Learning Specialization 👉 https://imp.i384100.net/zavBA0\n📖 Mathematics for Machine Learning and Data Science Specialization 👉 https://imp.i384100.net/LXK0gj\n📖 Applied Data Science with Python 👉 https://imp.i384100.net/gbxOqv\n\n🙋🏻‍♀️ LET'S CONNECT!\n================================\n🤓 Join my Discord server: https://discord.gg/SK7ZC5XhcS\n📩  Newsletter: https://substack.com/profile/87689887-thu-vu\n✍ Medium: https://medium.com/@vuthihienthu.ueb\n🔗 All links: https://linktr.ee/thuvuanalytics\n\nAs a member of the Amazon and Coursera Affiliate Programs, I earn a commission from qualifying purchases on the links above. By using the links you help support this channel at no cost for you.\n\nEdited with Gling: https://gling.ai\n#computerscience #ai #ThuVu #dataanalytics",
          "playlistId": "UUJQJAI7IjbLcpsjWdSzYz0Q",
          "position": 6,
          "publishedAt": "2023-06-08T16:10:11Z",
          "resourceId": {
           "kind": "youtube#video",
           "videoId": "S5U76LPu_bQ"
          },
          "thumbnails": {
           "default": {
            "height": 90,
            "url": "https://i.ytimg.com/vi/S5U76LPu_bQ/default.jpg",
            "width": 120
           },
           "high": {
            "height": 360,
            "url": "https://i.ytimg.com/vi/S5U76LPu_bQ/hqdefault.jpg",
            "width": 480
           },
           "maxres": {
            "height": 720,
            "url": "https://i.ytimg.com/vi/S5U76LPu_bQ/maxresdefault.jpg",
            "width": 1280
           },
           "medium": {
            "height": 180,
            "url": "https://i.ytimg.com/vi/S5U76LPu_bQ/mqdefault.jpg",
            "width": 320
           },
           "standard": {
            "height": 480,
            "url": "https://i.ytimg.com/vi/S5U76LPu_bQ/sddefault.jpg",
            "width": 640
           }
          },
          "title": "Is a Computer Science Degree WORTHLESS 🤯? (in the age of AI)",
          "videoOwnerChannelId": "UCJQJAI7IjbLcpsjWdSzYz0Q",
          "videoOwnerChannelTitle": "Thu Vu data analytics"
         }
        },
        {
         "contentDetails": {
          "videoId": "l2YU8QuXiTM",
          "videoPublishedAt": "2023-05-28T14:33:38Z"
         },
         "etag": "GeX68ydKOUouvZydRKh0GibT6Ko",
         "id": "VVVKUUpBSTdJamJMY3BzaldkU3pZejBRLmwyWVU4UXVYaVRN",
         "kind": "youtube#playlistItem",
         "snippet": {
          "channelId": "UCJQJAI7IjbLcpsjWdSzYz0Q",
          "channelTitle": "Thu Vu data analytics",
          "description": "⚙️ Jupyter AI 👉 https://jupyter-ai.readthedocs.io/en/latest/users/index.html\n🤖 GitHub Copilot 👉 https://github.com/features/copilot\n🤗 StarCoder (HuggingFace) 👉 https://github.com/bigcode-project/starcoder\n🌳 Amazon CodeWhisperer 👉https://aws.amazon.com/codewhisperer/\n\nHi everyone, in today's video I'm making a deepdive into how to use generative AI tools inside Jupyter Notebook 🤩. These tools can help you speed up the data wrangling and explorative analysis process, and let you focus on the more important analyses. However, these tools are not (yet) perfect and there are several concerns, which I also discussed later in the video. Hope this video is helpful! Thank you for watching 😇.\n\n🔑 TIMESTAMPS\n================================\n0:00 - Intro\n0:44 - JupyterAI extension - Installation\n3:10 - Magics (JupyterAI)\n5:05 - Chat interface (JupyterAI)\n6:34 - Generate notebooks (JupyterAI)\n7:18 - Embedding local data (JupyterAI)\n8:34 - GitHub Copilot\n10:22 - Amazon CodeWhisperer\n10:38 - StarCoder (HuggingFace)\n11:08 - Concerns with generative AI coding tools.\n\n👩🏻‍💻 COURSES & RESOURCES\n================================\n📖 Google Advanced Data Analytics Certificate 👉 https://imp.i384100.net/anK9zZ\n📖 Google Data Analytics Certificate 👉 https://imp.i384100.net/15v9y6\n📖 Learn SQL Basics for Data Science Specialization 👉 https://imp.i384100.net/AovPnJ\n📖 Excel Skills for Business 👉 https://coursera.pxf.io/doPaoy\n📖 Machine Learning Specialization 👉 https://imp.i384100.net/RyjykN\n📖 Data Visualization with Tableau Specialization 👉https://imp.i384100.net/n15XWR\n📖 Deep Learning Specialization 👉 https://imp.i384100.net/zavBA0\n📖 Mathematics for Machine Learning and Data Science Specialization 👉 https://imp.i384100.net/LXK0gj\n📖 Applied Data Science with Python 👉 https://imp.i384100.net/gbxOqv\n\n🙋🏻‍♀️ LET'S CONNECT!\n================================\n🤓 Join my Discord server: https://discord.gg/SK7ZC5XhcS\n📩  Newsletter: https://substack.com/profile/87689887-thu-vu\n✍ Medium: https://medium.com/@vuthihienthu.ueb\n🔗 All links: https://linktr.ee/thuvuanalytics\n\nAs a member of the Amazon and Coursera Affiliate Programs, I earn a commission from qualifying purchases on the links above. By using the links you help support this channel at no cost for you.\n\nEdited with Gling: https://gling.ai\n#machinelearning #datascience #ThuVu #dataanalytics",
          "playlistId": "UUJQJAI7IjbLcpsjWdSzYz0Q",
          "position": 7,
          "publishedAt": "2023-05-28T14:33:38Z",
          "resourceId": {
           "kind": "youtube#video",
           "videoId": "l2YU8QuXiTM"
          },
          "thumbnails": {
           "default": {
            "height": 90,
            "url": "https://i.ytimg.com/vi/l2YU8QuXiTM/default.jpg",
            "width": 120
           },
           "high": {
            "height": 360,
            "url": "https://i.ytimg.com/vi/l2YU8QuXiTM/hqdefault.jpg",
            "width": 480
           },
           "maxres": {
            "height": 720,
            "url": "https://i.ytimg.com/vi/l2YU8QuXiTM/maxresdefault.jpg",
            "width": 1280
           },
           "medium": {
            "height": 180,
            "url": "https://i.ytimg.com/vi/l2YU8QuXiTM/mqdefault.jpg",
            "width": 320
           },
           "standard": {
            "height": 480,
            "url": "https://i.ytimg.com/vi/l2YU8QuXiTM/sddefault.jpg",
            "width": 640
           }
          },
          "title": "How to Use ChatGPT in Jupyter Notebook 🤩",
          "videoOwnerChannelId": "UCJQJAI7IjbLcpsjWdSzYz0Q",
          "videoOwnerChannelTitle": "Thu Vu data analytics"
         }
        },
        {
         "contentDetails": {
          "videoId": "dYQfgcd0XD4",
          "videoPublishedAt": "2023-05-22T12:47:19Z"
         },
         "etag": "B3421G7K3h8I0FB1POCjxrwX2BU",
         "id": "VVVKUUpBSTdJamJMY3BzaldkU3pZejBRLmRZUWZnY2QwWEQ0",
         "kind": "youtube#playlistItem",
         "snippet": {
          "channelId": "UCJQJAI7IjbLcpsjWdSzYz0Q",
          "channelTitle": "Thu Vu data analytics",
          "description": "#shorts",
          "playlistId": "UUJQJAI7IjbLcpsjWdSzYz0Q",
          "position": 8,
          "publishedAt": "2023-05-22T12:47:19Z",
          "resourceId": {
           "kind": "youtube#video",
           "videoId": "dYQfgcd0XD4"
          },
          "thumbnails": {
           "default": {
            "height": 90,
            "url": "https://i.ytimg.com/vi/dYQfgcd0XD4/default.jpg",
            "width": 120
           },
           "high": {
            "height": 360,
            "url": "https://i.ytimg.com/vi/dYQfgcd0XD4/hqdefault.jpg",
            "width": 480
           },
           "maxres": {
            "height": 720,
            "url": "https://i.ytimg.com/vi/dYQfgcd0XD4/maxresdefault.jpg",
            "width": 1280
           },
           "medium": {
            "height": 180,
            "url": "https://i.ytimg.com/vi/dYQfgcd0XD4/mqdefault.jpg",
            "width": 320
           },
           "standard": {
            "height": 480,
            "url": "https://i.ytimg.com/vi/dYQfgcd0XD4/sddefault.jpg",
            "width": 640
           }
          },
          "title": "Love ❤️ JupyterCon Paris 2023",
          "videoOwnerChannelId": "UCJQJAI7IjbLcpsjWdSzYz0Q",
          "videoOwnerChannelTitle": "Thu Vu data analytics"
         }
        },
        {
         "contentDetails": {
          "videoId": "0JDsvZHooNU",
          "videoPublishedAt": "2023-05-15T23:01:44Z"
         },
         "etag": "MNUxxUQgAK33E8SjazV4OVp1i9Q",
         "id": "VVVKUUpBSTdJamJMY3BzaldkU3pZejBRLjBKRHN2Wkhvb05V",
         "kind": "youtube#playlistItem",
         "snippet": {
          "channelId": "UCJQJAI7IjbLcpsjWdSzYz0Q",
          "channelTitle": "Thu Vu data analytics",
          "description": "🔑 TIMESTAMPS\n================================\n0:00 - Intro\n0:12 - How to avoid mistakes in our first job and stop feeling bad about it and also how can we grow faster?\n1:02 - What are some of the biggest challenges you have faced as a Data Scientist at work? What mindset does one need to overcome them?\n1:58 - Based on your experience in the industry is it possible to build a remote career in data science?\n2:43 - What do you recommend I target for my first job and what skills do you think I should focus on practicing for interviews and recommended job?\n3:31 - Can you tell us more on your rationale on choosing CS degree as your further study, instead of DS degree? \n4:35 - How do you approach asking people for help (regarding work)? I often feel like I'm disturbing people, or that they'll be annoyed, so I spend more time doing/learning it by myself.\n5:34 - Where can I integrate both medicine and Data analysis into an appropriate career path?\n6:47 - Did you experience imposter syndrome as a Data Scientist? What would be your advises on overcoming it?\n7:46 - Based on your experience and all the open-source content available, is a Masters in Data Science worth it for the content nowadays? \n8:19 - Can generative AI analyze the data and provide insights and do the work a data scientist and a data analyst does?\n9:35 - In your experience, what has been the best approach to get buy-in for data analytics from stakeholders?\n10:12 - I sense NLP Engineer roles will get redundant with the advent of OpenAI/ChatGPT. What you think?\n10:52 - I know thats not related Data science but do you love cooking? and which is your favourite dish?\n11:08 - Do you read fiction? If yes, what are you favs?\n11:24 - What would you say to a 45 years old person who has not experienced computer science but wants to start in Data Science?\n11:48 - I'm bad at coding but good at core concepts of ML and AI. Should I change line of degree?\n12:26 - How do you rise above the urgent day to day stuff?\n13:30 - Are you in a relationship? 😅\n13:58 - What is your MBTI type?\n\n👩🏻‍💻 COURSES & RESOURCES\n================================\n📖 Learn SQL Basics for Data Science Specialization 👉 https://imp.i384100.net/AovPnJ\n📖 Excel Skills for Business 👉 https://coursera.pxf.io/doPaoy\n📖 Machine Learning Specialization 👉 https://imp.i384100.net/RyjykN\n📖 Data Visualization with Tableau Specialization 👉https://imp.i384100.net/n15XWR\n📖 Deep Learning Specialization 👉 https://imp.i384100.net/zavBA0\n📖 Mathematics for Machine Learning and Data Science Specialization 👉 https://imp.i384100.net/LXK0gj\n📖 Google Data Analytics Certificate 👉 https://imp.i384100.net/15v9y6\n📖 Applied Data Science with Python 👉 https://imp.i384100.net/gbxOqv\n\n🙋🏻‍♀️ LET'S CONNECT!\n================================\n🤓 Join my Discord server: https://discord.gg/SK7ZC5XhcS\n📩  Newsletter: https://substack.com/profile/87689887-thu-vu\n✍ Medium: https://medium.com/@vuthihienthu.ueb\n🔗 All links: https://linktr.ee/thuvuanalytics\n\nAs a member of the Amazon and Coursera Affiliate Programs, I earn a commission from qualifying purchases on the links above. By using the links you help support this channel at no cost for you.\nEdited with Gling: https://gling.ai\n#ThuVu #dataanalytics",
          "playlistId": "UUJQJAI7IjbLcpsjWdSzYz0Q",
          "position": 9,
          "publishedAt": "2023-05-15T23:01:44Z",
          "resourceId": {
           "kind": "youtube#video",
           "videoId": "0JDsvZHooNU"
          },
          "thumbnails": {
           "default": {
            "height": 90,
            "url": "https://i.ytimg.com/vi/0JDsvZHooNU/default.jpg",
            "width": 120
           },
           "high": {
            "height": 360,
            "url": "https://i.ytimg.com/vi/0JDsvZHooNU/hqdefault.jpg",
            "width": 480
           },
           "maxres": {
            "height": 720,
            "url": "https://i.ytimg.com/vi/0JDsvZHooNU/maxresdefault.jpg",
            "width": 1280
           },
           "medium": {
            "height": 180,
            "url": "https://i.ytimg.com/vi/0JDsvZHooNU/mqdefault.jpg",
            "width": 320
           },
           "standard": {
            "height": 480,
            "url": "https://i.ytimg.com/vi/0JDsvZHooNU/sddefault.jpg",
            "width": 640
           }
          },
          "title": "AI replacing jobs, mistakes, relationships (and other things): 140K subs Q&A",
          "videoOwnerChannelId": "UCJQJAI7IjbLcpsjWdSzYz0Q",
          "videoOwnerChannelTitle": "Thu Vu data analytics"
         }
        },
        {
         "contentDetails": {
          "videoId": "kHdAb8yBBDI",
          "videoPublishedAt": "2023-05-12T08:21:50Z"
         },
         "etag": "X7nGIE3d85Xx2EVTFyRZA8GmvRA",
         "id": "VVVKUUpBSTdJamJMY3BzaldkU3pZejBRLmtIZEFiOHlCQkRJ",
         "kind": "youtube#playlistItem",
         "snippet": {
          "channelId": "UCJQJAI7IjbLcpsjWdSzYz0Q",
          "channelTitle": "Thu Vu data analytics",
          "description": "👉 Watch related videos here:\nWill AI Replaced Data Scientists? https://youtu.be/hucuMCZBbIY\nLanguage Model Safety Explained: https://youtu.be/c3Uvz75kVd4\n\nDATA SCIENCE COURSES:\n📖 Learn SQL Basics for Data Science Specialization 👉 https://imp.i384100.net/AovPnJ\n📖 Excel Skills for Business 👉 https://coursera.pxf.io/doPaoy\n📖 Machine Learning Specialization 👉 https://imp.i384100.net/RyjykN\n📖 Data Visualization with Tableau Specialization 👉https://imp.i384100.net/n15XWR\n📖 Deep Learning Specialization 👉 https://imp.i384100.net/zavBA0\n📖 Mathematics for Machine Learning and Data Science Specialization 👉 https://imp.i384100.net/LXK0gj\n📖 Google Data Analytics Certificate 👉 https://imp.i384100.net/15v9y6\n📖 Applied Data Science with Python 👉 https://imp.i384100.net/gbxOqv\n\n#shorts",
          "playlistId": "UUJQJAI7IjbLcpsjWdSzYz0Q",
          "position": 10,
          "publishedAt": "2023-05-12T08:21:50Z",
          "resourceId": {
           "kind": "youtube#video",
           "videoId": "kHdAb8yBBDI"
          },
          "thumbnails": {
           "default": {
            "height": 90,
            "url": "https://i.ytimg.com/vi/kHdAb8yBBDI/default.jpg",
            "width": 120
           },
           "high": {
            "height": 360,
            "url": "https://i.ytimg.com/vi/kHdAb8yBBDI/hqdefault.jpg",
            "width": 480
           },
           "maxres": {
            "height": 720,
            "url": "https://i.ytimg.com/vi/kHdAb8yBBDI/maxresdefault.jpg",
            "width": 1280
           },
           "medium": {
            "height": 180,
            "url": "https://i.ytimg.com/vi/kHdAb8yBBDI/mqdefault.jpg",
            "width": 320
           },
           "standard": {
            "height": 480,
            "url": "https://i.ytimg.com/vi/kHdAb8yBBDI/sddefault.jpg",
            "width": 640
           }
          },
          "title": "Will ChatGPT Code Interpreter Replace Data Analysts?",
          "videoOwnerChannelId": "UCJQJAI7IjbLcpsjWdSzYz0Q",
          "videoOwnerChannelTitle": "Thu Vu data analytics"
         }
        },
        {
         "contentDetails": {
          "videoId": "tSiS15ubQFQ",
          "videoPublishedAt": "2023-05-10T08:30:33Z"
         },
         "etag": "6rS08WGbtN7d2z64PPDz-qg3QY8",
         "id": "VVVKUUpBSTdJamJMY3BzaldkU3pZejBRLnRTaVMxNXViUUZR",
         "kind": "youtube#playlistItem",
         "snippet": {
          "channelId": "UCJQJAI7IjbLcpsjWdSzYz0Q",
          "channelTitle": "Thu Vu data analytics",
          "description": "⚙️ Runway - MLOps made easy: https://bit.ly/mrxrunway\n🛣 Full Stack Data science roadmap: https://shorturl.at/abiJY\n📚 Designing Machine Learning Systems (by Chip Huyen) 👉 https://amzn.to/3Cajv0Y\n👔 Need help with preparing for your next data science interview? Use referral code ‘thuvu’ to get 10% discount on any of the offerings on https://datainterview.com\n\n\n🔑 TIMESTAMPS\n================================\n0:00 - Intro\n0:51 - Model deployment explained\n2:44 - What we are going to build\n3:40 - Creating project, setting up dev. environment\n4:33 - Link extension, data prep & model training\n8:21 - Saving model to Runway\n9:04 - Creating model API\n10:21 - Making prediction requests using model API\n10:56 - Redeploying model\n12:07 - Deleting model and pipeline\n12:32 - Conclusions\n\n\n👩🏻‍💻 COURSES & RESOURCES\n================================\n📖 Google Advanced Data Analytics Certificate 👉 https://imp.i384100.net/anK9zZ\n📖 Google Data Analytics Certificate 👉 https://imp.i384100.net/15v9y6\n📖 Learn SQL Basics for Data Science Specialization 👉 https://imp.i384100.net/AovPnJ\n📖 Excel Skills for Business 👉 https://coursera.pxf.io/doPaoy\n📖 Machine Learning Specialization 👉 https://imp.i384100.net/RyjykN\n📖 Data Visualization with Tableau Specialization 👉https://imp.i384100.net/n15XWR\n📖 Deep Learning Specialization 👉 https://imp.i384100.net/zavBA0\n📖 Mathematics for Machine Learning and Data Science Specialization 👉 https://imp.i384100.net/LXK0gj\n📖 Applied Data Science with Python 👉 https://imp.i384100.net/gbxOqv\n\n🙋🏻‍♀️ LET'S CONNECT!\n================================\n🤓 Join my Discord server: https://discord.gg/SK7ZC5XhcS\n📩  Newsletter: https://substack.com/profile/87689887-thu-vu\n✍ Medium: https://medium.com/@vuthihienthu.ueb\n🔗 All links: https://linktr.ee/thuvuanalytics\n\nAs a member of the Amazon and Coursera Affiliate Programs, I earn a commission from qualifying purchases on the links above. By using the links you help support this channel at no cost for you.\n\n#machinelearning #datascience #ThuVu #dataanalytics",
          "playlistId": "UUJQJAI7IjbLcpsjWdSzYz0Q",
          "position": 11,
          "publishedAt": "2023-05-10T08:30:33Z",
          "resourceId": {
           "kind": "youtube#video",
           "videoId": "tSiS15ubQFQ"
          },
          "thumbnails": {
           "default": {
            "height": 90,
            "url": "https://i.ytimg.com/vi/tSiS15ubQFQ/default.jpg",
            "width": 120
           },
           "high": {
            "height": 360,
            "url": "https://i.ytimg.com/vi/tSiS15ubQFQ/hqdefault.jpg",
            "width": 480
           },
           "maxres": {
            "height": 720,
            "url": "https://i.ytimg.com/vi/tSiS15ubQFQ/maxresdefault.jpg",
            "width": 1280
           },
           "medium": {
            "height": 180,
            "url": "https://i.ytimg.com/vi/tSiS15ubQFQ/mqdefault.jpg",
            "width": 320
           },
           "standard": {
            "height": 480,
            "url": "https://i.ytimg.com/vi/tSiS15ubQFQ/sddefault.jpg",
            "width": 640
           }
          },
          "title": "How to Deploy Machine Learning Models (ft. Runway)",
          "videoOwnerChannelId": "UCJQJAI7IjbLcpsjWdSzYz0Q",
          "videoOwnerChannelTitle": "Thu Vu data analytics"
         }
        },
        {
         "contentDetails": {
          "videoId": "c3Uvz75kVd4",
          "videoPublishedAt": "2023-04-21T15:03:11Z"
         },
         "etag": "yvsEly3Z9wEHjZugCJ_JFtQ1klA",
         "id": "VVVKUUpBSTdJamJMY3BzaldkU3pZejBRLmMzVXZ6NzVrVmQ0",
         "kind": "youtube#playlistItem",
         "snippet": {
          "channelId": "UCJQJAI7IjbLcpsjWdSzYz0Q",
          "channelTitle": "Thu Vu data analytics",
          "description": "Sources used:\n- Open letter: https://futureoflife.org/open-letter/pause-giant-ai-experiments/\n- CBS full interview with Geoffrey Hinton: https://www.youtube.com/watch?v=qpoRO378qRY\n- 2022's Expert survey on AI: https://aiimpacts.org/2022-expert-survey-on-progress-in-ai/\n- Standford's AI Index report: https://aiindex.stanford.edu/wp-content/uploads/2023/04/HAI_AI-Index-Report_2023.pdf\n- Yann LeCun's proposal for new architecture: https://drive.google.com/file/d/1BU5bV3X5w65DwSMapKcsr0ZvrMRU_Nbi/view\n- Wait But Why blog on AI: https://waitbutwhy.com/2015/01/artificial-intelligence-revolution-1.html\n- 📚 Superintelligence by Nick Bostrom: https://amzn.to/41JCjiM\n- The AI Dilemma (highly recommended!): https://www.youtube.com/watch?v=xoVJKj8lcNQ\n- The Alignment Problem from a Deep Learning Perspective: https://arxiv.org/pdf/2209.00626.pdf\n- Predictability and Surprise in Large Generative Models: https://arxiv.org/pdf/2202.07785.pdf\n- Max Tegmark lecture on Life 3.0: https://www.youtube.com/watch?v=1MqukDzhlqA\n- What should we learn from past AI forecasts: https://www.openphilanthropy.org/research/what-should-we-learn-from-past-ai-forecasts/\n- ABC News interview with Sam Altman: https://abcnews.go.com/Technology/openai-ceo-sam-altman-ai-reshape-society-acknowledges/\n- Chris Olah on what the hell is going on inside neural networks: https://80000hours.org/podcast/episodes/chris-olah-interpretability-research/\n- X-Risk Analysis for AI Research: https://arxiv.org/pdf/2206.05862.pdf\n- The Case for Halting AI Development | Max Tegmark on Lex Fridman Podcast: https://www.youtube.com/watch?v=VcVfceTsD0A\n- Sparks of Artificial General Intelligence: Early experiments with GPT-4: https://arxiv.org/pdf/2303.12712.pdf\n- Goal Misgeneralisation: https://shorturl.at/ijmqx\n\nHonestly, I feel a bit restless these days by the recent AI developments. It is very exciting and terrifying at the same time. Hence, I dove into this topic and did some research, with the hope to understand a bit better what's going on. AI risks are sometimes so conceptual and hard to put into words. So I hope this video will give you a glimpse of the discussions around these difficult topics and what still needs to be done to help make AI really benefit humans, instead of doing harm. \n\nHope you enjoyed the vid! 🤗\n\n🔑 TIMESTAMPS\n================================\n0:00 -  Open letter & Debate about AI risks\n3:26 - When will AGI exist?\n7:45 - AI forecasts have been wrong before\n10:02 - Ways AI could be dangerous\n15:37 - Solving AI alignment problem\n\n👩🏻‍💻 COURSES & RESOURCES\n================================\n📖 Google Advanced Data Analytics Certificate 👉 https://imp.i384100.net/anK9zZ\n📖 Google Data Analytics Certificate 👉 https://imp.i384100.net/15v9y6\n📖 Learn SQL Basics for Data Science Specialization 👉 https://imp.i384100.net/AovPnJ\n📖 Excel Skills for Business 👉 https://coursera.pxf.io/doPaoy\n📖 Machine Learning Specialization 👉 https://imp.i384100.net/RyjykN\n📖 Data Visualization with Tableau Specialization 👉https://imp.i384100.net/n15XWR\n📖 Deep Learning Specialization 👉 https://imp.i384100.net/zavBA0\n📖 Mathematics for Machine Learning and Data Science Specialization 👉 https://imp.i384100.net/LXK0gj\n📖 Applied Data Science with Python 👉 https://imp.i384100.net/gbxOqv\n\n🙋🏻‍♀️ LET'S CONNECT!\n================================\n🤓 Join my Discord server: https://discord.gg/SK7ZC5XhcS\n📩  Newsletter: https://substack.com/profile/87689887-thu-vu\n✍ Medium: https://medium.com/@vuthihienthu.ueb\n🔗 All links: https://linktr.ee/thuvuanalytics\n\nAs a member of the Amazon and Coursera Affiliate Programs, I earn a commission from qualifying purchases on the links above. By using the links you help support this channel at no cost for you.\n\n#artificialintelligence #datascience #ThuVu",
          "playlistId": "UUJQJAI7IjbLcpsjWdSzYz0Q",
          "position": 12,
          "publishedAt": "2023-04-21T15:03:11Z",
          "resourceId": {
           "kind": "youtube#video",
           "videoId": "c3Uvz75kVd4"
          },
          "thumbnails": {
           "default": {
            "height": 90,
            "url": "https://i.ytimg.com/vi/c3Uvz75kVd4/default.jpg",
            "width": 120
           },
           "high": {
            "height": 360,
            "url": "https://i.ytimg.com/vi/c3Uvz75kVd4/hqdefault.jpg",
            "width": 480
           },
           "maxres": {
            "height": 720,
            "url": "https://i.ytimg.com/vi/c3Uvz75kVd4/maxresdefault.jpg",
            "width": 1280
           },
           "medium": {
            "height": 180,
            "url": "https://i.ytimg.com/vi/c3Uvz75kVd4/mqdefault.jpg",
            "width": 320
           },
           "standard": {
            "height": 480,
            "url": "https://i.ytimg.com/vi/c3Uvz75kVd4/sddefault.jpg",
            "width": 640
           }
          },
          "title": "Will AI be THE END of us?",
          "videoOwnerChannelId": "UCJQJAI7IjbLcpsjWdSzYz0Q",
          "videoOwnerChannelTitle": "Thu Vu data analytics"
         }
        },
        {
         "contentDetails": {
          "videoId": "aYorBPF05Rw",
          "videoPublishedAt": "2023-04-09T10:45:00Z"
         },
         "etag": "oer4nXLXHGkKJZHoVmWMDQE7Nm4",
         "id": "VVVKUUpBSTdJamJMY3BzaldkU3pZejBRLmFZb3JCUEYwNVJ3",
         "kind": "youtube#playlistItem",
         "snippet": {
          "channelId": "UCJQJAI7IjbLcpsjWdSzYz0Q",
          "channelTitle": "Thu Vu data analytics",
          "description": "Watch full video: https://youtu.be/N1UMycRJbAw\n\nCOURSES & RESOURCES\n================================\n📖 Learn SQL Basics for Data Science Specialization 👉 https://imp.i384100.net/AovPnJ\n📖 Excel Skills for Business 👉 https://coursera.pxf.io/doPaoy\n📖 Machine Learning Specialization 👉 https://imp.i384100.net/RyjykN\n📖 Data Visualization with Tableau Specialization 👉https://imp.i384100.net/n15XWR\n📖 Deep Learning Specialization 👉 https://imp.i384100.net/zavBA0\n📖 Mathematics for Machine Learning and Data Science Specialization 👉 https://imp.i384100.net/LXK0gj\n📖 Google Data Analytics Certificate 👉 https://imp.i384100.net/15v9y6\n📖 Applied Data Science with Python 👉 https://imp.i384100.net/gbxOqv\n\nAs a member of the Amazon and Coursera Affiliate Programs, I earn a commission from qualifying purchases on the links above. By using the links you help support this channel at no cost for you.\n\n#shorts",
          "playlistId": "UUJQJAI7IjbLcpsjWdSzYz0Q",
          "position": 13,
          "publishedAt": "2023-04-09T10:45:00Z",
          "resourceId": {
           "kind": "youtube#video",
           "videoId": "aYorBPF05Rw"
          },
          "thumbnails": {
           "default": {
            "height": 90,
            "url": "https://i.ytimg.com/vi/aYorBPF05Rw/default.jpg",
            "width": 120
           },
           "high": {
            "height": 360,
            "url": "https://i.ytimg.com/vi/aYorBPF05Rw/hqdefault.jpg",
            "width": 480
           },
           "maxres": {
            "height": 720,
            "url": "https://i.ytimg.com/vi/aYorBPF05Rw/maxresdefault.jpg",
            "width": 1280
           },
           "medium": {
            "height": 180,
            "url": "https://i.ytimg.com/vi/aYorBPF05Rw/mqdefault.jpg",
            "width": 320
           },
           "standard": {
            "height": 480,
            "url": "https://i.ytimg.com/vi/aYorBPF05Rw/sddefault.jpg",
            "width": 640
           }
          },
          "title": "How I'd Learn to Become a Data Analyst",
          "videoOwnerChannelId": "UCJQJAI7IjbLcpsjWdSzYz0Q",
          "videoOwnerChannelTitle": "Thu Vu data analytics"
         }
        },
        {
         "contentDetails": {
          "videoId": "N1UMycRJbAw",
          "videoPublishedAt": "2023-03-31T21:49:39Z"
         },
         "etag": "ZqlsD9VyUl7PwYChYvbr-x9Nq1E",
         "id": "VVVKUUpBSTdJamJMY3BzaldkU3pZejBRLk4xVU15Y1JKYkF3",
         "kind": "youtube#playlistItem",
         "snippet": {
          "channelId": "UCJQJAI7IjbLcpsjWdSzYz0Q",
          "channelTitle": "Thu Vu data analytics",
          "description": "👉 Info about CareerFoundry:\n📊 Get 10% off the Data Analytics Program until the end of the year! https://bit.ly/3PPJDGD\n\n📞 Book a Call with a Program Advisor. https://bit.ly/3p6s0aO\n\n🖥 CareerFoundry's free short course https://bit.ly/3CuKODQ\n================================\n\n👔 Google form (Thu Vu's job survey): https://forms.gle/8aoMDeZxKC3cj7LF9\n🤓 Join my Discord server to connect with data science folks: https://discord.gg/SK7ZC5XhcS\n🌐 Luke Barousse' data job website: https://datanerd.tech/\n🧾 Research paper about Labor Market Impact Potential of Large Language Models: https://arxiv.org/pdf/2303.10130.pdf\n\n👔 Need help with preparing for your next data science interview? Use referral code ‘thuvu’ to get 10% discount on any of the offerings on datainterview.com\n\n👩🏻‍💻 COURSES & RESOURCES\n================================\n📖 Google Advanced Data Analytics Certificate 👉 https://imp.i384100.net/anK9zZ\n📖 Google Data Analytics Certificate 👉 https://imp.i384100.net/15v9y6\n📖 Learn SQL Basics for Data Science Specialization 👉 https://imp.i384100.net/AovPnJ\n📖 Excel Skills for Business 👉 https://coursera.pxf.io/doPaoy\n📖 Machine Learning Specialization 👉 https://imp.i384100.net/RyjykN\n📖 Data Visualization with Tableau Specialization 👉https://imp.i384100.net/n15XWR\n📖 Deep Learning Specialization 👉 https://imp.i384100.net/zavBA0\n📖 Mathematics for Machine Learning and Data Science Specialization 👉 https://imp.i384100.net/LXK0gj\n📖 Applied Data Science with Python 👉 https://imp.i384100.net/gbxOqv\n\nWith the ever-increasing amount data in all industries and rapidly developing data science landscape, skilled data analysts are high in demand. In today's video, we'll be revisiting the skills and fundamental knowledge required for a data analyst. I hope this video is helpful and thank you for watching! 🤗\n\n🔑 TIMESTAMPS\n================================\n0:00 - Intro\n0:13 - 2 ways to transition to data analytics\n1:21 - What does a data analyst do?\n3:07 - Required skills for a data analyst\n6:00 - How to learn these skills & Tips\n9:09 - Data analytics bootcamp (CareerFoundry - Sponsor)\n10:32 - Building a data analysis portfolio\n12:40 - Approaching recruiters\n15:16 - How AI will affect data analyst jobs\n17:27 - Conclusions/ outro\n\n🙋🏻‍♀️ LET'S CONNECT!\n================================\n🤓 Join my Discord server: https://discord.gg/SK7ZC5XhcS\n📩  Newsletter: https://substack.com/profile/87689887-thu-vu\n✍ Medium: https://medium.com/@vuthihienthu.ueb\n🔗 All links: https://linktr.ee/thuvuanalytics\n\nAs a member of the Amazon and Coursera Affiliate Programs, I earn a commission from qualifying purchases on the links above. By using the links you help support this channel at no cost for you.\n#datanalytics #datascience #ThuVu",
          "playlistId": "UUJQJAI7IjbLcpsjWdSzYz0Q",
          "position": 14,
          "publishedAt": "2023-03-31T21:49:39Z",
          "resourceId": {
           "kind": "youtube#video",
           "videoId": "N1UMycRJbAw"
          },
          "thumbnails": {
           "default": {
            "height": 90,
            "url": "https://i.ytimg.com/vi/N1UMycRJbAw/default.jpg",
            "width": 120
           },
           "high": {
            "height": 360,
            "url": "https://i.ytimg.com/vi/N1UMycRJbAw/hqdefault.jpg",
            "width": 480
           },
           "maxres": {
            "height": 720,
            "url": "https://i.ytimg.com/vi/N1UMycRJbAw/maxresdefault.jpg",
            "width": 1280
           },
           "medium": {
            "height": 180,
            "url": "https://i.ytimg.com/vi/N1UMycRJbAw/mqdefault.jpg",
            "width": 320
           },
           "standard": {
            "height": 480,
            "url": "https://i.ytimg.com/vi/N1UMycRJbAw/sddefault.jpg",
            "width": 640
           }
          },
          "title": "Roadmap for Transitioning to Data Analytics in 2023",
          "videoOwnerChannelId": "UCJQJAI7IjbLcpsjWdSzYz0Q",
          "videoOwnerChannelTitle": "Thu Vu data analytics"
         }
        },
        {
         "contentDetails": {
          "videoId": "7yGolPv8AOs",
          "videoPublishedAt": "2023-03-19T23:24:45Z"
         },
         "etag": "rMw36cETGGgaeg6vOzQzOuazf4I",
         "id": "VVVKUUpBSTdJamJMY3BzaldkU3pZejBRLjd5R29sUHY4QU9z",
         "kind": "youtube#playlistItem",
         "snippet": {
          "channelId": "UCJQJAI7IjbLcpsjWdSzYz0Q",
          "channelTitle": "Thu Vu data analytics",
          "description": "DATA SCIENCE COURSES:\n📖 Learn SQL Basics for Data Science Specialization 👉 https://imp.i384100.net/AovPnJ\n📖 Excel Skills for Business 👉 https://coursera.pxf.io/doPaoy\n📖 Machine Learning Specialization 👉 https://imp.i384100.net/RyjykN\n📖 Data Visualization with Tableau Specialization 👉https://imp.i384100.net/n15XWR\n📖 Deep Learning Specialization 👉 https://imp.i384100.net/zavBA0\n📖 Mathematics for Machine Learning and Data Science Specialization 👉 https://imp.i384100.net/LXK0gj\n📖 Google Data Analytics Certificate 👉 https://imp.i384100.net/15v9y6\n📖 Applied Data Science with Python 👉 https://imp.i384100.net/gbxOqv\n\n#shorts #datascience \nAs a member of the Amazon and Coursera Affiliate Programs, I earn a commission from qualifying purchases on the links above. By using the links you help support this channel at no cost for you.",
          "playlistId": "UUJQJAI7IjbLcpsjWdSzYz0Q",
          "position": 15,
          "publishedAt": "2023-03-19T23:24:45Z",
          "resourceId": {
           "kind": "youtube#video",
           "videoId": "7yGolPv8AOs"
          },
          "thumbnails": {
           "default": {
            "height": 90,
            "url": "https://i.ytimg.com/vi/7yGolPv8AOs/default.jpg",
            "width": 120
           },
           "high": {
            "height": 360,
            "url": "https://i.ytimg.com/vi/7yGolPv8AOs/hqdefault.jpg",
            "width": 480
           },
           "maxres": {
            "height": 720,
            "url": "https://i.ytimg.com/vi/7yGolPv8AOs/maxresdefault.jpg",
            "width": 1280
           },
           "medium": {
            "height": 180,
            "url": "https://i.ytimg.com/vi/7yGolPv8AOs/mqdefault.jpg",
            "width": 320
           },
           "standard": {
            "height": 480,
            "url": "https://i.ytimg.com/vi/7yGolPv8AOs/sddefault.jpg",
            "width": 640
           }
          },
          "title": "If Learning Data Science Is Like Rock Climbing",
          "videoOwnerChannelId": "UCJQJAI7IjbLcpsjWdSzYz0Q",
          "videoOwnerChannelTitle": "Thu Vu data analytics"
         }
        },
        {
         "contentDetails": {
          "videoId": "EE1Y2enHrcU",
          "videoPublishedAt": "2023-03-15T15:52:35Z"
         },
         "etag": "SpVwHYB_pubRwmoD9Vy-bSnshz4",
         "id": "VVVKUUpBSTdJamJMY3BzaldkU3pZejBRLkVFMVkyZW5IcmNV",
         "kind": "youtube#playlistItem",
         "snippet": {
          "channelId": "UCJQJAI7IjbLcpsjWdSzYz0Q",
          "channelTitle": "Thu Vu data analytics",
          "description": "👉  Try Datalore for free: https://jb.gg/try_datalore\nUse my gift code THUVUDLNEW for 1 month of free Datalore Pro (activate before the 13th of April).\n🤖 Reddit Chatbot report: https://datalore.jetbrains.com/view/report/ZRPyPRfY0zkUuWxkB6dTVt\n🤖 Reddit Chatbot notebook: https://datalore.jetbrains.com/notebook/39nuxPZsmiuCJJHSNCaD4t/8lZsxr3GaD5uZp1OFAZHQp\n🤓 Join my Discord server to connect with data science folks: https://discord.gg/SK7ZC5XhcS\n\nChatGPT API is recently released. In this project tutorial video I'll be walking you through how to build an ask-me-anything chatbot using ChatGPT API that answers all your questions about data science, ML, and AI based on content from some popular subreddits. This project idea can be applied to many different use cases. I hope you had fun watching! 🤗\n\n🔑 TIMESTAMPS\n================================\n0:00 - Intro\n0:52 - Project plan\n1:34 - Getting Reddit data\n2:53 - Datalore (sponsor)\n4:33 - Getting Reddit data - continued\n10:01 - Exploratory data analysis\n13:11 - Wordcloud post titles\n15:32 - Sentiment & emotion analysis\n19:06 - Building a Reddit chatbot with ChatGPT API\n26:19 - Building an interactive report\n26:43 - Further ideas & Conclusions\n\n👩🏻‍💻 COURSES & RESOURCES\n================================\n📖 Google Advanced Data Analytics Certificate 👉 https://imp.i384100.net/anK9zZ\n📖 Google Data Analytics Certificate 👉 https://imp.i384100.net/15v9y6\n📖 Learn SQL Basics for Data Science Specialization 👉 https://imp.i384100.net/AovPnJ\n📖 Excel Skills for Business 👉 https://coursera.pxf.io/doPaoy\n📖 Machine Learning Specialization 👉 https://imp.i384100.net/RyjykN\n📖 Data Visualization with Tableau Specialization 👉https://imp.i384100.net/n15XWR\n📖 Deep Learning Specialization 👉 https://imp.i384100.net/zavBA0\n📖 Mathematics for Machine Learning and Data Science Specialization 👉 https://imp.i384100.net/LXK0gj\n📖 Applied Data Science with Python 👉 https://imp.i384100.net/gbxOqv\n\n🙋🏻‍♀️ LET'S CONNECT!\n================================\n🤓 Join my Discord server: https://discord.gg/SK7ZC5XhcS\n📩  Newsletter: https://substack.com/profile/87689887-thu-vu\n✍ Medium: https://medium.com/@vuthihienthu.ueb\n🔗 All links: https://linktr.ee/thuvuanalytics\n\nAs a member of the Amazon and Coursera Affiliate Programs, I earn a commission from qualifying purchases on the links above. By using the links you help support this channel at no cost for you.\n\n#chatgpt #api #datascience #ThuVu #dataanalytics",
          "playlistId": "UUJQJAI7IjbLcpsjWdSzYz0Q",
          "position": 16,
          "publishedAt": "2023-03-15T15:52:35Z",
          "resourceId": {
           "kind": "youtube#video",
           "videoId": "EE1Y2enHrcU"
          },
          "thumbnails": {
           "default": {
            "height": 90,
            "url": "https://i.ytimg.com/vi/EE1Y2enHrcU/default.jpg",
            "width": 120
           },
           "high": {
            "height": 360,
            "url": "https://i.ytimg.com/vi/EE1Y2enHrcU/hqdefault.jpg",
            "width": 480
           },
           "maxres": {
            "height": 720,
            "url": "https://i.ytimg.com/vi/EE1Y2enHrcU/maxresdefault.jpg",
            "width": 1280
           },
           "medium": {
            "height": 180,
            "url": "https://i.ytimg.com/vi/EE1Y2enHrcU/mqdefault.jpg",
            "width": 320
           },
           "standard": {
            "height": 480,
            "url": "https://i.ytimg.com/vi/EE1Y2enHrcU/sddefault.jpg",
            "width": 640
           }
          },
          "title": "Building a Chatbot with ChatGPT API and Reddit Data",
          "videoOwnerChannelId": "UCJQJAI7IjbLcpsjWdSzYz0Q",
          "videoOwnerChannelTitle": "Thu Vu data analytics"
         }
        },
        {
         "contentDetails": {
          "videoId": "K2wffRzTvBM",
          "videoPublishedAt": "2023-02-26T23:40:44Z"
         },
         "etag": "dkQqY9rzJtHHOwjoY50h79PHR5c",
         "id": "VVVKUUpBSTdJamJMY3BzaldkU3pZejBRLksyd2ZmUnpUdkJN",
         "kind": "youtube#playlistItem",
         "snippet": {
          "channelId": "UCJQJAI7IjbLcpsjWdSzYz0Q",
          "channelTitle": "Thu Vu data analytics",
          "description": "Watch full video here: https://m.youtube.com/watch?v=hucuMCZBbIY\n\n#shorts #chatgpt #datascience \n\n👩🏻‍💻 COURSES & RESOURCES\n================================\n📖 Learn SQL Basics for Data Science Specialization 👉 https://imp.i384100.net/AovPnJ\n📖 Excel Skills for Business 👉 https://coursera.pxf.io/doPaoy\n📖 Machine Learning Specialization 👉 https://imp.i384100.net/RyjykN\n📖 Data Visualization with Tableau Specialization 👉https://imp.i384100.net/n15XWR\n📖 Deep Learning Specialization 👉 https://imp.i384100.net/zavBA0\n📖 Mathematics for Machine Learning and Data Science Specialization 👉 https://imp.i384100.net/LXK0gj\n📖 Google Data Analytics Certificate 👉 https://imp.i384100.net/15v9y6\n📖 Applied Data Science with Python 👉 https://imp.i384100.net/gbxOqv\n\n🙋🏻‍♀️ LET'S CONNECT!\n================================\n🤓 Join my Discord server: https://discord.gg/SK7ZC5XhcS\n📩  Newsletter: https://substack.com/profile/87689887-thu-vu\n✍ Medium: https://medium.com/@vuthihienthu.ueb\n🔗 All links: https://linktr.ee/thuvuanalytics\n\nAs a member of the Amazon and Coursera Affiliate Programs, I earn a commission from qualifying purchases on the links above. By using the links you help support this channel at no cost for you.",
          "playlistId": "UUJQJAI7IjbLcpsjWdSzYz0Q",
          "position": 17,
          "publishedAt": "2023-02-26T23:40:44Z",
          "resourceId": {
           "kind": "youtube#video",
           "videoId": "K2wffRzTvBM"
          },
          "thumbnails": {
           "default": {
            "height": 90,
            "url": "https://i.ytimg.com/vi/K2wffRzTvBM/default.jpg",
            "width": 120
           },
           "high": {
            "height": 360,
            "url": "https://i.ytimg.com/vi/K2wffRzTvBM/hqdefault.jpg",
            "width": 480
           },
           "maxres": {
            "height": 720,
            "url": "https://i.ytimg.com/vi/K2wffRzTvBM/maxresdefault.jpg",
            "width": 1280
           },
           "medium": {
            "height": 180,
            "url": "https://i.ytimg.com/vi/K2wffRzTvBM/mqdefault.jpg",
            "width": 320
           },
           "standard": {
            "height": 480,
            "url": "https://i.ytimg.com/vi/K2wffRzTvBM/sddefault.jpg",
            "width": 640
           }
          },
          "title": "I asked ChatGPT to do EDA for me: Here's how it went",
          "videoOwnerChannelId": "UCJQJAI7IjbLcpsjWdSzYz0Q",
          "videoOwnerChannelTitle": "Thu Vu data analytics"
         }
        },
        {
         "contentDetails": {
          "videoId": "JPHS10dt_CY",
          "videoPublishedAt": "2023-02-16T00:55:25Z"
         },
         "etag": "mLAq03FeNoZ_wtbqJq3mlmYYcNU",
         "id": "VVVKUUpBSTdJamJMY3BzaldkU3pZejBRLkpQSFMxMGR0X0NZ",
         "kind": "youtube#playlistItem",
         "snippet": {
          "channelId": "UCJQJAI7IjbLcpsjWdSzYz0Q",
          "channelTitle": "Thu Vu data analytics",
          "description": "👩🏻‍💻 Mathematics for Machine Learning and Data Science Specialization  👉 https://imp.i384100.net/ORVPyN\n📚 Practical Statistics for Data Scientists 👉 https://amzn.to/3CF5Pws\n📚 Probabilistic Machine Learning: An Introduction 👉 https://amzn.to/3XH5iSH\n\n🤓 Join my Discord server to connect with data science folks: https://discord.gg/SK7ZC5XhcS\n\nHey data nerds 👋, in this video I'm giving a review on the Mathematics for Machine Learning and Data Science Specialization by Deeplearning.ai. Math and stats have been one of the hardest things to learn when getting into data science. I'll be going over an overview of the specialization while giving you an insider look into the course content, duration and time commitment. Then I'll talk about what I like about the program and what I think is lacking. \n\nThank you for watching and have a great day! 🤗\n\n🔑 TIMESTAMPS\n================================\n0:00 - Intro\n0:47 - My struggles with Math and why we need Math 🤓\n2:33 - Overview of what you learn in this program\n2:42 - First course\n3:15 - Second course\n3:47 - Third course\n4:55 - How much time it takes\n5:10 - Presequisite\n5:23 - What I like & don't like about the courses\n7:34 - Book recommendations\n\n👩🏻‍💻 COURSES & RESOURCES\n================================\n📖 Google Advanced Data Analytics Certificate 👉 https://imp.i384100.net/anK9zZ\n📖 Google Data Analytics Certificate 👉 https://imp.i384100.net/15v9y6\n📖 Learn SQL Basics for Data Science Specialization 👉 https://imp.i384100.net/AovPnJ\n📖 Excel Skills for Business 👉 https://coursera.pxf.io/doPaoy\n📖 Machine Learning Specialization 👉 https://imp.i384100.net/RyjykN\n📖 Data Visualization with Tableau Specialization 👉https://imp.i384100.net/n15XWR\n📖 Deep Learning Specialization 👉 https://imp.i384100.net/zavBA0\n📖 Mathematics for Machine Learning and Data Science Specialization 👉 https://imp.i384100.net/LXK0gj\n📖 Applied Data Science with Python 👉 https://imp.i384100.net/gbxOqv\n\n🙋🏻‍♀️ LET'S CONNECT!\n================================\n🤓 Join my Discord server: \nhttps://discord.gg/SK7ZC5XhcS\n\n📩  SUBSCRIBE to my Substack to get future newsletters from me:\nhttps://substack.com/profile/87689887...\n\n✍ FOLLOW me on Medium:\nhttps://medium.com/@vuthihienthu.ueb\n(I sometimes make both video and article versions of my content, by following me on Medium you will have access to the content in writing too).\n\n🔗 Other Links:\nhttps://linktr.ee/thuvuanalytics\n\n🔔 SUBSCRIBE to my channel (It's FREE):\nhttps://www.youtube.com/c/Thuvu5?sub_...\n\nAs a member of the Amazon and Coursera Affiliate Programs, I earn a commission from qualifying purchases on the links above. By using the links you help support this channel at no cost for you.\n\n#maths #datascience #ThuVu #dataanalytics",
          "playlistId": "UUJQJAI7IjbLcpsjWdSzYz0Q",
          "position": 18,
          "publishedAt": "2023-02-16T00:55:25Z",
          "resourceId": {
           "kind": "youtube#video",
           "videoId": "JPHS10dt_CY"
          },
          "thumbnails": {
           "default": {
            "height": 90,
            "url": "https://i.ytimg.com/vi/JPHS10dt_CY/default.jpg",
            "width": 120
           },
           "high": {
            "height": 360,
            "url": "https://i.ytimg.com/vi/JPHS10dt_CY/hqdefault.jpg",
            "width": 480
           },
           "maxres": {
            "height": 720,
            "url": "https://i.ytimg.com/vi/JPHS10dt_CY/maxresdefault.jpg",
            "width": 1280
           },
           "medium": {
            "height": 180,
            "url": "https://i.ytimg.com/vi/JPHS10dt_CY/mqdefault.jpg",
            "width": 320
           },
           "standard": {
            "height": 480,
            "url": "https://i.ytimg.com/vi/JPHS10dt_CY/sddefault.jpg",
            "width": 640
           }
          },
          "title": "Math for Machine Learning and Data Science Specialization Review | Why You Need to Learn Math 🤔",
          "videoOwnerChannelId": "UCJQJAI7IjbLcpsjWdSzYz0Q",
          "videoOwnerChannelTitle": "Thu Vu data analytics"
         }
        },
        {
         "contentDetails": {
          "videoId": "hucuMCZBbIY",
          "videoPublishedAt": "2023-02-04T14:51:37Z"
         },
         "etag": "4SJO4Dt6KmJHJxbD8-FDlh1Arro",
         "id": "VVVKUUpBSTdJamJMY3BzaldkU3pZejBRLmh1Y3VNQ1pCYklZ",
         "kind": "youtube#playlistItem",
         "snippet": {
          "channelId": "UCJQJAI7IjbLcpsjWdSzYz0Q",
          "channelTitle": "Thu Vu data analytics",
          "description": "🤓 Join my Discord server to connect with data science folks: https://discord.gg/SK7ZC5XhcS\n\n🔑 TIMESTAMPS\n================================\n0:00 - What is this video about?\n0:47 - ChatGPT & how it works\n1:28 - Brief history of transformer models\n2:12 - How ChatGPT mitigates AI misalignment issue\n4:19 - Demonstration using ChatGPT for DS\n10:38 - Pros and Cons of using ChatGPT\n16:24 - Final thoughts\n\n👩🏻‍💻 COURSES & RESOURCES\n================================\n📖 Google Advanced Data Analytics Certificate 👉 https://imp.i384100.net/anK9zZ\n📖 Google Data Analytics Certificate 👉 https://imp.i384100.net/15v9y6\n📖 Learn SQL Basics for Data Science Specialization 👉 https://imp.i384100.net/AovPnJ\n📖 Excel Skills for Business 👉 https://coursera.pxf.io/doPaoy\n📖 Machine Learning Specialization 👉 https://imp.i384100.net/RyjykN\n📖 Data Visualization with Tableau Specialization 👉https://imp.i384100.net/n15XWR\n📖 Deep Learning Specialization 👉 https://imp.i384100.net/zavBA0\n📖 Mathematics for Machine Learning and Data Science Specialization 👉 https://imp.i384100.net/LXK0gj\n📖 Applied Data Science with Python 👉 https://imp.i384100.net/gbxOqv\n\n🙋🏻‍♀️ LET'S CONNECT!\n================================\n🤓 Join my Discord server: https://discord.gg/SK7ZC5XhcS\n📩  Newsletter: https://substack.com/profile/87689887-thu-vu\n✍ Medium: https://medium.com/@vuthihienthu.ueb\n🔗 All links: https://linktr.ee/thuvuanalytics\n\nAs a member of the Amazon and Coursera Affiliate Programs, I earn a commission from qualifying purchases on the links above. By using the links you help support this channel at no cost for you.\n\n\n 🤖 Machine Learning courses:\nMachine Learning Specialization 👉 https://imp.i384100.net/RyjykN\n \n📑 Excel Courses:\nExcel Skills for Business 👉 https://coursera.pxf.io/doPaoy\n \n📊 Data Visualisation:\nData Visualization with Tableau Specialization 👉https://imp.i384100.net/n15XWR\n📚 Books: https://kit.co/thuvu/books-on-data-vi...\n🌐 Data Viz Catalog 👉 https://datavizproject.com/\n\nAs a member of the Amazon and Coursera Affiliate Programs, I earn a commission from qualifying purchases on the links above. By using the links you help support this channel at no cost for you.\n\n#chatgpt #Datanerd #datascience #ThuVu #dataanalytics",
          "playlistId": "UUJQJAI7IjbLcpsjWdSzYz0Q",
          "position": 19,
          "publishedAt": "2023-02-04T14:51:37Z",
          "resourceId": {
           "kind": "youtube#video",
           "videoId": "hucuMCZBbIY"
          },
          "thumbnails": {
           "default": {
            "height": 90,
            "url": "https://i.ytimg.com/vi/hucuMCZBbIY/default.jpg",
            "width": 120
           },
           "high": {
            "height": 360,
            "url": "https://i.ytimg.com/vi/hucuMCZBbIY/hqdefault.jpg",
            "width": 480
           },
           "maxres": {
            "height": 720,
            "url": "https://i.ytimg.com/vi/hucuMCZBbIY/maxresdefault.jpg",
            "width": 1280
           },
           "medium": {
            "height": 180,
            "url": "https://i.ytimg.com/vi/hucuMCZBbIY/mqdefault.jpg",
            "width": 320
           },
           "standard": {
            "height": 480,
            "url": "https://i.ytimg.com/vi/hucuMCZBbIY/sddefault.jpg",
            "width": 640
           }
          },
          "title": "Will AI Replace Data Scientists? 🤔",
          "videoOwnerChannelId": "UCJQJAI7IjbLcpsjWdSzYz0Q",
          "videoOwnerChannelTitle": "Thu Vu data analytics"
         }
        },
        {
         "contentDetails": {
          "videoId": "tpGawyNMRLM",
          "videoPublishedAt": "2023-01-23T08:24:17Z"
         },
         "etag": "n-uytdBh28BOJHXxHuPIfn1ZrVg",
         "id": "VVVKUUpBSTdJamJMY3BzaldkU3pZejBRLnRwR2F3eU5NUkxN",
         "kind": "youtube#playlistItem",
         "snippet": {
          "channelId": "UCJQJAI7IjbLcpsjWdSzYz0Q",
          "channelTitle": "Thu Vu data analytics",
          "description": "🧭 Start planning for your new year with Notion, get started for free:  https://ntn.so/thuvu\n★ Download Notion workspace template for Data science projects:  https://ntn.so/dsworkspace\n🤓 Join my Discord server: https://discord.gg/SK7ZC5XhcS\n\n🔑 TIMESTAMPS\n================================\n0:00 - Intro\n0:28 - General process for doing a project\n2:49 - My Notion workspace for DS\n13:17 - How to set up your own workspace\n19:10 - Tips on project execution\n\n👩🏻‍💻 COURSES & RESOURCES\n================================\n📖 Learn SQL Basics for Data Science Specialization 👉 https://imp.i384100.net/AovPnJ\n📖 Excel Skills for Business 👉 https://coursera.pxf.io/doPaoy\n📖 Machine Learning Specialization 👉 https://imp.i384100.net/RyjykN\n📖 Data Visualization with Tableau Specialization 👉https://imp.i384100.net/n15XWR\n📖 Deep Learning Specialization 👉 https://imp.i384100.net/zavBA0\n📖 Mathematics for Machine Learning and Data Science Specialization 👉 https://imp.i384100.net/LXK0gj\n📖 Google Data Analytics Certificate 👉 https://imp.i384100.net/15v9y6\n📖 Applied Data Science with Python 👉 https://imp.i384100.net/gbxOqv\n\n🙋🏻‍♀️ LET'S CONNECT!\n================================\n🤓 Join my Discord server: https://discord.gg/SK7ZC5XhcS\n📩  Newsletter: https://substack.com/profile/87689887-thu-vu\n✍ Medium: https://medium.com/@vuthihienthu.ueb\n🔗 All links: https://linktr.ee/thuvuanalytics\n\nAs a member of the Amazon and Coursera Affiliate Programs, I earn a commission from qualifying purchases on the links above. By using the links you help support this channel at no cost for you.\n\n#notion #Datanerd #datascience #ThuVu #dataanalytics",
          "playlistId": "UUJQJAI7IjbLcpsjWdSzYz0Q",
          "position": 20,
          "publishedAt": "2023-01-23T08:24:17Z",
          "resourceId": {
           "kind": "youtube#video",
           "videoId": "tpGawyNMRLM"
          },
          "thumbnails": {
           "default": {
            "height": 90,
            "url": "https://i.ytimg.com/vi/tpGawyNMRLM/default.jpg",
            "width": 120
           },
           "high": {
            "height": 360,
            "url": "https://i.ytimg.com/vi/tpGawyNMRLM/hqdefault.jpg",
            "width": 480
           },
           "maxres": {
            "height": 720,
            "url": "https://i.ytimg.com/vi/tpGawyNMRLM/maxresdefault.jpg",
            "width": 1280
           },
           "medium": {
            "height": 180,
            "url": "https://i.ytimg.com/vi/tpGawyNMRLM/mqdefault.jpg",
            "width": 320
           },
           "standard": {
            "height": 480,
            "url": "https://i.ytimg.com/vi/tpGawyNMRLM/sddefault.jpg",
            "width": 640
           }
          },
          "title": "My Entire Process for Doing Data Science Projects (ft. Notion)",
          "videoOwnerChannelId": "UCJQJAI7IjbLcpsjWdSzYz0Q",
          "videoOwnerChannelTitle": "Thu Vu data analytics"
         }
        },
        {
         "contentDetails": {
          "videoId": "_8EV4tdJY2M",
          "videoPublishedAt": "2022-12-30T00:52:40Z"
         },
         "etag": "CSR9NjrYgqBXkdLrso8nALio7v8",
         "id": "VVVKUUpBSTdJamJMY3BzaldkU3pZejBRLl84RVY0dGRKWTJN",
         "kind": "youtube#playlistItem",
         "snippet": {
          "channelId": "UCJQJAI7IjbLcpsjWdSzYz0Q",
          "channelTitle": "Thu Vu data analytics",
          "description": "🛣 Notion template for building a goal-action system 👉 https://peterakkies.notion.site/Data-Scientist-Goal-Crusher-939e3b3a0ea047b881de7fce16eb9be4\n👨‍💻 Check out Peter' channel @PeterAkkies \n🤓 Join my Discord server: \nhttps://discord.gg/SK7ZC5XhcS\n\n🔑 TIMESTAMPS\n================================\n0:00 - Intro\n0:34 - Why we need a system \n2:12 - Which tools should you use?\n3:21 - Step 1: Clarify your goals\n4:51 - Step 2: Define actions to achieve your goals\n6:51 - Potential trade-offs if you have ambitious goals \n7:21 - Define goals comprehensively\n9:27 - How to stay on track - Weekly review\n13:42 - Should you create deadlines for yourself?\n15:35 - Final words\n\n👩🏻‍💻 COURSES & RESOURCES\n================================\n📖 Learn SQL Basics for Data Science Specialization 👉 https://imp.i384100.net/AovPnJ\n📖 Excel Skills for Business 👉 https://coursera.pxf.io/doPaoy\n📖 Machine Learning Specialization 👉 https://imp.i384100.net/RyjykN\n📖 Data Visualization with Tableau Specialization 👉https://imp.i384100.net/n15XWR\n📖 Deep Learning Specialization 👉 https://imp.i384100.net/zavBA0\n📖 Mathematics for Machine Learning and Data Science Specialization 👉 https://imp.i384100.net/LXK0gj\n📖 Google Data Analytics Certificate 👉 https://imp.i384100.net/15v9y6\n📖 Applied Data Science with Python 👉 https://imp.i384100.net/gbxOqv\n\n🙋🏻‍♀️ LET'S CONNECT!\n================================\n🤓 Join my Discord server: https://discord.gg/SK7ZC5XhcS\n📩  Newsletter: https://substack.com/profile/87689887-thu-vu\n✍ Medium: https://medium.com/@vuthihienthu.ueb\n🔗 All links: https://linktr.ee/thuvuanalytics\n\nAs a member of the Amazon and Coursera Affiliate Programs, I earn a commission from qualifying purchases on the links above. By using the links you help support this channel at no cost for you.\n\n\n#datascience #datanerd",
          "playlistId": "UUJQJAI7IjbLcpsjWdSzYz0Q",
          "position": 21,
          "publishedAt": "2022-12-30T00:52:40Z",
          "resourceId": {
           "kind": "youtube#video",
           "videoId": "_8EV4tdJY2M"
          },
          "thumbnails": {
           "default": {
            "height": 90,
            "url": "https://i.ytimg.com/vi/_8EV4tdJY2M/default.jpg",
            "width": 120
           },
           "high": {
            "height": 360,
            "url": "https://i.ytimg.com/vi/_8EV4tdJY2M/hqdefault.jpg",
            "width": 480
           },
           "maxres": {
            "height": 720,
            "url": "https://i.ytimg.com/vi/_8EV4tdJY2M/maxresdefault.jpg",
            "width": 1280
           },
           "medium": {
            "height": 180,
            "url": "https://i.ytimg.com/vi/_8EV4tdJY2M/mqdefault.jpg",
            "width": 320
           },
           "standard": {
            "height": 480,
            "url": "https://i.ytimg.com/vi/_8EV4tdJY2M/sddefault.jpg",
            "width": 640
           }
          },
          "title": "How to ACTUALLY Achieve Your Data Science Goals in 2023 (ft. Peter Akkies)",
          "videoOwnerChannelId": "UCJQJAI7IjbLcpsjWdSzYz0Q",
          "videoOwnerChannelTitle": "Thu Vu data analytics"
         }
        },
        {
         "contentDetails": {
          "videoId": "QnGotm29cZE",
          "videoPublishedAt": "2022-12-22T00:49:38Z"
         },
         "etag": "HjJmwcVFR4qPImv_AMUbp4blOT0",
         "id": "VVVKUUpBSTdJamJMY3BzaldkU3pZejBRLlFuR290bTI5Y1pF",
         "kind": "youtube#playlistItem",
         "snippet": {
          "channelId": "UCJQJAI7IjbLcpsjWdSzYz0Q",
          "channelTitle": "Thu Vu data analytics",
          "description": "👉 Try Datalore for free: https://jb.gg/datalore\nUse my gift code THUVUDL for a 1 month of free Datalore Professional.\n🛣 Full Stack Data science roadmap (📩 me to contribute to this roadmap): https://datalore.jetbrains.com/view/notebook/hwYUBbcvMA5Cn8GstBjztV\n🤓 Join my Discord server: https://discord.gg/SK7ZC5XhcS\n👔 Need help with preparing for your next data science interview? Use referral code ‘thuvu’ to get 10% discount on any of the offerings on https://datainterview.com\n\nHi everyone! 👋  I hope you are doing well. 2022 is ending and it's time to talk about a learning roadmap to fast track your data science career! Today we are talking about full stack data science, what it is, why it is getting more attention, and how to learn the full stack skills to become sought-after in the job market. I'm speaking from my experience and I tried to be as thorough in my research and I could, but I don't know everything. So if you have any comments, feedback or ideas you want to contribute, let me know in the comment section below! 👇\n\nI hope you enjoy this video 😄. \n\n🔑 TIMESTAMPS\n================================\n0:00 - Intro\n1:11 - What is full stack data science\n2:26 - Necessary skills & what is important\n3:22 - Applying skills in a real-world DS use case\n8:45 - Datalore - JetBrains (sponsor)\n10:35 - Learning methods\n11:24 - Full stack data science roadmap - an example guide\n14:25 - Tips for end-to-end projects\n\n\n👩🏻‍💻 COURSES & RESOURCES\n================================\n📖 Google Advanced Data Analytics Certificate 👉 https://imp.i384100.net/anK9zZ\n📖 Google Data Analytics Certificate 👉 https://imp.i384100.net/15v9y6\n📖 Learn SQL Basics for Data Science Specialization 👉 https://imp.i384100.net/AovPnJ\n📖 Excel Skills for Business 👉 https://coursera.pxf.io/doPaoy\n📖 Machine Learning Specialization 👉 https://imp.i384100.net/RyjykN\n📖 Data Visualization with Tableau Specialization 👉https://imp.i384100.net/n15XWR\n📖 Deep Learning Specialization 👉 https://imp.i384100.net/zavBA0\n📖 Mathematics for Machine Learning and Data Science Specialization 👉 https://imp.i384100.net/LXK0gj\n📖 Applied Data Science with Python 👉 https://imp.i384100.net/gbxOqv\n\n🙋🏻‍♀️ LET'S CONNECT!\n================================\n🤓 Join my Discord server: https://discord.gg/SK7ZC5XhcS\n📩  Newsletter: https://substack.com/profile/87689887-thu-vu\n✍ Medium: https://medium.com/@vuthihienthu.ueb\n🔗 All links: https://linktr.ee/thuvuanalytics\n\nAs a member of the Amazon and Coursera Affiliate Programs, I earn a commission from qualifying purchases on the links above. By using the links you help support this channel at no cost for you.\n\n#datascience #datanerd #dataanalytics",
          "playlistId": "UUJQJAI7IjbLcpsjWdSzYz0Q",
          "position": 22,
          "publishedAt": "2022-12-22T00:49:38Z",
          "resourceId": {
           "kind": "youtube#video",
           "videoId": "QnGotm29cZE"
          },
          "thumbnails": {
           "default": {
            "height": 90,
            "url": "https://i.ytimg.com/vi/QnGotm29cZE/default.jpg",
            "width": 120
           },
           "high": {
            "height": 360,
            "url": "https://i.ytimg.com/vi/QnGotm29cZE/hqdefault.jpg",
            "width": 480
           },
           "maxres": {
            "height": 720,
            "url": "https://i.ytimg.com/vi/QnGotm29cZE/maxresdefault.jpg",
            "width": 1280
           },
           "medium": {
            "height": 180,
            "url": "https://i.ytimg.com/vi/QnGotm29cZE/mqdefault.jpg",
            "width": 320
           },
           "standard": {
            "height": 480,
            "url": "https://i.ytimg.com/vi/QnGotm29cZE/sddefault.jpg",
            "width": 640
           }
          },
          "title": "Full Stack Data Science Roadmap 2023",
          "videoOwnerChannelId": "UCJQJAI7IjbLcpsjWdSzYz0Q",
          "videoOwnerChannelTitle": "Thu Vu data analytics"
         }
        },
        {
         "contentDetails": {
          "videoId": "ZfN8nG0luig",
          "videoPublishedAt": "2022-12-05T23:40:57Z"
         },
         "etag": "iDt4bdSFJ7rtI2kFNZGo3NSkvQo",
         "id": "VVVKUUpBSTdJamJMY3BzaldkU3pZejBRLlpmTjhuRzBsdWln",
         "kind": "youtube#playlistItem",
         "snippet": {
          "channelId": "UCJQJAI7IjbLcpsjWdSzYz0Q",
          "channelTitle": "Thu Vu data analytics",
          "description": "🤓 Join my Discord server: \nhttps://discord.gg/SK7ZC5XhcS\n\nHi everyone! 👋 This video is slightly different from my usual content. But I'm hoping to provide a more positive take on the coming recession and what it means for tech/ data science jobs. We'll be going over some basic Macroeconomics concepts, and then talk about the silver linings of the coming recession and what you can do to prepare for it.\n\nI hope you enjoy this video 😄. Let me know what you think in the comment below 👇\n\n🔑 TIMESTAMPS\n================================\n0:00 - Intro\n1:46 - Economics 101: Recession, inflation and policies\n6:33 - Why this recession might be different\n7:33 - Job marketing is relatively good!\n8:33 - Becoming irreplaceable\n9:52 - Transformed data job market\n12:10 - Producer vs. Consumer mindset\n13:22 - Benefits of recession for start-ups\n14:10 - Connect & collaborate with others\n14:31 - Find your sweet spot\n\n👩🏻‍💻 COURSES & RESOURCES\n================================\n📖 Learn SQL Basics for Data Science Specialization 👉 https://imp.i384100.net/AovPnJ\n📖 Excel Skills for Business 👉 https://coursera.pxf.io/doPaoy\n📖 Machine Learning Specialization 👉 https://imp.i384100.net/RyjykN\n📖 Data Visualization with Tableau Specialization 👉https://imp.i384100.net/n15XWR\n📖 Deep Learning Specialization 👉 https://imp.i384100.net/zavBA0\n📖 Mathematics for Machine Learning and Data Science Specialization 👉 https://imp.i384100.net/LXK0gj\n📖 Google Data Analytics Certificate 👉 https://imp.i384100.net/15v9y6\n📖 Applied Data Science with Python 👉 https://imp.i384100.net/gbxOqv\n\n🙋🏻‍♀️ LET'S CONNECT!\n================================\n🤓 Join my Discord server: https://discord.gg/SK7ZC5XhcS\n📩  Newsletter: https://substack.com/profile/87689887-thu-vu\n✍ Medium: https://medium.com/@vuthihienthu.ueb\n🔗 All links: https://linktr.ee/thuvuanalytics\n\nAs a member of the Amazon and Coursera Affiliate Programs, I earn a commission from qualifying purchases on the links above. By using the links you help support this channel at no cost for you.\n\n#datascience #datanerd",
          "playlistId": "UUJQJAI7IjbLcpsjWdSzYz0Q",
          "position": 23,
          "publishedAt": "2022-12-05T23:40:57Z",
          "resourceId": {
           "kind": "youtube#video",
           "videoId": "ZfN8nG0luig"
          },
          "thumbnails": {
           "default": {
            "height": 90,
            "url": "https://i.ytimg.com/vi/ZfN8nG0luig/default.jpg",
            "width": 120
           },
           "high": {
            "height": 360,
            "url": "https://i.ytimg.com/vi/ZfN8nG0luig/hqdefault.jpg",
            "width": 480
           },
           "maxres": {
            "height": 720,
            "url": "https://i.ytimg.com/vi/ZfN8nG0luig/maxresdefault.jpg",
            "width": 1280
           },
           "medium": {
            "height": 180,
            "url": "https://i.ytimg.com/vi/ZfN8nG0luig/mqdefault.jpg",
            "width": 320
           },
           "standard": {
            "height": 480,
            "url": "https://i.ytimg.com/vi/ZfN8nG0luig/sddefault.jpg",
            "width": 640
           }
          },
          "title": "RECESSION 2023: Should You Worry About Data Science Jobs? 📉",
          "videoOwnerChannelId": "UCJQJAI7IjbLcpsjWdSzYz0Q",
          "videoOwnerChannelTitle": "Thu Vu data analytics"
         }
        },
        {
         "contentDetails": {
          "videoId": "GM8nrVBFdFo",
          "videoPublishedAt": "2022-11-25T10:52:29Z"
         },
         "etag": "683K67CJ1rRbEMeW8mrF30Lw34A",
         "id": "VVVKUUpBSTdJamJMY3BzaldkU3pZejBRLkdNOG5yVkJGZEZv",
         "kind": "youtube#playlistItem",
         "snippet": {
          "channelId": "UCJQJAI7IjbLcpsjWdSzYz0Q",
          "channelTitle": "Thu Vu data analytics",
          "description": "🧩 Data visualization catalogue 👉 https://datavizcatalogue.com/\n📚 Storytelling with Data 👉 https://amzn.to/3EvbS83\n👩🏻‍💻 Visual Cinnamon 👉 https://www.visualcinnamon.com/\n📈  Nathan Yau's blog 👉 https://flowingdata.com/\n🌐 Andy Kurk's blog  👉 https://www.visualisingdata.com/\n💡 Example data storytelling 👉 https://nbremer.github.io/Chord-Diagram-Storytelling/\n📊 Data Visualization with Tableau 👉 https://imp.i384100.net/n15XWR\n\nHi data nerds! 👋 Data visualization and storytelling make an interesting part of a data analyst/ data scientist's job. In today’s video, I’ll be walking you through some of the worst (and common) mistakes in data visualization I have encountered in my career. Designing an effective data visualization needs both art and science (perhaps more art than you would like to admit). With this video, I hope to help you avoid the most important mistakes that you might encounter daily at work, and how not to be fooled by those 😉.\n\nI hope you enjoy this video 😄. Let me know if I missed any important mistakes in the comment below 👇\n\n🔑 TIMESTAMPS\n================================\n0:00 - Intro\n0:45 - #1 Not knowing context & audience\n3:11 - #2 Choosing complex charts instead of simple charts\n5:11 - #3 Misleading axes\n6:02 - #4 Color overuse 🎨\n7:45 - #5 Cluttered charts/ Gestalt principles\n10:23 - #6 Lack of visual order\n11:20 - #7 Adding text if your viz is not self-explanatory\n11:59 - #8 Lack of accessibility\n12:50 - #9 Showing too much information at once\n\n👩🏻‍💻 COURSES & RESOURCES\n================================\n📖 Learn SQL Basics for Data Science Specialization 👉 https://imp.i384100.net/AovPnJ\n📖 Excel Skills for Business 👉 https://coursera.pxf.io/doPaoy\n📖 Machine Learning Specialization 👉 https://imp.i384100.net/RyjykN\n📖 Data Visualization with Tableau Specialization 👉https://imp.i384100.net/n15XWR\n📖 Deep Learning Specialization 👉 https://imp.i384100.net/zavBA0\n📖 Mathematics for Machine Learning and Data Science Specialization 👉 https://imp.i384100.net/LXK0gj\n📖 Google Data Analytics Certificate 👉 https://imp.i384100.net/15v9y6\n📖 Applied Data Science with Python 👉 https://imp.i384100.net/gbxOqv\n\n🙋🏻‍♀️ LET'S CONNECT!\n================================\n🤓 Join my Discord server: https://discord.gg/SK7ZC5XhcS\n📩  Newsletter: https://substack.com/profile/87689887-thu-vu\n✍ Medium: https://medium.com/@vuthihienthu.ueb\n🔗 All links: https://linktr.ee/thuvuanalytics\n\nAs a member of the Amazon and Coursera Affiliate Programs, I earn a commission from qualifying purchases on the links above. By using the links you help support this channel at no cost for you.\n\n\n#datavisualization #datascience #datanerd",
          "playlistId": "UUJQJAI7IjbLcpsjWdSzYz0Q",
          "position": 24,
          "publishedAt": "2022-11-25T10:52:29Z",
          "resourceId": {
           "kind": "youtube#video",
           "videoId": "GM8nrVBFdFo"
          },
          "thumbnails": {
           "default": {
            "height": 90,
            "url": "https://i.ytimg.com/vi/GM8nrVBFdFo/default.jpg",
            "width": 120
           },
           "high": {
            "height": 360,
            "url": "https://i.ytimg.com/vi/GM8nrVBFdFo/hqdefault.jpg",
            "width": 480
           },
           "maxres": {
            "height": 720,
            "url": "https://i.ytimg.com/vi/GM8nrVBFdFo/maxresdefault.jpg",
            "width": 1280
           },
           "medium": {
            "height": 180,
            "url": "https://i.ytimg.com/vi/GM8nrVBFdFo/mqdefault.jpg",
            "width": 320
           },
           "standard": {
            "height": 480,
            "url": "https://i.ytimg.com/vi/GM8nrVBFdFo/sddefault.jpg",
            "width": 640
           }
          },
          "title": "DON'T DO THIS: Revealing biggest mistakes in data visualization 📈",
          "videoOwnerChannelId": "UCJQJAI7IjbLcpsjWdSzYz0Q",
          "videoOwnerChannelTitle": "Thu Vu data analytics"
         }
        },
        {
         "contentDetails": {
          "videoId": "GYxiuFRkS58",
          "videoPublishedAt": "2022-11-16T17:16:08Z"
         },
         "etag": "0M0bK0tcgi8-sO9znR-YcZo3nW8",
         "id": "VVVKUUpBSTdJamJMY3BzaldkU3pZejBRLkdZeGl1RlJrUzU4",
         "kind": "youtube#playlistItem",
         "snippet": {
          "channelId": "UCJQJAI7IjbLcpsjWdSzYz0Q",
          "channelTitle": "Thu Vu data analytics",
          "description": "🔗 Links to the mentioned project videos:\n1. Analyzing monthly expenses (in R) 👉 https://www.youtube.com/watch?v=qjLHX3RCayI&t=434s\n2. Youtube API (Python) 👉 https://www.youtube.com/watch?v=D56_Cx36oGY&list=PLbHrOSWG7nVN1z4XoLX7_RC-WkgZHc3tnV&index=3\n3. Witcher books network analysis (Python) 👉 https://www.youtube.com/watch?v=fAHkJ_Dhr50&list=PLbHrOSG7nVN1z4XoLX7_RC-WkgZHc3tnV&index=9\n4. Creating interactive dashboard (Python) 👉 https://www.youtube.com/watch?v=uhxiXOTKzfs&list=PLbHrOSG7nVN1z4XoLX7_RC-WkgZHc3tnV&index=2\n5. Analyzing audio data with AssemblyAI API (Python) 👉 https://www.youtube.com/watch?v=B11nK1QCPRA&list=PLbHrOSG7nVN1z4XoLX7_RC-WkgZHc3tnV&index=10\n6. Analyzing Data science books dataset (Python) 👉 https://www.youtube.com/watch?v=N0o-Bjiwt0M&list=PLbHrOSG7nVN1z4XoLX7_RC-WkgZHc3tnV&index=11\n\n👩🏻‍💻 COURSES & RESOURCES\n================================\n📖 Learn SQL Basics for Data Science Specialization 👉 https://imp.i384100.net/AovPnJ\n📖 Excel Skills for Business 👉 https://coursera.pxf.io/doPaoy\n📖 Machine Learning Specialization 👉 https://imp.i384100.net/RyjykN\n📖 Data Visualization with Tableau Specialization 👉https://imp.i384100.net/n15XWR\n📖 Deep Learning Specialization 👉 https://imp.i384100.net/zavBA0\n📖 Mathematics for Machine Learning and Data Science Specialization 👉 https://imp.i384100.net/LXK0gj\n📖 Google Data Analytics Certificate 👉 https://imp.i384100.net/15v9y6\n📖 Applied Data Science with Python 👉 https://imp.i384100.net/gbxOqv\n\n🙋🏻‍♀️ LET'S CONNECT!\n================================\n🤓 Join my Discord server: https://discord.gg/SK7ZC5XhcS\n📩  Newsletter: https://substack.com/profile/87689887-thu-vu\n✍ Medium: https://medium.com/@vuthihienthu.ueb\n🔗 All links: https://linktr.ee/thuvuanalytics\n\nAs a member of the Amazon and Coursera Affiliate Programs, I earn a commission from qualifying purchases on the links above. By using the links you help support this channel at no cost for you.",
          "playlistId": "UUJQJAI7IjbLcpsjWdSzYz0Q",
          "position": 25,
          "publishedAt": "2022-11-16T17:16:08Z",
          "resourceId": {
           "kind": "youtube#video",
           "videoId": "GYxiuFRkS58"
          },
          "thumbnails": {
           "default": {
            "height": 90,
            "url": "https://i.ytimg.com/vi/GYxiuFRkS58/default.jpg",
            "width": 120
           },
           "high": {
            "height": 360,
            "url": "https://i.ytimg.com/vi/GYxiuFRkS58/hqdefault.jpg",
            "width": 480
           },
           "maxres": {
            "height": 720,
            "url": "https://i.ytimg.com/vi/GYxiuFRkS58/maxresdefault.jpg",
            "width": 1280
           },
           "medium": {
            "height": 180,
            "url": "https://i.ytimg.com/vi/GYxiuFRkS58/mqdefault.jpg",
            "width": 320
           },
           "standard": {
            "height": 480,
            "url": "https://i.ytimg.com/vi/GYxiuFRkS58/sddefault.jpg",
            "width": 640
           }
          },
          "title": "💡Awesome Data Portfolio Project Ideas #shorts #datascience",
          "videoOwnerChannelId": "UCJQJAI7IjbLcpsjWdSzYz0Q",
          "videoOwnerChannelTitle": "Thu Vu data analytics"
         }
        },
        {
         "contentDetails": {
          "videoId": "UmFwybBiDt0",
          "videoPublishedAt": "2022-11-13T23:56:06Z"
         },
         "etag": "tyBA1IQYTAbF-o-d9IncXm8s6rc",
         "id": "VVVKUUpBSTdJamJMY3BzaldkU3pZejBRLlVtRnd5YkJpRHQw",
         "kind": "youtube#playlistItem",
         "snippet": {
          "channelId": "UCJQJAI7IjbLcpsjWdSzYz0Q",
          "channelTitle": "Thu Vu data analytics",
          "description": "📚 Hands-On Machine Learning with Scikit-Learn, Keras, and TensorFlow 👉 https://amzn.to/3Je0vDJ\n📚 Probabilistic Machine Learning: An Introduction 👉 https://amzn.to/3XH5iSH\n📚 The Master Algorithm 👉 https://amzn.to/3XxGjkG\n\n👩🏻‍💻 COURSES & RESOURCES\n================================\n📖 Learn SQL Basics for Data Science Specialization 👉 https://imp.i384100.net/AovPnJ\n📖 Excel Skills for Business 👉 https://coursera.pxf.io/doPaoy\n📖 Machine Learning Specialization 👉 https://imp.i384100.net/RyjykN\n📖 Data Visualization with Tableau Specialization 👉https://imp.i384100.net/n15XWR\n📖 Deep Learning Specialization 👉 https://imp.i384100.net/zavBA0\n📖 Mathematics for Machine Learning and Data Science Specialization 👉 https://imp.i384100.net/LXK0gj\n📖 Google Data Analytics Certificate 👉 https://imp.i384100.net/15v9y6\n📖 Applied Data Science with Python 👉 https://imp.i384100.net/gbxOqv\n\n🙋🏻‍♀️ LET'S CONNECT!\n================================\n🤓 Join my Discord server: https://discord.gg/SK7ZC5XhcS\n📩  Newsletter: https://substack.com/profile/87689887-thu-vu\n✍ Medium: https://medium.com/@vuthihienthu.ueb\n🔗 All links: https://linktr.ee/thuvuanalytics\n\nAs a member of the Amazon and Coursera Affiliate Programs, I earn a commission from qualifying purchases on the links above. By using the links you help support this channel at no cost for you.\n\n#shorts",
          "playlistId": "UUJQJAI7IjbLcpsjWdSzYz0Q",
          "position": 26,
          "publishedAt": "2022-11-13T23:56:06Z",
          "resourceId": {
           "kind": "youtube#video",
           "videoId": "UmFwybBiDt0"
          },
          "thumbnails": {
           "default": {
            "height": 90,
            "url": "https://i.ytimg.com/vi/UmFwybBiDt0/default.jpg",
            "width": 120
           },
           "high": {
            "height": 360,
            "url": "https://i.ytimg.com/vi/UmFwybBiDt0/hqdefault.jpg",
            "width": 480
           },
           "maxres": {
            "height": 720,
            "url": "https://i.ytimg.com/vi/UmFwybBiDt0/maxresdefault.jpg",
            "width": 1280
           },
           "medium": {
            "height": 180,
            "url": "https://i.ytimg.com/vi/UmFwybBiDt0/mqdefault.jpg",
            "width": 320
           },
           "standard": {
            "height": 480,
            "url": "https://i.ytimg.com/vi/UmFwybBiDt0/sddefault.jpg",
            "width": 640
           }
          },
          "title": "📚3 In-Depth Machine Learning Books You Can't Miss! #machinelearning #datascience #shorts",
          "videoOwnerChannelId": "UCJQJAI7IjbLcpsjWdSzYz0Q",
          "videoOwnerChannelTitle": "Thu Vu data analytics"
         }
        },
        {
         "contentDetails": {
          "videoId": "N0o-Bjiwt0M",
          "videoPublishedAt": "2022-11-10T02:36:50Z"
         },
         "etag": "W1NZKcLVNc6qvELylZD8Q6SDoJ4",
         "id": "VVVKUUpBSTdJamJMY3BzaldkU3pZejBRLk4wby1Caml3dDBN",
         "kind": "youtube#playlistItem",
         "snippet": {
          "channelId": "UCJQJAI7IjbLcpsjWdSzYz0Q",
          "channelTitle": "Thu Vu data analytics",
          "description": "🔗 Deepnote 👉 https://deepnote.com/\n📚 This Deepnote project:\nhttps://deepnote.com/workspace/thu-70b82642-3f7e-4ef4-8203-d96ba4531278/project/Data-science-book-analysis-95de68e6-99de-4ef6-b3ae-d76602c45655\n🌐 The published article:\nhttps://deepnote.com/@thu/Data-science-book-analysis-95de68e6-99de-4ef6-b3ae-d76602c45655\n\nHi data nerds! 👋 In today’s video, I’ll be walking you through a project to analyse data science books using Deepnote. I think this is a fun project to work on to both sharpen our skills on multiple levels, and to get to know more about data science books available in the market. We’ll be doing exploratory data analysis, clustering book titles to find out the common themes, and finally scraping Amazon reviews and summarising the reviews for each book.\n\nI hope you enjoy this video 😄. \n\n🔑 TIMESTAMPS\n================================\n0:00 - Intro\n0:28 - Which analyses we will be doing\n1:46 - Intro to Deepnote\n4:41 - Dataset\n5:27 - LEVEL 1 - Exploratory data analysis\n8:24 - LEVEL 2 - Clustering book titles\n17:19 - LEVEL 3 - Amazon review scraping & Review summarization\n21:44 - Publish notebook to article and app \n\n👩🏻‍💻 COURSES & RESOURCES\n================================\n📖 Learn SQL Basics for Data Science Specialization 👉 https://imp.i384100.net/AovPnJ\n📖 Excel Skills for Business 👉 https://coursera.pxf.io/doPaoy\n📖 Machine Learning Specialization 👉 https://imp.i384100.net/RyjykN\n📖 Data Visualization with Tableau Specialization 👉https://imp.i384100.net/n15XWR\n📖 Deep Learning Specialization 👉 https://imp.i384100.net/zavBA0\n📖 Mathematics for Machine Learning and Data Science Specialization 👉 https://imp.i384100.net/LXK0gj\n📖 Google Data Analytics Certificate 👉 https://imp.i384100.net/15v9y6\n📖 Applied Data Science with Python 👉 https://imp.i384100.net/gbxOqv\n\n🙋🏻‍♀️ LET'S CONNECT!\n================================\n🤓 Join my Discord server: https://discord.gg/SK7ZC5XhcS\n📩  Newsletter: https://substack.com/profile/87689887-thu-vu\n✍ Medium: https://medium.com/@vuthihienthu.ueb\n🔗 All links: https://linktr.ee/thuvuanalytics\n\nAs a member of the Amazon and Coursera Affiliate Programs, I earn a commission from qualifying purchases on the links above. By using the links you help support this channel at no cost for you.\n\n#datascience #machinelearning #DataAnalysis #Datanerd #ThuVu #dataanalytics",
          "playlistId": "UUJQJAI7IjbLcpsjWdSzYz0Q",
          "position": 27,
          "publishedAt": "2022-11-10T02:36:50Z",
          "resourceId": {
           "kind": "youtube#video",
           "videoId": "N0o-Bjiwt0M"
          },
          "thumbnails": {
           "default": {
            "height": 90,
            "url": "https://i.ytimg.com/vi/N0o-Bjiwt0M/default.jpg",
            "width": 120
           },
           "high": {
            "height": 360,
            "url": "https://i.ytimg.com/vi/N0o-Bjiwt0M/hqdefault.jpg",
            "width": 480
           },
           "maxres": {
            "height": 720,
            "url": "https://i.ytimg.com/vi/N0o-Bjiwt0M/maxresdefault.jpg",
            "width": 1280
           },
           "medium": {
            "height": 180,
            "url": "https://i.ytimg.com/vi/N0o-Bjiwt0M/mqdefault.jpg",
            "width": 320
           },
           "standard": {
            "height": 480,
            "url": "https://i.ytimg.com/vi/N0o-Bjiwt0M/sddefault.jpg",
            "width": 640
           }
          },
          "title": "I Analyzed 1000 Data Science Books on Amazon: Here's What I Found 🤓",
          "videoOwnerChannelId": "UCJQJAI7IjbLcpsjWdSzYz0Q",
          "videoOwnerChannelTitle": "Thu Vu data analytics"
         }
        },
        {
         "contentDetails": {
          "videoId": "JsZiFysJS1U",
          "videoPublishedAt": "2022-10-24T01:00:04Z"
         },
         "etag": "yN9mCOqTonuB4kCQhS0N6bTNY8k",
         "id": "VVVKUUpBSTdJamJMY3BzaldkU3pZejBRLkpzWmlGeXNKUzFV",
         "kind": "youtube#playlistItem",
         "snippet": {
          "channelId": "UCJQJAI7IjbLcpsjWdSzYz0Q",
          "channelTitle": "Thu Vu data analytics",
          "description": "💌 The Batch newsletter 👉 https://www.deeplearning.ai/the-batch/\n🌐 Data Skeptic podcast 👉 https://dataskeptic.com/\n🌐 Super Data Science podcast 👉 https://www.superdatascience.com/podcast\n🤖 Talk Python to Me podcast  👉 https://talkpython.fm/\n🌐 80.000hour blog on AI Safety Explained Visually 👉 https://80000hours.org/problem-profiles/artificial-intelligence/\n\n🔑 TIMESTAMPS\n================================\n0:00 - Intro\n0:31 - What is a great source to stay current on data analytics? Also what books do you suggest? \n2:13 - Can you talk about the best opportunities to get a scholarship for data science training/internship both paid and free?\n4:38 - Please tell us Dos and Donts while searching jobs as a data analyst fresher. And also guide us about making a project portfolio to enhance our resume!\n7:47 - Do you think a PhD in Mathematics or Statistics can be an advantage for a data science career? If yes, for which area of data science exactly?\n9:08 - Most advice on landing an entry level data analyst job is focused on the US market. Any advice on doing so specifically in the Netherlands?\n11:08 - How can we better approach problems that come up in projects? (i.e. the kind that often requires a prior foundation/experience that we may not have at the time)\n11:53 - What's your strategy for better understanding data science and apply its concepts in business problems?\n13:40 - Is it a plus to study about Cloud for getting a Data science role?\n14:32 - As an aspirant data analyst from South Asia, what are the opportunities to work as a remote worker?\n15:43 - Microsoft yesterday announced that its partnership with OpenAI would lead to more no-code or low-code enterprising by 2027. How do you think it will affect aspiring Data Scientists and Analysts?\n17:34 - If an experienced developer moves to data science or machine learning which path is good for him?\n18:24 - How can an aspiring DS go from using ML techniques in a sort of self-contained jupyter notebook world, to actually having the skills to start putting these techniques to use in the real world?\n19:36 - Which programming languages we need to learn fully for Data analyst or Data scientist job?\n19:56 - What is your advice for absolute beginners in data science and how they can track their path because DS is very vast field and it is easy to lose path.\n22:03 - How to transition from a role of a business analyst to a data analyst or data scientist? I am a first year MBA student in business analysis. \n22:49 - Are you planning to become a full-time YouTuber in the future?\n24:12 - How do we prepare for Data Scientist or ML Engineer interviews?\n25:51 - Data science vs software development, which one is better in 2022/2023?\n26:44 - What's the best way to move from a third world country to a first world country for data science opportunities. Should one apply for a master's program or try get a data science/ analytics job?\n28:11 - What's the road map for someone looking to learn data visualization?\n29:09 - What is research areas in data science. How to identify research problems in data science. What types of research currently in education, like master or PhD in data science. \n30:25 - I'm just a beginner with Data Analytics, and I don't have a degree. Although I have completed Google data analytics Certificate course. What should I do to land a job?\n\n👩🏻‍💻 COURSES & RESOURCES\n================================\n📖 Learn SQL Basics for Data Science Specialization 👉 https://imp.i384100.net/AovPnJ\n📖 Excel Skills for Business 👉 https://coursera.pxf.io/doPaoy\n📖 Machine Learning Specialization 👉 https://imp.i384100.net/RyjykN\n📖 Data Visualization with Tableau Specialization 👉https://imp.i384100.net/n15XWR\n📖 Deep Learning Specialization 👉 https://imp.i384100.net/zavBA0\n📖 Mathematics for Machine Learning and Data Science Specialization 👉 https://imp.i384100.net/LXK0gj\n\n🙋🏻‍♀️ LET'S CONNECT!\n================================\n🤓 Join my Discord server: https://discord.gg/SK7ZC5XhcS\n📩  Newsletter: https://substack.com/profile/87689887-thu-vu\n✍ Medium: https://medium.com/@vuthihienthu.ueb\n🔗 All links: https://linktr.ee/thuvuanalytics\n\nAs a member of the Amazon and Coursera Affiliate Programs, I earn a commission from qualifying purchases on the links above. By using the links you help support this channel at no cost for you.\n\n#datascience #Datanerd #ThuVu #dataanalytics",
          "playlistId": "UUJQJAI7IjbLcpsjWdSzYz0Q",
          "position": 28,
          "publishedAt": "2022-10-24T01:00:04Z",
          "resourceId": {
           "kind": "youtube#video",
           "videoId": "JsZiFysJS1U"
          },
          "thumbnails": {
           "default": {
            "height": 90,
            "url": "https://i.ytimg.com/vi/JsZiFysJS1U/default.jpg",
            "width": 120
           },
           "high": {
            "height": 360,
            "url": "https://i.ytimg.com/vi/JsZiFysJS1U/hqdefault.jpg",
            "width": 480
           },
           "maxres": {
            "height": 720,
            "url": "https://i.ytimg.com/vi/JsZiFysJS1U/maxresdefault.jpg",
            "width": 1280
           },
           "medium": {
            "height": 180,
            "url": "https://i.ytimg.com/vi/JsZiFysJS1U/mqdefault.jpg",
            "width": 320
           },
           "standard": {
            "height": 480,
            "url": "https://i.ytimg.com/vi/JsZiFysJS1U/sddefault.jpg",
            "width": 640
           }
          },
          "title": "Moving Abroad, Data Science Careers, Job Searching: 60K subs Q&A",
          "videoOwnerChannelId": "UCJQJAI7IjbLcpsjWdSzYz0Q",
          "videoOwnerChannelTitle": "Thu Vu data analytics"
         }
        },
        {
         "contentDetails": {
          "videoId": "uFTd2b23GvI",
          "videoPublishedAt": "2022-10-08T03:23:51Z"
         },
         "etag": "IaLto-41Q1OP0DYjRIN7kxmasFU",
         "id": "VVVKUUpBSTdJamJMY3BzaldkU3pZejBRLnVGVGQyYjIzR3ZJ",
         "kind": "youtube#playlistItem",
         "snippet": {
          "channelId": "UCJQJAI7IjbLcpsjWdSzYz0Q",
          "channelTitle": "Thu Vu data analytics",
          "description": "DataCamp Space Week 👉 https://cutt.ly/QBsq0vk\n\n🔗Introduction to Data Science (in R) 👉 https://bookdown.org/ronsarafian/IntrotoDS/\n📚 Math interactive books:\n🌐 Explained Visually 👉 https://setosa.io/ev/\n🌐 Immersive Math 👉 http://immersivemath.com/ila/index.html\n\n📚 Books mentioned in the video:\n1. Python for Data Analysis 👉https://amzn.to/3RPeReC\n2. Practical Statistics for Data Scientists 👉 https://amzn.to/3CF5Pws\n3. Naked Statistics 👉 https://amzn.to/3CIhwCu\n4. Machine Learning Simplified 👉 https://themlsbook.com/\n5. Hands-On ML with Scikitlearn and Tensorflow👉 https://amzn.to/3fTKZ3y\n6. Designing Machine Learning Systems👉 https://amzn.to/3Cajv0Y\n7. Storytelling with Data 👉 https://amzn.to/3EvbS83\n8. Interactive Data Visualization for the Web 👉 https://amzn.to/3rHvDl6\n\nHey data nerds, in today’s video we’ll go over some of my recommended books for data science beginners. I’ll talk about books for Python data analysis, statistics and math, machine learning and data visualization. For each book, I’ll share with you what the book is about, what I like and don’t like about the book, and how I’d rate the book regarding the depth, readability and practicality. \n\nI hope you enjoy this video 😄. Let me know in the comment your favourite data science book! 🤓\n\n🔑 TIMESTAMPS\n================================\n0:00 - Intro\n1:35 - Python for data analysis book\n3:28 - DataCamp Space Week (SPONSOR)\n4:20 - Statistics books\n7:33 - Math books\n8:27 - Machine learning books\n11:31 - Designing machine learning systems\n13:16 - Data viz books\n\n👩🏻‍💻 COURSES & RESOURCES\n================================\n📖 Learn SQL Basics for Data Science Specialization 👉 https://imp.i384100.net/AovPnJ\n📖 Excel Skills for Business 👉 https://coursera.pxf.io/doPaoy\n📖 Machine Learning Specialization 👉 https://imp.i384100.net/RyjykN\n📖 Data Visualization with Tableau Specialization 👉https://imp.i384100.net/n15XWR\n📖 Deep Learning Specialization 👉 https://imp.i384100.net/zavBA0\n📖 Mathematics for Machine Learning and Data Science Specialization 👉 https://imp.i384100.net/LXK0gj\n📖 Google Data Analytics Certificate 👉 https://imp.i384100.net/15v9y6\n📖 Applied Data Science with Python 👉 https://imp.i384100.net/gbxOqv\n\n🙋🏻‍♀️ LET'S CONNECT!\n================================\n🤓 Join my Discord server: https://discord.gg/SK7ZC5XhcS\n📩  Newsletter: https://substack.com/profile/87689887-thu-vu\n✍ Medium: https://medium.com/@vuthihienthu.ueb\n🔗 All links: https://linktr.ee/thuvuanalytics\n\nAs a member of the Amazon and Coursera Affiliate Programs, I earn a commission from qualifying purchases on the links above. By using the links you help support this channel at no cost for you.\n\n#datascience #machinelearning #books #Datanerd #ThuVu #dataanalytics",
          "playlistId": "UUJQJAI7IjbLcpsjWdSzYz0Q",
          "position": 29,
          "publishedAt": "2022-10-08T03:23:51Z",
          "resourceId": {
           "kind": "youtube#video",
           "videoId": "uFTd2b23GvI"
          },
          "thumbnails": {
           "default": {
            "height": 90,
            "url": "https://i.ytimg.com/vi/uFTd2b23GvI/default.jpg",
            "width": 120
           },
           "high": {
            "height": 360,
            "url": "https://i.ytimg.com/vi/uFTd2b23GvI/hqdefault.jpg",
            "width": 480
           },
           "maxres": {
            "height": 720,
            "url": "https://i.ytimg.com/vi/uFTd2b23GvI/maxresdefault.jpg",
            "width": 1280
           },
           "medium": {
            "height": 180,
            "url": "https://i.ytimg.com/vi/uFTd2b23GvI/mqdefault.jpg",
            "width": 320
           },
           "standard": {
            "height": 480,
            "url": "https://i.ytimg.com/vi/uFTd2b23GvI/sddefault.jpg",
            "width": 640
           }
          },
          "title": "Best Data Science Books for Beginners 📚",
          "videoOwnerChannelId": "UCJQJAI7IjbLcpsjWdSzYz0Q",
          "videoOwnerChannelTitle": "Thu Vu data analytics"
         }
        },
        {
         "contentDetails": {
          "videoId": "ho9vNL4MYZ8",
          "videoPublishedAt": "2022-09-27T06:31:11Z"
         },
         "etag": "LORjffCviIXiLHfOB1WdmXnkXqo",
         "id": "VVVKUUpBSTdJamJMY3BzaldkU3pZejBRLmhvOXZOTDRNWVo4",
         "kind": "youtube#playlistItem",
         "snippet": {
          "channelId": "UCJQJAI7IjbLcpsjWdSzYz0Q",
          "channelTitle": "Thu Vu data analytics",
          "description": "👩🏻‍💻 CourseraPlus subscription ($200 off until Jan 31 2023) 👉 https://imp.i384100.net/0JrOmY\nLearn SQL Basics for Data Science 👉 https://imp.i384100.net/AovPnJ\nGoogle Data Analytics Certificate 👉 https://imp.i384100.net/15v9y6\nApplied Data Science with Python 👉 https://imp.i384100.net/gbxOqv\nMathematics for Machine Learning 👉 https://imp.i384100.net/BX91NB\nData Visualization with Tableau 👉 https://imp.i384100.net/n15XWR\n👔 Need help with preparing for your next data science interview? Use referral code ‘thuvu’ to get 10% discount on any of the offerings on https://datainterview.com\n\nHi data nerds! Today I’m sharing with you my recommended learning roadmap and the courses to help you learn the core data science skills quickly. Resources are abundant online, but it is hard sometimes to select what is right for you, and what you really need. I hope with this learning roadmap, you can learn the most in-demand skills in the most effective way. Hope you enjoy it! \n\nThank you for watching and have a great day! 🤗\n\n🔑 TIMESTAMPS\n================================\n0:00 - Intro \n0:17 - My data science journey 🤓\n2:12 - Google Data Analytics Professional cert\n4:14 - Learn SQL Basic for DS Specialization \n6:37 - Applied Data Science with Python Specialization\n8:34 - Mathematics for Machine Learning Specialisation\n10:50 - Data Visualisation with Tableau Specialisation\n13:45 - Tips for saving $$\n\n👩🏻‍💻 COURSES & RESOURCES\n================================\n📖 Learn SQL Basics for Data Science Specialization 👉 https://imp.i384100.net/AovPnJ\n📖 Excel Skills for Business 👉 https://coursera.pxf.io/doPaoy\n📖 Machine Learning Specialization 👉 https://imp.i384100.net/RyjykN\n📖 Data Visualization with Tableau Specialization 👉https://imp.i384100.net/n15XWR\n📖 Deep Learning Specialization 👉 https://imp.i384100.net/zavBA0\n📖 Mathematics for Machine Learning and Data Science Specialization 👉 https://imp.i384100.net/LXK0gj\n📖 Google Data Analytics Certificate 👉 https://imp.i384100.net/15v9y6\n📖 Applied Data Science with Python 👉 https://imp.i384100.net/gbxOqv\n\n🙋🏻‍♀️ LET'S CONNECT!\n================================\n🤓 Join my Discord server: https://discord.gg/SK7ZC5XhcS\n📩  Newsletter: https://substack.com/profile/87689887-thu-vu\n✍ Medium: https://medium.com/@vuthihienthu.ueb\n🔗 All links: https://linktr.ee/thuvuanalytics\n\nAs a member of the Amazon and Coursera Affiliate Programs, I earn a commission from qualifying purchases on the links above. By using the links you help support this channel at no cost for you.\n\n#datascience #machinelearning #DataAnalysis #Datanerd #ThuVu #dataanalytics",
          "playlistId": "UUJQJAI7IjbLcpsjWdSzYz0Q",
          "position": 30,
          "publishedAt": "2022-09-27T06:31:11Z",
          "resourceId": {
           "kind": "youtube#video",
           "videoId": "ho9vNL4MYZ8"
          },
          "thumbnails": {
           "default": {
            "height": 90,
            "url": "https://i.ytimg.com/vi/ho9vNL4MYZ8/default.jpg",
            "width": 120
           },
           "high": {
            "height": 360,
            "url": "https://i.ytimg.com/vi/ho9vNL4MYZ8/hqdefault.jpg",
            "width": 480
           },
           "maxres": {
            "height": 720,
            "url": "https://i.ytimg.com/vi/ho9vNL4MYZ8/maxresdefault.jpg",
            "width": 1280
           },
           "medium": {
            "height": 180,
            "url": "https://i.ytimg.com/vi/ho9vNL4MYZ8/mqdefault.jpg",
            "width": 320
           },
           "standard": {
            "height": 480,
            "url": "https://i.ytimg.com/vi/ho9vNL4MYZ8/sddefault.jpg",
            "width": 640
           }
          },
          "title": "Top Courses to Learn Data Science Skills FAST!",
          "videoOwnerChannelId": "UCJQJAI7IjbLcpsjWdSzYz0Q",
          "videoOwnerChannelTitle": "Thu Vu data analytics"
         }
        },
        {
         "contentDetails": {
          "videoId": "hFLp_aP8iQQ",
          "videoPublishedAt": "2022-09-16T08:24:58Z"
         },
         "etag": "Mw4-QClj29bnbY7MtLKOzW2_4fw",
         "id": "VVVKUUpBSTdJamJMY3BzaldkU3pZejBRLmhGTHBfYVA4aVFR",
         "kind": "youtube#playlistItem",
         "snippet": {
          "channelId": "UCJQJAI7IjbLcpsjWdSzYz0Q",
          "channelTitle": "Thu Vu data analytics",
          "description": "The first 1,000 people to use the link will get a 1 month free trial of Skillshare: https://skl.sh/thuvudataanalytics09221  \n\n🤓 Ipad Pro M1 2021 (12.9-inch) 👉 https://amzn.to/3xsHdnB\n\nHey data nerds 👋, in this video I'm talking about how I use iPad Pro for learning data science. I really enjoy watching videos, reading books, taking study notes and even coding (!) on an iPad. Honestly, I tend to get lazy and procrastinate a lot when working/ studying by myself. This iPad has helped me against procrastination because I actually think it is fun to use it. Even though it costs a lot of money (to me), I still think it's been a great investment overall. \n\nThank you for watching and have a great day! 🤗\n\n🔑 TIMESTAMPS\n================================\n0:00 - Intro \n0:28 - Watching videos & reading\n2:50 - Digital note-taking \n4:52 - Skillshare (SPONSOR)\n5:38 - Coding on iPad Pro\n6:31 - Performance and speed\n7:19 - Speakers\n8:07 - Apple ecosystem\n8:32 - Conclusions & whether you should buy iPad Pro\n\n👩🏻‍💻 COURSES & RESOURCES\n================================\n📖 Learn SQL Basics for Data Science Specialization 👉 https://imp.i384100.net/AovPnJ\n📖 Excel Skills for Business 👉 https://coursera.pxf.io/doPaoy\n📖 Machine Learning Specialization 👉 https://imp.i384100.net/RyjykN\n📖 Data Visualization with Tableau Specialization 👉https://imp.i384100.net/n15XWR\n📖 Deep Learning Specialization 👉 https://imp.i384100.net/zavBA0\n📖 Mathematics for Machine Learning and Data Science Specialization 👉 https://imp.i384100.net/LXK0gj\n📖 Google Data Analytics Certificate 👉 https://imp.i384100.net/15v9y6\n📖 Applied Data Science with Python 👉 https://imp.i384100.net/gbxOqv\n\n🙋🏻‍♀️ LET'S CONNECT!\n================================\n🤓 Join my Discord server: https://discord.gg/SK7ZC5XhcS\n📩  Newsletter: https://substack.com/profile/87689887-thu-vu\n✍ Medium: https://medium.com/@vuthihienthu.ueb\n🔗 All links: https://linktr.ee/thuvuanalytics\n\nAs a member of the Amazon and Coursera Affiliate Programs, I earn a commission from qualifying purchases on the links above. By using the links you help support this channel at no cost for you.\n\n#ipadpro #datascience #Datanerd #DataAnalysis #ThuVu #dataanalytics",
          "playlistId": "UUJQJAI7IjbLcpsjWdSzYz0Q",
          "position": 31,
          "publishedAt": "2022-09-16T08:24:58Z",
          "resourceId": {
           "kind": "youtube#video",
           "videoId": "hFLp_aP8iQQ"
          },
          "thumbnails": {
           "default": {
            "height": 90,
            "url": "https://i.ytimg.com/vi/hFLp_aP8iQQ/default.jpg",
            "width": 120
           },
           "high": {
            "height": 360,
            "url": "https://i.ytimg.com/vi/hFLp_aP8iQQ/hqdefault.jpg",
            "width": 480
           },
           "maxres": {
            "height": 720,
            "url": "https://i.ytimg.com/vi/hFLp_aP8iQQ/maxresdefault.jpg",
            "width": 1280
           },
           "medium": {
            "height": 180,
            "url": "https://i.ytimg.com/vi/hFLp_aP8iQQ/mqdefault.jpg",
            "width": 320
           },
           "standard": {
            "height": 480,
            "url": "https://i.ytimg.com/vi/hFLp_aP8iQQ/sddefault.jpg",
            "width": 640
           }
          },
          "title": "Learn Data Science on iPad | Coding on iPad, note-taking and more",
          "videoOwnerChannelId": "UCJQJAI7IjbLcpsjWdSzYz0Q",
          "videoOwnerChannelTitle": "Thu Vu data analytics"
         }
        },
        {
         "contentDetails": {
          "videoId": "fClT4PWlGoA",
          "videoPublishedAt": "2022-09-05T09:04:21Z"
         },
         "etag": "OaIENjCdfYwqUPVBKyUTUz3K_Tw",
         "id": "VVVKUUpBSTdJamJMY3BzaldkU3pZejBRLmZDbFQ0UFdsR29B",
         "kind": "youtube#playlistItem",
         "snippet": {
          "channelId": "UCJQJAI7IjbLcpsjWdSzYz0Q",
          "channelTitle": "Thu Vu data analytics",
          "description": "👩🏻‍💻 Link extension (MakinaRocks)  👉 https://bit.ly/3KDX0oW\n📺 Link Demo Video 👉 https://www.youtube.com/watch?v=uM2uPG-1eQQ\n🔗 Git repo for this neural style transfer project 👉 https://github.com/thu-vu92/neural-style-transfer\n🤖 Deep Learning Specialization 👉 https://imp.i384100.net/zavBA0\n\nHey data nerds 👋, greetings from my hometown in Vietnam!! JupyterLab is a great tool for data science, but it has its own limitations.. big ones 😅.. Due to the fact that you can execute cells in different orders, it's easy to make mistakes and mess up the output. From my experience, it could be a big challenge to use JupyterLab in a complex data science project. In this video, I'm sharing with you about Link, a JupyterLab extension that helps us easily create pipelines in JupyterLab and share them with other people. This extension helps address the reproducibility issue of JupyterLab, and makes it easy to share results. While walking you through the how-to of this extension, I also tried to give a brief introduction to neural style transfer algorithm, which is what I implemented in this sample notebook. \n\nLet me know what you think about this extension and whether you would consider using it in your projects. Thank you for watching and have a great day! 🤗\n\n🔑 TIMESTAMPS\n================================\n0:00 - Intro\n0:57 - Link extension for JupyterLab\n2:25 - Installing Link\n3:23 - Overview of the notebook & Neural style transfer algo.\n5:24 - Creating pipeline using Link\n10:20 - Final pipeline & exporting cache\n10:47 - Additional functionalities\n\n👩🏻‍💻 COURSES & RESOURCES\n================================\n📖 Learn SQL Basics for Data Science Specialization 👉 https://imp.i384100.net/AovPnJ\n📖 Excel Skills for Business 👉 https://coursera.pxf.io/doPaoy\n📖 Machine Learning Specialization 👉 https://imp.i384100.net/RyjykN\n📖 Data Visualization with Tableau Specialization 👉https://imp.i384100.net/n15XWR\n📖 Deep Learning Specialization 👉 https://imp.i384100.net/zavBA0\n📖 Mathematics for Machine Learning and Data Science Specialization 👉 https://imp.i384100.net/LXK0gj\n📖 Google Data Analytics Certificate 👉 https://imp.i384100.net/15v9y6\n📖 Applied Data Science with Python 👉 https://imp.i384100.net/gbxOqv\n\n🙋🏻‍♀️ LET'S CONNECT!\n================================\n🤓 Join my Discord server: https://discord.gg/SK7ZC5XhcS\n📩  Newsletter: https://substack.com/profile/87689887-thu-vu\n✍ Medium: https://medium.com/@vuthihienthu.ueb\n🔗 All links: https://linktr.ee/thuvuanalytics\n\nAs a member of the Amazon and Coursera Affiliate Programs, I earn a commission from qualifying purchases on the links above. By using the links you help support this channel at no cost for you.\n\n#Jupyterlab #machinelearning #Datanerd #DataAnalysis #datascience #ThuVu #dataanalytics",
          "playlistId": "UUJQJAI7IjbLcpsjWdSzYz0Q",
          "position": 32,
          "publishedAt": "2022-09-05T09:04:21Z",
          "resourceId": {
           "kind": "youtube#video",
           "videoId": "fClT4PWlGoA"
          },
          "thumbnails": {
           "default": {
            "height": 90,
            "url": "https://i.ytimg.com/vi/fClT4PWlGoA/default.jpg",
            "width": 120
           },
           "high": {
            "height": 360,
            "url": "https://i.ytimg.com/vi/fClT4PWlGoA/hqdefault.jpg",
            "width": 480
           },
           "maxres": {
            "height": 720,
            "url": "https://i.ytimg.com/vi/fClT4PWlGoA/maxresdefault.jpg",
            "width": 1280
           },
           "medium": {
            "height": 180,
            "url": "https://i.ytimg.com/vi/fClT4PWlGoA/mqdefault.jpg",
            "width": 320
           },
           "standard": {
            "height": 480,
            "url": "https://i.ytimg.com/vi/fClT4PWlGoA/sddefault.jpg",
            "width": 640
           }
          },
          "title": "The Best Jupyterlab Extension That You Didn't Know Existed!",
          "videoOwnerChannelId": "UCJQJAI7IjbLcpsjWdSzYz0Q",
          "videoOwnerChannelTitle": "Thu Vu data analytics"
         }
        },
        {
         "contentDetails": {
          "videoId": "p5MwJuZZYYY",
          "videoPublishedAt": "2022-08-15T17:50:34Z"
         },
         "etag": "gTIp7RoL_a5VMigpVqYOsmWD8VA",
         "id": "VVVKUUpBSTdJamJMY3BzaldkU3pZejBRLnA1TXdKdVpaWVlZ",
         "kind": "youtube#playlistItem",
         "snippet": {
          "channelId": "UCJQJAI7IjbLcpsjWdSzYz0Q",
          "channelTitle": "Thu Vu data analytics",
          "description": "The first 1,000 people to use the link will get a 1 month free trial of Skillshare: https://skl.sh/thuvudataanalytics08221   \n\nCourse recommendations (Coursera):\n🤖 Machine Learning Specialization by Andrew Ng 👉 https://imp.i384100.net/RyjykN\n🙇‍♀️ Graph Analytics for Big Data(Coursera) 👉 https://imp.i384100.net/oeWP1O\n🕸 Learn web scraping with Python 👉 https://imp.i384100.net/e4ZdXX\n🧮 Mathematics for Machine Learning Specialization 👉 https://imp.i384100.net/BX91NB\n🧮 Data Science Math Skills 👉 https://imp.i384100.net/oevBxo\n⚙️ Deep Learning Specialization 👉 https://imp.i384100.net/zavBA0\n\nHey data nerds 👋, you might have been finding yourself procrastinating, getting distracted from learning data science and not wanting to put in the time to learn difficult things. In this video I'm sharing some tips for self-learning data science that I have used in the past few years, transitioning from Economics to Data Science. I realized everything started with the right mindset for learning. Additionally, in this video I also talk about the 5-step learning framework that I use for learning almost anything, and also some bonus tips to help you learn more effectively. I wish you a lot of success with learning! Thank you for watching and have a great day! 🤗\n\n🔑 TIMESTAMPS\n================================\n0:00 - Intro\n0:52 - Adopting the right mindset\n4:10 - My 5-step learning framework\n4:34 - #0 The \"Why\"\n5:27 - #1 Finding materials\n5:59 - Skillshare (SPONSOR)\n7:03 - #1 Finding materials (continued)\n8:04 - #2 Absorbing\n9:33 - #3 Retaining/ Documenting\n10:20 - #4 Application & Projects\n11:37 - #5 Show your work\n13:05 - Bonus tip & Conclusions\n\n👩🏻‍💻 COURSES & RESOURCES\n================================\n📖 Learn SQL Basics for Data Science Specialization 👉 https://imp.i384100.net/AovPnJ\n📖 Excel Skills for Business 👉 https://coursera.pxf.io/doPaoy\n📖 Machine Learning Specialization 👉 https://imp.i384100.net/RyjykN\n📖 Data Visualization with Tableau Specialization 👉https://imp.i384100.net/n15XWR\n📖 Deep Learning Specialization 👉 https://imp.i384100.net/zavBA0\n📖 Mathematics for Machine Learning and Data Science Specialization 👉 https://imp.i384100.net/LXK0gj\n📖 Google Data Analytics Certificate 👉 https://imp.i384100.net/15v9y6\n📖 Applied Data Science with Python 👉 https://imp.i384100.net/gbxOqv\n\n🙋🏻‍♀️ LET'S CONNECT!\n================================\n🤓 Join my Discord server: https://discord.gg/SK7ZC5XhcS\n📩  Newsletter: https://substack.com/profile/87689887-thu-vu\n✍ Medium: https://medium.com/@vuthihienthu.ueb\n🔗 All links: https://linktr.ee/thuvuanalytics\n\nAs a member of the Amazon and Coursera Affiliate Programs, I earn a commission from qualifying purchases on the links above. By using the links you help support this channel at no cost for you.\n\n#datascience #Datanerd #DataAnalysis #ThuVu #dataanalytics",
          "playlistId": "UUJQJAI7IjbLcpsjWdSzYz0Q",
          "position": 33,
          "publishedAt": "2022-08-15T17:50:34Z",
          "resourceId": {
           "kind": "youtube#video",
           "videoId": "p5MwJuZZYYY"
          },
          "thumbnails": {
           "default": {
            "height": 90,
            "url": "https://i.ytimg.com/vi/p5MwJuZZYYY/default.jpg",
            "width": 120
           },
           "high": {
            "height": 360,
            "url": "https://i.ytimg.com/vi/p5MwJuZZYYY/hqdefault.jpg",
            "width": 480
           },
           "maxres": {
            "height": 720,
            "url": "https://i.ytimg.com/vi/p5MwJuZZYYY/maxresdefault.jpg",
            "width": 1280
           },
           "medium": {
            "height": 180,
            "url": "https://i.ytimg.com/vi/p5MwJuZZYYY/mqdefault.jpg",
            "width": 320
           },
           "standard": {
            "height": 480,
            "url": "https://i.ytimg.com/vi/p5MwJuZZYYY/sddefault.jpg",
            "width": 640
           }
          },
          "title": "👩🏻‍💻 How I Self-Study Anything (as a Data Scientist)",
          "videoOwnerChannelId": "UCJQJAI7IjbLcpsjWdSzYz0Q",
          "videoOwnerChannelTitle": "Thu Vu data analytics"
         }
        },
        {
         "contentDetails": {
          "videoId": "B11nK1QCPRA",
          "videoPublishedAt": "2022-08-02T08:09:26Z"
         },
         "etag": "kxJzt9J-nh9yIGsQanLX5-90qA8",
         "id": "VVVKUUpBSTdJamJMY3BzaldkU3pZejBRLkIxMW5LMVFDUFJB",
         "kind": "youtube#playlistItem",
         "snippet": {
          "channelId": "UCJQJAI7IjbLcpsjWdSzYz0Q",
          "channelTitle": "Thu Vu data analytics",
          "description": "👩🏻‍💻 AssemblyAI  👉 https://www.assemblyai.com/?utm_source=youtube&utm_medium=social&utm_campaign=thuvu1\n🔑 Github repo for project 👉 https://github.com/thu-vu92/audio_analyzer_assemblyai\n\nBig thanks to @KenJee_ds for your awesome video on learning how to code! 🙌🏽\n\nHey data nerds 👋, in this video we are going to talk about automatic speech recognition (ASR) and build an audio content analyzer dashboard using AssemblyAI's API and Panel. There are a lot of useful things you can do with speech recognition (that are actually more useful than this 😅). With this audio visualization app, I hope to inspire you to create a fun project for your own portfolio using APIs! And hope you enjoyed watching it too!\n\nThank you for watching and have a great day! 🤗\n\n🔑 TIMESTAMPS\n================================\n0:00 - Intro & What we will be building\n1:19 - A (very) brief history of ASR\n2:34 - AssemblyAI\n3:04 - Getting audio transcription\n11:34 - Building audio content dashboard\n26:44 - Trying AssemblyAI on pop song\n27:16 - Your challenge!\n\n👩🏻‍💻 COURSES & RESOURCES\n================================\n📖 Learn SQL Basics for Data Science Specialization 👉 https://imp.i384100.net/AovPnJ\n📖 Excel Skills for Business 👉 https://coursera.pxf.io/doPaoy\n📖 Machine Learning Specialization 👉 https://imp.i384100.net/RyjykN\n📖 Data Visualization with Tableau Specialization 👉https://imp.i384100.net/n15XWR\n📖 Deep Learning Specialization 👉 https://imp.i384100.net/zavBA0\n📖 Mathematics for Machine Learning and Data Science Specialization 👉 https://imp.i384100.net/LXK0gj\n📖 Google Data Analytics Certificate 👉 https://imp.i384100.net/15v9y6\n📖 Applied Data Science with Python 👉 https://imp.i384100.net/gbxOqv\n\n🙋🏻‍♀️ LET'S CONNECT!\n================================\n🤓 Join my Discord server: https://discord.gg/SK7ZC5XhcS\n📩  Newsletter: https://substack.com/profile/87689887-thu-vu\n✍ Medium: https://medium.com/@vuthihienthu.ueb\n🔗 All links: https://linktr.ee/thuvuanalytics\n\nAs a member of the Amazon and Coursera Affiliate Programs, I earn a commission from qualifying purchases on the links above. By using the links you help support this channel at no cost for you.\n\n\n#speechrecognition #nlp #Datanerd #DataAnalysis #datascience #ThuVu #dataanalytics",
          "playlistId": "UUJQJAI7IjbLcpsjWdSzYz0Q",
          "position": 34,
          "publishedAt": "2022-08-02T08:09:26Z",
          "resourceId": {
           "kind": "youtube#video",
           "videoId": "B11nK1QCPRA"
          },
          "thumbnails": {
           "default": {
            "height": 90,
            "url": "https://i.ytimg.com/vi/B11nK1QCPRA/default.jpg",
            "width": 120
           },
           "high": {
            "height": 360,
            "url": "https://i.ytimg.com/vi/B11nK1QCPRA/hqdefault.jpg",
            "width": 480
           },
           "maxres": {
            "height": 720,
            "url": "https://i.ytimg.com/vi/B11nK1QCPRA/maxresdefault.jpg",
            "width": 1280
           },
           "medium": {
            "height": 180,
            "url": "https://i.ytimg.com/vi/B11nK1QCPRA/mqdefault.jpg",
            "width": 320
           },
           "standard": {
            "height": 480,
            "url": "https://i.ytimg.com/vi/B11nK1QCPRA/sddefault.jpg",
            "width": 640
           }
          },
          "title": "👩🏻‍💻 How to Create a Python Dashboard for Audio Data | AssemblyAI + Panel",
          "videoOwnerChannelId": "UCJQJAI7IjbLcpsjWdSzYz0Q",
          "videoOwnerChannelTitle": "Thu Vu data analytics"
         }
        },
        {
         "contentDetails": {
          "videoId": "O_7f4MGeCKE",
          "videoPublishedAt": "2022-07-10T17:30:03Z"
         },
         "etag": "35F8d4OHZOFYahMxvBbeeZzuc-A",
         "id": "VVVKUUpBSTdJamJMY3BzaldkU3pZejBRLk9fN2Y0TUdlQ0tF",
         "kind": "youtube#playlistItem",
         "snippet": {
          "channelId": "UCJQJAI7IjbLcpsjWdSzYz0Q",
          "channelTitle": "Thu Vu data analytics",
          "description": "👩🏻‍💻 ProjectPro website  👉 https://bit.ly/3yhHb1u\n📹 ProjectPro Youtube  👉 https://www.youtube.com/channel/UCfuyYAtTG15_db2PRuaerZg?sub_confirmation=1\n🤖 Online BSc Computer Science (University of London + Coursera) 👉 https://imp.i384100.net/Ryjr7v\n\nHey data nerds 👋, in this video I'm talking about my online bachelors in Computer Science degree. I'm happy to finally put this video out because many of you are curious about it. And, if the recession is indeed coming, what's the better way to prepare for the future than going back to school to study something useful 😉🤓. I'll be going over an overview of the program, the duration and time commitment. Then I'll drill down into the curriculum of each year and give you an overview of the main topics I learned in the modules. I realized it was very hard to cover everything, but hope this video gives you an insider look into the program and see if it fits your needs. \n\nThank you for watching and have a great day! 🤗\n\n🔑 TIMESTAMPS\n================================\n0:00 - Intro\n1:02 - Program overview\n1:48 - Sponsor: ProjectPro\n2:54 - Program overview cont. (duration & workload)\n4:47 - First year’s curriculum\n7:11 - Second year’s curriculum\n9:09 - Final year\n10:24 - What I liked and didn’t like about the program\n12:01 - Bachelors vs. Masters in CS\n13:12 - Value for Data science professionals\n14:36 - Conclusions\n\n👩🏻‍💻 COURSES & RESOURCES\n================================\n📖 Learn SQL Basics for Data Science Specialization 👉 https://imp.i384100.net/AovPnJ\n📖 Excel Skills for Business 👉 https://coursera.pxf.io/doPaoy\n📖 Machine Learning Specialization 👉 https://imp.i384100.net/RyjykN\n📖 Data Visualization with Tableau Specialization 👉https://imp.i384100.net/n15XWR\n📖 Deep Learning Specialization 👉 https://imp.i384100.net/zavBA0\n📖 Mathematics for Machine Learning and Data Science Specialization 👉 https://imp.i384100.net/LXK0gj\n📖 Google Data Analytics Certificate 👉 https://imp.i384100.net/15v9y6\n📖 Applied Data Science with Python 👉 https://imp.i384100.net/gbxOqv\n\n🙋🏻‍♀️ LET'S CONNECT!\n================================\n🤓 Join my Discord server: https://discord.gg/SK7ZC5XhcS\n📩  Newsletter: https://substack.com/profile/87689887-thu-vu\n✍ Medium: https://medium.com/@vuthihienthu.ueb\n🔗 All links: https://linktr.ee/thuvuanalytics\n\nAs a member of the Amazon and Coursera Affiliate Programs, I earn a commission from qualifying purchases on the links above. By using the links you help support this channel at no cost for you.\n\n#computerscience #machinelearning #Datanerd #DataAnalysis #datascience #ThuVu #dataanalytics",
          "playlistId": "UUJQJAI7IjbLcpsjWdSzYz0Q",
          "position": 35,
          "publishedAt": "2022-07-10T17:30:03Z",
          "resourceId": {
           "kind": "youtube#video",
           "videoId": "O_7f4MGeCKE"
          },
          "thumbnails": {
           "default": {
            "height": 90,
            "url": "https://i.ytimg.com/vi/O_7f4MGeCKE/default.jpg",
            "width": 120
           },
           "high": {
            "height": 360,
            "url": "https://i.ytimg.com/vi/O_7f4MGeCKE/hqdefault.jpg",
            "width": 480
           },
           "maxres": {
            "height": 720,
            "url": "https://i.ytimg.com/vi/O_7f4MGeCKE/maxresdefault.jpg",
            "width": 1280
           },
           "medium": {
            "height": 180,
            "url": "https://i.ytimg.com/vi/O_7f4MGeCKE/mqdefault.jpg",
            "width": 320
           },
           "standard": {
            "height": 480,
            "url": "https://i.ytimg.com/vi/O_7f4MGeCKE/sddefault.jpg",
            "width": 640
           }
          },
          "title": "What I Learned in My Online BSc Computer Science Degree (University of London)",
          "videoOwnerChannelId": "UCJQJAI7IjbLcpsjWdSzYz0Q",
          "videoOwnerChannelTitle": "Thu Vu data analytics"
         }
        },
        {
         "contentDetails": {
          "videoId": "5gf2ntjVGe8",
          "videoPublishedAt": "2022-06-29T07:37:18Z"
         },
         "etag": "tGmQgkZa6MkY4RSYikrJanVqvf0",
         "id": "VVVKUUpBSTdJamJMY3BzaldkU3pZejBRLjVnZjJudGpWR2U4",
         "kind": "youtube#playlistItem",
         "snippet": {
          "channelId": "UCJQJAI7IjbLcpsjWdSzYz0Q",
          "channelTitle": "Thu Vu data analytics",
          "description": "🤖 Machine Learning Specialization by Andrew Ng 👉 https://imp.i384100.net/RyjykN\n📚 Hands-On Machine Learning with Scikit-Learn, Keras, and TensorFlow 👉https://amzn.to/3OGASvc\n📚 The Master Algorithm 👉https://amzn.to/3ybeUth\n👔 Need help with preparing for your next data science interview? Use referral code ‘thuvu’ to get 10% discount on any of the offerings on datainterview.com\n\nHey data nerds 👋, in this video I'm talking about the new Machine Learning Specialization by Andrew Ng on Coursera. I'll be giving you a review of the course structure, the topics covered, and sharing some of my thoughts about whether the course is worth taking + tips and tricks for learning. Thank you for watching 🙌🏽\n\nNeed help with preparing for your next data science interview? Use referral code ‘thuvu’ to get 10% discount on any of the offerings on datainterview.com\n\n👩🏻‍💻 COURSES & RESOURCES\n================================\n📖 Learn SQL Basics for Data Science Specialization 👉 https://imp.i384100.net/AovPnJ\n📖 Excel Skills for Business 👉 https://coursera.pxf.io/doPaoy\n📖 Machine Learning Specialization 👉 https://imp.i384100.net/RyjykN\n📖 Data Visualization with Tableau Specialization 👉https://imp.i384100.net/n15XWR\n📖 Deep Learning Specialization 👉 https://imp.i384100.net/zavBA0\n📖 Mathematics for Machine Learning and Data Science Specialization 👉 https://imp.i384100.net/LXK0gj\n📖 Google Data Analytics Certificate 👉 https://imp.i384100.net/15v9y6\n📖 Applied Data Science with Python 👉 https://imp.i384100.net/gbxOqv\n\n🙋🏻‍♀️ LET'S CONNECT!\n================================\n🤓 Join my Discord server: https://discord.gg/SK7ZC5XhcS\n📩  Newsletter: https://substack.com/profile/87689887-thu-vu\n✍ Medium: https://medium.com/@vuthihienthu.ueb\n🔗 All links: https://linktr.ee/thuvuanalytics\n\n\n🔑 TIMESTAMPS\n================================\n0:00 - Intro \n0:25 - New ML Specialization is launched\n1:29 - Supervised ML course\n1:49 - Advanced Learning Algorithms course\n2:42 - Unsupervised ML course\n3:03 - Changes & updates from the old course\n4:26 - Course format & tools\n5:01 - Time & money investment\n5:57 - My likes & concerns\n8:48 - Is it worth taking & Who should take it\n10:18 - What I recommend for learning in the course\n\n================================\nAs a member of the Amazon and Coursera Affiliate Programs, I earn a commission from qualifying purchases on some of the links above.  It costs you nothing but helps me with content creation.\n\n#machinelearning  #Datanerd #DataAnalysis #datascience #ThuVu #dataanalytics",
          "playlistId": "UUJQJAI7IjbLcpsjWdSzYz0Q",
          "position": 36,
          "publishedAt": "2022-06-29T07:37:18Z",
          "resourceId": {
           "kind": "youtube#video",
           "videoId": "5gf2ntjVGe8"
          },
          "thumbnails": {
           "default": {
            "height": 90,
            "url": "https://i.ytimg.com/vi/5gf2ntjVGe8/default.jpg",
            "width": 120
           },
           "high": {
            "height": 360,
            "url": "https://i.ytimg.com/vi/5gf2ntjVGe8/hqdefault.jpg",
            "width": 480
           },
           "maxres": {
            "height": 720,
            "url": "https://i.ytimg.com/vi/5gf2ntjVGe8/maxresdefault.jpg",
            "width": 1280
           },
           "medium": {
            "height": 180,
            "url": "https://i.ytimg.com/vi/5gf2ntjVGe8/mqdefault.jpg",
            "width": 320
           },
           "standard": {
            "height": 480,
            "url": "https://i.ytimg.com/vi/5gf2ntjVGe8/sddefault.jpg",
            "width": 640
           }
          },
          "title": "Andrew Ng’s Machine Learning Specialization 2022 | What is it and is it worth taking?",
          "videoOwnerChannelId": "UCJQJAI7IjbLcpsjWdSzYz0Q",
          "videoOwnerChannelTitle": "Thu Vu data analytics"
         }
        },
        {
         "contentDetails": {
          "videoId": "fAHkJ_Dhr50",
          "videoPublishedAt": "2022-06-18T23:57:12Z"
         },
         "etag": "a57g_KmB_sTgkjFMOo4iYUc6uP4",
         "id": "VVVKUUpBSTdJamJMY3BzaldkU3pZejBRLmZBSGtKX0RocjUw",
         "kind": "youtube#playlistItem",
         "snippet": {
          "channelId": "UCJQJAI7IjbLcpsjWdSzYz0Q",
          "channelTitle": "Thu Vu data analytics",
          "description": "🔑 GitHub repo for this project: https://github.com/thu-vu92/the_witcher_network\n📹 First episode of this series: https://youtu.be/RuNolAh_4bU\n🙇‍♀️ Graph Analytics for Big Data(Coursera): https://imp.i384100.net/oeWP1O\n🤓 Join my Discord server: https://discord.gg/SK7ZC5XhcS\n\nHey data nerds 👋, in this video we made an attempt to extract relationships between The Witcher's characters from the books. We also did some graph analyses (centrality measures and community detection) and visualization using NetworkX and Pyvis. The analyses are still quite preliminary and I might have glossed over some details, but hopefully, this is a bit interesting and you learned something from it 🤓. This is the second project in the Witcher project series where we will analyze the relationships between characters. The next episode of this series will be all about network graph visualization 😁. I hope you enjoyed this video and any questions and thoughts are welcome! Thank you for watching 🙌🏽\n\n👩🏻‍💻 COURSES & RESOURCES\n================================\n📖 Learn SQL Basics for Data Science Specialization 👉 https://imp.i384100.net/AovPnJ\n📖 Excel Skills for Business 👉 https://coursera.pxf.io/doPaoy\n📖 Machine Learning Specialization 👉 https://imp.i384100.net/RyjykN\n📖 Data Visualization with Tableau Specialization 👉https://imp.i384100.net/n15XWR\n📖 Deep Learning Specialization 👉 https://imp.i384100.net/zavBA0\n📖 Mathematics for Machine Learning and Data Science Specialization 👉 https://imp.i384100.net/LXK0gj\n📖 Google Data Analytics Certificate 👉 https://imp.i384100.net/15v9y6\n📖 Applied Data Science with Python 👉 https://imp.i384100.net/gbxOqv\n\n🙋🏻‍♀️ LET'S CONNECT!\n================================\n🤓 Join my Discord server: https://discord.gg/SK7ZC5XhcS\n📩  Newsletter: https://substack.com/profile/87689887-thu-vu\n✍ Medium: https://medium.com/@vuthihienthu.ueb\n🔗 All links: https://linktr.ee/thuvuanalytics\n\n🔑 TIMESTAMPS\n================================\n0:00 - Intro & objectives\n0:47 - Installing packages & project setup\n2:07 - Plan for the project 🧭\n3:34 - Get data & process data\n5:13 - Read in character names\n7:06 - Get character list per sentence\n9:47 - Create relationship df\n14:22 - Network graph visualization & analysis\n18:40 - Centrality measures\n20:26 - Community detection\n21:54 - Characters' importance over time\n25:25 - Where to learn graph analytics\n26:18 - Some announcement 😉\n\n================================\nAs a member of the Amazon and Coursera Affiliate Programs, I earn a commission from qualifying purchases on some of the links above.  It costs you nothing but helps me with content creation.\n\n#networkanalysis #Datanerd #DataAnalysis #datascience #ThuVu #dataanalytics",
          "playlistId": "UUJQJAI7IjbLcpsjWdSzYz0Q",
          "position": 37,
          "publishedAt": "2022-06-18T23:57:12Z",
          "resourceId": {
           "kind": "youtube#video",
           "videoId": "fAHkJ_Dhr50"
          },
          "thumbnails": {
           "default": {
            "height": 90,
            "url": "https://i.ytimg.com/vi/fAHkJ_Dhr50/default.jpg",
            "width": 120
           },
           "high": {
            "height": 360,
            "url": "https://i.ytimg.com/vi/fAHkJ_Dhr50/hqdefault.jpg",
            "width": 480
           },
           "maxres": {
            "height": 720,
            "url": "https://i.ytimg.com/vi/fAHkJ_Dhr50/maxresdefault.jpg",
            "width": 1280
           },
           "medium": {
            "height": 180,
            "url": "https://i.ytimg.com/vi/fAHkJ_Dhr50/mqdefault.jpg",
            "width": 320
           },
           "standard": {
            "height": 480,
            "url": "https://i.ytimg.com/vi/fAHkJ_Dhr50/sddefault.jpg",
            "width": 640
           }
          },
          "title": "Network of The Witcher | Relationship Extraction & Network Analysis with Spacy & NetworkX",
          "videoOwnerChannelId": "UCJQJAI7IjbLcpsjWdSzYz0Q",
          "videoOwnerChannelTitle": "Thu Vu data analytics"
         }
        },
        {
         "contentDetails": {
          "videoId": "OIj_uTLplPA",
          "videoPublishedAt": "2022-06-06T20:45:59Z"
         },
         "etag": "K4-QoWKF4W8QcuG_xHm1ifr5Z94",
         "id": "VVVKUUpBSTdJamJMY3BzaldkU3pZejBRLk9Jal91VExwbFBB",
         "kind": "youtube#playlistItem",
         "snippet": {
          "channelId": "UCJQJAI7IjbLcpsjWdSzYz0Q",
          "channelTitle": "Thu Vu data analytics",
          "description": "The nice weather recently made me feel a bit depressed to stay at home to work ☀️. I thought I could take this chance to show you a bit of Amsterdam and hopefully, get some work/ study done within an hour. \nHope you enjoyed the video and found a company to work on whatever you need to do 🙌🏽",
          "playlistId": "UUJQJAI7IjbLcpsjWdSzYz0Q",
          "position": 38,
          "publishedAt": "2022-06-06T20:45:59Z",
          "resourceId": {
           "kind": "youtube#video",
           "videoId": "OIj_uTLplPA"
          },
          "thumbnails": {
           "default": {
            "height": 90,
            "url": "https://i.ytimg.com/vi/OIj_uTLplPA/default.jpg",
            "width": 120
           },
           "high": {
            "height": 360,
            "url": "https://i.ytimg.com/vi/OIj_uTLplPA/hqdefault.jpg",
            "width": 480
           },
           "maxres": {
            "height": 720,
            "url": "https://i.ytimg.com/vi/OIj_uTLplPA/maxresdefault.jpg",
            "width": 1280
           },
           "medium": {
            "height": 180,
            "url": "https://i.ytimg.com/vi/OIj_uTLplPA/mqdefault.jpg",
            "width": 320
           },
           "standard": {
            "height": 480,
            "url": "https://i.ytimg.com/vi/OIj_uTLplPA/sddefault.jpg",
            "width": 640
           }
          },
          "title": "Real-Time Work/Study With Me - 1 Hour With Music",
          "videoOwnerChannelId": "UCJQJAI7IjbLcpsjWdSzYz0Q",
          "videoOwnerChannelTitle": "Thu Vu data analytics"
         }
        },
        {
         "contentDetails": {
          "videoId": "RuNolAh_4bU",
          "videoPublishedAt": "2022-05-28T23:03:26Z"
         },
         "etag": "kbqm8hOnuii8265kQ1sxty5fU4M",
         "id": "VVVKUUpBSTdJamJMY3BzaldkU3pZejBRLlJ1Tm9sQWhfNGJV",
         "kind": "youtube#playlistItem",
         "snippet": {
          "channelId": "UCJQJAI7IjbLcpsjWdSzYz0Q",
          "channelTitle": "Thu Vu data analytics",
          "description": "🔑GitHub repo for this project: https://github.com/thu-vu92/the_witcher_network\n👩🏻‍💻 2nd part of this series 👉 https://www.youtube.com/watch?v=fAHkJ_Dhr50&t=1003s\n🤖 Learn web scraping with Python 👉 https://imp.i384100.net/e4ZdXX\n\nHey data nerds 👋, in today's video we'll be discussing some tools for webscraping in Python (Selenium, Scrapy and Beautifulsoup). Then we'll move on to scrape the character names in the Witcher Wiki website. This is the first project in the Witcher project series where we will analyze the relationships between characters. I hope you enjoyed this video and any questions and thoughts are welcome! Thank you for watching 🙌🏽\n\n👩🏻‍💻 COURSES & RESOURCES\n================================\n📖 Learn SQL Basics for Data Science Specialization 👉 https://imp.i384100.net/AovPnJ\n📖 Excel Skills for Business 👉 https://coursera.pxf.io/doPaoy\n📖 Machine Learning Specialization 👉 https://imp.i384100.net/RyjykN\n📖 Data Visualization with Tableau Specialization 👉https://imp.i384100.net/n15XWR\n📖 Deep Learning Specialization 👉 https://imp.i384100.net/zavBA0\n📖 Mathematics for Machine Learning and Data Science Specialization 👉 https://imp.i384100.net/LXK0gj\n📖 Google Data Analytics Certificate 👉 https://imp.i384100.net/15v9y6\n📖 Applied Data Science with Python 👉 https://imp.i384100.net/gbxOqv\n\n🙋🏻‍♀️ LET'S CONNECT!\n================================\n🤓 Join my Discord server: https://discord.gg/SK7ZC5XhcS\n📩  Newsletter: https://substack.com/profile/87689887-thu-vu\n✍ Medium: https://medium.com/@vuthihienthu.ueb\n🔗 All links: https://linktr.ee/thuvuanalytics\n\nAs a member of the Amazon and Coursera Affiliate Programs, I earn a commission from qualifying purchases on the links above. By using the links you help support this channel at no cost for you.\n\n#Webscraping #Datanerd #DataAnalysis #CoffeeData #ThuVu #dataanalytics",
          "playlistId": "UUJQJAI7IjbLcpsjWdSzYz0Q",
          "position": 39,
          "publishedAt": "2022-05-28T23:03:26Z",
          "resourceId": {
           "kind": "youtube#video",
           "videoId": "RuNolAh_4bU"
          },
          "thumbnails": {
           "default": {
            "height": 90,
            "url": "https://i.ytimg.com/vi/RuNolAh_4bU/default.jpg",
            "width": 120
           },
           "high": {
            "height": 360,
            "url": "https://i.ytimg.com/vi/RuNolAh_4bU/hqdefault.jpg",
            "width": 480
           },
           "maxres": {
            "height": 720,
            "url": "https://i.ytimg.com/vi/RuNolAh_4bU/maxresdefault.jpg",
            "width": 1280
           },
           "medium": {
            "height": 180,
            "url": "https://i.ytimg.com/vi/RuNolAh_4bU/mqdefault.jpg",
            "width": 320
           },
           "standard": {
            "height": 480,
            "url": "https://i.ytimg.com/vi/RuNolAh_4bU/sddefault.jpg",
            "width": 640
           }
          },
          "title": "Python Web-scraping with Selenium vs Scrapy vs BeautifulSoup | Witcher project ep. #1",
          "videoOwnerChannelId": "UCJQJAI7IjbLcpsjWdSzYz0Q",
          "videoOwnerChannelTitle": "Thu Vu data analytics"
         }
        },
        {
         "contentDetails": {
          "videoId": "lpSw_RAPmgc",
          "videoPublishedAt": "2022-05-21T01:00:10Z"
         },
         "etag": "wmXUoMG4P4dKU51z_NSG_o7IbzY",
         "id": "VVVKUUpBSTdJamJMY3BzaldkU3pZejBRLmxwU3dfUkFQbWdj",
         "kind": "youtube#playlistItem",
         "snippet": {
          "channelId": "UCJQJAI7IjbLcpsjWdSzYz0Q",
          "channelTitle": "Thu Vu data analytics",
          "description": "Hey data nerds 👋, in today's video we'll be talking about some tips on how to learn data science faster. I struggled in the past to learn so many different skills in a short time and almost learned as I go on the job. I hope you enjoyed this video and any questions and thoughts are welcome! Thank you for watching 🙌🏽\n\n🎥 3 Types of Student (Mike and Matth’s channel): https://m.youtube.com/watch?v=w49BxZnpCA0\n💌 The Batch: https://www.deeplearning.ai/\n💌 Refind (customized newsletter on general knowledge): https://refind.com/\n\n👩🏻‍💻 COURSES & RESOURCES\n================================\n📖 Learn SQL Basics for Data Science Specialization 👉 https://imp.i384100.net/AovPnJ\n📖 Excel Skills for Business 👉 https://coursera.pxf.io/doPaoy\n📖 Machine Learning Specialization 👉 https://imp.i384100.net/RyjykN\n📖 Data Visualization with Tableau Specialization 👉https://imp.i384100.net/n15XWR\n📖 Deep Learning Specialization 👉 https://imp.i384100.net/zavBA0\n📖 Mathematics for Machine Learning and Data Science Specialization 👉 https://imp.i384100.net/LXK0gj\n📖 Google Data Analytics Certificate 👉 https://imp.i384100.net/15v9y6\n📖 Applied Data Science with Python 👉 https://imp.i384100.net/gbxOqv\n\n🙋🏻‍♀️ LET'S CONNECT!\n================================\n🤓 Join my Discord server: https://discord.gg/SK7ZC5XhcS\n📩  Newsletter: https://substack.com/profile/87689887-thu-vu\n✍ Medium: https://medium.com/@vuthihienthu.ueb\n🔗 All links: https://linktr.ee/thuvuanalytics\n\nAs a member of the Amazon and Coursera Affiliate Programs, I earn a commission from qualifying purchases on the links above. By using the links you help support this channel at no cost for you.\n\n#DataScience #Datanerd #DataAnalysis #CoffeeData #ThuVu #dataanalytics",
          "playlistId": "UUJQJAI7IjbLcpsjWdSzYz0Q",
          "position": 40,
          "publishedAt": "2022-05-21T01:00:10Z",
          "resourceId": {
           "kind": "youtube#video",
           "videoId": "lpSw_RAPmgc"
          },
          "thumbnails": {
           "default": {
            "height": 90,
            "url": "https://i.ytimg.com/vi/lpSw_RAPmgc/default.jpg",
            "width": 120
           },
           "high": {
            "height": 360,
            "url": "https://i.ytimg.com/vi/lpSw_RAPmgc/hqdefault.jpg",
            "width": 480
           },
           "maxres": {
            "height": 720,
            "url": "https://i.ytimg.com/vi/lpSw_RAPmgc/maxresdefault.jpg",
            "width": 1280
           },
           "medium": {
            "height": 180,
            "url": "https://i.ytimg.com/vi/lpSw_RAPmgc/mqdefault.jpg",
            "width": 320
           },
           "standard": {
            "height": 480,
            "url": "https://i.ytimg.com/vi/lpSw_RAPmgc/sddefault.jpg",
            "width": 640
           }
          },
          "title": "👩🏻‍💻 How to learn Data Science FASTER",
          "videoOwnerChannelId": "UCJQJAI7IjbLcpsjWdSzYz0Q",
          "videoOwnerChannelTitle": "Thu Vu data analytics"
         }
        },
        {
         "contentDetails": {
          "videoId": "UiG8q67Z2XU",
          "videoPublishedAt": "2022-05-06T15:49:46Z"
         },
         "etag": "k8g8wFD9nvZC6IRYVFIsjizlDsY",
         "id": "VVVKUUpBSTdJamJMY3BzaldkU3pZejBRLlVpRzhxNjdaMlhV",
         "kind": "youtube#playlistItem",
         "snippet": {
          "channelId": "UCJQJAI7IjbLcpsjWdSzYz0Q",
          "channelTitle": "Thu Vu data analytics",
          "description": "✍️ Sophia Yang's Medium blog: https://sophiamyang.medium.com/\n🎥 Sophia Yang's Youtube channel: https://www.youtube.com/c/SophiaYangDS\n\nHey data nerds 👋, in today's video we'll be talking about data science writing, i.e. how to start, what platform to choose and the whole writing process, etc. It is one of my favorite data science side hustles that not only help me learn better but also build my confidence over time in my knowledge. It is beginner-friendly and also helps you connect with like-minded people, just like how I got to know Sophia through her blog. I hope you enjoyed this video and any questions and thoughts are welcome! Thank you for watching 🙌🏽\n\n👩🏻‍💻 COURSES & RESOURCES\n================================\n📖 Learn SQL Basics for Data Science Specialization 👉 https://imp.i384100.net/AovPnJ\n📖 Excel Skills for Business 👉 https://coursera.pxf.io/doPaoy\n📖 Machine Learning Specialization 👉 https://imp.i384100.net/RyjykN\n📖 Data Visualization with Tableau Specialization 👉https://imp.i384100.net/n15XWR\n📖 Deep Learning Specialization 👉 https://imp.i384100.net/zavBA0\n📖 Mathematics for Machine Learning and Data Science Specialization 👉 https://imp.i384100.net/LXK0gj\n📖 Google Data Analytics Certificate 👉 https://imp.i384100.net/15v9y6\n📖 Applied Data Science with Python 👉 https://imp.i384100.net/gbxOqv\n\n🙋🏻‍♀️ LET'S CONNECT!\n================================\n🤓 Join my Discord server: https://discord.gg/SK7ZC5XhcS\n📩  Newsletter: https://substack.com/profile/87689887-thu-vu\n✍ Medium: https://medium.com/@vuthihienthu.ueb\n🔗 All links: https://linktr.ee/thuvuanalytics\n\n🔑 TIMESTAMPS\n================================\n0:00 - Why Data science writing?\n0:48 - Intro Sophia Yang\n1:22 - What topics to write about\n2:17 - Best blogging platforms for beginners\n4:24 - Writing process: researching and time spent\n5:42 - 3 ways to get more views\n7:13 - When your blog goes viral.. 🤯\n8:06 - Conclusions\n\n================================\nAs a member of the Amazon and Coursera Affiliate Programs, I earn a commission from qualifying purchases on some of the links above.  It costs you nothing but helps me with content creation.\n\n#DataScience #Datanerd #DataAnalysis #CoffeeData #ThuVu #dataanalytics",
          "playlistId": "UUJQJAI7IjbLcpsjWdSzYz0Q",
          "position": 41,
          "publishedAt": "2022-05-06T15:49:46Z",
          "resourceId": {
           "kind": "youtube#video",
           "videoId": "UiG8q67Z2XU"
          },
          "thumbnails": {
           "default": {
            "height": 90,
            "url": "https://i.ytimg.com/vi/UiG8q67Z2XU/default.jpg",
            "width": 120
           },
           "high": {
            "height": 360,
            "url": "https://i.ytimg.com/vi/UiG8q67Z2XU/hqdefault.jpg",
            "width": 480
           },
           "maxres": {
            "height": 720,
            "url": "https://i.ytimg.com/vi/UiG8q67Z2XU/maxresdefault.jpg",
            "width": 1280
           },
           "medium": {
            "height": 180,
            "url": "https://i.ytimg.com/vi/UiG8q67Z2XU/mqdefault.jpg",
            "width": 320
           },
           "standard": {
            "height": 480,
            "url": "https://i.ytimg.com/vi/UiG8q67Z2XU/sddefault.jpg",
            "width": 640
           }
          },
          "title": "Data Science Side Hustles: A Guide to Technical Writing ft. Sophia Yang",
          "videoOwnerChannelId": "UCJQJAI7IjbLcpsjWdSzYz0Q",
          "videoOwnerChannelTitle": "Thu Vu data analytics"
         }
        },
        {
         "contentDetails": {
          "videoId": "A8Abf3u0ZIs",
          "videoPublishedAt": "2022-04-30T23:40:33Z"
         },
         "etag": "sReSPfy54vCe6C_iLz9I3ERCJXo",
         "id": "VVVKUUpBSTdJamJMY3BzaldkU3pZejBRLkE4QWJmM3UwWklz",
         "kind": "youtube#playlistItem",
         "snippet": {
          "channelId": "UCJQJAI7IjbLcpsjWdSzYz0Q",
          "channelTitle": "Thu Vu data analytics",
          "description": "🤖 Coursera's courses mentioned:\n🔗 Mathematics for Machine Learning Specialization: https://imp.i384100.net/BX91NB\n🔗 Data Science Math Skills: https://imp.i384100.net/oevBxo\n🔗 Deep Learning Specialization: https://imp.i384100.net/zavBA0\n\n👉 Comprehensive math book for DS:\n📚 Mathematics for Machine Learning: https://mml-book.github.io/book/mml-book.pdf\n\n👉 Statistics books with R:\n📚 Modern Statistics with R: http://www.modernstatisticswithr.com/\n📚 Introduction to Statistical Learning: https://www.statlearning.com/\n📚 Introduction to Statistical Thinking: https://open.umn.edu/opentextbooks/textbooks/1044\n\n👩🏻‍💻 COURSES & RESOURCES\n================================\n📖 Learn SQL Basics for Data Science Specialization 👉 https://imp.i384100.net/AovPnJ\n📖 Excel Skills for Business 👉 https://coursera.pxf.io/doPaoy\n📖 Machine Learning Specialization 👉 https://imp.i384100.net/RyjykN\n📖 Data Visualization with Tableau Specialization 👉https://imp.i384100.net/n15XWR\n📖 Deep Learning Specialization 👉 https://imp.i384100.net/zavBA0\n📖 Mathematics for Machine Learning and Data Science Specialization 👉 https://imp.i384100.net/LXK0gj\n📖 Google Data Analytics Certificate 👉 https://imp.i384100.net/15v9y6\n📖 Applied Data Science with Python 👉 https://imp.i384100.net/gbxOqv\n\n🙋🏻‍♀️ LET'S CONNECT!\n================================\n🤓 Join my Discord server: https://discord.gg/SK7ZC5XhcS\n📩  Newsletter: https://substack.com/profile/87689887-thu-vu\n✍ Medium: https://medium.com/@vuthihienthu.ueb\n🔗 All links: https://linktr.ee/thuvuanalytics\n\n🔑 TIMESTAMPS\n================================\n0:00 - Intro\n0:37 - The math you need to know for DS\n1:12 - !!You don’t need to know everything!!\n2:23 - Linear algebra essentials\n3:10 - Calculus essentials\n4:04 - Statistics & probability essentials\n5:07 - Discrete math\n6:08 - Tips for learning math\n12:30 - Bonus tip\n13:24 - Outro\n\n================================\nAs a member of the Amazon and Coursera Affiliate Programs, I earn a commission from qualifying purchases on some of the links above.  It costs you nothing but helps me with content creation.\n\n#Math #DataScience #Datanerd #DataAnalysis #CoffeeData #ThuVu #dataanalytics",
          "playlistId": "UUJQJAI7IjbLcpsjWdSzYz0Q",
          "position": 42,
          "publishedAt": "2022-04-30T23:40:33Z",
          "resourceId": {
           "kind": "youtube#video",
           "videoId": "A8Abf3u0ZIs"
          },
          "thumbnails": {
           "default": {
            "height": 90,
            "url": "https://i.ytimg.com/vi/A8Abf3u0ZIs/default.jpg",
            "width": 120
           },
           "high": {
            "height": 360,
            "url": "https://i.ytimg.com/vi/A8Abf3u0ZIs/hqdefault.jpg",
            "width": 480
           },
           "maxres": {
            "height": 720,
            "url": "https://i.ytimg.com/vi/A8Abf3u0ZIs/maxresdefault.jpg",
            "width": 1280
           },
           "medium": {
            "height": 180,
            "url": "https://i.ytimg.com/vi/A8Abf3u0ZIs/mqdefault.jpg",
            "width": 320
           },
           "standard": {
            "height": 480,
            "url": "https://i.ytimg.com/vi/A8Abf3u0ZIs/sddefault.jpg",
            "width": 640
           }
          },
          "title": "How to Learn Math for Data Science (and stay sane!)",
          "videoOwnerChannelId": "UCJQJAI7IjbLcpsjWdSzYz0Q",
          "videoOwnerChannelTitle": "Thu Vu data analytics"
         }
        },
        {
         "contentDetails": {
          "videoId": "OEVNDRZxgz8",
          "videoPublishedAt": "2022-04-23T00:50:24Z"
         },
         "etag": "sr0dW5z0jzCEkcKBe-A5zp9D0Jw",
         "id": "VVVKUUpBSTdJamJMY3BzaldkU3pZejBRLk9FVk5EUlp4Z3o4",
         "kind": "youtube#playlistItem",
         "snippet": {
          "channelId": "UCJQJAI7IjbLcpsjWdSzYz0Q",
          "channelTitle": "Thu Vu data analytics",
          "description": "👩🏻‍💻 My portfolio website built in this video: https://www.conscientiousgeek.com/ (with some quick final touch at the end 😉)\n👉More about Stackbit: https://www.stackbit.com/\n\nPortfolio website is great for showing your data science projects with others, and also showing who you are as a person :). Good news is that you can build a blog site very quickly and easily thanks to several tools available nowadays. In this video, I'm showing you how to use Stackbit. Finally, we will also connect our website with a custom domain if you own one (highly recommend!). Our website will be hosted on Netlify for free (hopefully forever!). I hope you found this video helpful! Thank you for watching! 👋 \n\n---------------------------------------------------------------\n👩🏻‍💻 My laptop and iPad for doing DS/ study 👉 https://kit.co/thuvu/computer-ipad\n⚙️ Tech I use for making Youtube videos 👉 https://kit.co/thuvu/my-budget-youtube-gear\n🔍Check out my other videos on Data Analyst/ Data Science 👉 https://bit.ly/3qW9YpU\n\nCOURSES & RESOURCES\n================================\n💯 SQL Courses:\nSelect Star SQL 👉  https://selectstarsql.com/\nBipp.io SQL tutorials 👉 https://bipp.io/sql-tutorial/\n \n📑 Excel Courses:\nExcel Skills for Business 👉  https://coursera.pxf.io/doPaoy\n(or just Youtube tutorials, it's free :))\n \n📊 Data Visualisation:\n📚 Books I recommend: https://kit.co/thuvu/books-on-data-visualization\nHow to create effective charts and diagrams 👉 https://education.microsoft.com/nb-no/course/0a60eeb6/0\nData Viz Catalog 👉 https://datavizproject.com/\n \n🤖 Programming Courses:\nPython for Everybody Specialization 👉https://coursera.pxf.io/RyN5yy\nIntroduction to AI with Python (Harvard University)  👉 https://www.edx.org/course/cs50s-introduction-to-artificial-intelligence-with-python\nUsing Python for Research (Harvard University)  👉 https://www.edx.org/course/using-python-for-research\nR Programming 👉 https://coursera.pxf.io/x9jk9O\n(this course can be tough at times especially at the assignment parts, but it's worth the challenge. I'd recommend it to someone who's already familiar with R or other programming languages.)\n\n🙋🏻‍♀️ LET'S CONNECT!\n================================\n🤓 Join my Discord server: \nhttps://discord.gg/SK7ZC5XhcS\n\n📩  SUBSCRIBE to my Substack to get future newsletters from me:\nhttps://substack.com/profile/87689887-thu-vu\n\n✍ FOLLOW me on Medium:\nhttps://medium.com/@vuthihienthu.ueb\n(I sometimes make both video and article versions of my content, by following me on Medium you will have access to the content in writing too).\n\n🔗 Other Links:\nhttps://linktr.ee/thuvuanalytics\n\n🔔 SUBSCRIBE to my channel (It's FREE):\nhttps://www.youtube.com/c/Thuvu5?sub_...\n\n\n🔑 TIMESTAMPS\n================================\n0:00 - Intro\n0:12 - Why you need a portfolio website\n0:52 - About Stackbit & Why I use it\n1:58 - Let's start building!\n7:04 - Creating blog posts\n10:28 - Creating new pages\n11:26 - Connecting the website to custom domain\n13:09 - Ways to promote your blog & projects\n13:53 - Alternatives for building websites, pros & cons\n15:13 - Conclusions \n\n\n================================\nAs a member of the Amazon and Coursera Affiliate Programs, I earn a commission from qualifying purchases on some of the links above.  It costs you nothing but helps me with content creation.\n\n#Portfoliowebsite #DataScience #Datanerd #DataAnalysis #CoffeeData #ThuVu #dataanalytics",
          "playlistId": "UUJQJAI7IjbLcpsjWdSzYz0Q",
          "position": 43,
          "publishedAt": "2022-04-23T00:50:24Z",
          "resourceId": {
           "kind": "youtube#video",
           "videoId": "OEVNDRZxgz8"
          },
          "thumbnails": {
           "default": {
            "height": 90,
            "url": "https://i.ytimg.com/vi/OEVNDRZxgz8/default.jpg",
            "width": 120
           },
           "high": {
            "height": 360,
            "url": "https://i.ytimg.com/vi/OEVNDRZxgz8/hqdefault.jpg",
            "width": 480
           },
           "maxres": {
            "height": 720,
            "url": "https://i.ytimg.com/vi/OEVNDRZxgz8/maxresdefault.jpg",
            "width": 1280
           },
           "medium": {
            "height": 180,
            "url": "https://i.ytimg.com/vi/OEVNDRZxgz8/mqdefault.jpg",
            "width": 320
           },
           "standard": {
            "height": 480,
            "url": "https://i.ytimg.com/vi/OEVNDRZxgz8/sddefault.jpg",
            "width": 640
           }
          },
          "title": "How to Create a Portfolio Website for Data Science👩🏻‍💻 | Stackbit + Netlify",
          "videoOwnerChannelId": "UCJQJAI7IjbLcpsjWdSzYz0Q",
          "videoOwnerChannelTitle": "Thu Vu data analytics"
         }
        },
        {
         "contentDetails": {
          "videoId": "lkMh1g41drk",
          "videoPublishedAt": "2022-04-14T00:00:41Z"
         },
         "etag": "pm-2G21EiFBcuMFN70ralpyn5jg",
         "id": "VVVKUUpBSTdJamJMY3BzaldkU3pZejBRLmxrTWgxZzQxZHJr",
         "kind": "youtube#playlistItem",
         "snippet": {
          "channelId": "UCJQJAI7IjbLcpsjWdSzYz0Q",
          "channelTitle": "Thu Vu data analytics",
          "description": "🔗 Teach yourself CS (including Data structures & Algos): https://teachyourselfcs.com/\n\n🔑 TIMESTAMPS\n(I'm very sorry if I missed any of your questions! I hope I will be able to answer them in another video or another time 😉)\n================================\n0:00 - Thank you 🙌🏽\n0:40 - What is your belief on work-life balance?\n2:08 - Is data analytics a stressful lifestyle; meaning, are you constantly having to work overtime?\n2:47 - How often of each skillset (tableau, python, etc.) would you say you spend the most on?\n3:13 - How can we make transition to making portfolio projects and most importantly showcase them? How many projects are optimal and or minimum for a portfolio?\n4:00 - Tell us about your time in Vietnam! 🇻🇳 South or North?  What made you want to learn English and move abroad. How come you chose The Netherlands?\n4:50 - I am also planning on taking another Bachelor's. What do you think would be beneficial if I want to go to the IT Business Analyst track, to study CS or straight up go to a Bachelor's in Data Science?\n5:39 - I am a physicist with Ph.D., strong knowledge in statistics and experience in scientific programming in R, but without experience in the industry. Should I try a position as a data scientist at the entry level or a higher level?\n6:39 - Would you like to share your experience in studying abroad? \n8:12 - How do you approach dealing with Math, specifically those that are technical?\n8:52 - At what point can one use the Data Scientist/ Data Science consultant title?\n9:36 - Pros and cons of working in data analytics at a consulting firm vs industry\n10:25 - It would be really great for us if you start tutorial on advanced Data Science concepts.\n11:07 - How old are you? (It's ok if you don't want to answer this 😅)\n11:26 - How much time it took you to become an independent professional on the data analytics field\n11:54 - How much mathematics do we need to learn for data analytics and machine learning.\n12:47 - How long do you think it will take for one to start learning data analytics(beginner level) and be ready to apply for jobs?\n13:34 - How did you handle impostor syndrome as a junior data analyst? And what would you advise?\n14:50 - Could you address how you network to find a job? I understand that I should connect on linked and join career fair, but I don’t know how should i talk to network with them?\n15:15 - What's your preferred development environment to build an end-to-end data science project?.\n15:38 - Interview process of data analyst?\n15:55 - Will there be the case for mixing data analyst and data scientist job?\n16:26 - How do you manage to work at a faang company and still have time for YouTube and personal life??\n17:06 - How much data structure and algorithm is needed for better data science career?\n18:18 - What are some books that helped you in your career and in your life?\n\n---------------------------------------------------------------\n👩🏻‍💻 My laptop and iPad for doing DS/ study 👉 https://kit.co/thuvu/computer-ipad\n⚙️ Tech I use for making Youtube videos 👉 https://kit.co/thuvu/my-budget-youtube-gear\n🔍Check out my other videos on Data Analyst/ Data Science 👉 https://bit.ly/3qW9YpU\n\nCOURSES & RESOURCES\n================================\n💯 SQL Courses:\nSelect Star SQL 👉  https://selectstarsql.com/\nBipp.io SQL tutorials 👉 https://bipp.io/sql-tutorial/\n \n📑 Excel Courses:\nExcel Skills for Business 👉  https://coursera.pxf.io/doPaoy\n(or just Youtube tutorials, it's free :))\n \n📊 Data Visualisation:\n📚 Books I recommend: https://kit.co/thuvu/books-on-data-visualization\nHow to create effective charts and diagrams 👉 https://education.microsoft.com/nb-no/course/0a60eeb6/0\nData Viz Catalog 👉 https://datavizproject.com/\n \n🤖 Programming Courses:\nPython for Everybody Specialization 👉https://coursera.pxf.io/RyN5yy\nIntroduction to AI with Python (Harvard University)  👉 https://www.edx.org/course/cs50s-introduction-to-artificial-intelligence-with-python\nUsing Python for Research (Harvard University)  👉 https://www.edx.org/course/using-python-for-research\nR Programming 👉 https://coursera.pxf.io/x9jk9O\n(this course can be tough at times especially at the assignment parts, but it's worth the challenge. I'd recommend it to someone who's already familiar with R or other programming languages.)\n\n🙋🏻‍♀️ LET'S CONNECT!\n================================\n🔔 SUBSCRIBE to my channel:\nhttps://www.youtube.com/channel/UCJQJAI7IjbLcpsjWdSzYz0Q?sub_confirmation=1 \n\n✍ FOLLOW me on Medium:\nhttps://medium.com/@vuthihienthu.ueb\n(I sometimes make both video and article versions of my content, by following me on Medium you will have access to the content in writing too).\n\n🤳 VISIT my Tiktok:\nhttps://www.tiktok.com/@sassy.python\n\n\n================================\nAs a member of the Amazon and Coursera Affiliate Programs, I earn a commission from qualifying purchases on some of the links above.  It costs you nothing but helps me with content creation.\n\n#DataScience #Datanerd #DataAnalysis #CoffeeData #ThuVu #dataanalytics",
          "playlistId": "UUJQJAI7IjbLcpsjWdSzYz0Q",
          "position": 44,
          "publishedAt": "2022-04-14T00:00:41Z",
          "resourceId": {
           "kind": "youtube#video",
           "videoId": "lkMh1g41drk"
          },
          "thumbnails": {
           "default": {
            "height": 90,
            "url": "https://i.ytimg.com/vi/lkMh1g41drk/default.jpg",
            "width": 120
           },
           "high": {
            "height": 360,
            "url": "https://i.ytimg.com/vi/lkMh1g41drk/hqdefault.jpg",
            "width": 480
           },
           "maxres": {
            "height": 720,
            "url": "https://i.ytimg.com/vi/lkMh1g41drk/maxresdefault.jpg",
            "width": 1280
           },
           "medium": {
            "height": 180,
            "url": "https://i.ytimg.com/vi/lkMh1g41drk/mqdefault.jpg",
            "width": 320
           },
           "standard": {
            "height": 480,
            "url": "https://i.ytimg.com/vi/lkMh1g41drk/sddefault.jpg",
            "width": 640
           }
          },
          "title": "Data Science Career, Work-life Balance, Study: 15K Sub Q&A",
          "videoOwnerChannelId": "UCJQJAI7IjbLcpsjWdSzYz0Q",
          "videoOwnerChannelTitle": "Thu Vu data analytics"
         }
        },
        {
         "contentDetails": {
          "videoId": "qdzuq_o8-dI",
          "videoPublishedAt": "2022-03-28T22:51:33Z"
         },
         "etag": "HcfwCXLvNtu_yXjZivONltPrQOw",
         "id": "VVVKUUpBSTdJamJMY3BzaldkU3pZejBRLnFkenVxX284LWRJ",
         "kind": "youtube#playlistItem",
         "snippet": {
          "channelId": "UCJQJAI7IjbLcpsjWdSzYz0Q",
          "channelTitle": "Thu Vu data analytics",
          "description": "👩🏻‍💻 My Macbook (Amazon): https://t.ly/x20C\n\nMacbook M1 Pro 14'' is here!! I have used this laptop for 3 months now and it has been really great! In this video, I'll break down (in a nerdy way) some core factors that affect computers' performance and why I think this Macbook is great for data science. This is definitely not a comprehensive discussion about computer specs. It was a lot of rambling but hope you enjoyed it and found it helpful! Thank you for watching! 👋 \n👩🏻‍💻 COURSES & RESOURCES\n================================\n📖 Learn SQL Basics for Data Science Specialization 👉 https://imp.i384100.net/AovPnJ\n📖 Excel Skills for Business 👉 https://coursera.pxf.io/doPaoy\n📖 Machine Learning Specialization 👉 https://imp.i384100.net/RyjykN\n📖 Data Visualization with Tableau Specialization 👉https://imp.i384100.net/n15XWR\n📖 Deep Learning Specialization 👉 https://imp.i384100.net/zavBA0\n📖 Mathematics for Machine Learning and Data Science Specialization 👉 https://imp.i384100.net/LXK0gj\n📖 Google Data Analytics Certificate 👉 https://imp.i384100.net/15v9y6\n📖 Applied Data Science with Python 👉 https://imp.i384100.net/gbxOqv\n\n🙋🏻‍♀️ LET'S CONNECT!\n================================\n🤓 Join my Discord server: https://discord.gg/SK7ZC5XhcS\n📩  Newsletter: https://substack.com/profile/87689887-thu-vu\n✍ Medium: https://medium.com/@vuthihienthu.ueb\n🔗 All links: https://linktr.ee/thuvuanalytics\n\n🔑 TIMESTAMPS\n================================\n0:00 - Intro\n0:51 - My experience with performance\n3:28 - What matters for performance & Why M1 Pro is good ;)\n8:48 - Aesthetics\n9:23 - Convenience \n10:25 - Limitations\n\n#MacbookM1Pro #DataScience #Datanerd #DataAnalysis #CoffeeData #ThuVu #dataanalytics",
          "playlistId": "UUJQJAI7IjbLcpsjWdSzYz0Q",
          "position": 45,
          "publishedAt": "2022-03-28T22:51:33Z",
          "resourceId": {
           "kind": "youtube#video",
           "videoId": "qdzuq_o8-dI"
          },
          "thumbnails": {
           "default": {
            "height": 90,
            "url": "https://i.ytimg.com/vi/qdzuq_o8-dI/default.jpg",
            "width": 120
           },
           "high": {
            "height": 360,
            "url": "https://i.ytimg.com/vi/qdzuq_o8-dI/hqdefault.jpg",
            "width": 480
           },
           "maxres": {
            "height": 720,
            "url": "https://i.ytimg.com/vi/qdzuq_o8-dI/maxresdefault.jpg",
            "width": 1280
           },
           "medium": {
            "height": 180,
            "url": "https://i.ytimg.com/vi/qdzuq_o8-dI/mqdefault.jpg",
            "width": 320
           },
           "standard": {
            "height": 480,
            "url": "https://i.ytimg.com/vi/qdzuq_o8-dI/sddefault.jpg",
            "width": 640
           }
          },
          "title": "👩🏻‍💻 Why Macbook M1 Pro 2021 is the BEST laptop for Data Science",
          "videoOwnerChannelId": "UCJQJAI7IjbLcpsjWdSzYz0Q",
          "videoOwnerChannelTitle": "Thu Vu data analytics"
         }
        },
        {
         "contentDetails": {
          "videoId": "eiZbEcMX3b4",
          "videoPublishedAt": "2022-03-18T21:32:41Z"
         },
         "etag": "kPSKbvcJWQ7DymeWCl1gAYGNsLM",
         "id": "VVVKUUpBSTdJamJMY3BzaldkU3pZejBRLmVpWmJFY01YM2I0",
         "kind": "youtube#playlistItem",
         "snippet": {
          "channelId": "UCJQJAI7IjbLcpsjWdSzYz0Q",
          "channelTitle": "Thu Vu data analytics",
          "description": "Hello, data junkies! In today's video, I will talk about how I come up with personal data projects to develop different data skills. I feel like this topic is not talked about often enough. For those of you who are new to data science and still exploring and learning new things, I think personal projects are a fantastic way to learn new skills at your own pace and develop an interesting data portfolio to prepare you for a data science role. I'm curious which projects you will come up with for yourself! Let me know in the comment below. Thank you for watching! 👋 \n\n👩🏻‍💻 COURSES & RESOURCES\n================================\n📖 Learn SQL Basics for Data Science Specialization 👉 https://imp.i384100.net/AovPnJ\n📖 Excel Skills for Business 👉 https://coursera.pxf.io/doPaoy\n📖 Machine Learning Specialization 👉 https://imp.i384100.net/RyjykN\n📖 Data Visualization with Tableau Specialization 👉https://imp.i384100.net/n15XWR\n📖 Deep Learning Specialization 👉 https://imp.i384100.net/zavBA0\n📖 Mathematics for Machine Learning and Data Science Specialization 👉 https://imp.i384100.net/LXK0gj\n📖 Google Data Analytics Certificate 👉 https://imp.i384100.net/15v9y6\n📖 Applied Data Science with Python 👉 https://imp.i384100.net/gbxOqv\n\n🙋🏻‍♀️ LET'S CONNECT!\n================================\n🤓 Join my Discord server: https://discord.gg/SK7ZC5XhcS\n📩  Newsletter: https://substack.com/profile/87689887-thu-vu\n✍ Medium: https://medium.com/@vuthihienthu.ueb\n🔗 All links: https://linktr.ee/thuvuanalytics\n\n🔑 TIMESTAMPS\n================================\n0:00 - Intro\n0:18 - 2 ways of getting projects\n0:57 - Projects from hobbies\n3:50 - Solving daily problems\n5:35 - Inspired by your interests/ expertise\n6:20 - \"Stealing like an artist\"\n8:25 - How I capture ideas & keep track of progress\n9:05 - How to start and keep going\n\n================================\nAs a member of the Amazon and Coursera Affiliate Programs, I earn a commission from qualifying purchases on some of the links above.  It costs you nothing but helps me with content creation.\n\n#DataScience #Datanerd #DataAnalysis #CoffeeData #ThuVu #dataanalytics",
          "playlistId": "UUJQJAI7IjbLcpsjWdSzYz0Q",
          "position": 46,
          "publishedAt": "2022-03-18T21:32:41Z",
          "resourceId": {
           "kind": "youtube#video",
           "videoId": "eiZbEcMX3b4"
          },
          "thumbnails": {
           "default": {
            "height": 90,
            "url": "https://i.ytimg.com/vi/eiZbEcMX3b4/default.jpg",
            "width": 120
           },
           "high": {
            "height": 360,
            "url": "https://i.ytimg.com/vi/eiZbEcMX3b4/hqdefault.jpg",
            "width": 480
           },
           "maxres": {
            "height": 720,
            "url": "https://i.ytimg.com/vi/eiZbEcMX3b4/maxresdefault.jpg",
            "width": 1280
           },
           "medium": {
            "height": 180,
            "url": "https://i.ytimg.com/vi/eiZbEcMX3b4/mqdefault.jpg",
            "width": 320
           },
           "standard": {
            "height": 480,
            "url": "https://i.ytimg.com/vi/eiZbEcMX3b4/sddefault.jpg",
            "width": 640
           }
          },
          "title": "How I come up with Data Project IDEAS 💡",
          "videoOwnerChannelId": "UCJQJAI7IjbLcpsjWdSzYz0Q",
          "videoOwnerChannelTitle": "Thu Vu data analytics"
         }
        },
        {
         "contentDetails": {
          "videoId": "uhxiXOTKzfs",
          "videoPublishedAt": "2022-03-10T01:32:41Z"
         },
         "etag": "suHH0cd8EjC2WsgipYo5X21tpuI",
         "id": "VVVKUUpBSTdJamJMY3BzaldkU3pZejBRLnVoeGlYT1RLemZz",
         "kind": "youtube#playlistItem",
         "snippet": {
          "channelId": "UCJQJAI7IjbLcpsjWdSzYz0Q",
          "channelTitle": "Thu Vu data analytics",
          "description": "Hello lovely nerds! In today's video, I will show you how to create a beautiful (I think 🙈) data visualization dashboard in Python from your Jupyter Notebooks. I had a lot of fun doing this project and I hope you will have fun watching it as well. I'm so sorry for my stuffy-nose voice today (my hay fever season just started 🤦🏻‍♀️), but I hope you can still hear me clearly. Let me know in the comment if you found this project useful! Thank you for watching! 👋 \n\n🔑 Github repo for this project: \nhttps://github.com/thu-vu92/python-dashboard-panel\n\n🔍 More on panel and hvplot packages:\nhttps://panel.holoviz.org/\nhttps://hvplot.holoviz.org/user_guide/Introduction.html\n\n👩🏻‍💻 COURSES & RESOURCES\n================================\n📖 Learn SQL Basics for Data Science Specialization 👉 https://imp.i384100.net/AovPnJ\n📖 Excel Skills for Business 👉 https://coursera.pxf.io/doPaoy\n📖 Machine Learning Specialization 👉 https://imp.i384100.net/RyjykN\n📖 Data Visualization with Tableau Specialization 👉https://imp.i384100.net/n15XWR\n📖 Deep Learning Specialization 👉 https://imp.i384100.net/zavBA0\n📖 Mathematics for Machine Learning and Data Science Specialization 👉 https://imp.i384100.net/LXK0gj\n📖 Google Data Analytics Certificate 👉 https://imp.i384100.net/15v9y6\n📖 Applied Data Science with Python 👉 https://imp.i384100.net/gbxOqv\n\n🙋🏻‍♀️ LET'S CONNECT!\n================================\n🤓 Join my Discord server: https://discord.gg/SK7ZC5XhcS\n📩  Newsletter: https://substack.com/profile/87689887-thu-vu\n✍ Medium: https://medium.com/@vuthihienthu.ueb\n🔗 All links: https://linktr.ee/thuvuanalytics\n\nAs a member of the Amazon and Coursera Affiliate Programs, I earn a commission from qualifying purchases on the links above. By using the links you help support this channel at no cost for you.\n\n\n🔑 TIMESTAMPS\n================================\n0:00 - Intro to project\n0:33 - Dataset & choosing tools\n1:50 - Intro to Panel package\n2:24 - Project set-up\n4:35 - Visualization ideation\n5:46 - Coding the dashboard \n10:06 - Serving dashboard\n\n#dataviz DataScience #Datanerd #DataAnalysis #CoffeeData #ThuVu #dataanalytics",
          "playlistId": "UUJQJAI7IjbLcpsjWdSzYz0Q",
          "position": 47,
          "publishedAt": "2022-03-10T01:32:41Z",
          "resourceId": {
           "kind": "youtube#video",
           "videoId": "uhxiXOTKzfs"
          },
          "thumbnails": {
           "default": {
            "height": 90,
            "url": "https://i.ytimg.com/vi/uhxiXOTKzfs/default.jpg",
            "width": 120
           },
           "high": {
            "height": 360,
            "url": "https://i.ytimg.com/vi/uhxiXOTKzfs/hqdefault.jpg",
            "width": 480
           },
           "maxres": {
            "height": 720,
            "url": "https://i.ytimg.com/vi/uhxiXOTKzfs/maxresdefault.jpg",
            "width": 1280
           },
           "medium": {
            "height": 180,
            "url": "https://i.ytimg.com/vi/uhxiXOTKzfs/mqdefault.jpg",
            "width": 320
           },
           "standard": {
            "height": 480,
            "url": "https://i.ytimg.com/vi/uhxiXOTKzfs/sddefault.jpg",
            "width": 640
           }
          },
          "title": "How to Create a Beautiful Python Visualization Dashboard With Panel/Hvplot",
          "videoOwnerChannelId": "UCJQJAI7IjbLcpsjWdSzYz0Q",
          "videoOwnerChannelTitle": "Thu Vu data analytics"
         }
        },
        {
         "contentDetails": {
          "videoId": "nNfco7k7Hi0",
          "videoPublishedAt": "2022-02-25T12:14:09Z"
         },
         "etag": "L3RRe2zYRXUBLzherN2PAL1VYMs",
         "id": "VVVKUUpBSTdJamJMY3BzaldkU3pZejBRLm5OZmNvN2s3SGkw",
         "kind": "youtube#playlistItem",
         "snippet": {
          "channelId": "UCJQJAI7IjbLcpsjWdSzYz0Q",
          "channelTitle": "Thu Vu data analytics",
          "description": "📚 Free data science books for beginners: https://bit.ly/3JXyiy7\n\nHello lovely nerds! In today's video, we'll go back in time and talk about my 5 biggest mistakes when learning data science and what I wish I would do differently. I only realized that after a few years of transitioning into the field, these mistakes really hindered me from progressing faster in learning data science. Hope you learned a thing or two from these mistakes and thank you for watching! 👋 \n\n👩🏻‍💻 My laptop and iPad for doing DS/ study 👉 https://kit.co/thuvu/computer-ipad\n⚙️ Tech I use for making Youtube videos 👉 https://kit.co/thuvu/my-budget-youtube-gear\n🔍Check out my other videos on Data Analyst/ Data Science 👉 https://bit.ly/3qW9YpU\n\n👩🏻‍💻 COURSES & RESOURCES\n================================\n📖 Learn SQL Basics for Data Science Specialization 👉 https://imp.i384100.net/AovPnJ\n📖 Excel Skills for Business 👉 https://coursera.pxf.io/doPaoy\n📖 Machine Learning Specialization 👉 https://imp.i384100.net/RyjykN\n📖 Data Visualization with Tableau Specialization 👉https://imp.i384100.net/n15XWR\n📖 Deep Learning Specialization 👉 https://imp.i384100.net/zavBA0\n📖 Mathematics for Machine Learning and Data Science Specialization 👉 https://imp.i384100.net/LXK0gj\n📖 Google Data Analytics Certificate 👉 https://imp.i384100.net/15v9y6\n📖 Applied Data Science with Python 👉 https://imp.i384100.net/gbxOqv\n\n🙋🏻‍♀️ LET'S CONNECT!\n================================\n🤓 Join my Discord server: https://discord.gg/SK7ZC5XhcS\n📩  Newsletter: https://substack.com/profile/87689887-thu-vu\n✍ Medium: https://medium.com/@vuthihienthu.ueb\n🔗 All links: https://linktr.ee/thuvuanalytics\n\nAs a member of the Amazon and Coursera Affiliate Programs, I earn a commission from qualifying purchases on the links above. By using the links you help support this channel at no cost for you.\n\n🔑 TIMESTAMPS\n================================\n0:00 - What this video is about\n0:12 - Mistake no.1\n2:03 - Mistake no.2\n3:40 - Mistake no.3\n5:03 - Mistake no.4\n6:01 - Mistake no.5\n\n#DataScience #Datanerd #DataAnalysis #CoffeeData #ThuVu #dataanalytics",
          "playlistId": "UUJQJAI7IjbLcpsjWdSzYz0Q",
          "position": 48,
          "publishedAt": "2022-02-25T12:14:09Z",
          "resourceId": {
           "kind": "youtube#video",
           "videoId": "nNfco7k7Hi0"
          },
          "thumbnails": {
           "default": {
            "height": 90,
            "url": "https://i.ytimg.com/vi/nNfco7k7Hi0/default.jpg",
            "width": 120
           },
           "high": {
            "height": 360,
            "url": "https://i.ytimg.com/vi/nNfco7k7Hi0/hqdefault.jpg",
            "width": 480
           },
           "maxres": {
            "height": 720,
            "url": "https://i.ytimg.com/vi/nNfco7k7Hi0/maxresdefault.jpg",
            "width": 1280
           },
           "medium": {
            "height": 180,
            "url": "https://i.ytimg.com/vi/nNfco7k7Hi0/mqdefault.jpg",
            "width": 320
           },
           "standard": {
            "height": 480,
            "url": "https://i.ytimg.com/vi/nNfco7k7Hi0/sddefault.jpg",
            "width": 640
           }
          },
          "title": "🤦🏻‍♀️ Biggest Mistakes Aspiring Data Scientists Make",
          "videoOwnerChannelId": "UCJQJAI7IjbLcpsjWdSzYz0Q",
          "videoOwnerChannelTitle": "Thu Vu data analytics"
         }
        },
        {
         "contentDetails": {
          "videoId": "MsdyvI3ZI5k",
          "videoPublishedAt": "2022-02-18T19:30:02Z"
         },
         "etag": "o0peBZqQ6fvGpVII9NH6XWXzlMY",
         "id": "VVVKUUpBSTdJamJMY3BzaldkU3pZejBRLk1zZHl2STNaSTVr",
         "kind": "youtube#playlistItem",
         "snippet": {
          "channelId": "UCJQJAI7IjbLcpsjWdSzYz0Q",
          "channelTitle": "Thu Vu data analytics",
          "description": "👩🏻‍💻 My laptop and iPad for doing DS/ study 👉 https://kit.co/thuvu/computer-ipad\n⚙️ Tech I use for making Youtube videos 👉 https://kit.co/thuvu/my-budget-youtube-gear\n🔍Check out my other videos on Data Analyst/ Data Science 👉 https://bit.ly/3qW9YpU\n\n🇳🇱Tax calculation in the Netherlands: https://bit.ly/34PJ1fa\n\nHello everyone! In today's video, I'll be talking about the data science job landscape in Amsterdam, the Netherlands: salaries of different data science jobs, benefits, and the Dutch working culture. I have lived and worked in the Netherlands for more than 6 years. I took a Master's in Amsterdam, graduated, got an internship, and fast forward I have had 2 full-time data science jobs since. This video is requested by one of my subscribers, and I had a lot of fun making it! Hope you enjoyed this video and thank you for watching! 👋\n\n👩🏻‍💻 COURSES & RESOURCES\n================================\n📖 Learn SQL Basics for Data Science Specialization 👉 https://imp.i384100.net/AovPnJ\n📖 Excel Skills for Business 👉 https://coursera.pxf.io/doPaoy\n📖 Machine Learning Specialization 👉 https://imp.i384100.net/RyjykN\n📖 Data Visualization with Tableau Specialization 👉https://imp.i384100.net/n15XWR\n📖 Deep Learning Specialization 👉 https://imp.i384100.net/zavBA0\n📖 Mathematics for Machine Learning and Data Science Specialization 👉 https://imp.i384100.net/LXK0gj\n📖 Google Data Analytics Certificate 👉 https://imp.i384100.net/15v9y6\n📖 Applied Data Science with Python 👉 https://imp.i384100.net/gbxOqv\n\n🙋🏻‍♀️ LET'S CONNECT!\n================================\n🤓 Join my Discord server: https://discord.gg/SK7ZC5XhcS\n📩  Newsletter: https://substack.com/profile/87689887-thu-vu\n✍ Medium: https://medium.com/@vuthihienthu.ueb\n🔗 All links: https://linktr.ee/thuvuanalytics\n\nAs a member of the Amazon and Coursera Affiliate Programs, I earn a commission from qualifying purchases on the links above. By using the links you help support this channel at no cost for you.\n\n🔑 TIMESTAMPS\n================================\n0:00 - What this video is about\n0:25 - Data science salaries information\n0:42 - Income tax calculation\n0:56 - Data science intern salaries\n1:41 - Data analyst salaries\n2:40 - Senior data analyst salaries\n4:12 - Junior data scientist salaries\n4:55 - Senior data scientist salaries\n6:02 - Employment benefits - Vacation days\n6:39 - Sick leave\n6:58 - Parental leave\n7:20 - Social insurance\n7:32 - Health insurance\n7:49 - Wellness allowance\n8:06 - Annual bonus\n8:32 - Learning budget\n8:56 - Corporate working culture - Working hours\n9:47 - Dutch personality (hugely generalized here ;)\n10:34 - Communication - Do you need to speak Dutch?\n12:01 - Networking opportunities\n12:17 - Salary raise/ Promotion\n13:21 - Dutch souvenir :)\n\n#DataScience #Datanerd #DataAnalysis #CoffeeData #ThuVu #dataanalytics",
          "playlistId": "UUJQJAI7IjbLcpsjWdSzYz0Q",
          "position": 49,
          "publishedAt": "2022-02-18T19:30:02Z",
          "resourceId": {
           "kind": "youtube#video",
           "videoId": "MsdyvI3ZI5k"
          },
          "thumbnails": {
           "default": {
            "height": 90,
            "url": "https://i.ytimg.com/vi/MsdyvI3ZI5k/default.jpg",
            "width": 120
           },
           "high": {
            "height": 360,
            "url": "https://i.ytimg.com/vi/MsdyvI3ZI5k/hqdefault.jpg",
            "width": 480
           },
           "maxres": {
            "height": 720,
            "url": "https://i.ytimg.com/vi/MsdyvI3ZI5k/maxresdefault.jpg",
            "width": 1280
           },
           "medium": {
            "height": 180,
            "url": "https://i.ytimg.com/vi/MsdyvI3ZI5k/mqdefault.jpg",
            "width": 320
           },
           "standard": {
            "height": 480,
            "url": "https://i.ytimg.com/vi/MsdyvI3ZI5k/sddefault.jpg",
            "width": 640
           }
          },
          "title": "Data Science Salaries in Amsterdam: Talking about Money 🤑, Benefits & Dutch Working Culture",
          "videoOwnerChannelId": "UCJQJAI7IjbLcpsjWdSzYz0Q",
          "videoOwnerChannelTitle": "Thu Vu data analytics"
         }
        }
       ],
       "kind": "youtube#playlistItemListResponse",
       "nextPageToken": "EAAaIVBUOkNESWlFRE0wTmpVek5qQXlOakJCUVRaQk9VTW9BUQ",
       "pageInfo": {
        "resultsPerPage": 50,
        "totalResults": 76
       }
      },
      "text/plain": [
       "<IPython.core.display.JSON object>"
      ]
     },
     "execution_count": 9,
     "metadata": {
      "application/json": {
       "expanded": false,
       "root": "root"
      }
     },
     "output_type": "execute_result"
    }
   ],
   "source": [
    "JSON(response)"
   ]
  },
  {
   "cell_type": "markdown",
   "id": "2737f844-9335-455d-8237-c422878e7ee9",
   "metadata": {},
   "source": [
    "### Function for Playlist Information"
   ]
  },
  {
   "cell_type": "code",
   "execution_count": 10,
   "id": "1d8a34f0-bbee-49fe-9301-4a44f5e42b61",
   "metadata": {},
   "outputs": [],
   "source": [
    "def get_playlist_info(youtube, playlist_ids):\n",
    "    \n",
    "    all_data = []\n",
    "    \n",
    "    for pid in playlist_ids:\n",
    "        next_page_token = \"\"\n",
    "\n",
    "        while next_page_token is not None:\n",
    "            request = youtube.playlistItems().list(\n",
    "                part=\"snippet,contentDetails\",\n",
    "                maxResults=50,\n",
    "                playlistId=pid,\n",
    "                pageToken = next_page_token\n",
    "            )\n",
    "            response = request.execute()\n",
    "\n",
    "            for items in response[\"items\"]:\n",
    "                data = {\n",
    "                    \"title\": items[\"snippet\"][\"title\"],\n",
    "                    \"published_at\": items[\"snippet\"][\"publishedAt\"],\n",
    "                    \"channel_name\": items[\"snippet\"][\"videoOwnerChannelTitle\"],\n",
    "                    \"channel_id\": items[\"snippet\"][\"channelId\"],\n",
    "                    \"video_id\": items[\"snippet\"][\"resourceId\"][\"videoId\"]\n",
    "                }\n",
    "                all_data.append(data)\n",
    "            \n",
    "            next_page_token = response.get('nextPageToken')\n",
    "\n",
    "    return pd.DataFrame(all_data)"
   ]
  },
  {
   "cell_type": "code",
   "execution_count": 11,
   "id": "c7706f57-5a63-41f7-8080-3c20f3688f19",
   "metadata": {},
   "outputs": [
    {
     "data": {
      "text/html": [
       "<div>\n",
       "<style scoped>\n",
       "    .dataframe tbody tr th:only-of-type {\n",
       "        vertical-align: middle;\n",
       "    }\n",
       "\n",
       "    .dataframe tbody tr th {\n",
       "        vertical-align: top;\n",
       "    }\n",
       "\n",
       "    .dataframe thead th {\n",
       "        text-align: right;\n",
       "    }\n",
       "</style>\n",
       "<table border=\"1\" class=\"dataframe\">\n",
       "  <thead>\n",
       "    <tr style=\"text-align: right;\">\n",
       "      <th></th>\n",
       "      <th>title</th>\n",
       "      <th>published_at</th>\n",
       "      <th>channel_name</th>\n",
       "      <th>channel_id</th>\n",
       "      <th>video_id</th>\n",
       "    </tr>\n",
       "  </thead>\n",
       "  <tbody>\n",
       "    <tr>\n",
       "      <th>0</th>\n",
       "      <td>MLFlow Tutorial | Hands-on | ML Tracking and S...</td>\n",
       "      <td>2023-04-17T10:30:03Z</td>\n",
       "      <td>Harsh Kumar</td>\n",
       "      <td>UCueeXkuJezkCqu0YryvJnnQ</td>\n",
       "      <td>7Mv91hcxCCI</td>\n",
       "    </tr>\n",
       "    <tr>\n",
       "      <th>1</th>\n",
       "      <td>isort for sorting Python imports #shorts #pyth...</td>\n",
       "      <td>2023-03-26T13:41:44Z</td>\n",
       "      <td>Harsh Kumar</td>\n",
       "      <td>UCueeXkuJezkCqu0YryvJnnQ</td>\n",
       "      <td>rs8_I0sYGhw</td>\n",
       "    </tr>\n",
       "    <tr>\n",
       "      <th>2</th>\n",
       "      <td>flake8 for linting in Python #shorts #python #...</td>\n",
       "      <td>2023-03-19T18:34:57Z</td>\n",
       "      <td>Harsh Kumar</td>\n",
       "      <td>UCueeXkuJezkCqu0YryvJnnQ</td>\n",
       "      <td>bURvz4g-XIg</td>\n",
       "    </tr>\n",
       "    <tr>\n",
       "      <th>3</th>\n",
       "      <td>pytest Tutorial: How to write tests in Python ...</td>\n",
       "      <td>2023-02-06T14:06:40Z</td>\n",
       "      <td>Harsh Kumar</td>\n",
       "      <td>UCueeXkuJezkCqu0YryvJnnQ</td>\n",
       "      <td>bhjaQssIXiw</td>\n",
       "    </tr>\n",
       "    <tr>\n",
       "      <th>4</th>\n",
       "      <td>Simple Neural Network using Tensorflow and Ker...</td>\n",
       "      <td>2021-10-18T06:32:21Z</td>\n",
       "      <td>Harsh Kumar</td>\n",
       "      <td>UCueeXkuJezkCqu0YryvJnnQ</td>\n",
       "      <td>DqlPAWkkQC8</td>\n",
       "    </tr>\n",
       "  </tbody>\n",
       "</table>\n",
       "</div>"
      ],
      "text/plain": [
       "                                               title          published_at  \\\n",
       "0  MLFlow Tutorial | Hands-on | ML Tracking and S...  2023-04-17T10:30:03Z   \n",
       "1  isort for sorting Python imports #shorts #pyth...  2023-03-26T13:41:44Z   \n",
       "2  flake8 for linting in Python #shorts #python #...  2023-03-19T18:34:57Z   \n",
       "3  pytest Tutorial: How to write tests in Python ...  2023-02-06T14:06:40Z   \n",
       "4  Simple Neural Network using Tensorflow and Ker...  2021-10-18T06:32:21Z   \n",
       "\n",
       "  channel_name                channel_id     video_id  \n",
       "0  Harsh Kumar  UCueeXkuJezkCqu0YryvJnnQ  7Mv91hcxCCI  \n",
       "1  Harsh Kumar  UCueeXkuJezkCqu0YryvJnnQ  rs8_I0sYGhw  \n",
       "2  Harsh Kumar  UCueeXkuJezkCqu0YryvJnnQ  bURvz4g-XIg  \n",
       "3  Harsh Kumar  UCueeXkuJezkCqu0YryvJnnQ  bhjaQssIXiw  \n",
       "4  Harsh Kumar  UCueeXkuJezkCqu0YryvJnnQ  DqlPAWkkQC8  "
      ]
     },
     "execution_count": 11,
     "metadata": {},
     "output_type": "execute_result"
    }
   ],
   "source": [
    "playlist_info = get_playlist_info(youtube, channel_info[\"playlist_id\"].to_list())\n",
    "playlist_info.head()"
   ]
  },
  {
   "cell_type": "code",
   "execution_count": 12,
   "id": "16ca2e1c-d7aa-4326-b818-a3430d49ae96",
   "metadata": {},
   "outputs": [],
   "source": [
    "playlist_info.published_at = pd.to_datetime(playlist_info.published_at, format='%Y-%m-%dT%H:%M:%SZ')"
   ]
  },
  {
   "cell_type": "code",
   "execution_count": 13,
   "id": "986a0da4-b48f-4fe3-b897-cbefa21f04cf",
   "metadata": {},
   "outputs": [
    {
     "data": {
      "text/plain": [
       "(106, 5)"
      ]
     },
     "execution_count": 13,
     "metadata": {},
     "output_type": "execute_result"
    }
   ],
   "source": [
    "playlist_info.shape"
   ]
  },
  {
   "cell_type": "code",
   "execution_count": 14,
   "id": "93552bbf-b69e-472e-9586-021f93eaa0f3",
   "metadata": {},
   "outputs": [
    {
     "data": {
      "text/html": [
       "<div>\n",
       "<style scoped>\n",
       "    .dataframe tbody tr th:only-of-type {\n",
       "        vertical-align: middle;\n",
       "    }\n",
       "\n",
       "    .dataframe tbody tr th {\n",
       "        vertical-align: top;\n",
       "    }\n",
       "\n",
       "    .dataframe thead th {\n",
       "        text-align: right;\n",
       "    }\n",
       "</style>\n",
       "<table border=\"1\" class=\"dataframe\">\n",
       "  <thead>\n",
       "    <tr style=\"text-align: right;\">\n",
       "      <th></th>\n",
       "      <th>channel_name</th>\n",
       "      <th>size</th>\n",
       "    </tr>\n",
       "  </thead>\n",
       "  <tbody>\n",
       "    <tr>\n",
       "      <th>0</th>\n",
       "      <td>Harsh Kumar</td>\n",
       "      <td>14</td>\n",
       "    </tr>\n",
       "    <tr>\n",
       "      <th>1</th>\n",
       "      <td>Thu Vu data analytics</td>\n",
       "      <td>76</td>\n",
       "    </tr>\n",
       "    <tr>\n",
       "      <th>2</th>\n",
       "      <td>amitvarma</td>\n",
       "      <td>16</td>\n",
       "    </tr>\n",
       "  </tbody>\n",
       "</table>\n",
       "</div>"
      ],
      "text/plain": [
       "            channel_name  size\n",
       "0            Harsh Kumar    14\n",
       "1  Thu Vu data analytics    76\n",
       "2              amitvarma    16"
      ]
     },
     "execution_count": 14,
     "metadata": {},
     "output_type": "execute_result"
    }
   ],
   "source": [
    "playlist_info.groupby(\"channel_name\", as_index=False).size()"
   ]
  },
  {
   "cell_type": "markdown",
   "id": "6b2c1b1c-552c-4d86-bf6b-1d83d3adf71f",
   "metadata": {},
   "source": [
    "## Get video stats"
   ]
  },
  {
   "cell_type": "markdown",
   "id": "ab1b7785-d3aa-4f1f-ac80-ab297d4b835d",
   "metadata": {},
   "source": [
    "### Simple Code"
   ]
  },
  {
   "cell_type": "code",
   "execution_count": 15,
   "id": "b0d47636-a042-4774-92a2-b1b2d2838a74",
   "metadata": {},
   "outputs": [],
   "source": [
    "request = youtube.videos().list(\n",
    "    part=\"contentDetails,snippet,statistics\",\n",
    "    id=\"7Mv91hcxCCI\"\n",
    ")\n",
    "response = request.execute()"
   ]
  },
  {
   "cell_type": "code",
   "execution_count": 16,
   "id": "d7decbed-0a54-4abf-8e51-30f28912f7e0",
   "metadata": {},
   "outputs": [
    {
     "data": {
      "application/json": {
       "etag": "5GLQJVtrLpr2YALpzgXU_0eI1A8",
       "items": [
        {
         "contentDetails": {
          "caption": "false",
          "contentRating": {},
          "definition": "hd",
          "dimension": "2d",
          "duration": "PT13M48S",
          "licensedContent": false,
          "projection": "rectangular"
         },
         "etag": "kUmTeRqjz-L3amztY7kK2C5BdGA",
         "id": "7Mv91hcxCCI",
         "kind": "youtube#video",
         "snippet": {
          "categoryId": "28",
          "channelId": "UCueeXkuJezkCqu0YryvJnnQ",
          "channelTitle": "Harsh Kumar",
          "defaultAudioLanguage": "en",
          "defaultLanguage": "en-IN",
          "description": "0MLFlow hand-on tutorial which provides a detailed walkthough of the process to log model details using MLFlow and demonstrates how to use the same model for online serving.\n\nExample used in this video is of an image classification building using keras to classify cats and dogs.\n\nNotebook on Github: https://github.com/harsh1kumar/learning/blob/master/machine_learning/keras/02_cat_dog_classifier.ipynb\n\nTimestamp:\n00:00 - Introduction of MLFlow\n00:23 - Data Preparation\n02:51 - Model Training\n03:39 - MLFlow Logging\n05:40 -  MLFlow UI\n07:28 - Model Training Iteration 2\n08:59 - Predictions using MLFlow model\n09:44 - Model registration\n11:33 - Transition model to production\n12:41 - Endpoint for model serving",
          "liveBroadcastContent": "none",
          "localized": {
           "description": "0MLFlow hand-on tutorial which provides a detailed walkthough of the process to log model details using MLFlow and demonstrates how to use the same model for online serving.\n\nExample used in this video is of an image classification building using keras to classify cats and dogs.\n\nNotebook on Github: https://github.com/harsh1kumar/learning/blob/master/machine_learning/keras/02_cat_dog_classifier.ipynb\n\nTimestamp:\n00:00 - Introduction of MLFlow\n00:23 - Data Preparation\n02:51 - Model Training\n03:39 - MLFlow Logging\n05:40 -  MLFlow UI\n07:28 - Model Training Iteration 2\n08:59 - Predictions using MLFlow model\n09:44 - Model registration\n11:33 - Transition model to production\n12:41 - Endpoint for model serving",
           "title": "MLFlow Tutorial | Hands-on | ML Tracking and Serving"
          },
          "publishedAt": "2023-04-17T10:30:03Z",
          "tags": [
           "mlflow",
           "machine learning",
           "keras",
           "python",
           "image classification",
           "machine vision",
           "model tracking",
           "model serving",
           "model logging",
           "model development",
           "tutorial",
           "ml tutorial",
           "mlops",
           "mobilenet"
          ],
          "thumbnails": {
           "default": {
            "height": 90,
            "url": "https://i.ytimg.com/vi/7Mv91hcxCCI/default.jpg",
            "width": 120
           },
           "high": {
            "height": 360,
            "url": "https://i.ytimg.com/vi/7Mv91hcxCCI/hqdefault.jpg",
            "width": 480
           },
           "medium": {
            "height": 180,
            "url": "https://i.ytimg.com/vi/7Mv91hcxCCI/mqdefault.jpg",
            "width": 320
           },
           "standard": {
            "height": 480,
            "url": "https://i.ytimg.com/vi/7Mv91hcxCCI/sddefault.jpg",
            "width": 640
           }
          },
          "title": "MLFlow Tutorial | Hands-on | ML Tracking and Serving"
         },
         "statistics": {
          "commentCount": "2",
          "favoriteCount": "0",
          "likeCount": "36",
          "viewCount": "1016"
         }
        }
       ],
       "kind": "youtube#videoListResponse",
       "pageInfo": {
        "resultsPerPage": 1,
        "totalResults": 1
       }
      },
      "text/plain": [
       "<IPython.core.display.JSON object>"
      ]
     },
     "execution_count": 16,
     "metadata": {
      "application/json": {
       "expanded": false,
       "root": "root"
      }
     },
     "output_type": "execute_result"
    }
   ],
   "source": [
    "JSON(response)"
   ]
  },
  {
   "cell_type": "markdown",
   "id": "05dc4edb-13b7-4310-b02b-db3b2cbd4c09",
   "metadata": {},
   "source": [
    "### Function for Video Information"
   ]
  },
  {
   "cell_type": "code",
   "execution_count": 17,
   "id": "f541e552-4949-4d34-8c69-02f0b349dc95",
   "metadata": {},
   "outputs": [],
   "source": [
    "def get_video_details(youtube, video_ids):\n",
    "\n",
    "    all_data = []\n",
    "    for i in range(0, len(video_ids), 10):\n",
    "        # Make request for 10 videos at a time\n",
    "        vid = video_ids[i: i+10]\n",
    "    \n",
    "        request = youtube.videos().list(\n",
    "            part=\"contentDetails,snippet,statistics\",\n",
    "            id=\",\".join(vid)\n",
    "        )\n",
    "        response = request.execute()\n",
    "        \n",
    "        \n",
    "        for items in response[\"items\"]:\n",
    "            data = {\n",
    "                \"video_id\": items[\"id\"],\n",
    "                \"title\": items[\"snippet\"][\"title\"],\n",
    "                \"published_at\": items[\"snippet\"][\"publishedAt\"],\n",
    "                \"duration\": items[\"contentDetails\"][\"duration\"],\n",
    "                \"view_count\": items[\"statistics\"][\"viewCount\"],\n",
    "                \"like_count\": items[\"statistics\"][\"likeCount\"],\n",
    "                \"comment_count\": items[\"statistics\"][\"commentCount\"],\n",
    "            }\n",
    "    \n",
    "            all_data.append(data)\n",
    "\n",
    "    return pd.DataFrame(all_data)"
   ]
  },
  {
   "cell_type": "code",
   "execution_count": 18,
   "id": "086f7fb5-3206-42d9-adce-b13d83b9a3ce",
   "metadata": {},
   "outputs": [
    {
     "data": {
      "text/html": [
       "<div>\n",
       "<style scoped>\n",
       "    .dataframe tbody tr th:only-of-type {\n",
       "        vertical-align: middle;\n",
       "    }\n",
       "\n",
       "    .dataframe tbody tr th {\n",
       "        vertical-align: top;\n",
       "    }\n",
       "\n",
       "    .dataframe thead th {\n",
       "        text-align: right;\n",
       "    }\n",
       "</style>\n",
       "<table border=\"1\" class=\"dataframe\">\n",
       "  <thead>\n",
       "    <tr style=\"text-align: right;\">\n",
       "      <th></th>\n",
       "      <th>video_id</th>\n",
       "      <th>title</th>\n",
       "      <th>published_at</th>\n",
       "      <th>duration</th>\n",
       "      <th>view_count</th>\n",
       "      <th>like_count</th>\n",
       "      <th>comment_count</th>\n",
       "    </tr>\n",
       "  </thead>\n",
       "  <tbody>\n",
       "    <tr>\n",
       "      <th>0</th>\n",
       "      <td>7Mv91hcxCCI</td>\n",
       "      <td>MLFlow Tutorial | Hands-on | ML Tracking and S...</td>\n",
       "      <td>2023-04-17T10:30:03Z</td>\n",
       "      <td>PT13M48S</td>\n",
       "      <td>1016</td>\n",
       "      <td>36</td>\n",
       "      <td>2</td>\n",
       "    </tr>\n",
       "    <tr>\n",
       "      <th>1</th>\n",
       "      <td>rs8_I0sYGhw</td>\n",
       "      <td>isort for sorting Python imports #shorts #pyth...</td>\n",
       "      <td>2023-03-26T13:41:44Z</td>\n",
       "      <td>PT56S</td>\n",
       "      <td>195</td>\n",
       "      <td>6</td>\n",
       "      <td>0</td>\n",
       "    </tr>\n",
       "    <tr>\n",
       "      <th>2</th>\n",
       "      <td>bURvz4g-XIg</td>\n",
       "      <td>flake8 for linting in Python #shorts #python #...</td>\n",
       "      <td>2023-03-19T18:34:57Z</td>\n",
       "      <td>PT53S</td>\n",
       "      <td>118</td>\n",
       "      <td>7</td>\n",
       "      <td>1</td>\n",
       "    </tr>\n",
       "    <tr>\n",
       "      <th>3</th>\n",
       "      <td>bhjaQssIXiw</td>\n",
       "      <td>pytest Tutorial: How to write tests in Python ...</td>\n",
       "      <td>2023-02-06T14:06:40Z</td>\n",
       "      <td>PT11M28S</td>\n",
       "      <td>93</td>\n",
       "      <td>6</td>\n",
       "      <td>0</td>\n",
       "    </tr>\n",
       "    <tr>\n",
       "      <th>4</th>\n",
       "      <td>DqlPAWkkQC8</td>\n",
       "      <td>Simple Neural Network using Tensorflow and Ker...</td>\n",
       "      <td>2021-10-18T06:32:21Z</td>\n",
       "      <td>PT13M55S</td>\n",
       "      <td>229</td>\n",
       "      <td>15</td>\n",
       "      <td>3</td>\n",
       "    </tr>\n",
       "    <tr>\n",
       "      <th>...</th>\n",
       "      <td>...</td>\n",
       "      <td>...</td>\n",
       "      <td>...</td>\n",
       "      <td>...</td>\n",
       "      <td>...</td>\n",
       "      <td>...</td>\n",
       "      <td>...</td>\n",
       "    </tr>\n",
       "    <tr>\n",
       "      <th>101</th>\n",
       "      <td>43jaxQBbjvM</td>\n",
       "      <td>My Hero, OPPENHEIMER | Episode 5 | Everything ...</td>\n",
       "      <td>2023-07-28T06:42:19Z</td>\n",
       "      <td>PT53M49S</td>\n",
       "      <td>8842</td>\n",
       "      <td>391</td>\n",
       "      <td>41</td>\n",
       "    </tr>\n",
       "    <tr>\n",
       "      <th>102</th>\n",
       "      <td>Dc3NnU4tKVM</td>\n",
       "      <td>The WRONG Way to Fight Extremists | Episode 4 ...</td>\n",
       "      <td>2023-07-21T06:09:35Z</td>\n",
       "      <td>PT56M17S</td>\n",
       "      <td>9320</td>\n",
       "      <td>299</td>\n",
       "      <td>25</td>\n",
       "    </tr>\n",
       "    <tr>\n",
       "      <th>103</th>\n",
       "      <td>OuJc5vi93xk</td>\n",
       "      <td>Are You Just One Version of Yourself?  | Episo...</td>\n",
       "      <td>2023-07-14T13:25:47Z</td>\n",
       "      <td>PT46M56S</td>\n",
       "      <td>7338</td>\n",
       "      <td>251</td>\n",
       "      <td>35</td>\n",
       "    </tr>\n",
       "    <tr>\n",
       "      <th>104</th>\n",
       "      <td>Ohkw2zoHZ5w</td>\n",
       "      <td>Is the Singularity Near? | Episode 2 | Everyth...</td>\n",
       "      <td>2023-07-08T03:19:18Z</td>\n",
       "      <td>PT1H16S</td>\n",
       "      <td>9841</td>\n",
       "      <td>283</td>\n",
       "      <td>46</td>\n",
       "    </tr>\n",
       "    <tr>\n",
       "      <th>105</th>\n",
       "      <td>GG9jDXRaXOo</td>\n",
       "      <td>Halfway From Coal, Halfway to Diamond | Episod...</td>\n",
       "      <td>2023-06-30T04:55:28Z</td>\n",
       "      <td>PT54M6S</td>\n",
       "      <td>15348</td>\n",
       "      <td>589</td>\n",
       "      <td>62</td>\n",
       "    </tr>\n",
       "  </tbody>\n",
       "</table>\n",
       "<p>106 rows × 7 columns</p>\n",
       "</div>"
      ],
      "text/plain": [
       "        video_id                                              title  \\\n",
       "0    7Mv91hcxCCI  MLFlow Tutorial | Hands-on | ML Tracking and S...   \n",
       "1    rs8_I0sYGhw  isort for sorting Python imports #shorts #pyth...   \n",
       "2    bURvz4g-XIg  flake8 for linting in Python #shorts #python #...   \n",
       "3    bhjaQssIXiw  pytest Tutorial: How to write tests in Python ...   \n",
       "4    DqlPAWkkQC8  Simple Neural Network using Tensorflow and Ker...   \n",
       "..           ...                                                ...   \n",
       "101  43jaxQBbjvM  My Hero, OPPENHEIMER | Episode 5 | Everything ...   \n",
       "102  Dc3NnU4tKVM  The WRONG Way to Fight Extremists | Episode 4 ...   \n",
       "103  OuJc5vi93xk  Are You Just One Version of Yourself?  | Episo...   \n",
       "104  Ohkw2zoHZ5w  Is the Singularity Near? | Episode 2 | Everyth...   \n",
       "105  GG9jDXRaXOo  Halfway From Coal, Halfway to Diamond | Episod...   \n",
       "\n",
       "             published_at  duration view_count like_count comment_count  \n",
       "0    2023-04-17T10:30:03Z  PT13M48S       1016         36             2  \n",
       "1    2023-03-26T13:41:44Z     PT56S        195          6             0  \n",
       "2    2023-03-19T18:34:57Z     PT53S        118          7             1  \n",
       "3    2023-02-06T14:06:40Z  PT11M28S         93          6             0  \n",
       "4    2021-10-18T06:32:21Z  PT13M55S        229         15             3  \n",
       "..                    ...       ...        ...        ...           ...  \n",
       "101  2023-07-28T06:42:19Z  PT53M49S       8842        391            41  \n",
       "102  2023-07-21T06:09:35Z  PT56M17S       9320        299            25  \n",
       "103  2023-07-14T13:25:47Z  PT46M56S       7338        251            35  \n",
       "104  2023-07-08T03:19:18Z   PT1H16S       9841        283            46  \n",
       "105  2023-06-30T04:55:28Z   PT54M6S      15348        589            62  \n",
       "\n",
       "[106 rows x 7 columns]"
      ]
     },
     "execution_count": 18,
     "metadata": {},
     "output_type": "execute_result"
    }
   ],
   "source": [
    "video_details = get_video_details(youtube, playlist_info[\"video_id\"].to_list())\n",
    "video_details"
   ]
  },
  {
   "cell_type": "markdown",
   "id": "874714ba-5d6b-4590-ab56-ee741bf4053f",
   "metadata": {},
   "source": [
    "### Detail of latest video for each channel"
   ]
  },
  {
   "cell_type": "code",
   "execution_count": 19,
   "id": "be71c6f4-e15a-4348-b6a8-5807d33770ac",
   "metadata": {},
   "outputs": [
    {
     "data": {
      "text/html": [
       "<div>\n",
       "<style scoped>\n",
       "    .dataframe tbody tr th:only-of-type {\n",
       "        vertical-align: middle;\n",
       "    }\n",
       "\n",
       "    .dataframe tbody tr th {\n",
       "        vertical-align: top;\n",
       "    }\n",
       "\n",
       "    .dataframe thead th {\n",
       "        text-align: right;\n",
       "    }\n",
       "</style>\n",
       "<table border=\"1\" class=\"dataframe\">\n",
       "  <thead>\n",
       "    <tr style=\"text-align: right;\">\n",
       "      <th></th>\n",
       "      <th>title</th>\n",
       "      <th>published_at</th>\n",
       "      <th>channel_name</th>\n",
       "      <th>channel_id</th>\n",
       "      <th>video_id</th>\n",
       "      <th>recency_rank</th>\n",
       "    </tr>\n",
       "  </thead>\n",
       "  <tbody>\n",
       "    <tr>\n",
       "      <th>0</th>\n",
       "      <td>MLFlow Tutorial | Hands-on | ML Tracking and S...</td>\n",
       "      <td>2023-04-17 10:30:03</td>\n",
       "      <td>Harsh Kumar</td>\n",
       "      <td>UCueeXkuJezkCqu0YryvJnnQ</td>\n",
       "      <td>7Mv91hcxCCI</td>\n",
       "      <td>1.0</td>\n",
       "    </tr>\n",
       "    <tr>\n",
       "      <th>14</th>\n",
       "      <td>How to AI PROOF Your Career</td>\n",
       "      <td>2023-10-16 22:03:49</td>\n",
       "      <td>Thu Vu data analytics</td>\n",
       "      <td>UCJQJAI7IjbLcpsjWdSzYz0Q</td>\n",
       "      <td>lp6SfYCRGLM</td>\n",
       "      <td>1.0</td>\n",
       "    </tr>\n",
       "    <tr>\n",
       "      <th>90</th>\n",
       "      <td>The China Model is Broken | Episode 16 | Every...</td>\n",
       "      <td>2023-10-13 04:54:24</td>\n",
       "      <td>amitvarma</td>\n",
       "      <td>UCs8a-hjf6X4pa-O0orSoC8w</td>\n",
       "      <td>eHX9sgBt1nE</td>\n",
       "      <td>1.0</td>\n",
       "    </tr>\n",
       "  </tbody>\n",
       "</table>\n",
       "</div>"
      ],
      "text/plain": [
       "                                                title        published_at  \\\n",
       "0   MLFlow Tutorial | Hands-on | ML Tracking and S... 2023-04-17 10:30:03   \n",
       "14                        How to AI PROOF Your Career 2023-10-16 22:03:49   \n",
       "90  The China Model is Broken | Episode 16 | Every... 2023-10-13 04:54:24   \n",
       "\n",
       "             channel_name                channel_id     video_id  recency_rank  \n",
       "0             Harsh Kumar  UCueeXkuJezkCqu0YryvJnnQ  7Mv91hcxCCI           1.0  \n",
       "14  Thu Vu data analytics  UCJQJAI7IjbLcpsjWdSzYz0Q  lp6SfYCRGLM           1.0  \n",
       "90              amitvarma  UCs8a-hjf6X4pa-O0orSoC8w  eHX9sgBt1nE           1.0  "
      ]
     },
     "execution_count": 19,
     "metadata": {},
     "output_type": "execute_result"
    }
   ],
   "source": [
    "playlist_info[\"recency_rank\"] = playlist_info.groupby(\"channel_id\")[\"published_at\"].rank(method=\"first\", ascending=False)\n",
    "playlist_info.loc[playlist_info[\"recency_rank\"]==1]"
   ]
  },
  {
   "cell_type": "code",
   "execution_count": 20,
   "id": "1152c7bc-4074-4e15-b2b1-308abd895b46",
   "metadata": {},
   "outputs": [],
   "source": [
    "latest_video_list = playlist_info.loc[playlist_info[\"recency_rank\"]==1, \"video_id\"].to_list()"
   ]
  },
  {
   "cell_type": "code",
   "execution_count": 21,
   "id": "b0bd55fa-b976-4dd4-ac4a-09fb68073f81",
   "metadata": {},
   "outputs": [
    {
     "data": {
      "text/html": [
       "<div>\n",
       "<style scoped>\n",
       "    .dataframe tbody tr th:only-of-type {\n",
       "        vertical-align: middle;\n",
       "    }\n",
       "\n",
       "    .dataframe tbody tr th {\n",
       "        vertical-align: top;\n",
       "    }\n",
       "\n",
       "    .dataframe thead th {\n",
       "        text-align: right;\n",
       "    }\n",
       "</style>\n",
       "<table border=\"1\" class=\"dataframe\">\n",
       "  <thead>\n",
       "    <tr style=\"text-align: right;\">\n",
       "      <th></th>\n",
       "      <th>video_id</th>\n",
       "      <th>title</th>\n",
       "      <th>published_at</th>\n",
       "      <th>duration</th>\n",
       "      <th>view_count</th>\n",
       "      <th>like_count</th>\n",
       "      <th>comment_count</th>\n",
       "    </tr>\n",
       "  </thead>\n",
       "  <tbody>\n",
       "    <tr>\n",
       "      <th>0</th>\n",
       "      <td>7Mv91hcxCCI</td>\n",
       "      <td>MLFlow Tutorial | Hands-on | ML Tracking and S...</td>\n",
       "      <td>2023-04-17T10:30:03Z</td>\n",
       "      <td>PT13M48S</td>\n",
       "      <td>1016</td>\n",
       "      <td>36</td>\n",
       "      <td>2</td>\n",
       "    </tr>\n",
       "    <tr>\n",
       "      <th>1</th>\n",
       "      <td>lp6SfYCRGLM</td>\n",
       "      <td>How to AI PROOF Your Career</td>\n",
       "      <td>2023-10-16T22:03:49Z</td>\n",
       "      <td>PT11M37S</td>\n",
       "      <td>1025</td>\n",
       "      <td>94</td>\n",
       "      <td>11</td>\n",
       "    </tr>\n",
       "    <tr>\n",
       "      <th>2</th>\n",
       "      <td>eHX9sgBt1nE</td>\n",
       "      <td>The China Model is Broken | Episode 16 | Every...</td>\n",
       "      <td>2023-10-13T04:54:24Z</td>\n",
       "      <td>PT1H28M51S</td>\n",
       "      <td>6391</td>\n",
       "      <td>232</td>\n",
       "      <td>47</td>\n",
       "    </tr>\n",
       "  </tbody>\n",
       "</table>\n",
       "</div>"
      ],
      "text/plain": [
       "      video_id                                              title  \\\n",
       "0  7Mv91hcxCCI  MLFlow Tutorial | Hands-on | ML Tracking and S...   \n",
       "1  lp6SfYCRGLM                        How to AI PROOF Your Career   \n",
       "2  eHX9sgBt1nE  The China Model is Broken | Episode 16 | Every...   \n",
       "\n",
       "           published_at    duration view_count like_count comment_count  \n",
       "0  2023-04-17T10:30:03Z    PT13M48S       1016         36             2  \n",
       "1  2023-10-16T22:03:49Z    PT11M37S       1025         94            11  \n",
       "2  2023-10-13T04:54:24Z  PT1H28M51S       6391        232            47  "
      ]
     },
     "execution_count": 21,
     "metadata": {},
     "output_type": "execute_result"
    }
   ],
   "source": [
    "latest_video_details = get_video_details(youtube, latest_video_list)\n",
    "latest_video_details"
   ]
  },
  {
   "cell_type": "markdown",
   "id": "eb9f9145-2e5b-4022-9755-b3ae873e24bf",
   "metadata": {},
   "source": [
    "## Get Video Comments"
   ]
  },
  {
   "cell_type": "markdown",
   "id": "fb826696-34fc-44eb-b749-c1a74c7f4bed",
   "metadata": {},
   "source": [
    "### Simple Code"
   ]
  },
  {
   "cell_type": "code",
   "execution_count": 22,
   "id": "364a37c3-cfd5-4e47-b5b8-e89ef299d78f",
   "metadata": {},
   "outputs": [],
   "source": [
    "request = youtube.commentThreads().list(\n",
    "    part=\"snippet,replies\",\n",
    "    maxResults=25,\n",
    "    videoId=\"eHX9sgBt1nE\"\n",
    ")\n",
    "response = request.execute()"
   ]
  },
  {
   "cell_type": "code",
   "execution_count": 23,
   "id": "c9508634-0ea6-486d-a1a4-faa704a477f1",
   "metadata": {},
   "outputs": [
    {
     "data": {
      "application/json": {
       "etag": "BX2Jgo3slQU_WJJHa6eqf2SxunA",
       "items": [
        {
         "etag": "2F_UJgbbRM77He0q9ZR95nsJ9FM",
         "id": "UgwGV_tA1g4XGXIGost4AaABAg",
         "kind": "youtube#commentThread",
         "snippet": {
          "canReply": true,
          "channelId": "UCs8a-hjf6X4pa-O0orSoC8w",
          "isPublic": true,
          "topLevelComment": {
           "etag": "07iXh0GE25NMwLJeKDVXtRC_SVE",
           "id": "UgwGV_tA1g4XGXIGost4AaABAg",
           "kind": "youtube#comment",
           "snippet": {
            "authorChannelId": {
             "value": "UCM-D_g_stQUtr_-iDW79Vzw"
            },
            "authorChannelUrl": "http://www.youtube.com/channel/UCM-D_g_stQUtr_-iDW79Vzw",
            "authorDisplayName": "Rohwit",
            "authorProfileImageUrl": "https://yt3.ggpht.com/ytc/APkrFKYVnLKb1IW7m0mYU_B0zOBOWf3DODKoqPYoK8L0PA=s48-c-k-c0x00ffffff-no-rj",
            "canRate": true,
            "channelId": "UCs8a-hjf6X4pa-O0orSoC8w",
            "likeCount": 0,
            "publishedAt": "2023-10-17T06:23:16Z",
            "textDisplay": "I got more insights in this episode per minute than I could have got from reading on this subject. Ajay is God. The other guy is also okay I guess.",
            "textOriginal": "I got more insights in this episode per minute than I could have got from reading on this subject. Ajay is God. The other guy is also okay I guess.",
            "updatedAt": "2023-10-17T06:23:16Z",
            "videoId": "eHX9sgBt1nE",
            "viewerRating": "none"
           }
          },
          "totalReplyCount": 0,
          "videoId": "eHX9sgBt1nE"
         }
        },
        {
         "etag": "zdzLDu6FPXoemPgn_HPTXhOPmZM",
         "id": "UgwnYwiY80HnexJLpQZ4AaABAg",
         "kind": "youtube#commentThread",
         "snippet": {
          "canReply": true,
          "channelId": "UCs8a-hjf6X4pa-O0orSoC8w",
          "isPublic": true,
          "topLevelComment": {
           "etag": "GHtDgsktP0DuHt-rsQU8HyMkrtg",
           "id": "UgwnYwiY80HnexJLpQZ4AaABAg",
           "kind": "youtube#comment",
           "snippet": {
            "authorChannelId": {
             "value": "UCGNajeoNAV1nkQMbhVM9-sQ"
            },
            "authorChannelUrl": "http://www.youtube.com/channel/UCGNajeoNAV1nkQMbhVM9-sQ",
            "authorDisplayName": "chris CK",
            "authorProfileImageUrl": "https://yt3.ggpht.com/ytc/APkrFKZ7aK76RnCrKtwBcdoz8nxiCSKs1z4DxCeLyw=s48-c-k-c0x00ffffff-no-rj",
            "canRate": true,
            "channelId": "UCs8a-hjf6X4pa-O0orSoC8w",
            "likeCount": 0,
            "publishedAt": "2023-10-17T02:45:37Z",
            "textDisplay": "You have been upgraded to be the master of m@sturbation. Hand job will not make india great. It will only turn india to be a pariah country.",
            "textOriginal": "You have been upgraded to be the master of m@sturbation. Hand job will not make india great. It will only turn india to be a pariah country.",
            "updatedAt": "2023-10-17T02:45:37Z",
            "videoId": "eHX9sgBt1nE",
            "viewerRating": "none"
           }
          },
          "totalReplyCount": 0,
          "videoId": "eHX9sgBt1nE"
         }
        },
        {
         "etag": "0yCNTimnHAMlvcKUeE11AGT6I8Q",
         "id": "UgwegfVshkre9870Sux4AaABAg",
         "kind": "youtube#commentThread",
         "snippet": {
          "canReply": true,
          "channelId": "UCs8a-hjf6X4pa-O0orSoC8w",
          "isPublic": true,
          "topLevelComment": {
           "etag": "GKxb3U4AZW_JqmD8cFZkAZdRZQc",
           "id": "UgwegfVshkre9870Sux4AaABAg",
           "kind": "youtube#comment",
           "snippet": {
            "authorChannelId": {
             "value": "UCXGNhBGdLH-MV1giqI3v5xQ"
            },
            "authorChannelUrl": "http://www.youtube.com/channel/UCXGNhBGdLH-MV1giqI3v5xQ",
            "authorDisplayName": "tc",
            "authorProfileImageUrl": "https://yt3.ggpht.com/ytc/APkrFKYYd1K6oMKDSpnCBNLoxKMZcUMnKLe161sI8lY_V42Pm-_xZoaeRn39U8zGM1HL1Q=s48-c-k-c0x00ffffff-no-rj",
            "canRate": true,
            "channelId": "UCs8a-hjf6X4pa-O0orSoC8w",
            "likeCount": 0,
            "publishedAt": "2023-10-17T02:31:25Z",
            "textDisplay": "Who is ths Ajay creature ?     With all due respect ,  his  so called  &quot;analysis&quot; of China under Xi Jinpeng todate is so out of this world  and out of touch with reality that it&#39;s actually quite mind boggling and amazing .  Starting with the Covid management, he has highlighted and demonised China&#39;s approach but forgets to mention that China had one of the best outcomes in terms of fatalities in the world in real terms despite its massive population.  He should mention India&#39;s numbers in comparison.   And Chna did come out very rapidly, with effective vaccines which were shared with and  gratefully received by a number of countries around the world whilst the west was hoarding them.   By the way, Covid came out of Fort Dietrich, North Carolina as part of the gain of function experiments which were actually banned in the US but was still secretly being conducted.   A whole lot of evidence is now available to confirm that. A whole lot of evidence is now also available to support and confirm that the whole so called &quot;pandemic&quot; was a planned biowarfare event as part of the Agenda 21 program to depopulate the world. He puts up Bill Gates as some sort of &quot;hero&quot; . He should  take some time to watch and listen carefully to some of the videos put out by Dr Vandana Shiva which hopefully, might educate him a bit more on how evil and psychopathic this individual actually is.<br>The latest PEW Research done by Harvard shows a  95%  satisfaction with their government in China . So much for Xi Jinpeng&#39;s attack on 3 of the 4 &quot;elite&quot; pillars of society.<br>His analysis of China&#39;s aggression is completely devoid of knowledge and understanding that the US of A have more than 860 miltary bases around the world with about a third of them directed at &quot; containing&quot; China. China has a joint base in Djibouti with the US  , to help contain piracy in the Straits of Hormuz !  The &quot;disputed&quot; islands in the South China SEa is not only an issue between China and the rest of the surrounding countries but even between each and every country amongst themselves eg Malaysia with the Phillipines and Vietnam , Japan and Russia, Thailand and Cambodia with the Phillipines etc and have been going on for a while. <br>Its too long to challenge every of the points of mis and disinformation brought out by this so called &quot;intellectual&quot; but all I can say is that it is quite embarrassing and unbecoming to see a suppossedly &quot;enlightened&quot; individual being so dishonest.",
            "textOriginal": "Who is ths Ajay creature ?     With all due respect ,  his  so called  \"analysis\" of China under Xi Jinpeng todate is so out of this world  and out of touch with reality that it's actually quite mind boggling and amazing .  Starting with the Covid management, he has highlighted and demonised China's approach but forgets to mention that China had one of the best outcomes in terms of fatalities in the world in real terms despite its massive population.  He should mention India's numbers in comparison.   And Chna did come out very rapidly, with effective vaccines which were shared with and  gratefully received by a number of countries around the world whilst the west was hoarding them.   By the way, Covid came out of Fort Dietrich, North Carolina as part of the gain of function experiments which were actually banned in the US but was still secretly being conducted.   A whole lot of evidence is now available to confirm that. A whole lot of evidence is now also available to support and confirm that the whole so called \"pandemic\" was a planned biowarfare event as part of the Agenda 21 program to depopulate the world. He puts up Bill Gates as some sort of \"hero\" . He should  take some time to watch and listen carefully to some of the videos put out by Dr Vandana Shiva which hopefully, might educate him a bit more on how evil and psychopathic this individual actually is.\nThe latest PEW Research done by Harvard shows a  95%  satisfaction with their government in China . So much for Xi Jinpeng's attack on 3 of the 4 \"elite\" pillars of society.\nHis analysis of China's aggression is completely devoid of knowledge and understanding that the US of A have more than 860 miltary bases around the world with about a third of them directed at \" containing\" China. China has a joint base in Djibouti with the US  , to help contain piracy in the Straits of Hormuz !  The \"disputed\" islands in the South China SEa is not only an issue between China and the rest of the surrounding countries but even between each and every country amongst themselves eg Malaysia with the Phillipines and Vietnam , Japan and Russia, Thailand and Cambodia with the Phillipines etc and have been going on for a while. \nIts too long to challenge every of the points of mis and disinformation brought out by this so called \"intellectual\" but all I can say is that it is quite embarrassing and unbecoming to see a suppossedly \"enlightened\" individual being so dishonest.",
            "updatedAt": "2023-10-17T02:31:25Z",
            "videoId": "eHX9sgBt1nE",
            "viewerRating": "none"
           }
          },
          "totalReplyCount": 0,
          "videoId": "eHX9sgBt1nE"
         }
        },
        {
         "etag": "_k2aAoX-CU5g3qe6Uc-Qe-WJTQo",
         "id": "UgyVQ0V1tOHYagGL1Fx4AaABAg",
         "kind": "youtube#commentThread",
         "snippet": {
          "canReply": true,
          "channelId": "UCs8a-hjf6X4pa-O0orSoC8w",
          "isPublic": true,
          "topLevelComment": {
           "etag": "1u7jxum41vD8Wck33cYtGYDIdeI",
           "id": "UgyVQ0V1tOHYagGL1Fx4AaABAg",
           "kind": "youtube#comment",
           "snippet": {
            "authorChannelId": {
             "value": "UCq2oeNP4Vk-xBgxCN0JU2LA"
            },
            "authorChannelUrl": "http://www.youtube.com/channel/UCq2oeNP4Vk-xBgxCN0JU2LA",
            "authorDisplayName": "Anshul Chaudhary",
            "authorProfileImageUrl": "https://yt3.ggpht.com/ytc/APkrFKbDsq7S8SUM_3WKip4WCBcBHbtAIfS-o5VaKCvJIfU=s48-c-k-c0x00ffffff-no-rj",
            "canRate": true,
            "channelId": "UCs8a-hjf6X4pa-O0orSoC8w",
            "likeCount": 1,
            "publishedAt": "2023-10-16T12:44:17Z",
            "textDisplay": "ShaVarma would be a great hashtag for this show. Might make you viral.",
            "textOriginal": "ShaVarma would be a great hashtag for this show. Might make you viral.",
            "updatedAt": "2023-10-16T12:44:17Z",
            "videoId": "eHX9sgBt1nE",
            "viewerRating": "none"
           }
          },
          "totalReplyCount": 0,
          "videoId": "eHX9sgBt1nE"
         }
        },
        {
         "etag": "4irqKbaJ0k6wS--8wHBDidxH54A",
         "id": "UgzosPh4prrR5JrQ_u54AaABAg",
         "kind": "youtube#commentThread",
         "snippet": {
          "canReply": true,
          "channelId": "UCs8a-hjf6X4pa-O0orSoC8w",
          "isPublic": true,
          "topLevelComment": {
           "etag": "I9I1BSZMPSEXbmk2Nt6ZQucGBmo",
           "id": "UgzosPh4prrR5JrQ_u54AaABAg",
           "kind": "youtube#comment",
           "snippet": {
            "authorChannelId": {
             "value": "UCRZup6uyhjmyrauTUufP6gA"
            },
            "authorChannelUrl": "http://www.youtube.com/channel/UCRZup6uyhjmyrauTUufP6gA",
            "authorDisplayName": "Kaustubh Agashe",
            "authorProfileImageUrl": "https://yt3.ggpht.com/ytc/APkrFKb2TzlMpgYOhoCQAINKX7u2NQJFXSnH28pzN7saMw=s48-c-k-c0x00ffffff-no-rj",
            "canRate": true,
            "channelId": "UCs8a-hjf6X4pa-O0orSoC8w",
            "likeCount": 1,
            "publishedAt": "2023-10-16T06:00:31Z",
            "textDisplay": "I imagined Kunal Shah (CRED founder) when you mentioned the question. He has a degree in humanity and is someone who would pose these kind of questions.<br><br>I would like to see Ajay Shah, Vivek Kaul and Rathin Roy in a podcast with Amit Verma. Since it cannot happen on this podcast (given the format of it), it could be on The Seen and The Unseen.<br>It could be separate episodes if it&#39;s too difficult to get all of them together.<br><br>Amit should also get Dr. Vikas Divyakirti on his podcast The Seen and The Unseen.",
            "textOriginal": "I imagined Kunal Shah (CRED founder) when you mentioned the question. He has a degree in humanity and is someone who would pose these kind of questions.\n\nI would like to see Ajay Shah, Vivek Kaul and Rathin Roy in a podcast with Amit Verma. Since it cannot happen on this podcast (given the format of it), it could be on The Seen and The Unseen.\nIt could be separate episodes if it's too difficult to get all of them together.\n\nAmit should also get Dr. Vikas Divyakirti on his podcast The Seen and The Unseen.",
            "updatedAt": "2023-10-16T06:00:31Z",
            "videoId": "eHX9sgBt1nE",
            "viewerRating": "none"
           }
          },
          "totalReplyCount": 0,
          "videoId": "eHX9sgBt1nE"
         }
        },
        {
         "etag": "FkLAC0RsxOO2pvN0dPtmGwsoaFE",
         "id": "Ugy2u4MtHvrxD5OeAnN4AaABAg",
         "kind": "youtube#commentThread",
         "snippet": {
          "canReply": true,
          "channelId": "UCs8a-hjf6X4pa-O0orSoC8w",
          "isPublic": true,
          "topLevelComment": {
           "etag": "jbMrZTTSJLzPXr2jGyf0KhTm_xc",
           "id": "Ugy2u4MtHvrxD5OeAnN4AaABAg",
           "kind": "youtube#comment",
           "snippet": {
            "authorChannelId": {
             "value": "UC10JjLWRH9D0FgpoLta6KaQ"
            },
            "authorChannelUrl": "http://www.youtube.com/channel/UC10JjLWRH9D0FgpoLta6KaQ",
            "authorDisplayName": "Abhishek Padhye",
            "authorProfileImageUrl": "https://yt3.ggpht.com/ytc/APkrFKYJW_zMKSmHE1loO53hd19XKrF75TWYg5Vd4FDCZQ=s48-c-k-c0x00ffffff-no-rj",
            "canRate": true,
            "channelId": "UCs8a-hjf6X4pa-O0orSoC8w",
            "likeCount": 0,
            "publishedAt": "2023-10-15T16:30:17Z",
            "textDisplay": "Thank you for doing this Ajay ji and Amit ji",
            "textOriginal": "Thank you for doing this Ajay ji and Amit ji",
            "updatedAt": "2023-10-15T16:30:17Z",
            "videoId": "eHX9sgBt1nE",
            "viewerRating": "none"
           }
          },
          "totalReplyCount": 0,
          "videoId": "eHX9sgBt1nE"
         }
        },
        {
         "etag": "E5SudthV4vm0IqxBaMrIZIGqUqk",
         "id": "UgwZiH3SYygCA05iBm94AaABAg",
         "kind": "youtube#commentThread",
         "replies": {
          "comments": [
           {
            "etag": "mWJ7kxfRAmtak3m9Tats7cWSfcs",
            "id": "UgwZiH3SYygCA05iBm94AaABAg.9vsP7lveoKD9vszA-17kVC",
            "kind": "youtube#comment",
            "snippet": {
             "authorChannelId": {
              "value": "UCClPoGrD8H5znTIRa1LWCrA"
             },
             "authorChannelUrl": "http://www.youtube.com/channel/UCClPoGrD8H5znTIRa1LWCrA",
             "authorDisplayName": "Ajay Shah",
             "authorProfileImageUrl": "https://yt3.ggpht.com/ytc/APkrFKYbuDeFkD5s009dqndnvq1dVc-m3isb0YaM_dvknnw=s48-c-k-c0x00ffffff-no-rj",
             "canRate": true,
             "channelId": "UCs8a-hjf6X4pa-O0orSoC8w",
             "likeCount": 0,
             "parentId": "UgwZiH3SYygCA05iBm94AaABAg",
             "publishedAt": "2023-10-15T09:00:10Z",
             "textDisplay": "At the level of a person or at the level of society?<br><br>And, it&#39;s an interesting insight into the person or society.<br><br>1. A person says, I want Neanderthal values even if they are impractical<br><br>2. A person says, Okay, I will adopt the cloak of enlightenment values as it helps me (or us) to get rich<br><br>3. A person says, enlightenment values are non negotiable, now let&#39;s see what they do to prosperity.",
             "textOriginal": "At the level of a person or at the level of society?\n\nAnd, it's an interesting insight into the person or society.\n\n1. A person says, I want Neanderthal values even if they are impractical\n\n2. A person says, Okay, I will adopt the cloak of enlightenment values as it helps me (or us) to get rich\n\n3. A person says, enlightenment values are non negotiable, now let's see what they do to prosperity.",
             "updatedAt": "2023-10-15T09:00:10Z",
             "videoId": "eHX9sgBt1nE",
             "viewerRating": "none"
            }
           },
           {
            "etag": "oCR1AKi23epZPSKwdG3eeDXIqRE",
            "id": "UgwZiH3SYygCA05iBm94AaABAg.9vsP7lveoKD9vsPsC_HSDY",
            "kind": "youtube#comment",
            "snippet": {
             "authorChannelId": {
              "value": "UCs8a-hjf6X4pa-O0orSoC8w"
             },
             "authorChannelUrl": "http://www.youtube.com/channel/UCs8a-hjf6X4pa-O0orSoC8w",
             "authorDisplayName": "amitvarma",
             "authorProfileImageUrl": "https://yt3.ggpht.com/ytc/APkrFKbOZmgwZzCUUMhQ5M9QK6-nZaNCZa7zCAkj0g=s48-c-k-c0x00ffffff-no-rj",
             "canRate": true,
             "channelId": "UCs8a-hjf6X4pa-O0orSoC8w",
             "likeCount": 0,
             "parentId": "UgwZiH3SYygCA05iBm94AaABAg",
             "publishedAt": "2023-10-15T03:43:02Z",
             "textDisplay": "Individuals can get away with it. The question is, can a society?",
             "textOriginal": "Individuals can get away with it. The question is, can a society?",
             "updatedAt": "2023-10-15T03:43:02Z",
             "videoId": "eHX9sgBt1nE",
             "viewerRating": "none"
            }
           }
          ]
         },
         "snippet": {
          "canReply": true,
          "channelId": "UCs8a-hjf6X4pa-O0orSoC8w",
          "isPublic": true,
          "topLevelComment": {
           "etag": "E36u1bBMsP2O3mxoMxHxGeJkaYU",
           "id": "UgwZiH3SYygCA05iBm94AaABAg",
           "kind": "youtube#comment",
           "snippet": {
            "authorChannelId": {
             "value": "UC7FOzYiYUA2FCgt1f5mvboA"
            },
            "authorChannelUrl": "http://www.youtube.com/channel/UC7FOzYiYUA2FCgt1f5mvboA",
            "authorDisplayName": "Ashutosh Shukla",
            "authorProfileImageUrl": "https://yt3.ggpht.com/ytc/APkrFKa1FIOvBUkKbFwVRE-aY6Owv3UZD-wpnarNVhQm=s48-c-k-c0x00ffffff-no-rj",
            "canRate": true,
            "channelId": "UCs8a-hjf6X4pa-O0orSoC8w",
            "likeCount": 0,
            "publishedAt": "2023-10-15T03:36:34Z",
            "textDisplay": "Hey Amit and Ajay, blown away by the wife beating question, i asked that question to my friends in an attempt to show off. We were 5 people chatting, 3 of them girls and something strange happened. I thought that the girls would appreciate that wife beating means no prosperity, but they started coming up with scenarios and examples where wife-beaters have grown rich or can grow rich. Most examples involved &#39;crapitalism&#39;. And i got back to listen to you two again to notice that you say &quot;... in the long run, true prosperity ...&quot; How long is long run? A somebody can earn enough money and retire to a village farm house doing &#39;tradition&#39; for the rest of his life. Is one human life not long enough?",
            "textOriginal": "Hey Amit and Ajay, blown away by the wife beating question, i asked that question to my friends in an attempt to show off. We were 5 people chatting, 3 of them girls and something strange happened. I thought that the girls would appreciate that wife beating means no prosperity, but they started coming up with scenarios and examples where wife-beaters have grown rich or can grow rich. Most examples involved 'crapitalism'. And i got back to listen to you two again to notice that you say \"... in the long run, true prosperity ...\" How long is long run? A somebody can earn enough money and retire to a village farm house doing 'tradition' for the rest of his life. Is one human life not long enough?",
            "updatedAt": "2023-10-15T03:36:34Z",
            "videoId": "eHX9sgBt1nE",
            "viewerRating": "none"
           }
          },
          "totalReplyCount": 2,
          "videoId": "eHX9sgBt1nE"
         }
        },
        {
         "etag": "Kx2R_jflPSmu8vBgDZ7diEPM8D0",
         "id": "UgxR2RdRxu7O7y3T1S94AaABAg",
         "kind": "youtube#commentThread",
         "replies": {
          "comments": [
           {
            "etag": "MYkIuh5vmrRTJ2PJIi2GHPXUJl8",
            "id": "UgxR2RdRxu7O7y3T1S94AaABAg.9vs0LOVSKUB9vsQ5i1EkTa",
            "kind": "youtube#comment",
            "snippet": {
             "authorChannelId": {
              "value": "UCs8a-hjf6X4pa-O0orSoC8w"
             },
             "authorChannelUrl": "http://www.youtube.com/channel/UCs8a-hjf6X4pa-O0orSoC8w",
             "authorDisplayName": "amitvarma",
             "authorProfileImageUrl": "https://yt3.ggpht.com/ytc/APkrFKbOZmgwZzCUUMhQ5M9QK6-nZaNCZa7zCAkj0g=s48-c-k-c0x00ffffff-no-rj",
             "canRate": true,
             "channelId": "UCs8a-hjf6X4pa-O0orSoC8w",
             "likeCount": 0,
             "parentId": "UgxR2RdRxu7O7y3T1S94AaABAg",
             "publishedAt": "2023-10-15T03:45:00Z",
             "textDisplay": "I&#39;m afraid this is a family channel...",
             "textOriginal": "I'm afraid this is a family channel...",
             "updatedAt": "2023-10-15T03:45:00Z",
             "videoId": "eHX9sgBt1nE",
             "viewerRating": "none"
            }
           }
          ]
         },
         "snippet": {
          "canReply": true,
          "channelId": "UCs8a-hjf6X4pa-O0orSoC8w",
          "isPublic": true,
          "topLevelComment": {
           "etag": "ayatGeZME9P0okQ9kT_oar5M1GQ",
           "id": "UgxR2RdRxu7O7y3T1S94AaABAg",
           "kind": "youtube#comment",
           "snippet": {
            "authorChannelId": {
             "value": "UCH0rg84nzR15vRDFby_8FyA"
            },
            "authorChannelUrl": "http://www.youtube.com/channel/UCH0rg84nzR15vRDFby_8FyA",
            "authorDisplayName": "Aritra Ray",
            "authorProfileImageUrl": "https://yt3.ggpht.com/ytc/APkrFKY0OQ4reNZbCWfvE-nF3oZr3ltK6IVIQnUUv9uoyfw=s48-c-k-c0x00ffffff-no-rj",
            "canRate": true,
            "channelId": "UCs8a-hjf6X4pa-O0orSoC8w",
            "likeCount": 0,
            "publishedAt": "2023-10-14T23:59:58Z",
            "textDisplay": "I always try to take note of the books lying around in each episode. This week I noticed a copy of  &quot;Encylopedia of Unusual Sex Practices&quot; resting on the table next to Amit. Eagerly waiting for an episode on the same. ;)",
            "textOriginal": "I always try to take note of the books lying around in each episode. This week I noticed a copy of  \"Encylopedia of Unusual Sex Practices\" resting on the table next to Amit. Eagerly waiting for an episode on the same. ;)",
            "updatedAt": "2023-10-14T23:59:58Z",
            "videoId": "eHX9sgBt1nE",
            "viewerRating": "none"
           }
          },
          "totalReplyCount": 1,
          "videoId": "eHX9sgBt1nE"
         }
        },
        {
         "etag": "xB7dyLMdtw-E9ttQOgl8iPIT8CU",
         "id": "UgyvzJRu5mM_IwVcbht4AaABAg",
         "kind": "youtube#commentThread",
         "snippet": {
          "canReply": true,
          "channelId": "UCs8a-hjf6X4pa-O0orSoC8w",
          "isPublic": true,
          "topLevelComment": {
           "etag": "6sbL6shT8ZmOkUUAkVB-EDYKuaM",
           "id": "UgyvzJRu5mM_IwVcbht4AaABAg",
           "kind": "youtube#comment",
           "snippet": {
            "authorChannelId": {
             "value": "UC53qGruodR7KJIM46HwiDeQ"
            },
            "authorChannelUrl": "http://www.youtube.com/channel/UC53qGruodR7KJIM46HwiDeQ",
            "authorDisplayName": "Harsaran",
            "authorProfileImageUrl": "https://yt3.ggpht.com/ytc/APkrFKb1_wdaXQc2J8ZajREXr6D9t0V-UhbOd6d1Xw=s48-c-k-c0x00ffffff-no-rj",
            "canRate": true,
            "channelId": "UCs8a-hjf6X4pa-O0orSoC8w",
            "likeCount": 0,
            "publishedAt": "2023-10-14T08:14:43Z",
            "textDisplay": "Just so absorbing. Thank you, thank you.",
            "textOriginal": "Just so absorbing. Thank you, thank you.",
            "updatedAt": "2023-10-14T08:14:43Z",
            "videoId": "eHX9sgBt1nE",
            "viewerRating": "none"
           }
          },
          "totalReplyCount": 0,
          "videoId": "eHX9sgBt1nE"
         }
        },
        {
         "etag": "0QYiC7X4Ilc82-Hg8RlIRbRYXV8",
         "id": "Ugxytt1OkA6PhBvPqet4AaABAg",
         "kind": "youtube#commentThread",
         "snippet": {
          "canReply": true,
          "channelId": "UCs8a-hjf6X4pa-O0orSoC8w",
          "isPublic": true,
          "topLevelComment": {
           "etag": "KAvhZxuOtUEQUUMdBN60Qse8y7A",
           "id": "Ugxytt1OkA6PhBvPqet4AaABAg",
           "kind": "youtube#comment",
           "snippet": {
            "authorChannelId": {
             "value": "UCN1HQarQfhZv6v7b0lVHqtQ"
            },
            "authorChannelUrl": "http://www.youtube.com/channel/UCN1HQarQfhZv6v7b0lVHqtQ",
            "authorDisplayName": "Silvester Stanis Pandiaraj",
            "authorProfileImageUrl": "https://yt3.ggpht.com/ytc/APkrFKYq3JYWKZU9AqW2KEEM0_5LM2knF4o3cTRfADf2qQ=s48-c-k-c0x00ffffff-no-rj",
            "canRate": true,
            "channelId": "UCs8a-hjf6X4pa-O0orSoC8w",
            "likeCount": 0,
            "publishedAt": "2023-10-14T06:54:27Z",
            "textDisplay": "Wish you had a discussion about Palestine",
            "textOriginal": "Wish you had a discussion about Palestine",
            "updatedAt": "2023-10-14T06:54:27Z",
            "videoId": "eHX9sgBt1nE",
            "viewerRating": "none"
           }
          },
          "totalReplyCount": 0,
          "videoId": "eHX9sgBt1nE"
         }
        },
        {
         "etag": "aCNbK3paEYb1AMIY9Uprv1O4mOs",
         "id": "UgyZtrCRVbXwNvP-JPN4AaABAg",
         "kind": "youtube#commentThread",
         "replies": {
          "comments": [
           {
            "etag": "mHxCUarR4Oz7nhaeosUuzpXmT_w",
            "id": "UgyZtrCRVbXwNvP-JPN4AaABAg.9vpyW2pxQ7o9vsQVkTw7xn",
            "kind": "youtube#comment",
            "snippet": {
             "authorChannelId": {
              "value": "UCs8a-hjf6X4pa-O0orSoC8w"
             },
             "authorChannelUrl": "http://www.youtube.com/channel/UCs8a-hjf6X4pa-O0orSoC8w",
             "authorDisplayName": "amitvarma",
             "authorProfileImageUrl": "https://yt3.ggpht.com/ytc/APkrFKbOZmgwZzCUUMhQ5M9QK6-nZaNCZa7zCAkj0g=s48-c-k-c0x00ffffff-no-rj",
             "canRate": true,
             "channelId": "UCs8a-hjf6X4pa-O0orSoC8w",
             "likeCount": 2,
             "parentId": "UgyZtrCRVbXwNvP-JPN4AaABAg",
             "publishedAt": "2023-10-15T03:48:34Z",
             "textDisplay": "Ajay, outcomes matter, not intentions. Deng&#39;s outcomes were far better than Nehru&#39;s, and the fact that the Xi model is a reversal of the Deng model doesn&#39;t mean the Deng model was wrong. Lifting hundreds of millions out of poverty is a humanitarian good, and we cannot minimise that.",
             "textOriginal": "Ajay, outcomes matter, not intentions. Deng's outcomes were far better than Nehru's, and the fact that the Xi model is a reversal of the Deng model doesn't mean the Deng model was wrong. Lifting hundreds of millions out of poverty is a humanitarian good, and we cannot minimise that.",
             "updatedAt": "2023-10-15T03:48:34Z",
             "videoId": "eHX9sgBt1nE",
             "viewerRating": "none"
            }
           },
           {
            "etag": "gBBwKbWKBEgiao6x1smMzOntihg",
            "id": "UgyZtrCRVbXwNvP-JPN4AaABAg.9vpyW2pxQ7o9vqNXIw18h5",
            "kind": "youtube#comment",
            "snippet": {
             "authorChannelId": {
              "value": "UCClPoGrD8H5znTIRa1LWCrA"
             },
             "authorChannelUrl": "http://www.youtube.com/channel/UCClPoGrD8H5znTIRa1LWCrA",
             "authorDisplayName": "Ajay Shah",
             "authorProfileImageUrl": "https://yt3.ggpht.com/ytc/APkrFKYbuDeFkD5s009dqndnvq1dVc-m3isb0YaM_dvknnw=s48-c-k-c0x00ffffff-no-rj",
             "canRate": true,
             "channelId": "UCs8a-hjf6X4pa-O0orSoC8w",
             "likeCount": 0,
             "parentId": "UgyZtrCRVbXwNvP-JPN4AaABAg",
             "publishedAt": "2023-10-14T08:44:05Z",
             "textDisplay": "Yes Singapore is interesting. We don&#39;t know too much about it. <br><br>On Deng&#39;s project. Imagine that in 1978, we told him a scenario for 45 years out. $23k of ppp GDP, well behind a poor European country (Greece is at $40k), the retreat from political reform into a sullen Leninist/Maoist regime, and a lot of difficulty on sustained growth. Would he call this a success of his project? I doubt it. <br><br>I feel I understand Nehru more. Would Nehru settle for such an outcome as success? I think not. The dream was always to match British freedoms and British per capita GDP.",
             "textOriginal": "Yes Singapore is interesting. We don't know too much about it. \n\nOn Deng's project. Imagine that in 1978, we told him a scenario for 45 years out. $23k of ppp GDP, well behind a poor European country (Greece is at $40k), the retreat from political reform into a sullen Leninist/Maoist regime, and a lot of difficulty on sustained growth. Would he call this a success of his project? I doubt it. \n\nI feel I understand Nehru more. Would Nehru settle for such an outcome as success? I think not. The dream was always to match British freedoms and British per capita GDP.",
             "updatedAt": "2023-10-14T14:27:25Z",
             "videoId": "eHX9sgBt1nE",
             "viewerRating": "none"
            }
           }
          ]
         },
         "snippet": {
          "canReply": true,
          "channelId": "UCs8a-hjf6X4pa-O0orSoC8w",
          "isPublic": true,
          "topLevelComment": {
           "etag": "WGk6xfCu2VfhOBb1hGrK_Jo7KcU",
           "id": "UgyZtrCRVbXwNvP-JPN4AaABAg",
           "kind": "youtube#comment",
           "snippet": {
            "authorChannelId": {
             "value": "UCXcSuNwUrxmel3Y8TJE-cyw"
            },
            "authorChannelUrl": "http://www.youtube.com/channel/UCXcSuNwUrxmel3Y8TJE-cyw",
            "authorDisplayName": "Tariq Musthafa",
            "authorProfileImageUrl": "https://yt3.ggpht.com/ytc/APkrFKbRfkZZX1Fi3DRR8-c2-xyJVkQ5Gb1ZZrDMKQ=s48-c-k-c0x00ffffff-no-rj",
            "canRate": true,
            "channelId": "UCs8a-hjf6X4pa-O0orSoC8w",
            "likeCount": 1,
            "publishedAt": "2023-10-14T04:56:44Z",
            "textDisplay": "Couple of thoughts:<br><br>1. Perhaps, Deng&#39;s project did work. It lifted millions of people out of poverty over a 30 year period, and that&#39;s success in itself. And in many ways, it doesn&#39;t matter whether the model is failing now. Could there have been better ways of going about it, sure. <br><br>2. Could you do an episode on Singapore? I think it presents a slightly more difficult case to judge - they&#39;ve done incredibly well economically - but has limitations on political freedoms. How should we think of that?",
            "textOriginal": "Couple of thoughts:\n\n1. Perhaps, Deng's project did work. It lifted millions of people out of poverty over a 30 year period, and that's success in itself. And in many ways, it doesn't matter whether the model is failing now. Could there have been better ways of going about it, sure. \n\n2. Could you do an episode on Singapore? I think it presents a slightly more difficult case to judge - they've done incredibly well economically - but has limitations on political freedoms. How should we think of that?",
            "updatedAt": "2023-10-14T04:56:44Z",
            "videoId": "eHX9sgBt1nE",
            "viewerRating": "none"
           }
          },
          "totalReplyCount": 2,
          "videoId": "eHX9sgBt1nE"
         }
        },
        {
         "etag": "Pci69okyN7bXa_pPzzoYOqMJopI",
         "id": "UgwsiMA0Cd9j3n5dsWJ4AaABAg",
         "kind": "youtube#commentThread",
         "snippet": {
          "canReply": true,
          "channelId": "UCs8a-hjf6X4pa-O0orSoC8w",
          "isPublic": true,
          "topLevelComment": {
           "etag": "oHp6bjtrrZ8EmMW31z1mptSmm6g",
           "id": "UgwsiMA0Cd9j3n5dsWJ4AaABAg",
           "kind": "youtube#comment",
           "snippet": {
            "authorChannelId": {
             "value": "UC6EVcjVEark2pcnQRG4maZg"
            },
            "authorChannelUrl": "http://www.youtube.com/channel/UC6EVcjVEark2pcnQRG4maZg",
            "authorDisplayName": "indianinva",
            "authorProfileImageUrl": "https://yt3.ggpht.com/ytc/APkrFKb9thLDqvH_i4Ry9-wBDhUSadwCJbZQvkyrD_u8=s48-c-k-c0x00ffffff-no-rj",
            "canRate": true,
            "channelId": "UCs8a-hjf6X4pa-O0orSoC8w",
            "likeCount": 2,
            "publishedAt": "2023-10-13T23:28:40Z",
            "textDisplay": "I am really curious as to who that friend is, who runs Asia&#39;s largest business. Any guesses ?",
            "textOriginal": "I am really curious as to who that friend is, who runs Asia's largest business. Any guesses ?",
            "updatedAt": "2023-10-13T23:28:40Z",
            "videoId": "eHX9sgBt1nE",
            "viewerRating": "none"
           }
          },
          "totalReplyCount": 0,
          "videoId": "eHX9sgBt1nE"
         }
        },
        {
         "etag": "22ERiTLVCElXY2Gf19GqAhOeMXE",
         "id": "UgyTPe7YPtphTryOvkt4AaABAg",
         "kind": "youtube#commentThread",
         "snippet": {
          "canReply": true,
          "channelId": "UCs8a-hjf6X4pa-O0orSoC8w",
          "isPublic": true,
          "topLevelComment": {
           "etag": "PWupo25At4UYdnw9G59qd-PVf5g",
           "id": "UgyTPe7YPtphTryOvkt4AaABAg",
           "kind": "youtube#comment",
           "snippet": {
            "authorChannelId": {
             "value": "UCsVnbGkoBd0jYeJV3vECJyw"
            },
            "authorChannelUrl": "http://www.youtube.com/channel/UCsVnbGkoBd0jYeJV3vECJyw",
            "authorDisplayName": "Pranav Menon",
            "authorProfileImageUrl": "https://yt3.ggpht.com/ytc/APkrFKbh7MDyT5W8JuFsoKhX0l1tLoG-zZ6zb117yfqky3s=s48-c-k-c0x00ffffff-no-rj",
            "canRate": true,
            "channelId": "UCs8a-hjf6X4pa-O0orSoC8w",
            "likeCount": 1,
            "publishedAt": "2023-10-13T23:02:30Z",
            "textDisplay": "Loving the longer episodes",
            "textOriginal": "Loving the longer episodes",
            "updatedAt": "2023-10-13T23:02:30Z",
            "videoId": "eHX9sgBt1nE",
            "viewerRating": "none"
           }
          },
          "totalReplyCount": 0,
          "videoId": "eHX9sgBt1nE"
         }
        },
        {
         "etag": "Z6gb8WY82MdF8fWzmvApzQe8erE",
         "id": "UgwR3g-uaTgU8eCwvyd4AaABAg",
         "kind": "youtube#commentThread",
         "replies": {
          "comments": [
           {
            "etag": "qFozyI_oqHoYo3gmCo8VKGEycss",
            "id": "UgwR3g-uaTgU8eCwvyd4AaABAg.9vonAoOFO3s9vpi9aUSyUf",
            "kind": "youtube#comment",
            "snippet": {
             "authorChannelId": {
              "value": "UCClPoGrD8H5znTIRa1LWCrA"
             },
             "authorChannelUrl": "http://www.youtube.com/channel/UCClPoGrD8H5znTIRa1LWCrA",
             "authorDisplayName": "Ajay Shah",
             "authorProfileImageUrl": "https://yt3.ggpht.com/ytc/APkrFKYbuDeFkD5s009dqndnvq1dVc-m3isb0YaM_dvknnw=s48-c-k-c0x00ffffff-no-rj",
             "canRate": true,
             "channelId": "UCs8a-hjf6X4pa-O0orSoC8w",
             "likeCount": 1,
             "parentId": "UgwR3g-uaTgU8eCwvyd4AaABAg",
             "publishedAt": "2023-10-14T02:33:50Z",
             "textDisplay": "Just to clarify the claim. We do not say that China 2023 is close to USSR 1989. We say that in 2023, reasonable observers understood that the Chinese model does not work, in the way that in 1989 we understood that the Soviet model does not work.",
             "textOriginal": "Just to clarify the claim. We do not say that China 2023 is close to USSR 1989. We say that in 2023, reasonable observers understood that the Chinese model does not work, in the way that in 1989 we understood that the Soviet model does not work.",
             "updatedAt": "2023-10-14T02:33:50Z",
             "videoId": "eHX9sgBt1nE",
             "viewerRating": "none"
            }
           },
           {
            "etag": "Tl_NEPhIYJ1mIhdGk7juRHwcLco",
            "id": "UgwR3g-uaTgU8eCwvyd4AaABAg.9vonAoOFO3s9vp44mt5y4X",
            "kind": "youtube#comment",
            "snippet": {
             "authorChannelId": {
              "value": "UC6ricYlmGdsOmO0e3dIOj7A"
             },
             "authorChannelUrl": "http://www.youtube.com/channel/UC6ricYlmGdsOmO0e3dIOj7A",
             "authorDisplayName": "S K",
             "authorProfileImageUrl": "https://yt3.ggpht.com/ytc/APkrFKbVPe7rLWcYyXSay3PIe_rJLSxj1gTW1soqXg=s48-c-k-c0x00ffffff-no-rj",
             "canRate": true,
             "channelId": "UCs8a-hjf6X4pa-O0orSoC8w",
             "likeCount": 0,
             "parentId": "UgwR3g-uaTgU8eCwvyd4AaABAg",
             "publishedAt": "2023-10-13T20:34:55Z",
             "textDisplay": "​@Ajay Shah To posit that China 2023 is close to USSR 1989 is a huge and bold leap, imho. Chinese leadership, even under Xi, is a bit more wiser and, one hopes they can course correct, because the west is heavily invested in China, despite all the talk of decoupling. <br><br>Despite all the valid issues you raise, China sits on a huge trade surplus and vast technical knowhow in an array of industries that are vital to modern life. That is quite different from the Soviets who had no technological expertise beyond space and weapons, and no significant trade ties with the west.<br><br>If one said that the paternalist Confucian China model cannot surpass a liberal enlightenment values and free market based society with checks and balances like the US, I would be inclined to accept. <br><br>However, to achieve a modicum of prosperity that isn&#39;t world beating but sufficient to sustain a good living standard the China model has demonstrably worked fine. That they are close to some imminent collapse would be dangerously wishful thinking for those of us who would love to see the Chinese regime fail for ethical reasons. <br><br>Perhaps it is a topic for a different day, but why have traditionally liberal societies lately taken a liking to strongmen? Is only the China model susceptible to strongmen like Xi and strong economic downturns? Is nationalism in China because of Communist rule or merely getting to a certain level of prosperity that brings arrogance or China&#39;s historic view of itself as the Middle kingdom resurrected? Isn&#39;t India in a similar boat, acquiring illiberal tendencies, a taste for revanchism and hyper nationalism after an extended period of growth?",
             "textOriginal": "​@Ajay Shah To posit that China 2023 is close to USSR 1989 is a huge and bold leap, imho. Chinese leadership, even under Xi, is a bit more wiser and, one hopes they can course correct, because the west is heavily invested in China, despite all the talk of decoupling. \n\nDespite all the valid issues you raise, China sits on a huge trade surplus and vast technical knowhow in an array of industries that are vital to modern life. That is quite different from the Soviets who had no technological expertise beyond space and weapons, and no significant trade ties with the west.\n\nIf one said that the paternalist Confucian China model cannot surpass a liberal enlightenment values and free market based society with checks and balances like the US, I would be inclined to accept. \n\nHowever, to achieve a modicum of prosperity that isn't world beating but sufficient to sustain a good living standard the China model has demonstrably worked fine. That they are close to some imminent collapse would be dangerously wishful thinking for those of us who would love to see the Chinese regime fail for ethical reasons. \n\nPerhaps it is a topic for a different day, but why have traditionally liberal societies lately taken a liking to strongmen? Is only the China model susceptible to strongmen like Xi and strong economic downturns? Is nationalism in China because of Communist rule or merely getting to a certain level of prosperity that brings arrogance or China's historic view of itself as the Middle kingdom resurrected? Isn't India in a similar boat, acquiring illiberal tendencies, a taste for revanchism and hyper nationalism after an extended period of growth?",
             "updatedAt": "2023-10-13T20:34:55Z",
             "videoId": "eHX9sgBt1nE",
             "viewerRating": "none"
            }
           },
           {
            "etag": "JGrRNKQEO77prr3azuF85XnISAg",
            "id": "UgwR3g-uaTgU8eCwvyd4AaABAg.9vonAoOFO3s9vovtQs4U_L",
            "kind": "youtube#comment",
            "snippet": {
             "authorChannelId": {
              "value": "UCClPoGrD8H5znTIRa1LWCrA"
             },
             "authorChannelUrl": "http://www.youtube.com/channel/UCClPoGrD8H5znTIRa1LWCrA",
             "authorDisplayName": "Ajay Shah",
             "authorProfileImageUrl": "https://yt3.ggpht.com/ytc/APkrFKYbuDeFkD5s009dqndnvq1dVc-m3isb0YaM_dvknnw=s48-c-k-c0x00ffffff-no-rj",
             "canRate": true,
             "channelId": "UCs8a-hjf6X4pa-O0orSoC8w",
             "likeCount": 0,
             "parentId": "UgwR3g-uaTgU8eCwvyd4AaABAg",
             "publishedAt": "2023-10-13T19:14:35Z",
             "textDisplay": "We try to separate the ethical issue from the instrumental question. Do we need to stop beating our wives in order to get rich? <br><br>From this purely practical view, the USSR failed. And, we suggest, China 2023 is comparable to USSR 1989 in being the point at which we understand the China model is broken. <br><br>The purely instrumental puzzle is about getting to UK or US style centuries of growth and stability. We don&#39;t know a way to do this other than enlightenment values.",
             "textOriginal": "We try to separate the ethical issue from the instrumental question. Do we need to stop beating our wives in order to get rich? \n\nFrom this purely practical view, the USSR failed. And, we suggest, China 2023 is comparable to USSR 1989 in being the point at which we understand the China model is broken. \n\nThe purely instrumental puzzle is about getting to UK or US style centuries of growth and stability. We don't know a way to do this other than enlightenment values.",
             "updatedAt": "2023-10-13T19:14:35Z",
             "videoId": "eHX9sgBt1nE",
             "viewerRating": "none"
            }
           }
          ]
         },
         "snippet": {
          "canReply": true,
          "channelId": "UCs8a-hjf6X4pa-O0orSoC8w",
          "isPublic": true,
          "topLevelComment": {
           "etag": "ee5SG8s27aXP3h8l6xg57qjyZ1o",
           "id": "UgwR3g-uaTgU8eCwvyd4AaABAg",
           "kind": "youtube#comment",
           "snippet": {
            "authorChannelId": {
             "value": "UCVA02agbPuTmnOiWDJ2hduA"
            },
            "authorChannelUrl": "http://www.youtube.com/channel/UCVA02agbPuTmnOiWDJ2hduA",
            "authorDisplayName": "SK",
            "authorProfileImageUrl": "https://yt3.ggpht.com/ytc/APkrFKaAVwEUh86JFzlhZKocbc474xUAPEH3Ni7_u_CaNt8dsTpGzQwLVuGcbXWkPm3ZSA=s48-c-k-c0x00ffffff-no-rj",
            "canRate": true,
            "channelId": "UCs8a-hjf6X4pa-O0orSoC8w",
            "likeCount": 0,
            "publishedAt": "2023-10-13T17:58:28Z",
            "textDisplay": "Your conversations are brilliant and entertaining even when I find myself disagreeing with some of the points you make. I love enlightenment values but aren&#39;t they a matter of taste and upbringing than truly universal? Values are contingent to the full complexity of factors that shape a society and differ strongly even within.<br><br>Before we write the obituary of the China model I submit the following. Populism and hyper nationalism emerged simultaneously on the world stage with Erdogan, Orban, Putin, Modi, Berlusconi/Meloni, Boris Johnson, Paul Kagame and of course, Trump to quote a small subset. If liberal enlightenment values are so great why is the West too stumbling upon them? I doubt all these figures were influenced by the &quot;China model&quot; to dabble with authoritarianism. Rather, I think that liberal democracy married to global capitalism has reached some inherent contradictions leaving out too many people hung and dry in the boom and bust cycles.<br><br>Xi Jinping is not much more than the Chinese version of populism and authoritarianism gripping the globe. <br><br>I have traveled extensively in China over the years and there is indeed significant dislike of the Xi Jinping regime . However, the sense that the Chinese Communist party has more or less got it right is fairly deep. China is more Confucian than Leninist. The educated Chinese look at the chaotic democracies that emerged in the postcolonial period and find very few success stories there. China under Deng adapted the successful Singapore model more so than creating its own. China is in deep trouble due to Xi Jinping&#39;s failed policies on multiple fronts, including the Chinese real estate bubble, but it is not that different from the  US subprime crisis in 2008. <br><br>Liberal democracy is not for everyone. It requires as many special conditions to thrive as the finicky Alfonso Mango! The China model is<br>not for everyone either.",
            "textOriginal": "Your conversations are brilliant and entertaining even when I find myself disagreeing with some of the points you make. I love enlightenment values but aren't they a matter of taste and upbringing than truly universal? Values are contingent to the full complexity of factors that shape a society and differ strongly even within.\n\nBefore we write the obituary of the China model I submit the following. Populism and hyper nationalism emerged simultaneously on the world stage with Erdogan, Orban, Putin, Modi, Berlusconi/Meloni, Boris Johnson, Paul Kagame and of course, Trump to quote a small subset. If liberal enlightenment values are so great why is the West too stumbling upon them? I doubt all these figures were influenced by the \"China model\" to dabble with authoritarianism. Rather, I think that liberal democracy married to global capitalism has reached some inherent contradictions leaving out too many people hung and dry in the boom and bust cycles.\n\nXi Jinping is not much more than the Chinese version of populism and authoritarianism gripping the globe. \n\nI have traveled extensively in China over the years and there is indeed significant dislike of the Xi Jinping regime . However, the sense that the Chinese Communist party has more or less got it right is fairly deep. China is more Confucian than Leninist. The educated Chinese look at the chaotic democracies that emerged in the postcolonial period and find very few success stories there. China under Deng adapted the successful Singapore model more so than creating its own. China is in deep trouble due to Xi Jinping's failed policies on multiple fronts, including the Chinese real estate bubble, but it is not that different from the  US subprime crisis in 2008. \n\nLiberal democracy is not for everyone. It requires as many special conditions to thrive as the finicky Alfonso Mango! The China model is\nnot for everyone either.",
            "updatedAt": "2023-10-13T17:58:28Z",
            "videoId": "eHX9sgBt1nE",
            "viewerRating": "none"
           }
          },
          "totalReplyCount": 3,
          "videoId": "eHX9sgBt1nE"
         }
        },
        {
         "etag": "t-igZT-z_WnFfVAvTyt3mzRTR1s",
         "id": "UgxMBbI-tcbR0h9LCnd4AaABAg",
         "kind": "youtube#commentThread",
         "replies": {
          "comments": [
           {
            "etag": "dzM95gC3_JBbN8Vwl3LLwUN3CVM",
            "id": "UgxMBbI-tcbR0h9LCnd4AaABAg.9vofOOdYpfa9vsQ1GHJfqw",
            "kind": "youtube#comment",
            "snippet": {
             "authorChannelId": {
              "value": "UCs8a-hjf6X4pa-O0orSoC8w"
             },
             "authorChannelUrl": "http://www.youtube.com/channel/UCs8a-hjf6X4pa-O0orSoC8w",
             "authorDisplayName": "amitvarma",
             "authorProfileImageUrl": "https://yt3.ggpht.com/ytc/APkrFKbOZmgwZzCUUMhQ5M9QK6-nZaNCZa7zCAkj0g=s48-c-k-c0x00ffffff-no-rj",
             "canRate": true,
             "channelId": "UCs8a-hjf6X4pa-O0orSoC8w",
             "likeCount": 0,
             "parentId": "UgxMBbI-tcbR0h9LCnd4AaABAg",
             "publishedAt": "2023-10-15T03:44:24Z",
             "textDisplay": "I gave a glimpse of it in episode 11: <a href=\"https://www.youtube.com/watch?v=-RHpE-B89Qg\">https://www.youtube.com/watch?v=-RHpE-B89Qg</a>",
             "textOriginal": "I gave a glimpse of it in episode 11: https://www.youtube.com/watch?v=-RHpE-B89Qg",
             "updatedAt": "2023-10-15T03:44:24Z",
             "videoId": "eHX9sgBt1nE",
             "viewerRating": "none"
            }
           }
          ]
         },
         "snippet": {
          "canReply": true,
          "channelId": "UCs8a-hjf6X4pa-O0orSoC8w",
          "isPublic": true,
          "topLevelComment": {
           "etag": "PLqz1lKB4Kugi1kKFZAjtLKHdcw",
           "id": "UgxMBbI-tcbR0h9LCnd4AaABAg",
           "kind": "youtube#comment",
           "snippet": {
            "authorChannelId": {
             "value": "UCoGjaE5Z9ZkPNuNDGodJcYg"
            },
            "authorChannelUrl": "http://www.youtube.com/channel/UCoGjaE5Z9ZkPNuNDGodJcYg",
            "authorDisplayName": "Gouranga Sarma",
            "authorProfileImageUrl": "https://yt3.ggpht.com/ytc/APkrFKZjysL1vGzzp89N2sHJHm4H5mSCZnr8tNgrK5llvA=s48-c-k-c0x00ffffff-no-rj",
            "canRate": true,
            "channelId": "UCs8a-hjf6X4pa-O0orSoC8w",
            "likeCount": 0,
            "publishedAt": "2023-10-13T16:50:25Z",
            "textDisplay": "Beautiful episode. Want an episode on Amit sir&#39;s writing process and researching on a topic. Would be helpful for someone who has just started writing or want to understand the process.",
            "textOriginal": "Beautiful episode. Want an episode on Amit sir's writing process and researching on a topic. Would be helpful for someone who has just started writing or want to understand the process.",
            "updatedAt": "2023-10-13T16:50:25Z",
            "videoId": "eHX9sgBt1nE",
            "viewerRating": "none"
           }
          },
          "totalReplyCount": 1,
          "videoId": "eHX9sgBt1nE"
         }
        },
        {
         "etag": "9wxRJpDMZS5hQ2HV-aufHy8YgwE",
         "id": "UgzlSgmK6I1XE56DybB4AaABAg",
         "kind": "youtube#commentThread",
         "snippet": {
          "canReply": true,
          "channelId": "UCs8a-hjf6X4pa-O0orSoC8w",
          "isPublic": true,
          "topLevelComment": {
           "etag": "JE0dq3coAfSNPMvn2Z0QdVI1O2E",
           "id": "UgzlSgmK6I1XE56DybB4AaABAg",
           "kind": "youtube#comment",
           "snippet": {
            "authorChannelId": {
             "value": "UCmAMiB0xammERfRLPtEaKWA"
            },
            "authorChannelUrl": "http://www.youtube.com/channel/UCmAMiB0xammERfRLPtEaKWA",
            "authorDisplayName": "Vineet KKN Panchhi ",
            "authorProfileImageUrl": "https://yt3.ggpht.com/mDayi_uxDphwS21hDULRyK_LcJoLUCTc9yeG5CALCL-KXJBaJtKaO-iXVSMZq1jl9bLk2hYs5g=s48-c-k-c0x00ffffff-no-rj",
            "canRate": true,
            "channelId": "UCs8a-hjf6X4pa-O0orSoC8w",
            "likeCount": 1,
            "publishedAt": "2023-10-13T16:39:06Z",
            "textDisplay": "Thank you for what you do.",
            "textOriginal": "Thank you for what you do.",
            "updatedAt": "2023-10-13T16:39:06Z",
            "videoId": "eHX9sgBt1nE",
            "viewerRating": "none"
           }
          },
          "totalReplyCount": 0,
          "videoId": "eHX9sgBt1nE"
         }
        },
        {
         "etag": "DSps2_l99Lu_EwjiiqCFGueHdpQ",
         "id": "Ugzw9LGEmHbJJmGwum94AaABAg",
         "kind": "youtube#commentThread",
         "snippet": {
          "canReply": true,
          "channelId": "UCs8a-hjf6X4pa-O0orSoC8w",
          "isPublic": true,
          "topLevelComment": {
           "etag": "E8myGt_qJjSdXgJRAETJ6cOJruM",
           "id": "Ugzw9LGEmHbJJmGwum94AaABAg",
           "kind": "youtube#comment",
           "snippet": {
            "authorChannelId": {
             "value": "UCcdfN1-BTo5ncSWOiTcSaRg"
            },
            "authorChannelUrl": "http://www.youtube.com/channel/UCcdfN1-BTo5ncSWOiTcSaRg",
            "authorDisplayName": "Chisobhaneko",
            "authorProfileImageUrl": "https://yt3.ggpht.com/otGAim1J72M8ws6kcgPGNjBtGPN9tdVJwYSHoV6o1eAR8XNzOOAO8E9lEPzxTZX-ix9ccoKckj4=s48-c-k-c0x00ffffff-no-rj",
            "canRate": true,
            "channelId": "UCs8a-hjf6X4pa-O0orSoC8w",
            "likeCount": 0,
            "publishedAt": "2023-10-13T14:05:32Z",
            "textDisplay": "its like any other model.. no model is perfect... and recession is inevitable for any model or country, then once they come back, they come back stronger and reach newer heights",
            "textOriginal": "its like any other model.. no model is perfect... and recession is inevitable for any model or country, then once they come back, they come back stronger and reach newer heights",
            "updatedAt": "2023-10-13T14:05:32Z",
            "videoId": "eHX9sgBt1nE",
            "viewerRating": "none"
           }
          },
          "totalReplyCount": 0,
          "videoId": "eHX9sgBt1nE"
         }
        },
        {
         "etag": "4PmxVTkrptH4pD0ubEQPYP5MkSE",
         "id": "UgzBQQ5TT_bdEPFbxFJ4AaABAg",
         "kind": "youtube#commentThread",
         "snippet": {
          "canReply": true,
          "channelId": "UCs8a-hjf6X4pa-O0orSoC8w",
          "isPublic": true,
          "topLevelComment": {
           "etag": "ibSgekO3B0mdBXaGKvfT90vRFUc",
           "id": "UgzBQQ5TT_bdEPFbxFJ4AaABAg",
           "kind": "youtube#comment",
           "snippet": {
            "authorChannelId": {
             "value": "UCl_AO68FviUBE4xprZKc7yg"
            },
            "authorChannelUrl": "http://www.youtube.com/channel/UCl_AO68FviUBE4xprZKc7yg",
            "authorDisplayName": "Rubin Mathias",
            "authorProfileImageUrl": "https://yt3.ggpht.com/ytc/APkrFKYOvwMB6m0bNjLQlHXYy-vckd1sKD0O-LkNmsZeoIw=s48-c-k-c0x00ffffff-no-rj",
            "canRate": true,
            "channelId": "UCs8a-hjf6X4pa-O0orSoC8w",
            "likeCount": 0,
            "publishedAt": "2023-10-13T13:16:55Z",
            "textDisplay": "Have you even called one left economist like Prabhat Pattnaik to your show? Then stop spreading cold war era propoganda. Read economists like Yanis Varoufakis, Michael Hudson, Ha Jun Chang",
            "textOriginal": "Have you even called one left economist like Prabhat Pattnaik to your show? Then stop spreading cold war era propoganda. Read economists like Yanis Varoufakis, Michael Hudson, Ha Jun Chang",
            "updatedAt": "2023-10-13T13:16:55Z",
            "videoId": "eHX9sgBt1nE",
            "viewerRating": "none"
           }
          },
          "totalReplyCount": 0,
          "videoId": "eHX9sgBt1nE"
         }
        },
        {
         "etag": "dn17Zc7uhDa54eyijbESoyAvX1E",
         "id": "Ugx1cUisNc1KgBZYgUJ4AaABAg",
         "kind": "youtube#commentThread",
         "replies": {
          "comments": [
           {
            "etag": "tWbCf_Bl570xizciIntfWgauDNQ",
            "id": "Ugx1cUisNc1KgBZYgUJ4AaABAg.9voB651U6H99vsQ8kF-sb4",
            "kind": "youtube#comment",
            "snippet": {
             "authorChannelId": {
              "value": "UCs8a-hjf6X4pa-O0orSoC8w"
             },
             "authorChannelUrl": "http://www.youtube.com/channel/UCs8a-hjf6X4pa-O0orSoC8w",
             "authorDisplayName": "amitvarma",
             "authorProfileImageUrl": "https://yt3.ggpht.com/ytc/APkrFKbOZmgwZzCUUMhQ5M9QK6-nZaNCZa7zCAkj0g=s48-c-k-c0x00ffffff-no-rj",
             "canRate": true,
             "channelId": "UCs8a-hjf6X4pa-O0orSoC8w",
             "likeCount": 0,
             "parentId": "Ugx1cUisNc1KgBZYgUJ4AaABAg",
             "publishedAt": "2023-10-15T03:45:25Z",
             "textDisplay": "Like, subscribe, share!",
             "textOriginal": "Like, subscribe, share!",
             "updatedAt": "2023-10-15T03:45:25Z",
             "videoId": "eHX9sgBt1nE",
             "viewerRating": "none"
            }
           }
          ]
         },
         "snippet": {
          "canReply": true,
          "channelId": "UCs8a-hjf6X4pa-O0orSoC8w",
          "isPublic": true,
          "topLevelComment": {
           "etag": "4ibd1Kx-4ws3uNNvLJuG_0hAfEc",
           "id": "Ugx1cUisNc1KgBZYgUJ4AaABAg",
           "kind": "youtube#comment",
           "snippet": {
            "authorChannelId": {
             "value": "UCrm4atF9hpCjobij3ogMx2g"
            },
            "authorChannelUrl": "http://www.youtube.com/channel/UCrm4atF9hpCjobij3ogMx2g",
            "authorDisplayName": "L C",
            "authorProfileImageUrl": "https://yt3.ggpht.com/ytc/APkrFKZWjcaocnlPu-qxZwUVYA04WLNuAlwB8XuGvq3gqg=s48-c-k-c0x00ffffff-no-rj",
            "canRate": true,
            "channelId": "UCs8a-hjf6X4pa-O0orSoC8w",
            "likeCount": 1,
            "publishedAt": "2023-10-13T12:17:02Z",
            "textDisplay": "Hello Amit and Ajay, I like these conversations a lot, (even more than TSTU)! Is there any way I can show my appreciation by making a small contribution towards this channel? Thank you!",
            "textOriginal": "Hello Amit and Ajay, I like these conversations a lot, (even more than TSTU)! Is there any way I can show my appreciation by making a small contribution towards this channel? Thank you!",
            "updatedAt": "2023-10-13T12:17:02Z",
            "videoId": "eHX9sgBt1nE",
            "viewerRating": "none"
           }
          },
          "totalReplyCount": 1,
          "videoId": "eHX9sgBt1nE"
         }
        },
        {
         "etag": "uV-r58tM1cLoaSRUjJY5cWL7uVU",
         "id": "UgznXvzXWiUWHuvmAsh4AaABAg",
         "kind": "youtube#commentThread",
         "snippet": {
          "canReply": true,
          "channelId": "UCs8a-hjf6X4pa-O0orSoC8w",
          "isPublic": true,
          "topLevelComment": {
           "etag": "m1cb9N17eWML5_M7YfjKs6ZpvEk",
           "id": "UgznXvzXWiUWHuvmAsh4AaABAg",
           "kind": "youtube#comment",
           "snippet": {
            "authorChannelId": {
             "value": "UCDBaijWQyHQiB3sJRooSyGA"
            },
            "authorChannelUrl": "http://www.youtube.com/channel/UCDBaijWQyHQiB3sJRooSyGA",
            "authorDisplayName": "Rhitam Goswami",
            "authorProfileImageUrl": "https://yt3.ggpht.com/ytc/APkrFKbhqcKQxqK3CekX7Nb39H4N_9AjSV9-s310TTUY=s48-c-k-c0x00ffffff-no-rj",
            "canRate": true,
            "channelId": "UCs8a-hjf6X4pa-O0orSoC8w",
            "likeCount": 0,
            "publishedAt": "2023-10-13T12:14:34Z",
            "textDisplay": "Hey, around the 36-37 minute mark, Ajay talks about “chinese people refusing to take vaccines/drink milk made in china”. Can you guys share some references for the same? In my work we came across some qualitative insights on F&amp;B which spoke in a similar direction. But we haven’t been able to find any concrete reports on the same. Would be real help if you can share some links. Thanks and cheers!<br><br>Great episode as always",
            "textOriginal": "Hey, around the 36-37 minute mark, Ajay talks about “chinese people refusing to take vaccines/drink milk made in china”. Can you guys share some references for the same? In my work we came across some qualitative insights on F&B which spoke in a similar direction. But we haven’t been able to find any concrete reports on the same. Would be real help if you can share some links. Thanks and cheers!\n\nGreat episode as always",
            "updatedAt": "2023-10-13T12:14:34Z",
            "videoId": "eHX9sgBt1nE",
            "viewerRating": "none"
           }
          },
          "totalReplyCount": 0,
          "videoId": "eHX9sgBt1nE"
         }
        },
        {
         "etag": "eeyJZpihMPvQGoRuGc9ts0ScGHE",
         "id": "UgzPUSQ0lTFqyKQCJGx4AaABAg",
         "kind": "youtube#commentThread",
         "snippet": {
          "canReply": true,
          "channelId": "UCs8a-hjf6X4pa-O0orSoC8w",
          "isPublic": true,
          "topLevelComment": {
           "etag": "5Qkhxz13IQe73kECQib3kJG1p-U",
           "id": "UgzPUSQ0lTFqyKQCJGx4AaABAg",
           "kind": "youtube#comment",
           "snippet": {
            "authorChannelId": {
             "value": "UClDrxiRKqkDUPPiKNJ2H_Yw"
            },
            "authorChannelUrl": "http://www.youtube.com/channel/UClDrxiRKqkDUPPiKNJ2H_Yw",
            "authorDisplayName": "leander barreto",
            "authorProfileImageUrl": "https://yt3.ggpht.com/ytc/APkrFKbvetjJc210SujW_PvB9Yv--ZgR2xKvlXl9wg=s48-c-k-c0x00ffffff-no-rj",
            "canRate": true,
            "channelId": "UCs8a-hjf6X4pa-O0orSoC8w",
            "likeCount": 0,
            "publishedAt": "2023-10-13T09:01:55Z",
            "textDisplay": "They need a full video explaining capitalism and it&#39;s future",
            "textOriginal": "They need a full video explaining capitalism and it's future",
            "updatedAt": "2023-10-13T09:01:55Z",
            "videoId": "eHX9sgBt1nE",
            "viewerRating": "none"
           }
          },
          "totalReplyCount": 0,
          "videoId": "eHX9sgBt1nE"
         }
        },
        {
         "etag": "nE_pWTUrVrKGBnQ6trdLAT6KwiE",
         "id": "UgyZ4B44bjd3fWB2tpl4AaABAg",
         "kind": "youtube#commentThread",
         "snippet": {
          "canReply": true,
          "channelId": "UCs8a-hjf6X4pa-O0orSoC8w",
          "isPublic": true,
          "topLevelComment": {
           "etag": "Pt9Fwxu4FOPCAEWZRj-c8NhJkBc",
           "id": "UgyZ4B44bjd3fWB2tpl4AaABAg",
           "kind": "youtube#comment",
           "snippet": {
            "authorChannelId": {
             "value": "UC7yhwuImgdAgxBo7r5YjXaw"
            },
            "authorChannelUrl": "http://www.youtube.com/channel/UC7yhwuImgdAgxBo7r5YjXaw",
            "authorDisplayName": "MiniLab",
            "authorProfileImageUrl": "https://yt3.ggpht.com/J0FsoQPotiFdlsvuH7prKtk2DlhOniolAQUH8-QBdDBhs1XXXnPl7UkTVbUSDhnOf1J-UhlTEQ=s48-c-k-c0x00ffffff-no-rj",
            "canRate": true,
            "channelId": "UCs8a-hjf6X4pa-O0orSoC8w",
            "likeCount": 1,
            "publishedAt": "2023-10-13T08:21:44Z",
            "textDisplay": "Intellectual super-dyad. Always brilliant",
            "textOriginal": "Intellectual super-dyad. Always brilliant",
            "updatedAt": "2023-10-13T08:21:44Z",
            "videoId": "eHX9sgBt1nE",
            "viewerRating": "none"
           }
          },
          "totalReplyCount": 0,
          "videoId": "eHX9sgBt1nE"
         }
        },
        {
         "etag": "8h0stbIrVHdq6ZvLEg2MdJ7Tno0",
         "id": "UgxTs1B15OWOmuZN_Kt4AaABAg",
         "kind": "youtube#commentThread",
         "replies": {
          "comments": [
           {
            "etag": "G1-99nfLBE_BsmWRZI309DlUW1g",
            "id": "UgxTs1B15OWOmuZN_Kt4AaABAg.9vnemr3zETT9vpR1SeG0eL",
            "kind": "youtube#comment",
            "snippet": {
             "authorChannelId": {
              "value": "UCcxI7Q1TX2AW1LTUwU5ZblQ"
             },
             "authorChannelUrl": "http://www.youtube.com/channel/UCcxI7Q1TX2AW1LTUwU5ZblQ",
             "authorDisplayName": "Anish Baby",
             "authorProfileImageUrl": "https://yt3.ggpht.com/ytc/APkrFKaJ13EU9Zkvm4C7tAoFQJTQcjDjTMZvUrhvaLx-hw=s48-c-k-c0x00ffffff-no-rj",
             "canRate": true,
             "channelId": "UCs8a-hjf6X4pa-O0orSoC8w",
             "likeCount": 0,
             "parentId": "UgxTs1B15OWOmuZN_Kt4AaABAg",
             "publishedAt": "2023-10-13T23:55:27Z",
             "textDisplay": "Yes please",
             "textOriginal": "Yes please",
             "updatedAt": "2023-10-13T23:55:27Z",
             "videoId": "eHX9sgBt1nE",
             "viewerRating": "none"
            }
           }
          ]
         },
         "snippet": {
          "canReply": true,
          "channelId": "UCs8a-hjf6X4pa-O0orSoC8w",
          "isPublic": true,
          "topLevelComment": {
           "etag": "Vz1vZvp1lJMub_Zl76Uc5g9SeuU",
           "id": "UgxTs1B15OWOmuZN_Kt4AaABAg",
           "kind": "youtube#comment",
           "snippet": {
            "authorChannelId": {
             "value": "UC_h4lNX_oNoGuqQvdylFahQ"
            },
            "authorChannelUrl": "http://www.youtube.com/channel/UC_h4lNX_oNoGuqQvdylFahQ",
            "authorDisplayName": "Balajee Shrikanth",
            "authorProfileImageUrl": "https://yt3.ggpht.com/ytc/APkrFKZ5YuLJ3LJ_NxjPBjLMVxwW180UkOVjDMoe6g22Yow=s48-c-k-c0x00ffffff-no-rj",
            "canRate": true,
            "channelId": "UCs8a-hjf6X4pa-O0orSoC8w",
            "likeCount": 2,
            "publishedAt": "2023-10-13T07:25:55Z",
            "textDisplay": "Another great discussion. Can you lower the music between sections.. too loud and hurts ears when I listen on headphones",
            "textOriginal": "Another great discussion. Can you lower the music between sections.. too loud and hurts ears when I listen on headphones",
            "updatedAt": "2023-10-13T07:25:55Z",
            "videoId": "eHX9sgBt1nE",
            "viewerRating": "none"
           }
          },
          "totalReplyCount": 1,
          "videoId": "eHX9sgBt1nE"
         }
        },
        {
         "etag": "OxEctQY0li0cn5ksoeycS4l1N-g",
         "id": "UgyjIjzrOmRV08XRhmJ4AaABAg",
         "kind": "youtube#commentThread",
         "replies": {
          "comments": [
           {
            "etag": "1JEiQGQCQY9MU5x8E-urMjXuoEQ",
            "id": "UgyjIjzrOmRV08XRhmJ4AaABAg.9vncq5U4UeO9vnkXATn1og",
            "kind": "youtube#comment",
            "snippet": {
             "authorChannelId": {
              "value": "UCs8a-hjf6X4pa-O0orSoC8w"
             },
             "authorChannelUrl": "http://www.youtube.com/channel/UCs8a-hjf6X4pa-O0orSoC8w",
             "authorDisplayName": "amitvarma",
             "authorProfileImageUrl": "https://yt3.ggpht.com/ytc/APkrFKbOZmgwZzCUUMhQ5M9QK6-nZaNCZa7zCAkj0g=s48-c-k-c0x00ffffff-no-rj",
             "canRate": true,
             "channelId": "UCs8a-hjf6X4pa-O0orSoC8w",
             "likeCount": 2,
             "parentId": "UgyjIjzrOmRV08XRhmJ4AaABAg",
             "publishedAt": "2023-10-13T08:16:03Z",
             "textDisplay": "Good points about Singalore and UAE. Economic freedom has its own value, even by itself.<br><br>Ajay, you gonna let the perfect be the enemy of the good? 🙂",
             "textOriginal": "Good points about Singalore and UAE. Economic freedom has its own value, even by itself.\n\nAjay, you gonna let the perfect be the enemy of the good? 🙂",
             "updatedAt": "2023-10-13T08:16:03Z",
             "videoId": "eHX9sgBt1nE",
             "viewerRating": "none"
            }
           }
          ]
         },
         "snippet": {
          "canReply": true,
          "channelId": "UCs8a-hjf6X4pa-O0orSoC8w",
          "isPublic": true,
          "topLevelComment": {
           "etag": "-dBcv3ipeJbzlxqhc4bCH-FbS4Y",
           "id": "UgyjIjzrOmRV08XRhmJ4AaABAg",
           "kind": "youtube#comment",
           "snippet": {
            "authorChannelId": {
             "value": "UC30xu9dcL8tAgd1QFOKlzAQ"
            },
            "authorChannelUrl": "http://www.youtube.com/channel/UC30xu9dcL8tAgd1QFOKlzAQ",
            "authorDisplayName": "Ayush Patnaik",
            "authorProfileImageUrl": "https://yt3.ggpht.com/ytc/APkrFKaz90kAvTwMtpYkEFaqOclg9BaayFxUljM11fDCW1E=s48-c-k-c0x00ffffff-no-rj",
            "canRate": true,
            "channelId": "UCs8a-hjf6X4pa-O0orSoC8w",
            "likeCount": 15,
            "publishedAt": "2023-10-13T07:08:53Z",
            "textDisplay": "1. Ajay&#39;s insight on the essentiality of the business cycle is remarkable.<br><br>2. Xi Jingping&#39;s father, Xi Zhongxun built the great special economic zones of Guandong. These zones have their own trade policy, and it&#39;s only through them that China&#39;s tryst with globalisation began. So perhaps Xi Jingping would have done the same as Deng, had he taken over from Mao. Why would someone be less liberal than their parents? Perhaps it&#39;s just the system that&#39;s broken and not the man. <br><br>A greater intellectual challenge is posed by Singapore, and to some extent, the UAE. The arguments in favour of high modernism are articulated far better by Lee Kuan Yew than communists. Furthermore, can you call Singapore a failure? <br><br>Another interesting country is Turkey, which became a westernised liberal democracy with check and balances, and yet managed to collapse. Was Ataturk&#39;s project a failure? What could he have done differently?",
            "textOriginal": "1. Ajay's insight on the essentiality of the business cycle is remarkable.\n\n2. Xi Jingping's father, Xi Zhongxun built the great special economic zones of Guandong. These zones have their own trade policy, and it's only through them that China's tryst with globalisation began. So perhaps Xi Jingping would have done the same as Deng, had he taken over from Mao. Why would someone be less liberal than their parents? Perhaps it's just the system that's broken and not the man. \n\nA greater intellectual challenge is posed by Singapore, and to some extent, the UAE. The arguments in favour of high modernism are articulated far better by Lee Kuan Yew than communists. Furthermore, can you call Singapore a failure? \n\nAnother interesting country is Turkey, which became a westernised liberal democracy with check and balances, and yet managed to collapse. Was Ataturk's project a failure? What could he have done differently?",
            "updatedAt": "2023-10-13T07:09:06Z",
            "videoId": "eHX9sgBt1nE",
            "viewerRating": "none"
           }
          },
          "totalReplyCount": 1,
          "videoId": "eHX9sgBt1nE"
         }
        },
        {
         "etag": "GlcdrSmIe6cK-2ldAcn8UWFW4r4",
         "id": "UgzQzVoLjU_EituRm454AaABAg",
         "kind": "youtube#commentThread",
         "snippet": {
          "canReply": true,
          "channelId": "UCs8a-hjf6X4pa-O0orSoC8w",
          "isPublic": true,
          "topLevelComment": {
           "etag": "lwQnDSa-psjHY5NB6cX6Gl1m9rw",
           "id": "UgzQzVoLjU_EituRm454AaABAg",
           "kind": "youtube#comment",
           "snippet": {
            "authorChannelId": {
             "value": "UC1aSUYQc2-OXidjIfLwS5Ig"
            },
            "authorChannelUrl": "http://www.youtube.com/channel/UC1aSUYQc2-OXidjIfLwS5Ig",
            "authorDisplayName": "Judhajit Sarkar",
            "authorProfileImageUrl": "https://yt3.ggpht.com/ytc/APkrFKariJPLulu-VIhmzv0YNFaDBFq9TnsNgSPJ8w=s48-c-k-c0x00ffffff-no-rj",
            "canRate": true,
            "channelId": "UCs8a-hjf6X4pa-O0orSoC8w",
            "likeCount": 3,
            "publishedAt": "2023-10-13T06:56:26Z",
            "textDisplay": "Please transcribe your talk and publish it. Brilliant.",
            "textOriginal": "Please transcribe your talk and publish it. Brilliant.",
            "updatedAt": "2023-10-13T06:56:26Z",
            "videoId": "eHX9sgBt1nE",
            "viewerRating": "none"
           }
          },
          "totalReplyCount": 0,
          "videoId": "eHX9sgBt1nE"
         }
        }
       ],
       "kind": "youtube#commentThreadListResponse",
       "nextPageToken": "QURTSl9pMlk2ZjNrTTl1ZGYyV0tHZlZ1VzVVS1pwc1FnbXFETFR2ZWZ4ckF6MEMwd3ZsTUx0VHYzeTFIYmZDQS1VX1oxaEI3LTNCTVg2dw==",
       "pageInfo": {
        "resultsPerPage": 25,
        "totalResults": 25
       }
      },
      "text/plain": [
       "<IPython.core.display.JSON object>"
      ]
     },
     "execution_count": 23,
     "metadata": {
      "application/json": {
       "expanded": false,
       "root": "root"
      }
     },
     "output_type": "execute_result"
    }
   ],
   "source": [
    "JSON(response)"
   ]
  },
  {
   "cell_type": "markdown",
   "id": "9afe2e98-f253-4b71-a1d8-a10908b5bca1",
   "metadata": {},
   "source": [
    "### Function for Comment Information"
   ]
  },
  {
   "cell_type": "code",
   "execution_count": 24,
   "id": "cd454725-396b-4bbc-a08b-c9219132599c",
   "metadata": {},
   "outputs": [],
   "source": [
    "def get_video_comments(youtube, video_ids):\n",
    "    \n",
    "    all_data = []\n",
    "    for vid in video_ids:\n",
    "        request = youtube.commentThreads().list(\n",
    "            part=\"snippet,replies\",\n",
    "            maxResults=100,\n",
    "            videoId=vid,\n",
    "        )\n",
    "        response = request.execute()\n",
    "\n",
    "        for items in response[\"items\"]:\n",
    "            data = {\n",
    "\n",
    "                \"comment_id\": items[\"id\"],\n",
    "                \"video_id\": items[\"snippet\"][\"videoId\"],\n",
    "                \"channel_id\": items[\"snippet\"][\"channelId\"],\n",
    "                \"published_at\": items[\"snippet\"][\"topLevelComment\"][\"snippet\"][\"publishedAt\"],\n",
    "                \"text_display\": items[\"snippet\"][\"topLevelComment\"][\"snippet\"][\"textDisplay\"],\n",
    "                \"author_name\": items[\"snippet\"][\"topLevelComment\"][\"snippet\"][\"authorDisplayName\"],\n",
    "                \"like_count\": items[\"snippet\"][\"topLevelComment\"][\"snippet\"][\"likeCount\"],\n",
    "            }\n",
    "\n",
    "            all_data.append(data)\n",
    "\n",
    "    return pd.DataFrame(all_data)"
   ]
  },
  {
   "cell_type": "code",
   "execution_count": 25,
   "id": "63cf1295-3edd-4eb7-be4b-a2b44ec6e9e9",
   "metadata": {},
   "outputs": [
    {
     "data": {
      "text/html": [
       "<div>\n",
       "<style scoped>\n",
       "    .dataframe tbody tr th:only-of-type {\n",
       "        vertical-align: middle;\n",
       "    }\n",
       "\n",
       "    .dataframe tbody tr th {\n",
       "        vertical-align: top;\n",
       "    }\n",
       "\n",
       "    .dataframe thead th {\n",
       "        text-align: right;\n",
       "    }\n",
       "</style>\n",
       "<table border=\"1\" class=\"dataframe\">\n",
       "  <thead>\n",
       "    <tr style=\"text-align: right;\">\n",
       "      <th></th>\n",
       "      <th>comment_id</th>\n",
       "      <th>video_id</th>\n",
       "      <th>channel_id</th>\n",
       "      <th>published_at</th>\n",
       "      <th>text_display</th>\n",
       "      <th>author_name</th>\n",
       "      <th>like_count</th>\n",
       "    </tr>\n",
       "  </thead>\n",
       "  <tbody>\n",
       "    <tr>\n",
       "      <th>0</th>\n",
       "      <td>UgyIqOxKydbUPhSovAh4AaABAg</td>\n",
       "      <td>7Mv91hcxCCI</td>\n",
       "      <td>UCueeXkuJezkCqu0YryvJnnQ</td>\n",
       "      <td>2023-06-22T02:59:00Z</td>\n",
       "      <td>Great demo and walkthrough!</td>\n",
       "      <td>Narasimha Murthy</td>\n",
       "      <td>0</td>\n",
       "    </tr>\n",
       "    <tr>\n",
       "      <th>1</th>\n",
       "      <td>UgxWwT57bocTPxMWN6l4AaABAg</td>\n",
       "      <td>7Mv91hcxCCI</td>\n",
       "      <td>UCueeXkuJezkCqu0YryvJnnQ</td>\n",
       "      <td>2023-04-17T12:08:51Z</td>\n",
       "      <td>Thanks</td>\n",
       "      <td>Sery christian renaud</td>\n",
       "      <td>1</td>\n",
       "    </tr>\n",
       "    <tr>\n",
       "      <th>2</th>\n",
       "      <td>UgzIJ22znlie0ljeRsp4AaABAg</td>\n",
       "      <td>lp6SfYCRGLM</td>\n",
       "      <td>UCJQJAI7IjbLcpsjWdSzYz0Q</td>\n",
       "      <td>2023-10-17T07:11:22Z</td>\n",
       "      <td>There is NO framework for securing your job fr...</td>\n",
       "      <td>vaibhav jadhav</td>\n",
       "      <td>0</td>\n",
       "    </tr>\n",
       "    <tr>\n",
       "      <th>3</th>\n",
       "      <td>UgwLPaL2maAunywGQmN4AaABAg</td>\n",
       "      <td>lp6SfYCRGLM</td>\n",
       "      <td>UCJQJAI7IjbLcpsjWdSzYz0Q</td>\n",
       "      <td>2023-10-17T06:19:04Z</td>\n",
       "      <td>Hi Thu Vu! Thank you for sharing this great vi...</td>\n",
       "      <td>Isa Lutfi</td>\n",
       "      <td>0</td>\n",
       "    </tr>\n",
       "    <tr>\n",
       "      <th>4</th>\n",
       "      <td>UgwZSDNbHlYe1s1YvLl4AaABAg</td>\n",
       "      <td>lp6SfYCRGLM</td>\n",
       "      <td>UCJQJAI7IjbLcpsjWdSzYz0Q</td>\n",
       "      <td>2023-10-17T06:09:24Z</td>\n",
       "      <td>My first thought: not an other AI video.. - bu...</td>\n",
       "      <td>BG</td>\n",
       "      <td>0</td>\n",
       "    </tr>\n",
       "  </tbody>\n",
       "</table>\n",
       "</div>"
      ],
      "text/plain": [
       "                   comment_id     video_id                channel_id  \\\n",
       "0  UgyIqOxKydbUPhSovAh4AaABAg  7Mv91hcxCCI  UCueeXkuJezkCqu0YryvJnnQ   \n",
       "1  UgxWwT57bocTPxMWN6l4AaABAg  7Mv91hcxCCI  UCueeXkuJezkCqu0YryvJnnQ   \n",
       "2  UgzIJ22znlie0ljeRsp4AaABAg  lp6SfYCRGLM  UCJQJAI7IjbLcpsjWdSzYz0Q   \n",
       "3  UgwLPaL2maAunywGQmN4AaABAg  lp6SfYCRGLM  UCJQJAI7IjbLcpsjWdSzYz0Q   \n",
       "4  UgwZSDNbHlYe1s1YvLl4AaABAg  lp6SfYCRGLM  UCJQJAI7IjbLcpsjWdSzYz0Q   \n",
       "\n",
       "           published_at                                       text_display  \\\n",
       "0  2023-06-22T02:59:00Z                        Great demo and walkthrough!   \n",
       "1  2023-04-17T12:08:51Z                                             Thanks   \n",
       "2  2023-10-17T07:11:22Z  There is NO framework for securing your job fr...   \n",
       "3  2023-10-17T06:19:04Z  Hi Thu Vu! Thank you for sharing this great vi...   \n",
       "4  2023-10-17T06:09:24Z  My first thought: not an other AI video.. - bu...   \n",
       "\n",
       "             author_name  like_count  \n",
       "0       Narasimha Murthy           0  \n",
       "1  Sery christian renaud           1  \n",
       "2         vaibhav jadhav           0  \n",
       "3              Isa Lutfi           0  \n",
       "4                     BG           0  "
      ]
     },
     "execution_count": 25,
     "metadata": {},
     "output_type": "execute_result"
    }
   ],
   "source": [
    "comment_details = get_video_comments(youtube, latest_video_list)\n",
    "comment_details.head()"
   ]
  },
  {
   "cell_type": "code",
   "execution_count": 26,
   "id": "2d766927-294c-4bfc-becf-19312d00bb20",
   "metadata": {},
   "outputs": [
    {
     "data": {
      "text/plain": [
       "(41, 7)"
      ]
     },
     "execution_count": 26,
     "metadata": {},
     "output_type": "execute_result"
    }
   ],
   "source": [
    "comment_details.shape"
   ]
  },
  {
   "cell_type": "code",
   "execution_count": 27,
   "id": "9b9f6e51-7dcd-4b4d-8034-001a06406134",
   "metadata": {},
   "outputs": [
    {
     "data": {
      "text/html": [
       "<div>\n",
       "<style scoped>\n",
       "    .dataframe tbody tr th:only-of-type {\n",
       "        vertical-align: middle;\n",
       "    }\n",
       "\n",
       "    .dataframe tbody tr th {\n",
       "        vertical-align: top;\n",
       "    }\n",
       "\n",
       "    .dataframe thead th {\n",
       "        text-align: right;\n",
       "    }\n",
       "</style>\n",
       "<table border=\"1\" class=\"dataframe\">\n",
       "  <thead>\n",
       "    <tr style=\"text-align: right;\">\n",
       "      <th></th>\n",
       "      <th>video_id</th>\n",
       "      <th>size</th>\n",
       "    </tr>\n",
       "  </thead>\n",
       "  <tbody>\n",
       "    <tr>\n",
       "      <th>0</th>\n",
       "      <td>7Mv91hcxCCI</td>\n",
       "      <td>2</td>\n",
       "    </tr>\n",
       "    <tr>\n",
       "      <th>1</th>\n",
       "      <td>eHX9sgBt1nE</td>\n",
       "      <td>28</td>\n",
       "    </tr>\n",
       "    <tr>\n",
       "      <th>2</th>\n",
       "      <td>lp6SfYCRGLM</td>\n",
       "      <td>11</td>\n",
       "    </tr>\n",
       "  </tbody>\n",
       "</table>\n",
       "</div>"
      ],
      "text/plain": [
       "      video_id  size\n",
       "0  7Mv91hcxCCI     2\n",
       "1  eHX9sgBt1nE    28\n",
       "2  lp6SfYCRGLM    11"
      ]
     },
     "execution_count": 27,
     "metadata": {},
     "output_type": "execute_result"
    }
   ],
   "source": [
    "comment_details.groupby(\"video_id\", as_index=False).size()"
   ]
  },
  {
   "cell_type": "markdown",
   "id": "369b9c4e-7e3d-4af9-9401-6070dbbcb070",
   "metadata": {},
   "source": [
    "## Data Post Processing"
   ]
  },
  {
   "cell_type": "markdown",
   "id": "bb04fe42-a684-4fe1-9025-986bc000bb35",
   "metadata": {},
   "source": [
    "Remove HTML character reference from string"
   ]
  },
  {
   "cell_type": "code",
   "execution_count": 28,
   "id": "2a3014e1-eae1-4ed7-ac2d-bbea546bdc14",
   "metadata": {},
   "outputs": [],
   "source": [
    "comment_details[\"text_display\"] = comment_details[\"text_display\"].apply(unescape)"
   ]
  },
  {
   "cell_type": "markdown",
   "id": "05493e47-879a-4569-a962-0a076b781cf8",
   "metadata": {},
   "source": [
    "Get proper duration"
   ]
  },
  {
   "cell_type": "code",
   "execution_count": 29,
   "id": "9f3cb403-4f8f-4923-89d3-87137b9156cc",
   "metadata": {},
   "outputs": [],
   "source": [
    "latest_video_details['duration_sec'] = latest_video_details['duration'].apply(lambda x: isodate.parse_duration(x))\n",
    "latest_video_details['duration_sec'] = latest_video_details['duration_sec'].dt.total_seconds()\n",
    "\n",
    "latest_video_details.drop('duration', axis=1, inplace=True)"
   ]
  },
  {
   "cell_type": "markdown",
   "id": "0aca8e6d-060d-4275-9992-14db574df38c",
   "metadata": {},
   "source": [
    "Fix datatypes"
   ]
  },
  {
   "cell_type": "code",
   "execution_count": 30,
   "id": "961bf2a9-35ce-4694-9151-e401bbbe0578",
   "metadata": {},
   "outputs": [],
   "source": [
    "channel_info.view_count = channel_info.view_count.astype(int)\n",
    "channel_info.subscriber_count = channel_info.subscriber_count.astype(int)\n",
    "channel_info.video_count = channel_info.video_count.astype(int)"
   ]
  },
  {
   "cell_type": "code",
   "execution_count": 31,
   "id": "e7305b37-0dc0-4be8-aa53-82d2851668e6",
   "metadata": {},
   "outputs": [],
   "source": [
    "video_details.view_count = video_details.view_count.astype(int)\n",
    "video_details.like_count = video_details.like_count.astype(int)\n",
    "video_details.comment_count = video_details.comment_count.astype(int)\n",
    "\n",
    "video_details.published_at = pd.to_datetime(video_details.published_at, format='%Y-%m-%dT%H:%M:%SZ')"
   ]
  },
  {
   "cell_type": "code",
   "execution_count": 32,
   "id": "9bf0d812-4b01-4099-bf21-280c6f6887ec",
   "metadata": {},
   "outputs": [],
   "source": [
    "latest_video_details.view_count = latest_video_details.view_count.astype(int)\n",
    "latest_video_details.like_count = latest_video_details.like_count.astype(int)\n",
    "latest_video_details.comment_count = latest_video_details.comment_count.astype(int)\n",
    "\n",
    "latest_video_details.published_at = pd.to_datetime(latest_video_details.published_at, format='%Y-%m-%dT%H:%M:%SZ')"
   ]
  },
  {
   "cell_type": "code",
   "execution_count": 33,
   "id": "7cfce12e-0989-45ef-b32d-d2f94ace0756",
   "metadata": {},
   "outputs": [],
   "source": [
    "comment_details.like_count = comment_details.like_count.astype(int)\n",
    "\n",
    "comment_details.published_at = pd.to_datetime(comment_details.published_at, format='%Y-%m-%dT%H:%M:%SZ')"
   ]
  },
  {
   "cell_type": "markdown",
   "id": "9c40590e-2c69-46d5-80a2-8b54230a9c71",
   "metadata": {},
   "source": [
    "## Text Analysis of Comments"
   ]
  },
  {
   "cell_type": "code",
   "execution_count": 34,
   "id": "79a0cf91-c02c-4c7d-a4c5-c70671000ffc",
   "metadata": {},
   "outputs": [],
   "source": [
    "from transformers import pipeline"
   ]
  },
  {
   "cell_type": "markdown",
   "id": "3953ab81-8fd2-4eaa-add8-3bd2e4c9296a",
   "metadata": {},
   "source": [
    "### Classify based on sentiments"
   ]
  },
  {
   "cell_type": "code",
   "execution_count": 35,
   "id": "c024a170-f1fd-4498-8e72-68846c685b3a",
   "metadata": {},
   "outputs": [],
   "source": [
    "sentiment_classifier = pipeline(\n",
    "    task=\"text-classification\",\n",
    "    model=\"nickwong64/bert-base-uncased-poems-sentiment\",\n",
    "    model_kwargs={\"cache_dir\": \"../model_cache\"}\n",
    ")"
   ]
  },
  {
   "cell_type": "markdown",
   "id": "5fa694f2-111f-45bc-8d7b-0165635d543d",
   "metadata": {},
   "source": [
    "Restrict words to first 400 words to make sure model inference doesn't fail due to large input"
   ]
  },
  {
   "cell_type": "code",
   "execution_count": 52,
   "id": "b5f7f526-1cf5-4782-8b21-086788e65c22",
   "metadata": {},
   "outputs": [],
   "source": [
    "comments_list = [\" \".join(l.split()[:400]) for l in comment_details.text_display.to_list()]"
   ]
  },
  {
   "cell_type": "code",
   "execution_count": 53,
   "id": "e36c51ed-ca61-47a7-a936-fd263b8c281b",
   "metadata": {},
   "outputs": [],
   "source": [
    "sentiments = pd.DataFrame(sentiment_classifier(comments_list))"
   ]
  },
  {
   "cell_type": "code",
   "execution_count": 54,
   "id": "f184cde6-a71a-4e6f-b1ee-c43b593161da",
   "metadata": {},
   "outputs": [],
   "source": [
    "sentiments.rename({\"label\":\"sentiment\", \"score\":\"sentiment_score\"}, axis=1, inplace=True)"
   ]
  },
  {
   "cell_type": "code",
   "execution_count": 55,
   "id": "5869ba54-9dbf-49e6-9c0d-9cfc9a89a440",
   "metadata": {},
   "outputs": [],
   "source": [
    "comment_details = comment_details.join(sentiments)"
   ]
  },
  {
   "cell_type": "markdown",
   "id": "37e1c62b-4ea2-4bf8-982d-81fd87375c97",
   "metadata": {},
   "source": [
    "### Classify based on sentiments (different multilingual model)"
   ]
  },
  {
   "cell_type": "code",
   "execution_count": 56,
   "id": "ba1dca0b-bd61-4263-8c68-03ae507b663b",
   "metadata": {},
   "outputs": [],
   "source": [
    "multi_lingual_sentiment_classifier = pipeline(\n",
    "    task=\"text-classification\",\n",
    "    model=\"lxyuan/distilbert-base-multilingual-cased-sentiments-student\",\n",
    "    model_kwargs={\"cache_dir\": \"../model_cache\"}\n",
    ")"
   ]
  },
  {
   "cell_type": "code",
   "execution_count": 57,
   "id": "9af66e00-d12c-41e0-992d-9f13dae8b9d2",
   "metadata": {},
   "outputs": [],
   "source": [
    "sentiments = pd.DataFrame(multi_lingual_sentiment_classifier(comments_list))"
   ]
  },
  {
   "cell_type": "code",
   "execution_count": 58,
   "id": "02188a5d-5245-40f2-bbb0-7b05cd2aa469",
   "metadata": {},
   "outputs": [],
   "source": [
    "sentiments.rename({\"label\":\"sentiment\", \"score\":\"sentiment_score\"}, axis=1, inplace=True)"
   ]
  },
  {
   "cell_type": "code",
   "execution_count": 59,
   "id": "65c0d6c4-055f-41be-8381-c3020a534160",
   "metadata": {},
   "outputs": [
    {
     "data": {
      "text/plain": [
       "0    positive\n",
       "2    negative\n",
       "6     neutral\n",
       "Name: sentiment, dtype: object"
      ]
     },
     "execution_count": 59,
     "metadata": {},
     "output_type": "execute_result"
    }
   ],
   "source": [
    "sentiments.sentiment.drop_duplicates()"
   ]
  },
  {
   "cell_type": "code",
   "execution_count": 60,
   "id": "369ccfb8-4474-4ce3-bf61-a48cafb85f6b",
   "metadata": {},
   "outputs": [],
   "source": [
    "# comment_details[[\"text_display\"]].join(sentiment)"
   ]
  },
  {
   "cell_type": "markdown",
   "id": "4be08bc2-b084-46e0-8c4a-e031de8770c3",
   "metadata": {},
   "source": [
    "### Classify as questions vs statements"
   ]
  },
  {
   "cell_type": "code",
   "execution_count": 61,
   "id": "174de2a4-374b-4bf3-a338-89e413e382a3",
   "metadata": {},
   "outputs": [],
   "source": [
    "question_statement_classifier = pipeline(\n",
    "    task=\"text-classification\",\n",
    "    model=\"shahrukhx01/question-vs-statement-classifier\",\n",
    "    model_kwargs={\"cache_dir\": \"../model_cache\"}\n",
    ")"
   ]
  },
  {
   "cell_type": "code",
   "execution_count": 62,
   "id": "11d7ab21-a3a5-4990-9c70-5c2d3681bbba",
   "metadata": {},
   "outputs": [],
   "source": [
    "question_labels = pd.DataFrame(question_statement_classifier(comments_list))"
   ]
  },
  {
   "cell_type": "code",
   "execution_count": 63,
   "id": "254e2b91-e004-42da-9f8a-6c225c608cf2",
   "metadata": {},
   "outputs": [],
   "source": [
    "question_labels.rename({\"label\":\"question_category\", \"score\":\"question_score\"}, axis=1, inplace=True)\n",
    "\n",
    "question_labels.loc[question_labels[\"question_category\"]==\"LABEL_0\",\"question_category\"] = \"statement\"\n",
    "question_labels.loc[question_labels[\"question_category\"]==\"LABEL_1\",\"question_category\"] = \"question\""
   ]
  },
  {
   "cell_type": "code",
   "execution_count": 64,
   "id": "67d86dc0-7498-40b5-87a7-957a1a623877",
   "metadata": {},
   "outputs": [],
   "source": [
    "comment_details = comment_details.join(question_labels)"
   ]
  },
  {
   "cell_type": "markdown",
   "id": "90c598d1-f5c8-4d98-8784-dc795d75eada",
   "metadata": {},
   "source": [
    "## Push data to BQ"
   ]
  },
  {
   "cell_type": "markdown",
   "id": "b14ee7ae-95bd-436c-b661-153f64108d7c",
   "metadata": {},
   "source": [
    "Before pushing, it is useful to add load_timestamp to the table"
   ]
  },
  {
   "cell_type": "code",
   "execution_count": 48,
   "id": "66c3320f-228f-436b-a157-13a0d95c8b99",
   "metadata": {},
   "outputs": [],
   "source": [
    "gcp_project_id = \"wide-hexagon-397214\""
   ]
  },
  {
   "cell_type": "markdown",
   "id": "420301f3-658f-4d26-9755-c966193f57c4",
   "metadata": {},
   "source": [
    "Push channel details"
   ]
  },
  {
   "cell_type": "code",
   "execution_count": 49,
   "id": "aa860c56-fe2e-429a-97bc-d48ba29592e1",
   "metadata": {},
   "outputs": [
    {
     "name": "stderr",
     "output_type": "stream",
     "text": [
      "100%|███████████████████████████████████████████████████████████████████████████████████████████| 1/1 [00:00<00:00, 1015.32it/s]\n"
     ]
    }
   ],
   "source": [
    "channel_info[\"load_timestamp\"] = datetime.now()\n",
    "\n",
    "channel_info.to_gbq(destination_table='youtube_data.channel_info',\n",
    "                     project_id=gcp_project_id,\n",
    "                     if_exists='append')"
   ]
  },
  {
   "cell_type": "markdown",
   "id": "5d4ce47b-7183-41d8-bca8-77a543cf2614",
   "metadata": {},
   "source": [
    "Push all video details"
   ]
  },
  {
   "cell_type": "code",
   "execution_count": 50,
   "id": "3ef272b1-4a93-441b-bb42-51ec2bf78eac",
   "metadata": {},
   "outputs": [
    {
     "name": "stderr",
     "output_type": "stream",
     "text": [
      "100%|███████████████████████████████████████████████████████████████████████████████████████████| 1/1 [00:00<00:00, 5309.25it/s]\n"
     ]
    }
   ],
   "source": [
    "video_details[\"load_timestamp\"] = datetime.now()\n",
    "\n",
    "video_details.to_gbq(destination_table='youtube_data.video_details',\n",
    "                     project_id=gcp_project_id,\n",
    "                     if_exists='replace')"
   ]
  },
  {
   "cell_type": "markdown",
   "id": "a590defa-595d-4c7d-b9bf-f22df98fb024",
   "metadata": {},
   "source": [
    "Push latest video details"
   ]
  },
  {
   "cell_type": "code",
   "execution_count": 51,
   "id": "398f4a16-a52f-440f-9b90-4e598660c5cc",
   "metadata": {},
   "outputs": [
    {
     "name": "stderr",
     "output_type": "stream",
     "text": [
      "100%|███████████████████████████████████████████████████████████████████████████████████████████| 1/1 [00:00<00:00, 3521.67it/s]\n"
     ]
    }
   ],
   "source": [
    "latest_video_details[\"load_timestamp\"] = datetime.now()\n",
    "\n",
    "latest_video_details.to_gbq(destination_table='youtube_data.latest_video_details',\n",
    "                            project_id=gcp_project_id,\n",
    "                            if_exists='replace')"
   ]
  },
  {
   "cell_type": "markdown",
   "id": "5b4ce001-f21a-4c96-ac69-df4ea899b5b9",
   "metadata": {},
   "source": [
    "Push comment details"
   ]
  },
  {
   "cell_type": "code",
   "execution_count": 52,
   "id": "02ab46ce-82eb-474e-b11d-f5717107f619",
   "metadata": {},
   "outputs": [
    {
     "name": "stderr",
     "output_type": "stream",
     "text": [
      "100%|███████████████████████████████████████████████████████████████████████████████████████████| 1/1 [00:00<00:00, 1618.17it/s]\n"
     ]
    }
   ],
   "source": [
    "comment_details[\"load_timestamp\"] = datetime.now()\n",
    "\n",
    "comment_details.to_gbq(destination_table='youtube_data.comment_details',\n",
    "                       project_id=gcp_project_id,\n",
    "                       if_exists='replace')"
   ]
  },
  {
   "cell_type": "code",
   "execution_count": null,
   "id": "28b261b5-fdcb-4d85-b61a-d5ecff44f47d",
   "metadata": {},
   "outputs": [],
   "source": []
  }
 ],
 "metadata": {
  "kernelspec": {
   "display_name": "yt-venv-jupyter",
   "language": "python",
   "name": "yt-venv-jupyter"
  },
  "language_info": {
   "codemirror_mode": {
    "name": "ipython",
    "version": 3
   },
   "file_extension": ".py",
   "mimetype": "text/x-python",
   "name": "python",
   "nbconvert_exporter": "python",
   "pygments_lexer": "ipython3",
   "version": "3.10.12"
  }
 },
 "nbformat": 4,
 "nbformat_minor": 5
}
